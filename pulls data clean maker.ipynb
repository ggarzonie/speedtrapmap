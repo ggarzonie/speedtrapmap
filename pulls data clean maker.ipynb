{
 "cells": [
  {
   "cell_type": "code",
   "execution_count": 2,
   "metadata": {},
   "outputs": [],
   "source": [
    "import pandas as pd\n",
    "pd.set_option('display.max_columns', None)"
   ]
  },
  {
   "cell_type": "code",
   "execution_count": 3,
   "metadata": {},
   "outputs": [
    {
     "name": "stderr",
     "output_type": "stream",
     "text": [
      "/var/folders/fz/qwk5rxqs39gcy8h_0lhy47c80000gn/T/ipykernel_24604/3332214432.py:1: DtypeWarning: Columns (20,52,53,54) have mixed types. Specify dtype option on import or set low_memory=False.\n",
      "  pulls = pd.read_csv(\"data/2022-01.csv\")\n"
     ]
    }
   ],
   "source": [
    "pulls = pd.read_csv(\"data/2022-01.csv\")\n",
    "def dfclean(pulls):\n",
    "    pulls = pulls[pulls['Violation_Code']=='545.351;545.352']#.iloc()\n",
    "    a= len(pulls.index)\n",
    "    pulls = pulls.dropna(subset=['Latitude', 'Longitude'])\n",
    "    b= len(pulls.index)\n",
    "    pulls = pulls[['Datetime', 'Ticket_Number', 'Ticket_Type', 'Route_Type', 'Route', 'Milepost', 'Latitude', 'Longitude', 'Officer_ID', 'Accident', 'Alleged_Speed', 'Posted_Speed', 'Construction_Zone', 'Workers_Present']]\n",
    "    print(b/a)\n",
    "    return pulls"
   ]
  },
  {
   "cell_type": "code",
   "execution_count": 4,
   "metadata": {},
   "outputs": [
    {
     "name": "stdout",
     "output_type": "stream",
     "text": [
      "1\n"
     ]
    },
    {
     "name": "stderr",
     "output_type": "stream",
     "text": [
      "/var/folders/fz/qwk5rxqs39gcy8h_0lhy47c80000gn/T/ipykernel_24604/2860325707.py:9: DtypeWarning: Columns (20,52,53,54) have mixed types. Specify dtype option on import or set low_memory=False.\n",
      "  df = pd.read_csv(name)\n"
     ]
    },
    {
     "name": "stdout",
     "output_type": "stream",
     "text": [
      "0.903377014404489\n",
      "2\n"
     ]
    },
    {
     "name": "stderr",
     "output_type": "stream",
     "text": [
      "/var/folders/fz/qwk5rxqs39gcy8h_0lhy47c80000gn/T/ipykernel_24604/2860325707.py:9: DtypeWarning: Columns (20,48,52,53,54) have mixed types. Specify dtype option on import or set low_memory=False.\n",
      "  df = pd.read_csv(name)\n"
     ]
    },
    {
     "name": "stdout",
     "output_type": "stream",
     "text": [
      "0.8911547957856645\n",
      "3\n"
     ]
    },
    {
     "name": "stderr",
     "output_type": "stream",
     "text": [
      "/var/folders/fz/qwk5rxqs39gcy8h_0lhy47c80000gn/T/ipykernel_24604/2860325707.py:9: DtypeWarning: Columns (20,48,52,53,54) have mixed types. Specify dtype option on import or set low_memory=False.\n",
      "  df = pd.read_csv(name)\n"
     ]
    },
    {
     "name": "stdout",
     "output_type": "stream",
     "text": [
      "0.8968055029292605\n",
      "4\n"
     ]
    },
    {
     "name": "stderr",
     "output_type": "stream",
     "text": [
      "/var/folders/fz/qwk5rxqs39gcy8h_0lhy47c80000gn/T/ipykernel_24604/2860325707.py:9: DtypeWarning: Columns (20,48,52,53,54) have mixed types. Specify dtype option on import or set low_memory=False.\n",
      "  df = pd.read_csv(name)\n"
     ]
    },
    {
     "name": "stdout",
     "output_type": "stream",
     "text": [
      "0.9007731382859867\n",
      "5\n",
      "6\n"
     ]
    },
    {
     "name": "stderr",
     "output_type": "stream",
     "text": [
      "/var/folders/fz/qwk5rxqs39gcy8h_0lhy47c80000gn/T/ipykernel_24604/2860325707.py:9: DtypeWarning: Columns (20,48,52,53,54) have mixed types. Specify dtype option on import or set low_memory=False.\n",
      "  df = pd.read_csv(name)\n"
     ]
    },
    {
     "name": "stdout",
     "output_type": "stream",
     "text": [
      "0.8943681660039762\n",
      "7\n"
     ]
    },
    {
     "name": "stderr",
     "output_type": "stream",
     "text": [
      "/var/folders/fz/qwk5rxqs39gcy8h_0lhy47c80000gn/T/ipykernel_24604/2860325707.py:9: DtypeWarning: Columns (20,48,52,53,54) have mixed types. Specify dtype option on import or set low_memory=False.\n",
      "  df = pd.read_csv(name)\n"
     ]
    },
    {
     "name": "stdout",
     "output_type": "stream",
     "text": [
      "0.894924787442773\n",
      "8\n"
     ]
    },
    {
     "name": "stderr",
     "output_type": "stream",
     "text": [
      "/var/folders/fz/qwk5rxqs39gcy8h_0lhy47c80000gn/T/ipykernel_24604/2860325707.py:9: DtypeWarning: Columns (20,48,52,53,54) have mixed types. Specify dtype option on import or set low_memory=False.\n",
      "  df = pd.read_csv(name)\n"
     ]
    },
    {
     "name": "stdout",
     "output_type": "stream",
     "text": [
      "0.8967062696588928\n",
      "9\n"
     ]
    },
    {
     "name": "stderr",
     "output_type": "stream",
     "text": [
      "/var/folders/fz/qwk5rxqs39gcy8h_0lhy47c80000gn/T/ipykernel_24604/2860325707.py:9: DtypeWarning: Columns (20,52,53,54) have mixed types. Specify dtype option on import or set low_memory=False.\n",
      "  df = pd.read_csv(name)\n"
     ]
    },
    {
     "name": "stdout",
     "output_type": "stream",
     "text": [
      "0.8931910599269834\n",
      "10\n"
     ]
    },
    {
     "name": "stderr",
     "output_type": "stream",
     "text": [
      "/var/folders/fz/qwk5rxqs39gcy8h_0lhy47c80000gn/T/ipykernel_24604/2860325707.py:9: DtypeWarning: Columns (20,48,52,53,54,56) have mixed types. Specify dtype option on import or set low_memory=False.\n",
      "  df = pd.read_csv(name)\n"
     ]
    },
    {
     "name": "stdout",
     "output_type": "stream",
     "text": [
      "0.8972513881441249\n",
      "11\n"
     ]
    },
    {
     "name": "stderr",
     "output_type": "stream",
     "text": [
      "/var/folders/fz/qwk5rxqs39gcy8h_0lhy47c80000gn/T/ipykernel_24604/2860325707.py:9: DtypeWarning: Columns (20,48,52,53,54,56) have mixed types. Specify dtype option on import or set low_memory=False.\n",
      "  df = pd.read_csv(name)\n"
     ]
    },
    {
     "name": "stdout",
     "output_type": "stream",
     "text": [
      "0.8985036371184636\n",
      "12\n"
     ]
    },
    {
     "name": "stderr",
     "output_type": "stream",
     "text": [
      "/var/folders/fz/qwk5rxqs39gcy8h_0lhy47c80000gn/T/ipykernel_24604/2860325707.py:9: DtypeWarning: Columns (20,52,53,54,56) have mixed types. Specify dtype option on import or set low_memory=False.\n",
      "  df = pd.read_csv(name)\n"
     ]
    },
    {
     "name": "stdout",
     "output_type": "stream",
     "text": [
      "0.8931154991155279\n"
     ]
    }
   ],
   "source": [
    "for i in range(12):\n",
    "    i+=1\n",
    "    print(i)\n",
    "    if i<10:\n",
    "        name = \"data/2022-0\"+str(i)+\".csv\"\n",
    "    else:\n",
    "        name = \"data/2022-\"+str(i)+\".csv\"\n",
    "    try:\n",
    "        df = pd.read_csv(name)\n",
    "    except:\n",
    "        continue\n",
    "    cleandf = dfclean(df)\n",
    "    if i==1:\n",
    "        maindf = cleandf\n",
    "    else:\n",
    "        maindf = pd.concat([maindf,cleandf])\n",
    "\n",
    "#maindf.to_csv('pulls_data_clean.csv')"
   ]
  }
 ],
 "metadata": {
  "kernelspec": {
   "display_name": "traffic",
   "language": "python",
   "name": "python3"
  },
  "language_info": {
   "codemirror_mode": {
    "name": "ipython",
    "version": 3
   },
   "file_extension": ".py",
   "mimetype": "text/x-python",
   "name": "python",
   "nbconvert_exporter": "python",
   "pygments_lexer": "ipython3",
   "version": "3.11.5"
  },
  "orig_nbformat": 4
 },
 "nbformat": 4,
 "nbformat_minor": 2
}
