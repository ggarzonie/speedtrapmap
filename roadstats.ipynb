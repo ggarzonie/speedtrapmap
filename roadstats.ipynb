{
 "cells": [
  {
   "cell_type": "markdown",
   "metadata": {},
   "source": []
  },
  {
   "cell_type": "code",
   "execution_count": 1,
   "metadata": {},
   "outputs": [
    {
     "name": "stderr",
     "output_type": "stream",
     "text": [
      "/var/folders/fz/qwk5rxqs39gcy8h_0lhy47c80000gn/T/ipykernel_40576/2240971900.py:9: DtypeWarning: Columns (9) have mixed types. Specify dtype option on import or set low_memory=False.\n",
      "  pdf = pd.read_csv('pulls_data_clean.csv')\n"
     ]
    }
   ],
   "source": [
    "import pandas as pd\n",
    "from sklearn.neighbors import KernelDensity\n",
    "import numpy as np\n",
    "import matplotlib.pyplot as plt\n",
    "import geopandas as gpd\n",
    "from shapely.geometry import Point\n",
    "pd.set_option('display.max_columns', None)\n",
    "pd.set_option('display.max_rows', None)\n",
    "pdf = pd.read_csv('pulls_data_clean.csv')\n",
    "mdf = gpd.read_file('milemarkers.gdb')\n",
    "vdf = pd.read_csv('TxDOT_AADT_Annuals.csv')\n"
   ]
  },
  {
   "cell_type": "code",
   "execution_count": 2,
   "metadata": {},
   "outputs": [],
   "source": [
    "road_type_to_abbreviation = {\n",
    "    'INTERSTATE': 'IH',\n",
    "    'US HIGHWAY': 'US',\n",
    "    'STATE HIGHWAY': 'SH',\n",
    "    'FARM TO MARKET': 'FM',\n",
    "    'FARM TO MARKET ROAD SPUR': 'FS',\n",
    "    'STATE HIGHWAY SPUR': 'SS',\n",
    "    'TOLLWAY': None,  \n",
    "    'OFF INTERSTATE BUS. RTE.': None, \n",
    "    'RECREATION ROAD': 'RE',\n",
    "    'STATE HIGHWAY LOOP': 'SL',\n",
    "    'OFF US HWY. BUS. RTE.': 'BU', \n",
    "    'RANCH TO MARKET': 'RM',\n",
    "    'US ALTERNATE': 'UA',\n",
    "    'LOOP': 'SL',  \n",
    "    'SPUR': 'SS',  \n",
    "    'STATE HIGHWAY ALTERNATE': None,  \n",
    "    'OFF ST. HWY. BUS. RTE.': 'BS', \n",
    "    'PARK ROAD': 'PR',\n",
    "    'TEXAS STATE HIGHWAY': 'SH', \n",
    "    'US HIGHWAY SPUR': 'UP',\n",
    "    'PORT OF ENTRY': None  \n",
    "}\n",
    "\n",
    "pdf['abr_type'] = pdf['Route_Type'].map(road_type_to_abbreviation)\n",
    "pdf = pdf.dropna(subset='abr_type')\n",
    "pdf['road'] = (pdf['abr_type'] + pdf['Route']).str.strip()\n",
    "\n",
    "def pad_zeroes(input_str):\n",
    "    num_zeroes = 4 - len(input_str)\n",
    "    return \"0\" * num_zeroes + input_str\n",
    "mdf['road'] = mdf['RTE_PRFX'] + mdf['RTE_NBR'].astype(str).apply(pad_zeroes)\n",
    "\n",
    "vcounts = vdf.groupby('ON_ROAD').count()\n",
    "vroads = vcounts[vcounts['X']>5].index.to_list()\n",
    "vroads = [s[:6] for s in vroads]\n",
    "roads = list(set(pdf['road'].unique()) & set(vroads) & set(mdf['road'].unique()))\n"
   ]
  },
  {
   "cell_type": "code",
   "execution_count": 3,
   "metadata": {},
   "outputs": [
    {
     "name": "stdout",
     "output_type": "stream",
     "text": [
      "BS0123\n",
      "bad df\n",
      "SH0141\n",
      "SH0146\n"
     ]
    },
    {
     "name": "stderr",
     "output_type": "stream",
     "text": [
      "/var/folders/fz/qwk5rxqs39gcy8h_0lhy47c80000gn/T/ipykernel_40576/4022452298.py:87: SettingWithCopyWarning: \n",
      "A value is trying to be set on a copy of a slice from a DataFrame.\n",
      "Try using .loc[row_indexer,col_indexer] = value instead\n",
      "\n",
      "See the caveats in the documentation: https://pandas.pydata.org/pandas-docs/stable/user_guide/indexing.html#returning-a-view-versus-a-copy\n",
      "  tvdf['mile'] = tvdf.apply(lambda row: closest_mile_marker(row['X'], row['Y'], data), axis=1)\n",
      "/var/folders/fz/qwk5rxqs39gcy8h_0lhy47c80000gn/T/ipykernel_40576/4022452298.py:87: SettingWithCopyWarning: \n",
      "A value is trying to be set on a copy of a slice from a DataFrame.\n",
      "Try using .loc[row_indexer,col_indexer] = value instead\n",
      "\n",
      "See the caveats in the documentation: https://pandas.pydata.org/pandas-docs/stable/user_guide/indexing.html#returning-a-view-versus-a-copy\n",
      "  tvdf['mile'] = tvdf.apply(lambda row: closest_mile_marker(row['X'], row['Y'], data), axis=1)\n",
      "/var/folders/fz/qwk5rxqs39gcy8h_0lhy47c80000gn/T/ipykernel_40576/4022452298.py:87: SettingWithCopyWarning: \n",
      "A value is trying to be set on a copy of a slice from a DataFrame.\n",
      "Try using .loc[row_indexer,col_indexer] = value instead\n",
      "\n",
      "See the caveats in the documentation: https://pandas.pydata.org/pandas-docs/stable/user_guide/indexing.html#returning-a-view-versus-a-copy\n",
      "  tvdf['mile'] = tvdf.apply(lambda row: closest_mile_marker(row['X'], row['Y'], data), axis=1)\n",
      "/var/folders/fz/qwk5rxqs39gcy8h_0lhy47c80000gn/T/ipykernel_40576/4022452298.py:87: SettingWithCopyWarning: \n",
      "A value is trying to be set on a copy of a slice from a DataFrame.\n",
      "Try using .loc[row_indexer,col_indexer] = value instead\n",
      "\n",
      "See the caveats in the documentation: https://pandas.pydata.org/pandas-docs/stable/user_guide/indexing.html#returning-a-view-versus-a-copy\n",
      "  tvdf['mile'] = tvdf.apply(lambda row: closest_mile_marker(row['X'], row['Y'], data), axis=1)\n",
      "/var/folders/fz/qwk5rxqs39gcy8h_0lhy47c80000gn/T/ipykernel_40576/4022452298.py:87: SettingWithCopyWarning: \n",
      "A value is trying to be set on a copy of a slice from a DataFrame.\n",
      "Try using .loc[row_indexer,col_indexer] = value instead\n",
      "\n",
      "See the caveats in the documentation: https://pandas.pydata.org/pandas-docs/stable/user_guide/indexing.html#returning-a-view-versus-a-copy\n",
      "  tvdf['mile'] = tvdf.apply(lambda row: closest_mile_marker(row['X'], row['Y'], data), axis=1)\n"
     ]
    },
    {
     "name": "stdout",
     "output_type": "stream",
     "text": [
      "FM1584\n",
      "FM0514\n",
      "FM0073\n",
      "FM1788\n"
     ]
    },
    {
     "name": "stderr",
     "output_type": "stream",
     "text": [
      "/var/folders/fz/qwk5rxqs39gcy8h_0lhy47c80000gn/T/ipykernel_40576/4022452298.py:87: SettingWithCopyWarning: \n",
      "A value is trying to be set on a copy of a slice from a DataFrame.\n",
      "Try using .loc[row_indexer,col_indexer] = value instead\n",
      "\n",
      "See the caveats in the documentation: https://pandas.pydata.org/pandas-docs/stable/user_guide/indexing.html#returning-a-view-versus-a-copy\n",
      "  tvdf['mile'] = tvdf.apply(lambda row: closest_mile_marker(row['X'], row['Y'], data), axis=1)\n",
      "/var/folders/fz/qwk5rxqs39gcy8h_0lhy47c80000gn/T/ipykernel_40576/4022452298.py:87: SettingWithCopyWarning: \n",
      "A value is trying to be set on a copy of a slice from a DataFrame.\n",
      "Try using .loc[row_indexer,col_indexer] = value instead\n",
      "\n",
      "See the caveats in the documentation: https://pandas.pydata.org/pandas-docs/stable/user_guide/indexing.html#returning-a-view-versus-a-copy\n",
      "  tvdf['mile'] = tvdf.apply(lambda row: closest_mile_marker(row['X'], row['Y'], data), axis=1)\n"
     ]
    },
    {
     "name": "stdout",
     "output_type": "stream",
     "text": [
      "FM0417\n",
      "US0070\n"
     ]
    },
    {
     "name": "stderr",
     "output_type": "stream",
     "text": [
      "/var/folders/fz/qwk5rxqs39gcy8h_0lhy47c80000gn/T/ipykernel_40576/4022452298.py:87: SettingWithCopyWarning: \n",
      "A value is trying to be set on a copy of a slice from a DataFrame.\n",
      "Try using .loc[row_indexer,col_indexer] = value instead\n",
      "\n",
      "See the caveats in the documentation: https://pandas.pydata.org/pandas-docs/stable/user_guide/indexing.html#returning-a-view-versus-a-copy\n",
      "  tvdf['mile'] = tvdf.apply(lambda row: closest_mile_marker(row['X'], row['Y'], data), axis=1)\n",
      "/var/folders/fz/qwk5rxqs39gcy8h_0lhy47c80000gn/T/ipykernel_40576/4022452298.py:87: SettingWithCopyWarning: \n",
      "A value is trying to be set on a copy of a slice from a DataFrame.\n",
      "Try using .loc[row_indexer,col_indexer] = value instead\n",
      "\n",
      "See the caveats in the documentation: https://pandas.pydata.org/pandas-docs/stable/user_guide/indexing.html#returning-a-view-versus-a-copy\n",
      "  tvdf['mile'] = tvdf.apply(lambda row: closest_mile_marker(row['X'], row['Y'], data), axis=1)\n",
      "/var/folders/fz/qwk5rxqs39gcy8h_0lhy47c80000gn/T/ipykernel_40576/4022452298.py:87: SettingWithCopyWarning: \n",
      "A value is trying to be set on a copy of a slice from a DataFrame.\n",
      "Try using .loc[row_indexer,col_indexer] = value instead\n",
      "\n",
      "See the caveats in the documentation: https://pandas.pydata.org/pandas-docs/stable/user_guide/indexing.html#returning-a-view-versus-a-copy\n",
      "  tvdf['mile'] = tvdf.apply(lambda row: closest_mile_marker(row['X'], row['Y'], data), axis=1)\n"
     ]
    },
    {
     "name": "stdout",
     "output_type": "stream",
     "text": [
      "FM1125\n",
      "FM0487\n",
      "FM0791\n"
     ]
    },
    {
     "name": "stderr",
     "output_type": "stream",
     "text": [
      "/var/folders/fz/qwk5rxqs39gcy8h_0lhy47c80000gn/T/ipykernel_40576/4022452298.py:87: SettingWithCopyWarning: \n",
      "A value is trying to be set on a copy of a slice from a DataFrame.\n",
      "Try using .loc[row_indexer,col_indexer] = value instead\n",
      "\n",
      "See the caveats in the documentation: https://pandas.pydata.org/pandas-docs/stable/user_guide/indexing.html#returning-a-view-versus-a-copy\n",
      "  tvdf['mile'] = tvdf.apply(lambda row: closest_mile_marker(row['X'], row['Y'], data), axis=1)\n"
     ]
    },
    {
     "name": "stdout",
     "output_type": "stream",
     "text": [
      "US0057\n"
     ]
    },
    {
     "name": "stderr",
     "output_type": "stream",
     "text": [
      "/var/folders/fz/qwk5rxqs39gcy8h_0lhy47c80000gn/T/ipykernel_40576/4022452298.py:87: SettingWithCopyWarning: \n",
      "A value is trying to be set on a copy of a slice from a DataFrame.\n",
      "Try using .loc[row_indexer,col_indexer] = value instead\n",
      "\n",
      "See the caveats in the documentation: https://pandas.pydata.org/pandas-docs/stable/user_guide/indexing.html#returning-a-view-versus-a-copy\n",
      "  tvdf['mile'] = tvdf.apply(lambda row: closest_mile_marker(row['X'], row['Y'], data), axis=1)\n",
      "/var/folders/fz/qwk5rxqs39gcy8h_0lhy47c80000gn/T/ipykernel_40576/4022452298.py:87: SettingWithCopyWarning: \n",
      "A value is trying to be set on a copy of a slice from a DataFrame.\n",
      "Try using .loc[row_indexer,col_indexer] = value instead\n",
      "\n",
      "See the caveats in the documentation: https://pandas.pydata.org/pandas-docs/stable/user_guide/indexing.html#returning-a-view-versus-a-copy\n",
      "  tvdf['mile'] = tvdf.apply(lambda row: closest_mile_marker(row['X'], row['Y'], data), axis=1)\n",
      "/var/folders/fz/qwk5rxqs39gcy8h_0lhy47c80000gn/T/ipykernel_40576/4022452298.py:87: SettingWithCopyWarning: \n",
      "A value is trying to be set on a copy of a slice from a DataFrame.\n",
      "Try using .loc[row_indexer,col_indexer] = value instead\n",
      "\n",
      "See the caveats in the documentation: https://pandas.pydata.org/pandas-docs/stable/user_guide/indexing.html#returning-a-view-versus-a-copy\n",
      "  tvdf['mile'] = tvdf.apply(lambda row: closest_mile_marker(row['X'], row['Y'], data), axis=1)\n",
      "/var/folders/fz/qwk5rxqs39gcy8h_0lhy47c80000gn/T/ipykernel_40576/4022452298.py:87: SettingWithCopyWarning: \n",
      "A value is trying to be set on a copy of a slice from a DataFrame.\n",
      "Try using .loc[row_indexer,col_indexer] = value instead\n",
      "\n",
      "See the caveats in the documentation: https://pandas.pydata.org/pandas-docs/stable/user_guide/indexing.html#returning-a-view-versus-a-copy\n",
      "  tvdf['mile'] = tvdf.apply(lambda row: closest_mile_marker(row['X'], row['Y'], data), axis=1)\n"
     ]
    },
    {
     "name": "stdout",
     "output_type": "stream",
     "text": [
      "FM0713\n",
      "FM0705\n",
      "FM0155\n",
      "FM1960\n"
     ]
    },
    {
     "name": "stderr",
     "output_type": "stream",
     "text": [
      "/var/folders/fz/qwk5rxqs39gcy8h_0lhy47c80000gn/T/ipykernel_40576/4022452298.py:87: SettingWithCopyWarning: \n",
      "A value is trying to be set on a copy of a slice from a DataFrame.\n",
      "Try using .loc[row_indexer,col_indexer] = value instead\n",
      "\n",
      "See the caveats in the documentation: https://pandas.pydata.org/pandas-docs/stable/user_guide/indexing.html#returning-a-view-versus-a-copy\n",
      "  tvdf['mile'] = tvdf.apply(lambda row: closest_mile_marker(row['X'], row['Y'], data), axis=1)\n",
      "/var/folders/fz/qwk5rxqs39gcy8h_0lhy47c80000gn/T/ipykernel_40576/4022452298.py:87: SettingWithCopyWarning: \n",
      "A value is trying to be set on a copy of a slice from a DataFrame.\n",
      "Try using .loc[row_indexer,col_indexer] = value instead\n",
      "\n",
      "See the caveats in the documentation: https://pandas.pydata.org/pandas-docs/stable/user_guide/indexing.html#returning-a-view-versus-a-copy\n",
      "  tvdf['mile'] = tvdf.apply(lambda row: closest_mile_marker(row['X'], row['Y'], data), axis=1)\n"
     ]
    },
    {
     "name": "stdout",
     "output_type": "stream",
     "text": [
      "FM1489\n",
      "FM0140\n"
     ]
    },
    {
     "name": "stderr",
     "output_type": "stream",
     "text": [
      "/var/folders/fz/qwk5rxqs39gcy8h_0lhy47c80000gn/T/ipykernel_40576/4022452298.py:87: SettingWithCopyWarning: \n",
      "A value is trying to be set on a copy of a slice from a DataFrame.\n",
      "Try using .loc[row_indexer,col_indexer] = value instead\n",
      "\n",
      "See the caveats in the documentation: https://pandas.pydata.org/pandas-docs/stable/user_guide/indexing.html#returning-a-view-versus-a-copy\n",
      "  tvdf['mile'] = tvdf.apply(lambda row: closest_mile_marker(row['X'], row['Y'], data), axis=1)\n",
      "/var/folders/fz/qwk5rxqs39gcy8h_0lhy47c80000gn/T/ipykernel_40576/4022452298.py:87: SettingWithCopyWarning: \n",
      "A value is trying to be set on a copy of a slice from a DataFrame.\n",
      "Try using .loc[row_indexer,col_indexer] = value instead\n",
      "\n",
      "See the caveats in the documentation: https://pandas.pydata.org/pandas-docs/stable/user_guide/indexing.html#returning-a-view-versus-a-copy\n",
      "  tvdf['mile'] = tvdf.apply(lambda row: closest_mile_marker(row['X'], row['Y'], data), axis=1)\n"
     ]
    },
    {
     "name": "stdout",
     "output_type": "stream",
     "text": [
      "SH0056\n",
      "FM2781\n"
     ]
    },
    {
     "name": "stderr",
     "output_type": "stream",
     "text": [
      "/var/folders/fz/qwk5rxqs39gcy8h_0lhy47c80000gn/T/ipykernel_40576/4022452298.py:87: SettingWithCopyWarning: \n",
      "A value is trying to be set on a copy of a slice from a DataFrame.\n",
      "Try using .loc[row_indexer,col_indexer] = value instead\n",
      "\n",
      "See the caveats in the documentation: https://pandas.pydata.org/pandas-docs/stable/user_guide/indexing.html#returning-a-view-versus-a-copy\n",
      "  tvdf['mile'] = tvdf.apply(lambda row: closest_mile_marker(row['X'], row['Y'], data), axis=1)\n",
      "/var/folders/fz/qwk5rxqs39gcy8h_0lhy47c80000gn/T/ipykernel_40576/4022452298.py:87: SettingWithCopyWarning: \n",
      "A value is trying to be set on a copy of a slice from a DataFrame.\n",
      "Try using .loc[row_indexer,col_indexer] = value instead\n",
      "\n",
      "See the caveats in the documentation: https://pandas.pydata.org/pandas-docs/stable/user_guide/indexing.html#returning-a-view-versus-a-copy\n",
      "  tvdf['mile'] = tvdf.apply(lambda row: closest_mile_marker(row['X'], row['Y'], data), axis=1)\n",
      "/var/folders/fz/qwk5rxqs39gcy8h_0lhy47c80000gn/T/ipykernel_40576/4022452298.py:87: SettingWithCopyWarning: \n",
      "A value is trying to be set on a copy of a slice from a DataFrame.\n",
      "Try using .loc[row_indexer,col_indexer] = value instead\n",
      "\n",
      "See the caveats in the documentation: https://pandas.pydata.org/pandas-docs/stable/user_guide/indexing.html#returning-a-view-versus-a-copy\n",
      "  tvdf['mile'] = tvdf.apply(lambda row: closest_mile_marker(row['X'], row['Y'], data), axis=1)\n"
     ]
    },
    {
     "name": "stdout",
     "output_type": "stream",
     "text": [
      "SH0073\n",
      "FM2795\n",
      "FM0410\n"
     ]
    },
    {
     "name": "stderr",
     "output_type": "stream",
     "text": [
      "/var/folders/fz/qwk5rxqs39gcy8h_0lhy47c80000gn/T/ipykernel_40576/4022452298.py:87: SettingWithCopyWarning: \n",
      "A value is trying to be set on a copy of a slice from a DataFrame.\n",
      "Try using .loc[row_indexer,col_indexer] = value instead\n",
      "\n",
      "See the caveats in the documentation: https://pandas.pydata.org/pandas-docs/stable/user_guide/indexing.html#returning-a-view-versus-a-copy\n",
      "  tvdf['mile'] = tvdf.apply(lambda row: closest_mile_marker(row['X'], row['Y'], data), axis=1)\n",
      "/var/folders/fz/qwk5rxqs39gcy8h_0lhy47c80000gn/T/ipykernel_40576/4022452298.py:87: SettingWithCopyWarning: \n",
      "A value is trying to be set on a copy of a slice from a DataFrame.\n",
      "Try using .loc[row_indexer,col_indexer] = value instead\n",
      "\n",
      "See the caveats in the documentation: https://pandas.pydata.org/pandas-docs/stable/user_guide/indexing.html#returning-a-view-versus-a-copy\n",
      "  tvdf['mile'] = tvdf.apply(lambda row: closest_mile_marker(row['X'], row['Y'], data), axis=1)\n"
     ]
    },
    {
     "name": "stdout",
     "output_type": "stream",
     "text": [
      "FM0762\n",
      "IH0002\n"
     ]
    },
    {
     "name": "stderr",
     "output_type": "stream",
     "text": [
      "/var/folders/fz/qwk5rxqs39gcy8h_0lhy47c80000gn/T/ipykernel_40576/4022452298.py:87: SettingWithCopyWarning: \n",
      "A value is trying to be set on a copy of a slice from a DataFrame.\n",
      "Try using .loc[row_indexer,col_indexer] = value instead\n",
      "\n",
      "See the caveats in the documentation: https://pandas.pydata.org/pandas-docs/stable/user_guide/indexing.html#returning-a-view-versus-a-copy\n",
      "  tvdf['mile'] = tvdf.apply(lambda row: closest_mile_marker(row['X'], row['Y'], data), axis=1)\n",
      "/var/folders/fz/qwk5rxqs39gcy8h_0lhy47c80000gn/T/ipykernel_40576/4022452298.py:87: SettingWithCopyWarning: \n",
      "A value is trying to be set on a copy of a slice from a DataFrame.\n",
      "Try using .loc[row_indexer,col_indexer] = value instead\n",
      "\n",
      "See the caveats in the documentation: https://pandas.pydata.org/pandas-docs/stable/user_guide/indexing.html#returning-a-view-versus-a-copy\n",
      "  tvdf['mile'] = tvdf.apply(lambda row: closest_mile_marker(row['X'], row['Y'], data), axis=1)\n",
      "/var/folders/fz/qwk5rxqs39gcy8h_0lhy47c80000gn/T/ipykernel_40576/4022452298.py:87: SettingWithCopyWarning: \n",
      "A value is trying to be set on a copy of a slice from a DataFrame.\n",
      "Try using .loc[row_indexer,col_indexer] = value instead\n",
      "\n",
      "See the caveats in the documentation: https://pandas.pydata.org/pandas-docs/stable/user_guide/indexing.html#returning-a-view-versus-a-copy\n",
      "  tvdf['mile'] = tvdf.apply(lambda row: closest_mile_marker(row['X'], row['Y'], data), axis=1)\n",
      "/var/folders/fz/qwk5rxqs39gcy8h_0lhy47c80000gn/T/ipykernel_40576/4022452298.py:87: SettingWithCopyWarning: \n",
      "A value is trying to be set on a copy of a slice from a DataFrame.\n",
      "Try using .loc[row_indexer,col_indexer] = value instead\n",
      "\n",
      "See the caveats in the documentation: https://pandas.pydata.org/pandas-docs/stable/user_guide/indexing.html#returning-a-view-versus-a-copy\n",
      "  tvdf['mile'] = tvdf.apply(lambda row: closest_mile_marker(row['X'], row['Y'], data), axis=1)\n"
     ]
    },
    {
     "name": "stdout",
     "output_type": "stream",
     "text": [
      "FM3005\n",
      "FM2196\n",
      "FM0338\n",
      "RE0255\n"
     ]
    },
    {
     "name": "stderr",
     "output_type": "stream",
     "text": [
      "/var/folders/fz/qwk5rxqs39gcy8h_0lhy47c80000gn/T/ipykernel_40576/4022452298.py:87: SettingWithCopyWarning: \n",
      "A value is trying to be set on a copy of a slice from a DataFrame.\n",
      "Try using .loc[row_indexer,col_indexer] = value instead\n",
      "\n",
      "See the caveats in the documentation: https://pandas.pydata.org/pandas-docs/stable/user_guide/indexing.html#returning-a-view-versus-a-copy\n",
      "  tvdf['mile'] = tvdf.apply(lambda row: closest_mile_marker(row['X'], row['Y'], data), axis=1)\n",
      "/var/folders/fz/qwk5rxqs39gcy8h_0lhy47c80000gn/T/ipykernel_40576/4022452298.py:87: SettingWithCopyWarning: \n",
      "A value is trying to be set on a copy of a slice from a DataFrame.\n",
      "Try using .loc[row_indexer,col_indexer] = value instead\n",
      "\n",
      "See the caveats in the documentation: https://pandas.pydata.org/pandas-docs/stable/user_guide/indexing.html#returning-a-view-versus-a-copy\n",
      "  tvdf['mile'] = tvdf.apply(lambda row: closest_mile_marker(row['X'], row['Y'], data), axis=1)\n",
      "/var/folders/fz/qwk5rxqs39gcy8h_0lhy47c80000gn/T/ipykernel_40576/4022452298.py:87: SettingWithCopyWarning: \n",
      "A value is trying to be set on a copy of a slice from a DataFrame.\n",
      "Try using .loc[row_indexer,col_indexer] = value instead\n",
      "\n",
      "See the caveats in the documentation: https://pandas.pydata.org/pandas-docs/stable/user_guide/indexing.html#returning-a-view-versus-a-copy\n",
      "  tvdf['mile'] = tvdf.apply(lambda row: closest_mile_marker(row['X'], row['Y'], data), axis=1)\n",
      "/var/folders/fz/qwk5rxqs39gcy8h_0lhy47c80000gn/T/ipykernel_40576/4022452298.py:87: SettingWithCopyWarning: \n",
      "A value is trying to be set on a copy of a slice from a DataFrame.\n",
      "Try using .loc[row_indexer,col_indexer] = value instead\n",
      "\n",
      "See the caveats in the documentation: https://pandas.pydata.org/pandas-docs/stable/user_guide/indexing.html#returning-a-view-versus-a-copy\n",
      "  tvdf['mile'] = tvdf.apply(lambda row: closest_mile_marker(row['X'], row['Y'], data), axis=1)\n"
     ]
    },
    {
     "name": "stdout",
     "output_type": "stream",
     "text": [
      "RM0012\n",
      "FM2625\n",
      "FM0969\n",
      "FM0092\n"
     ]
    },
    {
     "name": "stderr",
     "output_type": "stream",
     "text": [
      "/var/folders/fz/qwk5rxqs39gcy8h_0lhy47c80000gn/T/ipykernel_40576/4022452298.py:87: SettingWithCopyWarning: \n",
      "A value is trying to be set on a copy of a slice from a DataFrame.\n",
      "Try using .loc[row_indexer,col_indexer] = value instead\n",
      "\n",
      "See the caveats in the documentation: https://pandas.pydata.org/pandas-docs/stable/user_guide/indexing.html#returning-a-view-versus-a-copy\n",
      "  tvdf['mile'] = tvdf.apply(lambda row: closest_mile_marker(row['X'], row['Y'], data), axis=1)\n",
      "/var/folders/fz/qwk5rxqs39gcy8h_0lhy47c80000gn/T/ipykernel_40576/4022452298.py:87: SettingWithCopyWarning: \n",
      "A value is trying to be set on a copy of a slice from a DataFrame.\n",
      "Try using .loc[row_indexer,col_indexer] = value instead\n",
      "\n",
      "See the caveats in the documentation: https://pandas.pydata.org/pandas-docs/stable/user_guide/indexing.html#returning-a-view-versus-a-copy\n",
      "  tvdf['mile'] = tvdf.apply(lambda row: closest_mile_marker(row['X'], row['Y'], data), axis=1)\n"
     ]
    },
    {
     "name": "stdout",
     "output_type": "stream",
     "text": [
      "SH0195\n",
      "IH0610\n"
     ]
    },
    {
     "name": "stderr",
     "output_type": "stream",
     "text": [
      "/var/folders/fz/qwk5rxqs39gcy8h_0lhy47c80000gn/T/ipykernel_40576/4022452298.py:87: SettingWithCopyWarning: \n",
      "A value is trying to be set on a copy of a slice from a DataFrame.\n",
      "Try using .loc[row_indexer,col_indexer] = value instead\n",
      "\n",
      "See the caveats in the documentation: https://pandas.pydata.org/pandas-docs/stable/user_guide/indexing.html#returning-a-view-versus-a-copy\n",
      "  tvdf['mile'] = tvdf.apply(lambda row: closest_mile_marker(row['X'], row['Y'], data), axis=1)\n",
      "/var/folders/fz/qwk5rxqs39gcy8h_0lhy47c80000gn/T/ipykernel_40576/4022452298.py:87: SettingWithCopyWarning: \n",
      "A value is trying to be set on a copy of a slice from a DataFrame.\n",
      "Try using .loc[row_indexer,col_indexer] = value instead\n",
      "\n",
      "See the caveats in the documentation: https://pandas.pydata.org/pandas-docs/stable/user_guide/indexing.html#returning-a-view-versus-a-copy\n",
      "  tvdf['mile'] = tvdf.apply(lambda row: closest_mile_marker(row['X'], row['Y'], data), axis=1)\n",
      "/var/folders/fz/qwk5rxqs39gcy8h_0lhy47c80000gn/T/ipykernel_40576/4022452298.py:87: SettingWithCopyWarning: \n",
      "A value is trying to be set on a copy of a slice from a DataFrame.\n",
      "Try using .loc[row_indexer,col_indexer] = value instead\n",
      "\n",
      "See the caveats in the documentation: https://pandas.pydata.org/pandas-docs/stable/user_guide/indexing.html#returning-a-view-versus-a-copy\n",
      "  tvdf['mile'] = tvdf.apply(lambda row: closest_mile_marker(row['X'], row['Y'], data), axis=1)\n",
      "/var/folders/fz/qwk5rxqs39gcy8h_0lhy47c80000gn/T/ipykernel_40576/4022452298.py:87: SettingWithCopyWarning: \n",
      "A value is trying to be set on a copy of a slice from a DataFrame.\n",
      "Try using .loc[row_indexer,col_indexer] = value instead\n",
      "\n",
      "See the caveats in the documentation: https://pandas.pydata.org/pandas-docs/stable/user_guide/indexing.html#returning-a-view-versus-a-copy\n",
      "  tvdf['mile'] = tvdf.apply(lambda row: closest_mile_marker(row['X'], row['Y'], data), axis=1)\n"
     ]
    },
    {
     "name": "stdout",
     "output_type": "stream",
     "text": [
      "FM0300\n",
      "SH0361\n",
      "FM0747\n",
      "SH0207\n"
     ]
    },
    {
     "name": "stderr",
     "output_type": "stream",
     "text": [
      "/var/folders/fz/qwk5rxqs39gcy8h_0lhy47c80000gn/T/ipykernel_40576/4022452298.py:87: SettingWithCopyWarning: \n",
      "A value is trying to be set on a copy of a slice from a DataFrame.\n",
      "Try using .loc[row_indexer,col_indexer] = value instead\n",
      "\n",
      "See the caveats in the documentation: https://pandas.pydata.org/pandas-docs/stable/user_guide/indexing.html#returning-a-view-versus-a-copy\n",
      "  tvdf['mile'] = tvdf.apply(lambda row: closest_mile_marker(row['X'], row['Y'], data), axis=1)\n"
     ]
    },
    {
     "name": "stdout",
     "output_type": "stream",
     "text": [
      "FM0521\n"
     ]
    },
    {
     "name": "stderr",
     "output_type": "stream",
     "text": [
      "/var/folders/fz/qwk5rxqs39gcy8h_0lhy47c80000gn/T/ipykernel_40576/4022452298.py:87: SettingWithCopyWarning: \n",
      "A value is trying to be set on a copy of a slice from a DataFrame.\n",
      "Try using .loc[row_indexer,col_indexer] = value instead\n",
      "\n",
      "See the caveats in the documentation: https://pandas.pydata.org/pandas-docs/stable/user_guide/indexing.html#returning-a-view-versus-a-copy\n",
      "  tvdf['mile'] = tvdf.apply(lambda row: closest_mile_marker(row['X'], row['Y'], data), axis=1)\n"
     ]
    },
    {
     "name": "stdout",
     "output_type": "stream",
     "text": [
      "FM0145\n"
     ]
    },
    {
     "name": "stderr",
     "output_type": "stream",
     "text": [
      "/var/folders/fz/qwk5rxqs39gcy8h_0lhy47c80000gn/T/ipykernel_40576/4022452298.py:87: SettingWithCopyWarning: \n",
      "A value is trying to be set on a copy of a slice from a DataFrame.\n",
      "Try using .loc[row_indexer,col_indexer] = value instead\n",
      "\n",
      "See the caveats in the documentation: https://pandas.pydata.org/pandas-docs/stable/user_guide/indexing.html#returning-a-view-versus-a-copy\n",
      "  tvdf['mile'] = tvdf.apply(lambda row: closest_mile_marker(row['X'], row['Y'], data), axis=1)\n",
      "/var/folders/fz/qwk5rxqs39gcy8h_0lhy47c80000gn/T/ipykernel_40576/4022452298.py:87: SettingWithCopyWarning: \n",
      "A value is trying to be set on a copy of a slice from a DataFrame.\n",
      "Try using .loc[row_indexer,col_indexer] = value instead\n",
      "\n",
      "See the caveats in the documentation: https://pandas.pydata.org/pandas-docs/stable/user_guide/indexing.html#returning-a-view-versus-a-copy\n",
      "  tvdf['mile'] = tvdf.apply(lambda row: closest_mile_marker(row['X'], row['Y'], data), axis=1)\n",
      "/var/folders/fz/qwk5rxqs39gcy8h_0lhy47c80000gn/T/ipykernel_40576/4022452298.py:87: SettingWithCopyWarning: \n",
      "A value is trying to be set on a copy of a slice from a DataFrame.\n",
      "Try using .loc[row_indexer,col_indexer] = value instead\n",
      "\n",
      "See the caveats in the documentation: https://pandas.pydata.org/pandas-docs/stable/user_guide/indexing.html#returning-a-view-versus-a-copy\n",
      "  tvdf['mile'] = tvdf.apply(lambda row: closest_mile_marker(row['X'], row['Y'], data), axis=1)\n",
      "/var/folders/fz/qwk5rxqs39gcy8h_0lhy47c80000gn/T/ipykernel_40576/4022452298.py:87: SettingWithCopyWarning: \n",
      "A value is trying to be set on a copy of a slice from a DataFrame.\n",
      "Try using .loc[row_indexer,col_indexer] = value instead\n",
      "\n",
      "See the caveats in the documentation: https://pandas.pydata.org/pandas-docs/stable/user_guide/indexing.html#returning-a-view-versus-a-copy\n",
      "  tvdf['mile'] = tvdf.apply(lambda row: closest_mile_marker(row['X'], row['Y'], data), axis=1)\n",
      "/var/folders/fz/qwk5rxqs39gcy8h_0lhy47c80000gn/T/ipykernel_40576/4022452298.py:87: SettingWithCopyWarning: \n",
      "A value is trying to be set on a copy of a slice from a DataFrame.\n",
      "Try using .loc[row_indexer,col_indexer] = value instead\n",
      "\n",
      "See the caveats in the documentation: https://pandas.pydata.org/pandas-docs/stable/user_guide/indexing.html#returning-a-view-versus-a-copy\n",
      "  tvdf['mile'] = tvdf.apply(lambda row: closest_mile_marker(row['X'], row['Y'], data), axis=1)\n"
     ]
    },
    {
     "name": "stdout",
     "output_type": "stream",
     "text": [
      "SH0125\n",
      "FM0782\n",
      "FM1567\n",
      "SL0473\n",
      "FM1090\n"
     ]
    },
    {
     "name": "stderr",
     "output_type": "stream",
     "text": [
      "/var/folders/fz/qwk5rxqs39gcy8h_0lhy47c80000gn/T/ipykernel_40576/4022452298.py:87: SettingWithCopyWarning: \n",
      "A value is trying to be set on a copy of a slice from a DataFrame.\n",
      "Try using .loc[row_indexer,col_indexer] = value instead\n",
      "\n",
      "See the caveats in the documentation: https://pandas.pydata.org/pandas-docs/stable/user_guide/indexing.html#returning-a-view-versus-a-copy\n",
      "  tvdf['mile'] = tvdf.apply(lambda row: closest_mile_marker(row['X'], row['Y'], data), axis=1)\n",
      "/var/folders/fz/qwk5rxqs39gcy8h_0lhy47c80000gn/T/ipykernel_40576/4022452298.py:87: SettingWithCopyWarning: \n",
      "A value is trying to be set on a copy of a slice from a DataFrame.\n",
      "Try using .loc[row_indexer,col_indexer] = value instead\n",
      "\n",
      "See the caveats in the documentation: https://pandas.pydata.org/pandas-docs/stable/user_guide/indexing.html#returning-a-view-versus-a-copy\n",
      "  tvdf['mile'] = tvdf.apply(lambda row: closest_mile_marker(row['X'], row['Y'], data), axis=1)\n",
      "/var/folders/fz/qwk5rxqs39gcy8h_0lhy47c80000gn/T/ipykernel_40576/4022452298.py:87: SettingWithCopyWarning: \n",
      "A value is trying to be set on a copy of a slice from a DataFrame.\n",
      "Try using .loc[row_indexer,col_indexer] = value instead\n",
      "\n",
      "See the caveats in the documentation: https://pandas.pydata.org/pandas-docs/stable/user_guide/indexing.html#returning-a-view-versus-a-copy\n",
      "  tvdf['mile'] = tvdf.apply(lambda row: closest_mile_marker(row['X'], row['Y'], data), axis=1)\n",
      "/var/folders/fz/qwk5rxqs39gcy8h_0lhy47c80000gn/T/ipykernel_40576/4022452298.py:87: SettingWithCopyWarning: \n",
      "A value is trying to be set on a copy of a slice from a DataFrame.\n",
      "Try using .loc[row_indexer,col_indexer] = value instead\n",
      "\n",
      "See the caveats in the documentation: https://pandas.pydata.org/pandas-docs/stable/user_guide/indexing.html#returning-a-view-versus-a-copy\n",
      "  tvdf['mile'] = tvdf.apply(lambda row: closest_mile_marker(row['X'], row['Y'], data), axis=1)\n"
     ]
    },
    {
     "name": "stdout",
     "output_type": "stream",
     "text": [
      "FM0369\n",
      "FM1301\n",
      "FM1406\n",
      "SH0147\n"
     ]
    },
    {
     "name": "stderr",
     "output_type": "stream",
     "text": [
      "/var/folders/fz/qwk5rxqs39gcy8h_0lhy47c80000gn/T/ipykernel_40576/4022452298.py:87: SettingWithCopyWarning: \n",
      "A value is trying to be set on a copy of a slice from a DataFrame.\n",
      "Try using .loc[row_indexer,col_indexer] = value instead\n",
      "\n",
      "See the caveats in the documentation: https://pandas.pydata.org/pandas-docs/stable/user_guide/indexing.html#returning-a-view-versus-a-copy\n",
      "  tvdf['mile'] = tvdf.apply(lambda row: closest_mile_marker(row['X'], row['Y'], data), axis=1)\n",
      "/var/folders/fz/qwk5rxqs39gcy8h_0lhy47c80000gn/T/ipykernel_40576/4022452298.py:87: SettingWithCopyWarning: \n",
      "A value is trying to be set on a copy of a slice from a DataFrame.\n",
      "Try using .loc[row_indexer,col_indexer] = value instead\n",
      "\n",
      "See the caveats in the documentation: https://pandas.pydata.org/pandas-docs/stable/user_guide/indexing.html#returning-a-view-versus-a-copy\n",
      "  tvdf['mile'] = tvdf.apply(lambda row: closest_mile_marker(row['X'], row['Y'], data), axis=1)\n",
      "/var/folders/fz/qwk5rxqs39gcy8h_0lhy47c80000gn/T/ipykernel_40576/4022452298.py:87: SettingWithCopyWarning: \n",
      "A value is trying to be set on a copy of a slice from a DataFrame.\n",
      "Try using .loc[row_indexer,col_indexer] = value instead\n",
      "\n",
      "See the caveats in the documentation: https://pandas.pydata.org/pandas-docs/stable/user_guide/indexing.html#returning-a-view-versus-a-copy\n",
      "  tvdf['mile'] = tvdf.apply(lambda row: closest_mile_marker(row['X'], row['Y'], data), axis=1)\n"
     ]
    },
    {
     "name": "stdout",
     "output_type": "stream",
     "text": [
      "FM0893\n",
      "SH0025\n",
      "SH0239\n"
     ]
    },
    {
     "name": "stderr",
     "output_type": "stream",
     "text": [
      "/var/folders/fz/qwk5rxqs39gcy8h_0lhy47c80000gn/T/ipykernel_40576/4022452298.py:87: SettingWithCopyWarning: \n",
      "A value is trying to be set on a copy of a slice from a DataFrame.\n",
      "Try using .loc[row_indexer,col_indexer] = value instead\n",
      "\n",
      "See the caveats in the documentation: https://pandas.pydata.org/pandas-docs/stable/user_guide/indexing.html#returning-a-view-versus-a-copy\n",
      "  tvdf['mile'] = tvdf.apply(lambda row: closest_mile_marker(row['X'], row['Y'], data), axis=1)\n",
      "/var/folders/fz/qwk5rxqs39gcy8h_0lhy47c80000gn/T/ipykernel_40576/4022452298.py:87: SettingWithCopyWarning: \n",
      "A value is trying to be set on a copy of a slice from a DataFrame.\n",
      "Try using .loc[row_indexer,col_indexer] = value instead\n",
      "\n",
      "See the caveats in the documentation: https://pandas.pydata.org/pandas-docs/stable/user_guide/indexing.html#returning-a-view-versus-a-copy\n",
      "  tvdf['mile'] = tvdf.apply(lambda row: closest_mile_marker(row['X'], row['Y'], data), axis=1)\n",
      "/var/folders/fz/qwk5rxqs39gcy8h_0lhy47c80000gn/T/ipykernel_40576/4022452298.py:87: SettingWithCopyWarning: \n",
      "A value is trying to be set on a copy of a slice from a DataFrame.\n",
      "Try using .loc[row_indexer,col_indexer] = value instead\n",
      "\n",
      "See the caveats in the documentation: https://pandas.pydata.org/pandas-docs/stable/user_guide/indexing.html#returning-a-view-versus-a-copy\n",
      "  tvdf['mile'] = tvdf.apply(lambda row: closest_mile_marker(row['X'], row['Y'], data), axis=1)\n",
      "/var/folders/fz/qwk5rxqs39gcy8h_0lhy47c80000gn/T/ipykernel_40576/4022452298.py:87: SettingWithCopyWarning: \n",
      "A value is trying to be set on a copy of a slice from a DataFrame.\n",
      "Try using .loc[row_indexer,col_indexer] = value instead\n",
      "\n",
      "See the caveats in the documentation: https://pandas.pydata.org/pandas-docs/stable/user_guide/indexing.html#returning-a-view-versus-a-copy\n",
      "  tvdf['mile'] = tvdf.apply(lambda row: closest_mile_marker(row['X'], row['Y'], data), axis=1)\n"
     ]
    },
    {
     "name": "stdout",
     "output_type": "stream",
     "text": [
      "SH0067\n",
      "SL0323\n",
      "FM0499\n",
      "FM0079\n",
      "FM0530\n"
     ]
    },
    {
     "name": "stderr",
     "output_type": "stream",
     "text": [
      "/var/folders/fz/qwk5rxqs39gcy8h_0lhy47c80000gn/T/ipykernel_40576/4022452298.py:87: SettingWithCopyWarning: \n",
      "A value is trying to be set on a copy of a slice from a DataFrame.\n",
      "Try using .loc[row_indexer,col_indexer] = value instead\n",
      "\n",
      "See the caveats in the documentation: https://pandas.pydata.org/pandas-docs/stable/user_guide/indexing.html#returning-a-view-versus-a-copy\n",
      "  tvdf['mile'] = tvdf.apply(lambda row: closest_mile_marker(row['X'], row['Y'], data), axis=1)\n",
      "/var/folders/fz/qwk5rxqs39gcy8h_0lhy47c80000gn/T/ipykernel_40576/4022452298.py:87: SettingWithCopyWarning: \n",
      "A value is trying to be set on a copy of a slice from a DataFrame.\n",
      "Try using .loc[row_indexer,col_indexer] = value instead\n",
      "\n",
      "See the caveats in the documentation: https://pandas.pydata.org/pandas-docs/stable/user_guide/indexing.html#returning-a-view-versus-a-copy\n",
      "  tvdf['mile'] = tvdf.apply(lambda row: closest_mile_marker(row['X'], row['Y'], data), axis=1)\n",
      "/var/folders/fz/qwk5rxqs39gcy8h_0lhy47c80000gn/T/ipykernel_40576/4022452298.py:87: SettingWithCopyWarning: \n",
      "A value is trying to be set on a copy of a slice from a DataFrame.\n",
      "Try using .loc[row_indexer,col_indexer] = value instead\n",
      "\n",
      "See the caveats in the documentation: https://pandas.pydata.org/pandas-docs/stable/user_guide/indexing.html#returning-a-view-versus-a-copy\n",
      "  tvdf['mile'] = tvdf.apply(lambda row: closest_mile_marker(row['X'], row['Y'], data), axis=1)\n",
      "/var/folders/fz/qwk5rxqs39gcy8h_0lhy47c80000gn/T/ipykernel_40576/4022452298.py:87: SettingWithCopyWarning: \n",
      "A value is trying to be set on a copy of a slice from a DataFrame.\n",
      "Try using .loc[row_indexer,col_indexer] = value instead\n",
      "\n",
      "See the caveats in the documentation: https://pandas.pydata.org/pandas-docs/stable/user_guide/indexing.html#returning-a-view-versus-a-copy\n",
      "  tvdf['mile'] = tvdf.apply(lambda row: closest_mile_marker(row['X'], row['Y'], data), axis=1)\n",
      "/var/folders/fz/qwk5rxqs39gcy8h_0lhy47c80000gn/T/ipykernel_40576/4022452298.py:87: SettingWithCopyWarning: \n",
      "A value is trying to be set on a copy of a slice from a DataFrame.\n",
      "Try using .loc[row_indexer,col_indexer] = value instead\n",
      "\n",
      "See the caveats in the documentation: https://pandas.pydata.org/pandas-docs/stable/user_guide/indexing.html#returning-a-view-versus-a-copy\n",
      "  tvdf['mile'] = tvdf.apply(lambda row: closest_mile_marker(row['X'], row['Y'], data), axis=1)\n"
     ]
    },
    {
     "name": "stdout",
     "output_type": "stream",
     "text": [
      "SH0238\n",
      "FM0200\n",
      "FM0858\n",
      "FM0581\n",
      "FM0294\n"
     ]
    },
    {
     "name": "stderr",
     "output_type": "stream",
     "text": [
      "/var/folders/fz/qwk5rxqs39gcy8h_0lhy47c80000gn/T/ipykernel_40576/4022452298.py:87: SettingWithCopyWarning: \n",
      "A value is trying to be set on a copy of a slice from a DataFrame.\n",
      "Try using .loc[row_indexer,col_indexer] = value instead\n",
      "\n",
      "See the caveats in the documentation: https://pandas.pydata.org/pandas-docs/stable/user_guide/indexing.html#returning-a-view-versus-a-copy\n",
      "  tvdf['mile'] = tvdf.apply(lambda row: closest_mile_marker(row['X'], row['Y'], data), axis=1)\n",
      "/var/folders/fz/qwk5rxqs39gcy8h_0lhy47c80000gn/T/ipykernel_40576/4022452298.py:87: SettingWithCopyWarning: \n",
      "A value is trying to be set on a copy of a slice from a DataFrame.\n",
      "Try using .loc[row_indexer,col_indexer] = value instead\n",
      "\n",
      "See the caveats in the documentation: https://pandas.pydata.org/pandas-docs/stable/user_guide/indexing.html#returning-a-view-versus-a-copy\n",
      "  tvdf['mile'] = tvdf.apply(lambda row: closest_mile_marker(row['X'], row['Y'], data), axis=1)\n",
      "/var/folders/fz/qwk5rxqs39gcy8h_0lhy47c80000gn/T/ipykernel_40576/4022452298.py:87: SettingWithCopyWarning: \n",
      "A value is trying to be set on a copy of a slice from a DataFrame.\n",
      "Try using .loc[row_indexer,col_indexer] = value instead\n",
      "\n",
      "See the caveats in the documentation: https://pandas.pydata.org/pandas-docs/stable/user_guide/indexing.html#returning-a-view-versus-a-copy\n",
      "  tvdf['mile'] = tvdf.apply(lambda row: closest_mile_marker(row['X'], row['Y'], data), axis=1)\n",
      "/var/folders/fz/qwk5rxqs39gcy8h_0lhy47c80000gn/T/ipykernel_40576/4022452298.py:87: SettingWithCopyWarning: \n",
      "A value is trying to be set on a copy of a slice from a DataFrame.\n",
      "Try using .loc[row_indexer,col_indexer] = value instead\n",
      "\n",
      "See the caveats in the documentation: https://pandas.pydata.org/pandas-docs/stable/user_guide/indexing.html#returning-a-view-versus-a-copy\n",
      "  tvdf['mile'] = tvdf.apply(lambda row: closest_mile_marker(row['X'], row['Y'], data), axis=1)\n",
      "/var/folders/fz/qwk5rxqs39gcy8h_0lhy47c80000gn/T/ipykernel_40576/4022452298.py:87: SettingWithCopyWarning: \n",
      "A value is trying to be set on a copy of a slice from a DataFrame.\n",
      "Try using .loc[row_indexer,col_indexer] = value instead\n",
      "\n",
      "See the caveats in the documentation: https://pandas.pydata.org/pandas-docs/stable/user_guide/indexing.html#returning-a-view-versus-a-copy\n",
      "  tvdf['mile'] = tvdf.apply(lambda row: closest_mile_marker(row['X'], row['Y'], data), axis=1)\n"
     ]
    },
    {
     "name": "stdout",
     "output_type": "stream",
     "text": [
      "FM0534\n",
      "FM1255\n",
      "FM1645\n",
      "FM0088\n",
      "FM1912\n"
     ]
    },
    {
     "name": "stderr",
     "output_type": "stream",
     "text": [
      "/var/folders/fz/qwk5rxqs39gcy8h_0lhy47c80000gn/T/ipykernel_40576/4022452298.py:87: SettingWithCopyWarning: \n",
      "A value is trying to be set on a copy of a slice from a DataFrame.\n",
      "Try using .loc[row_indexer,col_indexer] = value instead\n",
      "\n",
      "See the caveats in the documentation: https://pandas.pydata.org/pandas-docs/stable/user_guide/indexing.html#returning-a-view-versus-a-copy\n",
      "  tvdf['mile'] = tvdf.apply(lambda row: closest_mile_marker(row['X'], row['Y'], data), axis=1)\n",
      "/var/folders/fz/qwk5rxqs39gcy8h_0lhy47c80000gn/T/ipykernel_40576/4022452298.py:87: SettingWithCopyWarning: \n",
      "A value is trying to be set on a copy of a slice from a DataFrame.\n",
      "Try using .loc[row_indexer,col_indexer] = value instead\n",
      "\n",
      "See the caveats in the documentation: https://pandas.pydata.org/pandas-docs/stable/user_guide/indexing.html#returning-a-view-versus-a-copy\n",
      "  tvdf['mile'] = tvdf.apply(lambda row: closest_mile_marker(row['X'], row['Y'], data), axis=1)\n"
     ]
    },
    {
     "name": "stdout",
     "output_type": "stream",
     "text": [
      "US0060\n"
     ]
    },
    {
     "name": "stderr",
     "output_type": "stream",
     "text": [
      "/var/folders/fz/qwk5rxqs39gcy8h_0lhy47c80000gn/T/ipykernel_40576/4022452298.py:87: SettingWithCopyWarning: \n",
      "A value is trying to be set on a copy of a slice from a DataFrame.\n",
      "Try using .loc[row_indexer,col_indexer] = value instead\n",
      "\n",
      "See the caveats in the documentation: https://pandas.pydata.org/pandas-docs/stable/user_guide/indexing.html#returning-a-view-versus-a-copy\n",
      "  tvdf['mile'] = tvdf.apply(lambda row: closest_mile_marker(row['X'], row['Y'], data), axis=1)\n",
      "/var/folders/fz/qwk5rxqs39gcy8h_0lhy47c80000gn/T/ipykernel_40576/4022452298.py:87: SettingWithCopyWarning: \n",
      "A value is trying to be set on a copy of a slice from a DataFrame.\n",
      "Try using .loc[row_indexer,col_indexer] = value instead\n",
      "\n",
      "See the caveats in the documentation: https://pandas.pydata.org/pandas-docs/stable/user_guide/indexing.html#returning-a-view-versus-a-copy\n",
      "  tvdf['mile'] = tvdf.apply(lambda row: closest_mile_marker(row['X'], row['Y'], data), axis=1)\n",
      "/var/folders/fz/qwk5rxqs39gcy8h_0lhy47c80000gn/T/ipykernel_40576/4022452298.py:87: SettingWithCopyWarning: \n",
      "A value is trying to be set on a copy of a slice from a DataFrame.\n",
      "Try using .loc[row_indexer,col_indexer] = value instead\n",
      "\n",
      "See the caveats in the documentation: https://pandas.pydata.org/pandas-docs/stable/user_guide/indexing.html#returning-a-view-versus-a-copy\n",
      "  tvdf['mile'] = tvdf.apply(lambda row: closest_mile_marker(row['X'], row['Y'], data), axis=1)\n",
      "/var/folders/fz/qwk5rxqs39gcy8h_0lhy47c80000gn/T/ipykernel_40576/4022452298.py:87: SettingWithCopyWarning: \n",
      "A value is trying to be set on a copy of a slice from a DataFrame.\n",
      "Try using .loc[row_indexer,col_indexer] = value instead\n",
      "\n",
      "See the caveats in the documentation: https://pandas.pydata.org/pandas-docs/stable/user_guide/indexing.html#returning-a-view-versus-a-copy\n",
      "  tvdf['mile'] = tvdf.apply(lambda row: closest_mile_marker(row['X'], row['Y'], data), axis=1)\n",
      "/var/folders/fz/qwk5rxqs39gcy8h_0lhy47c80000gn/T/ipykernel_40576/4022452298.py:87: SettingWithCopyWarning: \n",
      "A value is trying to be set on a copy of a slice from a DataFrame.\n",
      "Try using .loc[row_indexer,col_indexer] = value instead\n",
      "\n",
      "See the caveats in the documentation: https://pandas.pydata.org/pandas-docs/stable/user_guide/indexing.html#returning-a-view-versus-a-copy\n",
      "  tvdf['mile'] = tvdf.apply(lambda row: closest_mile_marker(row['X'], row['Y'], data), axis=1)\n",
      "/var/folders/fz/qwk5rxqs39gcy8h_0lhy47c80000gn/T/ipykernel_40576/4022452298.py:87: SettingWithCopyWarning: \n",
      "A value is trying to be set on a copy of a slice from a DataFrame.\n",
      "Try using .loc[row_indexer,col_indexer] = value instead\n",
      "\n",
      "See the caveats in the documentation: https://pandas.pydata.org/pandas-docs/stable/user_guide/indexing.html#returning-a-view-versus-a-copy\n",
      "  tvdf['mile'] = tvdf.apply(lambda row: closest_mile_marker(row['X'], row['Y'], data), axis=1)\n"
     ]
    },
    {
     "name": "stdout",
     "output_type": "stream",
     "text": [
      "FM0248\n",
      "SL0143\n",
      "FM1841\n",
      "FM2113\n",
      "FM2393\n",
      "FM0812\n"
     ]
    },
    {
     "name": "stderr",
     "output_type": "stream",
     "text": [
      "/var/folders/fz/qwk5rxqs39gcy8h_0lhy47c80000gn/T/ipykernel_40576/4022452298.py:87: SettingWithCopyWarning: \n",
      "A value is trying to be set on a copy of a slice from a DataFrame.\n",
      "Try using .loc[row_indexer,col_indexer] = value instead\n",
      "\n",
      "See the caveats in the documentation: https://pandas.pydata.org/pandas-docs/stable/user_guide/indexing.html#returning-a-view-versus-a-copy\n",
      "  tvdf['mile'] = tvdf.apply(lambda row: closest_mile_marker(row['X'], row['Y'], data), axis=1)\n",
      "/var/folders/fz/qwk5rxqs39gcy8h_0lhy47c80000gn/T/ipykernel_40576/4022452298.py:87: SettingWithCopyWarning: \n",
      "A value is trying to be set on a copy of a slice from a DataFrame.\n",
      "Try using .loc[row_indexer,col_indexer] = value instead\n",
      "\n",
      "See the caveats in the documentation: https://pandas.pydata.org/pandas-docs/stable/user_guide/indexing.html#returning-a-view-versus-a-copy\n",
      "  tvdf['mile'] = tvdf.apply(lambda row: closest_mile_marker(row['X'], row['Y'], data), axis=1)\n",
      "/var/folders/fz/qwk5rxqs39gcy8h_0lhy47c80000gn/T/ipykernel_40576/4022452298.py:87: SettingWithCopyWarning: \n",
      "A value is trying to be set on a copy of a slice from a DataFrame.\n",
      "Try using .loc[row_indexer,col_indexer] = value instead\n",
      "\n",
      "See the caveats in the documentation: https://pandas.pydata.org/pandas-docs/stable/user_guide/indexing.html#returning-a-view-versus-a-copy\n",
      "  tvdf['mile'] = tvdf.apply(lambda row: closest_mile_marker(row['X'], row['Y'], data), axis=1)\n",
      "/var/folders/fz/qwk5rxqs39gcy8h_0lhy47c80000gn/T/ipykernel_40576/4022452298.py:87: SettingWithCopyWarning: \n",
      "A value is trying to be set on a copy of a slice from a DataFrame.\n",
      "Try using .loc[row_indexer,col_indexer] = value instead\n",
      "\n",
      "See the caveats in the documentation: https://pandas.pydata.org/pandas-docs/stable/user_guide/indexing.html#returning-a-view-versus-a-copy\n",
      "  tvdf['mile'] = tvdf.apply(lambda row: closest_mile_marker(row['X'], row['Y'], data), axis=1)\n",
      "/var/folders/fz/qwk5rxqs39gcy8h_0lhy47c80000gn/T/ipykernel_40576/4022452298.py:87: SettingWithCopyWarning: \n",
      "A value is trying to be set on a copy of a slice from a DataFrame.\n",
      "Try using .loc[row_indexer,col_indexer] = value instead\n",
      "\n",
      "See the caveats in the documentation: https://pandas.pydata.org/pandas-docs/stable/user_guide/indexing.html#returning-a-view-versus-a-copy\n",
      "  tvdf['mile'] = tvdf.apply(lambda row: closest_mile_marker(row['X'], row['Y'], data), axis=1)\n"
     ]
    },
    {
     "name": "stdout",
     "output_type": "stream",
     "text": [
      "SL0287\n",
      "FM0252\n",
      "SL0463\n",
      "FM0979\n",
      "FM2331\n",
      "SH0327\n"
     ]
    },
    {
     "name": "stderr",
     "output_type": "stream",
     "text": [
      "/var/folders/fz/qwk5rxqs39gcy8h_0lhy47c80000gn/T/ipykernel_40576/4022452298.py:87: SettingWithCopyWarning: \n",
      "A value is trying to be set on a copy of a slice from a DataFrame.\n",
      "Try using .loc[row_indexer,col_indexer] = value instead\n",
      "\n",
      "See the caveats in the documentation: https://pandas.pydata.org/pandas-docs/stable/user_guide/indexing.html#returning-a-view-versus-a-copy\n",
      "  tvdf['mile'] = tvdf.apply(lambda row: closest_mile_marker(row['X'], row['Y'], data), axis=1)\n",
      "/var/folders/fz/qwk5rxqs39gcy8h_0lhy47c80000gn/T/ipykernel_40576/4022452298.py:87: SettingWithCopyWarning: \n",
      "A value is trying to be set on a copy of a slice from a DataFrame.\n",
      "Try using .loc[row_indexer,col_indexer] = value instead\n",
      "\n",
      "See the caveats in the documentation: https://pandas.pydata.org/pandas-docs/stable/user_guide/indexing.html#returning-a-view-versus-a-copy\n",
      "  tvdf['mile'] = tvdf.apply(lambda row: closest_mile_marker(row['X'], row['Y'], data), axis=1)\n",
      "/var/folders/fz/qwk5rxqs39gcy8h_0lhy47c80000gn/T/ipykernel_40576/4022452298.py:87: SettingWithCopyWarning: \n",
      "A value is trying to be set on a copy of a slice from a DataFrame.\n",
      "Try using .loc[row_indexer,col_indexer] = value instead\n",
      "\n",
      "See the caveats in the documentation: https://pandas.pydata.org/pandas-docs/stable/user_guide/indexing.html#returning-a-view-versus-a-copy\n",
      "  tvdf['mile'] = tvdf.apply(lambda row: closest_mile_marker(row['X'], row['Y'], data), axis=1)\n",
      "/var/folders/fz/qwk5rxqs39gcy8h_0lhy47c80000gn/T/ipykernel_40576/4022452298.py:87: SettingWithCopyWarning: \n",
      "A value is trying to be set on a copy of a slice from a DataFrame.\n",
      "Try using .loc[row_indexer,col_indexer] = value instead\n",
      "\n",
      "See the caveats in the documentation: https://pandas.pydata.org/pandas-docs/stable/user_guide/indexing.html#returning-a-view-versus-a-copy\n",
      "  tvdf['mile'] = tvdf.apply(lambda row: closest_mile_marker(row['X'], row['Y'], data), axis=1)\n",
      "/var/folders/fz/qwk5rxqs39gcy8h_0lhy47c80000gn/T/ipykernel_40576/4022452298.py:87: SettingWithCopyWarning: \n",
      "A value is trying to be set on a copy of a slice from a DataFrame.\n",
      "Try using .loc[row_indexer,col_indexer] = value instead\n",
      "\n",
      "See the caveats in the documentation: https://pandas.pydata.org/pandas-docs/stable/user_guide/indexing.html#returning-a-view-versus-a-copy\n",
      "  tvdf['mile'] = tvdf.apply(lambda row: closest_mile_marker(row['X'], row['Y'], data), axis=1)\n",
      "/var/folders/fz/qwk5rxqs39gcy8h_0lhy47c80000gn/T/ipykernel_40576/4022452298.py:87: SettingWithCopyWarning: \n",
      "A value is trying to be set on a copy of a slice from a DataFrame.\n",
      "Try using .loc[row_indexer,col_indexer] = value instead\n",
      "\n",
      "See the caveats in the documentation: https://pandas.pydata.org/pandas-docs/stable/user_guide/indexing.html#returning-a-view-versus-a-copy\n",
      "  tvdf['mile'] = tvdf.apply(lambda row: closest_mile_marker(row['X'], row['Y'], data), axis=1)\n"
     ]
    },
    {
     "name": "stdout",
     "output_type": "stream",
     "text": [
      "FM1827\n",
      "FM1816\n",
      "FM3126\n",
      "FM1847\n",
      "FM0109\n"
     ]
    },
    {
     "name": "stderr",
     "output_type": "stream",
     "text": [
      "/var/folders/fz/qwk5rxqs39gcy8h_0lhy47c80000gn/T/ipykernel_40576/4022452298.py:87: SettingWithCopyWarning: \n",
      "A value is trying to be set on a copy of a slice from a DataFrame.\n",
      "Try using .loc[row_indexer,col_indexer] = value instead\n",
      "\n",
      "See the caveats in the documentation: https://pandas.pydata.org/pandas-docs/stable/user_guide/indexing.html#returning-a-view-versus-a-copy\n",
      "  tvdf['mile'] = tvdf.apply(lambda row: closest_mile_marker(row['X'], row['Y'], data), axis=1)\n",
      "/var/folders/fz/qwk5rxqs39gcy8h_0lhy47c80000gn/T/ipykernel_40576/4022452298.py:87: SettingWithCopyWarning: \n",
      "A value is trying to be set on a copy of a slice from a DataFrame.\n",
      "Try using .loc[row_indexer,col_indexer] = value instead\n",
      "\n",
      "See the caveats in the documentation: https://pandas.pydata.org/pandas-docs/stable/user_guide/indexing.html#returning-a-view-versus-a-copy\n",
      "  tvdf['mile'] = tvdf.apply(lambda row: closest_mile_marker(row['X'], row['Y'], data), axis=1)\n"
     ]
    },
    {
     "name": "stdout",
     "output_type": "stream",
     "text": [
      "FM0067\n",
      "IH0820\n",
      "FM0907\n"
     ]
    },
    {
     "name": "stderr",
     "output_type": "stream",
     "text": [
      "/var/folders/fz/qwk5rxqs39gcy8h_0lhy47c80000gn/T/ipykernel_40576/4022452298.py:87: SettingWithCopyWarning: \n",
      "A value is trying to be set on a copy of a slice from a DataFrame.\n",
      "Try using .loc[row_indexer,col_indexer] = value instead\n",
      "\n",
      "See the caveats in the documentation: https://pandas.pydata.org/pandas-docs/stable/user_guide/indexing.html#returning-a-view-versus-a-copy\n",
      "  tvdf['mile'] = tvdf.apply(lambda row: closest_mile_marker(row['X'], row['Y'], data), axis=1)\n",
      "/var/folders/fz/qwk5rxqs39gcy8h_0lhy47c80000gn/T/ipykernel_40576/4022452298.py:87: SettingWithCopyWarning: \n",
      "A value is trying to be set on a copy of a slice from a DataFrame.\n",
      "Try using .loc[row_indexer,col_indexer] = value instead\n",
      "\n",
      "See the caveats in the documentation: https://pandas.pydata.org/pandas-docs/stable/user_guide/indexing.html#returning-a-view-versus-a-copy\n",
      "  tvdf['mile'] = tvdf.apply(lambda row: closest_mile_marker(row['X'], row['Y'], data), axis=1)\n",
      "/var/folders/fz/qwk5rxqs39gcy8h_0lhy47c80000gn/T/ipykernel_40576/4022452298.py:87: SettingWithCopyWarning: \n",
      "A value is trying to be set on a copy of a slice from a DataFrame.\n",
      "Try using .loc[row_indexer,col_indexer] = value instead\n",
      "\n",
      "See the caveats in the documentation: https://pandas.pydata.org/pandas-docs/stable/user_guide/indexing.html#returning-a-view-versus-a-copy\n",
      "  tvdf['mile'] = tvdf.apply(lambda row: closest_mile_marker(row['X'], row['Y'], data), axis=1)\n"
     ]
    },
    {
     "name": "stdout",
     "output_type": "stream",
     "text": [
      "FM3053\n",
      "FM0193\n",
      "SH0111\n"
     ]
    },
    {
     "name": "stderr",
     "output_type": "stream",
     "text": [
      "/var/folders/fz/qwk5rxqs39gcy8h_0lhy47c80000gn/T/ipykernel_40576/4022452298.py:87: SettingWithCopyWarning: \n",
      "A value is trying to be set on a copy of a slice from a DataFrame.\n",
      "Try using .loc[row_indexer,col_indexer] = value instead\n",
      "\n",
      "See the caveats in the documentation: https://pandas.pydata.org/pandas-docs/stable/user_guide/indexing.html#returning-a-view-versus-a-copy\n",
      "  tvdf['mile'] = tvdf.apply(lambda row: closest_mile_marker(row['X'], row['Y'], data), axis=1)\n",
      "/var/folders/fz/qwk5rxqs39gcy8h_0lhy47c80000gn/T/ipykernel_40576/4022452298.py:87: SettingWithCopyWarning: \n",
      "A value is trying to be set on a copy of a slice from a DataFrame.\n",
      "Try using .loc[row_indexer,col_indexer] = value instead\n",
      "\n",
      "See the caveats in the documentation: https://pandas.pydata.org/pandas-docs/stable/user_guide/indexing.html#returning-a-view-versus-a-copy\n",
      "  tvdf['mile'] = tvdf.apply(lambda row: closest_mile_marker(row['X'], row['Y'], data), axis=1)\n",
      "/var/folders/fz/qwk5rxqs39gcy8h_0lhy47c80000gn/T/ipykernel_40576/4022452298.py:87: SettingWithCopyWarning: \n",
      "A value is trying to be set on a copy of a slice from a DataFrame.\n",
      "Try using .loc[row_indexer,col_indexer] = value instead\n",
      "\n",
      "See the caveats in the documentation: https://pandas.pydata.org/pandas-docs/stable/user_guide/indexing.html#returning-a-view-versus-a-copy\n",
      "  tvdf['mile'] = tvdf.apply(lambda row: closest_mile_marker(row['X'], row['Y'], data), axis=1)\n",
      "/var/folders/fz/qwk5rxqs39gcy8h_0lhy47c80000gn/T/ipykernel_40576/4022452298.py:87: SettingWithCopyWarning: \n",
      "A value is trying to be set on a copy of a slice from a DataFrame.\n",
      "Try using .loc[row_indexer,col_indexer] = value instead\n",
      "\n",
      "See the caveats in the documentation: https://pandas.pydata.org/pandas-docs/stable/user_guide/indexing.html#returning-a-view-versus-a-copy\n",
      "  tvdf['mile'] = tvdf.apply(lambda row: closest_mile_marker(row['X'], row['Y'], data), axis=1)\n"
     ]
    },
    {
     "name": "stdout",
     "output_type": "stream",
     "text": [
      "SH0100\n",
      "FM0144\n",
      "FM1053\n",
      "SH0064\n"
     ]
    },
    {
     "name": "stderr",
     "output_type": "stream",
     "text": [
      "/var/folders/fz/qwk5rxqs39gcy8h_0lhy47c80000gn/T/ipykernel_40576/4022452298.py:87: SettingWithCopyWarning: \n",
      "A value is trying to be set on a copy of a slice from a DataFrame.\n",
      "Try using .loc[row_indexer,col_indexer] = value instead\n",
      "\n",
      "See the caveats in the documentation: https://pandas.pydata.org/pandas-docs/stable/user_guide/indexing.html#returning-a-view-versus-a-copy\n",
      "  tvdf['mile'] = tvdf.apply(lambda row: closest_mile_marker(row['X'], row['Y'], data), axis=1)\n",
      "/var/folders/fz/qwk5rxqs39gcy8h_0lhy47c80000gn/T/ipykernel_40576/4022452298.py:87: SettingWithCopyWarning: \n",
      "A value is trying to be set on a copy of a slice from a DataFrame.\n",
      "Try using .loc[row_indexer,col_indexer] = value instead\n",
      "\n",
      "See the caveats in the documentation: https://pandas.pydata.org/pandas-docs/stable/user_guide/indexing.html#returning-a-view-versus-a-copy\n",
      "  tvdf['mile'] = tvdf.apply(lambda row: closest_mile_marker(row['X'], row['Y'], data), axis=1)\n"
     ]
    },
    {
     "name": "stdout",
     "output_type": "stream",
     "text": [
      "FM0303\n"
     ]
    },
    {
     "name": "stderr",
     "output_type": "stream",
     "text": [
      "/var/folders/fz/qwk5rxqs39gcy8h_0lhy47c80000gn/T/ipykernel_40576/4022452298.py:87: SettingWithCopyWarning: \n",
      "A value is trying to be set on a copy of a slice from a DataFrame.\n",
      "Try using .loc[row_indexer,col_indexer] = value instead\n",
      "\n",
      "See the caveats in the documentation: https://pandas.pydata.org/pandas-docs/stable/user_guide/indexing.html#returning-a-view-versus-a-copy\n",
      "  tvdf['mile'] = tvdf.apply(lambda row: closest_mile_marker(row['X'], row['Y'], data), axis=1)\n",
      "/var/folders/fz/qwk5rxqs39gcy8h_0lhy47c80000gn/T/ipykernel_40576/4022452298.py:87: SettingWithCopyWarning: \n",
      "A value is trying to be set on a copy of a slice from a DataFrame.\n",
      "Try using .loc[row_indexer,col_indexer] = value instead\n",
      "\n",
      "See the caveats in the documentation: https://pandas.pydata.org/pandas-docs/stable/user_guide/indexing.html#returning-a-view-versus-a-copy\n",
      "  tvdf['mile'] = tvdf.apply(lambda row: closest_mile_marker(row['X'], row['Y'], data), axis=1)\n",
      "/var/folders/fz/qwk5rxqs39gcy8h_0lhy47c80000gn/T/ipykernel_40576/4022452298.py:87: SettingWithCopyWarning: \n",
      "A value is trying to be set on a copy of a slice from a DataFrame.\n",
      "Try using .loc[row_indexer,col_indexer] = value instead\n",
      "\n",
      "See the caveats in the documentation: https://pandas.pydata.org/pandas-docs/stable/user_guide/indexing.html#returning-a-view-versus-a-copy\n",
      "  tvdf['mile'] = tvdf.apply(lambda row: closest_mile_marker(row['X'], row['Y'], data), axis=1)\n",
      "/var/folders/fz/qwk5rxqs39gcy8h_0lhy47c80000gn/T/ipykernel_40576/4022452298.py:87: SettingWithCopyWarning: \n",
      "A value is trying to be set on a copy of a slice from a DataFrame.\n",
      "Try using .loc[row_indexer,col_indexer] = value instead\n",
      "\n",
      "See the caveats in the documentation: https://pandas.pydata.org/pandas-docs/stable/user_guide/indexing.html#returning-a-view-versus-a-copy\n",
      "  tvdf['mile'] = tvdf.apply(lambda row: closest_mile_marker(row['X'], row['Y'], data), axis=1)\n"
     ]
    },
    {
     "name": "stdout",
     "output_type": "stream",
     "text": [
      "FM2255\n",
      "FM2212\n",
      "FM0116\n",
      "US0087\n"
     ]
    },
    {
     "name": "stderr",
     "output_type": "stream",
     "text": [
      "/var/folders/fz/qwk5rxqs39gcy8h_0lhy47c80000gn/T/ipykernel_40576/4022452298.py:87: SettingWithCopyWarning: \n",
      "A value is trying to be set on a copy of a slice from a DataFrame.\n",
      "Try using .loc[row_indexer,col_indexer] = value instead\n",
      "\n",
      "See the caveats in the documentation: https://pandas.pydata.org/pandas-docs/stable/user_guide/indexing.html#returning-a-view-versus-a-copy\n",
      "  tvdf['mile'] = tvdf.apply(lambda row: closest_mile_marker(row['X'], row['Y'], data), axis=1)\n",
      "/var/folders/fz/qwk5rxqs39gcy8h_0lhy47c80000gn/T/ipykernel_40576/4022452298.py:87: SettingWithCopyWarning: \n",
      "A value is trying to be set on a copy of a slice from a DataFrame.\n",
      "Try using .loc[row_indexer,col_indexer] = value instead\n",
      "\n",
      "See the caveats in the documentation: https://pandas.pydata.org/pandas-docs/stable/user_guide/indexing.html#returning-a-view-versus-a-copy\n",
      "  tvdf['mile'] = tvdf.apply(lambda row: closest_mile_marker(row['X'], row['Y'], data), axis=1)\n",
      "/var/folders/fz/qwk5rxqs39gcy8h_0lhy47c80000gn/T/ipykernel_40576/4022452298.py:87: SettingWithCopyWarning: \n",
      "A value is trying to be set on a copy of a slice from a DataFrame.\n",
      "Try using .loc[row_indexer,col_indexer] = value instead\n",
      "\n",
      "See the caveats in the documentation: https://pandas.pydata.org/pandas-docs/stable/user_guide/indexing.html#returning-a-view-versus-a-copy\n",
      "  tvdf['mile'] = tvdf.apply(lambda row: closest_mile_marker(row['X'], row['Y'], data), axis=1)\n",
      "/var/folders/fz/qwk5rxqs39gcy8h_0lhy47c80000gn/T/ipykernel_40576/4022452298.py:87: SettingWithCopyWarning: \n",
      "A value is trying to be set on a copy of a slice from a DataFrame.\n",
      "Try using .loc[row_indexer,col_indexer] = value instead\n",
      "\n",
      "See the caveats in the documentation: https://pandas.pydata.org/pandas-docs/stable/user_guide/indexing.html#returning-a-view-versus-a-copy\n",
      "  tvdf['mile'] = tvdf.apply(lambda row: closest_mile_marker(row['X'], row['Y'], data), axis=1)\n",
      "/var/folders/fz/qwk5rxqs39gcy8h_0lhy47c80000gn/T/ipykernel_40576/4022452298.py:87: SettingWithCopyWarning: \n",
      "A value is trying to be set on a copy of a slice from a DataFrame.\n",
      "Try using .loc[row_indexer,col_indexer] = value instead\n",
      "\n",
      "See the caveats in the documentation: https://pandas.pydata.org/pandas-docs/stable/user_guide/indexing.html#returning-a-view-versus-a-copy\n",
      "  tvdf['mile'] = tvdf.apply(lambda row: closest_mile_marker(row['X'], row['Y'], data), axis=1)\n"
     ]
    },
    {
     "name": "stdout",
     "output_type": "stream",
     "text": [
      "FM0476\n",
      "SH0090\n",
      "FM2410\n",
      "IH0369\n",
      "FM2133\n"
     ]
    },
    {
     "name": "stderr",
     "output_type": "stream",
     "text": [
      "/var/folders/fz/qwk5rxqs39gcy8h_0lhy47c80000gn/T/ipykernel_40576/4022452298.py:87: SettingWithCopyWarning: \n",
      "A value is trying to be set on a copy of a slice from a DataFrame.\n",
      "Try using .loc[row_indexer,col_indexer] = value instead\n",
      "\n",
      "See the caveats in the documentation: https://pandas.pydata.org/pandas-docs/stable/user_guide/indexing.html#returning-a-view-versus-a-copy\n",
      "  tvdf['mile'] = tvdf.apply(lambda row: closest_mile_marker(row['X'], row['Y'], data), axis=1)\n",
      "/var/folders/fz/qwk5rxqs39gcy8h_0lhy47c80000gn/T/ipykernel_40576/4022452298.py:87: SettingWithCopyWarning: \n",
      "A value is trying to be set on a copy of a slice from a DataFrame.\n",
      "Try using .loc[row_indexer,col_indexer] = value instead\n",
      "\n",
      "See the caveats in the documentation: https://pandas.pydata.org/pandas-docs/stable/user_guide/indexing.html#returning-a-view-versus-a-copy\n",
      "  tvdf['mile'] = tvdf.apply(lambda row: closest_mile_marker(row['X'], row['Y'], data), axis=1)\n"
     ]
    },
    {
     "name": "stdout",
     "output_type": "stream",
     "text": [
      "FM1151\n",
      "SH0199\n"
     ]
    },
    {
     "name": "stderr",
     "output_type": "stream",
     "text": [
      "/var/folders/fz/qwk5rxqs39gcy8h_0lhy47c80000gn/T/ipykernel_40576/4022452298.py:87: SettingWithCopyWarning: \n",
      "A value is trying to be set on a copy of a slice from a DataFrame.\n",
      "Try using .loc[row_indexer,col_indexer] = value instead\n",
      "\n",
      "See the caveats in the documentation: https://pandas.pydata.org/pandas-docs/stable/user_guide/indexing.html#returning-a-view-versus-a-copy\n",
      "  tvdf['mile'] = tvdf.apply(lambda row: closest_mile_marker(row['X'], row['Y'], data), axis=1)\n"
     ]
    },
    {
     "name": "stdout",
     "output_type": "stream",
     "text": [
      "SH0155\n"
     ]
    },
    {
     "name": "stderr",
     "output_type": "stream",
     "text": [
      "/var/folders/fz/qwk5rxqs39gcy8h_0lhy47c80000gn/T/ipykernel_40576/4022452298.py:87: SettingWithCopyWarning: \n",
      "A value is trying to be set on a copy of a slice from a DataFrame.\n",
      "Try using .loc[row_indexer,col_indexer] = value instead\n",
      "\n",
      "See the caveats in the documentation: https://pandas.pydata.org/pandas-docs/stable/user_guide/indexing.html#returning-a-view-versus-a-copy\n",
      "  tvdf['mile'] = tvdf.apply(lambda row: closest_mile_marker(row['X'], row['Y'], data), axis=1)\n",
      "/var/folders/fz/qwk5rxqs39gcy8h_0lhy47c80000gn/T/ipykernel_40576/4022452298.py:87: SettingWithCopyWarning: \n",
      "A value is trying to be set on a copy of a slice from a DataFrame.\n",
      "Try using .loc[row_indexer,col_indexer] = value instead\n",
      "\n",
      "See the caveats in the documentation: https://pandas.pydata.org/pandas-docs/stable/user_guide/indexing.html#returning-a-view-versus-a-copy\n",
      "  tvdf['mile'] = tvdf.apply(lambda row: closest_mile_marker(row['X'], row['Y'], data), axis=1)\n",
      "/var/folders/fz/qwk5rxqs39gcy8h_0lhy47c80000gn/T/ipykernel_40576/4022452298.py:87: SettingWithCopyWarning: \n",
      "A value is trying to be set on a copy of a slice from a DataFrame.\n",
      "Try using .loc[row_indexer,col_indexer] = value instead\n",
      "\n",
      "See the caveats in the documentation: https://pandas.pydata.org/pandas-docs/stable/user_guide/indexing.html#returning-a-view-versus-a-copy\n",
      "  tvdf['mile'] = tvdf.apply(lambda row: closest_mile_marker(row['X'], row['Y'], data), axis=1)\n",
      "/var/folders/fz/qwk5rxqs39gcy8h_0lhy47c80000gn/T/ipykernel_40576/4022452298.py:87: SettingWithCopyWarning: \n",
      "A value is trying to be set on a copy of a slice from a DataFrame.\n",
      "Try using .loc[row_indexer,col_indexer] = value instead\n",
      "\n",
      "See the caveats in the documentation: https://pandas.pydata.org/pandas-docs/stable/user_guide/indexing.html#returning-a-view-versus-a-copy\n",
      "  tvdf['mile'] = tvdf.apply(lambda row: closest_mile_marker(row['X'], row['Y'], data), axis=1)\n",
      "/var/folders/fz/qwk5rxqs39gcy8h_0lhy47c80000gn/T/ipykernel_40576/4022452298.py:87: SettingWithCopyWarning: \n",
      "A value is trying to be set on a copy of a slice from a DataFrame.\n",
      "Try using .loc[row_indexer,col_indexer] = value instead\n",
      "\n",
      "See the caveats in the documentation: https://pandas.pydata.org/pandas-docs/stable/user_guide/indexing.html#returning-a-view-versus-a-copy\n",
      "  tvdf['mile'] = tvdf.apply(lambda row: closest_mile_marker(row['X'], row['Y'], data), axis=1)\n",
      "/var/folders/fz/qwk5rxqs39gcy8h_0lhy47c80000gn/T/ipykernel_40576/4022452298.py:87: SettingWithCopyWarning: \n",
      "A value is trying to be set on a copy of a slice from a DataFrame.\n",
      "Try using .loc[row_indexer,col_indexer] = value instead\n",
      "\n",
      "See the caveats in the documentation: https://pandas.pydata.org/pandas-docs/stable/user_guide/indexing.html#returning-a-view-versus-a-copy\n",
      "  tvdf['mile'] = tvdf.apply(lambda row: closest_mile_marker(row['X'], row['Y'], data), axis=1)\n"
     ]
    },
    {
     "name": "stdout",
     "output_type": "stream",
     "text": [
      "FM3013\n",
      "FM2833\n",
      "FM0751\n",
      "FM1082\n",
      "FM0613\n",
      "FM1425\n"
     ]
    },
    {
     "name": "stderr",
     "output_type": "stream",
     "text": [
      "/var/folders/fz/qwk5rxqs39gcy8h_0lhy47c80000gn/T/ipykernel_40576/4022452298.py:87: SettingWithCopyWarning: \n",
      "A value is trying to be set on a copy of a slice from a DataFrame.\n",
      "Try using .loc[row_indexer,col_indexer] = value instead\n",
      "\n",
      "See the caveats in the documentation: https://pandas.pydata.org/pandas-docs/stable/user_guide/indexing.html#returning-a-view-versus-a-copy\n",
      "  tvdf['mile'] = tvdf.apply(lambda row: closest_mile_marker(row['X'], row['Y'], data), axis=1)\n",
      "/var/folders/fz/qwk5rxqs39gcy8h_0lhy47c80000gn/T/ipykernel_40576/4022452298.py:87: SettingWithCopyWarning: \n",
      "A value is trying to be set on a copy of a slice from a DataFrame.\n",
      "Try using .loc[row_indexer,col_indexer] = value instead\n",
      "\n",
      "See the caveats in the documentation: https://pandas.pydata.org/pandas-docs/stable/user_guide/indexing.html#returning-a-view-versus-a-copy\n",
      "  tvdf['mile'] = tvdf.apply(lambda row: closest_mile_marker(row['X'], row['Y'], data), axis=1)\n",
      "/var/folders/fz/qwk5rxqs39gcy8h_0lhy47c80000gn/T/ipykernel_40576/4022452298.py:87: SettingWithCopyWarning: \n",
      "A value is trying to be set on a copy of a slice from a DataFrame.\n",
      "Try using .loc[row_indexer,col_indexer] = value instead\n",
      "\n",
      "See the caveats in the documentation: https://pandas.pydata.org/pandas-docs/stable/user_guide/indexing.html#returning-a-view-versus-a-copy\n",
      "  tvdf['mile'] = tvdf.apply(lambda row: closest_mile_marker(row['X'], row['Y'], data), axis=1)\n",
      "/var/folders/fz/qwk5rxqs39gcy8h_0lhy47c80000gn/T/ipykernel_40576/4022452298.py:87: SettingWithCopyWarning: \n",
      "A value is trying to be set on a copy of a slice from a DataFrame.\n",
      "Try using .loc[row_indexer,col_indexer] = value instead\n",
      "\n",
      "See the caveats in the documentation: https://pandas.pydata.org/pandas-docs/stable/user_guide/indexing.html#returning-a-view-versus-a-copy\n",
      "  tvdf['mile'] = tvdf.apply(lambda row: closest_mile_marker(row['X'], row['Y'], data), axis=1)\n",
      "/var/folders/fz/qwk5rxqs39gcy8h_0lhy47c80000gn/T/ipykernel_40576/4022452298.py:87: SettingWithCopyWarning: \n",
      "A value is trying to be set on a copy of a slice from a DataFrame.\n",
      "Try using .loc[row_indexer,col_indexer] = value instead\n",
      "\n",
      "See the caveats in the documentation: https://pandas.pydata.org/pandas-docs/stable/user_guide/indexing.html#returning-a-view-versus-a-copy\n",
      "  tvdf['mile'] = tvdf.apply(lambda row: closest_mile_marker(row['X'], row['Y'], data), axis=1)\n",
      "/var/folders/fz/qwk5rxqs39gcy8h_0lhy47c80000gn/T/ipykernel_40576/4022452298.py:87: SettingWithCopyWarning: \n",
      "A value is trying to be set on a copy of a slice from a DataFrame.\n",
      "Try using .loc[row_indexer,col_indexer] = value instead\n",
      "\n",
      "See the caveats in the documentation: https://pandas.pydata.org/pandas-docs/stable/user_guide/indexing.html#returning-a-view-versus-a-copy\n",
      "  tvdf['mile'] = tvdf.apply(lambda row: closest_mile_marker(row['X'], row['Y'], data), axis=1)\n"
     ]
    },
    {
     "name": "stdout",
     "output_type": "stream",
     "text": [
      "SH0286\n",
      "FM0349\n",
      "FM1570\n",
      "FM0324\n",
      "SL0564\n",
      "FM0920\n"
     ]
    },
    {
     "name": "stderr",
     "output_type": "stream",
     "text": [
      "/var/folders/fz/qwk5rxqs39gcy8h_0lhy47c80000gn/T/ipykernel_40576/4022452298.py:87: SettingWithCopyWarning: \n",
      "A value is trying to be set on a copy of a slice from a DataFrame.\n",
      "Try using .loc[row_indexer,col_indexer] = value instead\n",
      "\n",
      "See the caveats in the documentation: https://pandas.pydata.org/pandas-docs/stable/user_guide/indexing.html#returning-a-view-versus-a-copy\n",
      "  tvdf['mile'] = tvdf.apply(lambda row: closest_mile_marker(row['X'], row['Y'], data), axis=1)\n",
      "/var/folders/fz/qwk5rxqs39gcy8h_0lhy47c80000gn/T/ipykernel_40576/4022452298.py:87: SettingWithCopyWarning: \n",
      "A value is trying to be set on a copy of a slice from a DataFrame.\n",
      "Try using .loc[row_indexer,col_indexer] = value instead\n",
      "\n",
      "See the caveats in the documentation: https://pandas.pydata.org/pandas-docs/stable/user_guide/indexing.html#returning-a-view-versus-a-copy\n",
      "  tvdf['mile'] = tvdf.apply(lambda row: closest_mile_marker(row['X'], row['Y'], data), axis=1)\n"
     ]
    },
    {
     "name": "stdout",
     "output_type": "stream",
     "text": [
      "FM0775\n",
      "US0083\n"
     ]
    },
    {
     "name": "stderr",
     "output_type": "stream",
     "text": [
      "/var/folders/fz/qwk5rxqs39gcy8h_0lhy47c80000gn/T/ipykernel_40576/4022452298.py:87: SettingWithCopyWarning: \n",
      "A value is trying to be set on a copy of a slice from a DataFrame.\n",
      "Try using .loc[row_indexer,col_indexer] = value instead\n",
      "\n",
      "See the caveats in the documentation: https://pandas.pydata.org/pandas-docs/stable/user_guide/indexing.html#returning-a-view-versus-a-copy\n",
      "  tvdf['mile'] = tvdf.apply(lambda row: closest_mile_marker(row['X'], row['Y'], data), axis=1)\n",
      "/var/folders/fz/qwk5rxqs39gcy8h_0lhy47c80000gn/T/ipykernel_40576/4022452298.py:87: SettingWithCopyWarning: \n",
      "A value is trying to be set on a copy of a slice from a DataFrame.\n",
      "Try using .loc[row_indexer,col_indexer] = value instead\n",
      "\n",
      "See the caveats in the documentation: https://pandas.pydata.org/pandas-docs/stable/user_guide/indexing.html#returning-a-view-versus-a-copy\n",
      "  tvdf['mile'] = tvdf.apply(lambda row: closest_mile_marker(row['X'], row['Y'], data), axis=1)\n",
      "/var/folders/fz/qwk5rxqs39gcy8h_0lhy47c80000gn/T/ipykernel_40576/4022452298.py:87: SettingWithCopyWarning: \n",
      "A value is trying to be set on a copy of a slice from a DataFrame.\n",
      "Try using .loc[row_indexer,col_indexer] = value instead\n",
      "\n",
      "See the caveats in the documentation: https://pandas.pydata.org/pandas-docs/stable/user_guide/indexing.html#returning-a-view-versus-a-copy\n",
      "  tvdf['mile'] = tvdf.apply(lambda row: closest_mile_marker(row['X'], row['Y'], data), axis=1)\n",
      "/var/folders/fz/qwk5rxqs39gcy8h_0lhy47c80000gn/T/ipykernel_40576/4022452298.py:87: SettingWithCopyWarning: \n",
      "A value is trying to be set on a copy of a slice from a DataFrame.\n",
      "Try using .loc[row_indexer,col_indexer] = value instead\n",
      "\n",
      "See the caveats in the documentation: https://pandas.pydata.org/pandas-docs/stable/user_guide/indexing.html#returning-a-view-versus-a-copy\n",
      "  tvdf['mile'] = tvdf.apply(lambda row: closest_mile_marker(row['X'], row['Y'], data), axis=1)\n",
      "/var/folders/fz/qwk5rxqs39gcy8h_0lhy47c80000gn/T/ipykernel_40576/4022452298.py:87: SettingWithCopyWarning: \n",
      "A value is trying to be set on a copy of a slice from a DataFrame.\n",
      "Try using .loc[row_indexer,col_indexer] = value instead\n",
      "\n",
      "See the caveats in the documentation: https://pandas.pydata.org/pandas-docs/stable/user_guide/indexing.html#returning-a-view-versus-a-copy\n",
      "  tvdf['mile'] = tvdf.apply(lambda row: closest_mile_marker(row['X'], row['Y'], data), axis=1)\n"
     ]
    },
    {
     "name": "stdout",
     "output_type": "stream",
     "text": [
      "FM1936\n",
      "FM0234\n",
      "FM0450\n",
      "FM0437\n",
      "FM1753\n"
     ]
    },
    {
     "name": "stderr",
     "output_type": "stream",
     "text": [
      "/var/folders/fz/qwk5rxqs39gcy8h_0lhy47c80000gn/T/ipykernel_40576/4022452298.py:87: SettingWithCopyWarning: \n",
      "A value is trying to be set on a copy of a slice from a DataFrame.\n",
      "Try using .loc[row_indexer,col_indexer] = value instead\n",
      "\n",
      "See the caveats in the documentation: https://pandas.pydata.org/pandas-docs/stable/user_guide/indexing.html#returning-a-view-versus-a-copy\n",
      "  tvdf['mile'] = tvdf.apply(lambda row: closest_mile_marker(row['X'], row['Y'], data), axis=1)\n",
      "/var/folders/fz/qwk5rxqs39gcy8h_0lhy47c80000gn/T/ipykernel_40576/4022452298.py:87: SettingWithCopyWarning: \n",
      "A value is trying to be set on a copy of a slice from a DataFrame.\n",
      "Try using .loc[row_indexer,col_indexer] = value instead\n",
      "\n",
      "See the caveats in the documentation: https://pandas.pydata.org/pandas-docs/stable/user_guide/indexing.html#returning-a-view-versus-a-copy\n",
      "  tvdf['mile'] = tvdf.apply(lambda row: closest_mile_marker(row['X'], row['Y'], data), axis=1)\n"
     ]
    },
    {
     "name": "stdout",
     "output_type": "stream",
     "text": [
      "FM0535\n",
      "US0181\n"
     ]
    },
    {
     "name": "stderr",
     "output_type": "stream",
     "text": [
      "/var/folders/fz/qwk5rxqs39gcy8h_0lhy47c80000gn/T/ipykernel_40576/4022452298.py:87: SettingWithCopyWarning: \n",
      "A value is trying to be set on a copy of a slice from a DataFrame.\n",
      "Try using .loc[row_indexer,col_indexer] = value instead\n",
      "\n",
      "See the caveats in the documentation: https://pandas.pydata.org/pandas-docs/stable/user_guide/indexing.html#returning-a-view-versus-a-copy\n",
      "  tvdf['mile'] = tvdf.apply(lambda row: closest_mile_marker(row['X'], row['Y'], data), axis=1)\n",
      "/var/folders/fz/qwk5rxqs39gcy8h_0lhy47c80000gn/T/ipykernel_40576/4022452298.py:87: SettingWithCopyWarning: \n",
      "A value is trying to be set on a copy of a slice from a DataFrame.\n",
      "Try using .loc[row_indexer,col_indexer] = value instead\n",
      "\n",
      "See the caveats in the documentation: https://pandas.pydata.org/pandas-docs/stable/user_guide/indexing.html#returning-a-view-versus-a-copy\n",
      "  tvdf['mile'] = tvdf.apply(lambda row: closest_mile_marker(row['X'], row['Y'], data), axis=1)\n",
      "/var/folders/fz/qwk5rxqs39gcy8h_0lhy47c80000gn/T/ipykernel_40576/4022452298.py:87: SettingWithCopyWarning: \n",
      "A value is trying to be set on a copy of a slice from a DataFrame.\n",
      "Try using .loc[row_indexer,col_indexer] = value instead\n",
      "\n",
      "See the caveats in the documentation: https://pandas.pydata.org/pandas-docs/stable/user_guide/indexing.html#returning-a-view-versus-a-copy\n",
      "  tvdf['mile'] = tvdf.apply(lambda row: closest_mile_marker(row['X'], row['Y'], data), axis=1)\n",
      "/var/folders/fz/qwk5rxqs39gcy8h_0lhy47c80000gn/T/ipykernel_40576/4022452298.py:87: SettingWithCopyWarning: \n",
      "A value is trying to be set on a copy of a slice from a DataFrame.\n",
      "Try using .loc[row_indexer,col_indexer] = value instead\n",
      "\n",
      "See the caveats in the documentation: https://pandas.pydata.org/pandas-docs/stable/user_guide/indexing.html#returning-a-view-versus-a-copy\n",
      "  tvdf['mile'] = tvdf.apply(lambda row: closest_mile_marker(row['X'], row['Y'], data), axis=1)\n",
      "/var/folders/fz/qwk5rxqs39gcy8h_0lhy47c80000gn/T/ipykernel_40576/4022452298.py:87: SettingWithCopyWarning: \n",
      "A value is trying to be set on a copy of a slice from a DataFrame.\n",
      "Try using .loc[row_indexer,col_indexer] = value instead\n",
      "\n",
      "See the caveats in the documentation: https://pandas.pydata.org/pandas-docs/stable/user_guide/indexing.html#returning-a-view-versus-a-copy\n",
      "  tvdf['mile'] = tvdf.apply(lambda row: closest_mile_marker(row['X'], row['Y'], data), axis=1)\n",
      "/var/folders/fz/qwk5rxqs39gcy8h_0lhy47c80000gn/T/ipykernel_40576/4022452298.py:87: SettingWithCopyWarning: \n",
      "A value is trying to be set on a copy of a slice from a DataFrame.\n",
      "Try using .loc[row_indexer,col_indexer] = value instead\n",
      "\n",
      "See the caveats in the documentation: https://pandas.pydata.org/pandas-docs/stable/user_guide/indexing.html#returning-a-view-versus-a-copy\n",
      "  tvdf['mile'] = tvdf.apply(lambda row: closest_mile_marker(row['X'], row['Y'], data), axis=1)\n"
     ]
    },
    {
     "name": "stdout",
     "output_type": "stream",
     "text": [
      "FM0312\n",
      "FM0237\n",
      "FM1331\n",
      "FM0428\n",
      "SH0161\n",
      "BU0290\n",
      "bad df\n",
      "FM1233\n"
     ]
    },
    {
     "name": "stderr",
     "output_type": "stream",
     "text": [
      "/var/folders/fz/qwk5rxqs39gcy8h_0lhy47c80000gn/T/ipykernel_40576/4022452298.py:87: SettingWithCopyWarning: \n",
      "A value is trying to be set on a copy of a slice from a DataFrame.\n",
      "Try using .loc[row_indexer,col_indexer] = value instead\n",
      "\n",
      "See the caveats in the documentation: https://pandas.pydata.org/pandas-docs/stable/user_guide/indexing.html#returning-a-view-versus-a-copy\n",
      "  tvdf['mile'] = tvdf.apply(lambda row: closest_mile_marker(row['X'], row['Y'], data), axis=1)\n",
      "/var/folders/fz/qwk5rxqs39gcy8h_0lhy47c80000gn/T/ipykernel_40576/4022452298.py:87: SettingWithCopyWarning: \n",
      "A value is trying to be set on a copy of a slice from a DataFrame.\n",
      "Try using .loc[row_indexer,col_indexer] = value instead\n",
      "\n",
      "See the caveats in the documentation: https://pandas.pydata.org/pandas-docs/stable/user_guide/indexing.html#returning-a-view-versus-a-copy\n",
      "  tvdf['mile'] = tvdf.apply(lambda row: closest_mile_marker(row['X'], row['Y'], data), axis=1)\n",
      "/var/folders/fz/qwk5rxqs39gcy8h_0lhy47c80000gn/T/ipykernel_40576/4022452298.py:87: SettingWithCopyWarning: \n",
      "A value is trying to be set on a copy of a slice from a DataFrame.\n",
      "Try using .loc[row_indexer,col_indexer] = value instead\n",
      "\n",
      "See the caveats in the documentation: https://pandas.pydata.org/pandas-docs/stable/user_guide/indexing.html#returning-a-view-versus-a-copy\n",
      "  tvdf['mile'] = tvdf.apply(lambda row: closest_mile_marker(row['X'], row['Y'], data), axis=1)\n"
     ]
    },
    {
     "name": "stdout",
     "output_type": "stream",
     "text": [
      "RM2243\n",
      "FM1004\n",
      "SH0302\n"
     ]
    },
    {
     "name": "stderr",
     "output_type": "stream",
     "text": [
      "/var/folders/fz/qwk5rxqs39gcy8h_0lhy47c80000gn/T/ipykernel_40576/4022452298.py:87: SettingWithCopyWarning: \n",
      "A value is trying to be set on a copy of a slice from a DataFrame.\n",
      "Try using .loc[row_indexer,col_indexer] = value instead\n",
      "\n",
      "See the caveats in the documentation: https://pandas.pydata.org/pandas-docs/stable/user_guide/indexing.html#returning-a-view-versus-a-copy\n",
      "  tvdf['mile'] = tvdf.apply(lambda row: closest_mile_marker(row['X'], row['Y'], data), axis=1)\n",
      "/var/folders/fz/qwk5rxqs39gcy8h_0lhy47c80000gn/T/ipykernel_40576/4022452298.py:87: SettingWithCopyWarning: \n",
      "A value is trying to be set on a copy of a slice from a DataFrame.\n",
      "Try using .loc[row_indexer,col_indexer] = value instead\n",
      "\n",
      "See the caveats in the documentation: https://pandas.pydata.org/pandas-docs/stable/user_guide/indexing.html#returning-a-view-versus-a-copy\n",
      "  tvdf['mile'] = tvdf.apply(lambda row: closest_mile_marker(row['X'], row['Y'], data), axis=1)\n"
     ]
    },
    {
     "name": "stdout",
     "output_type": "stream",
     "text": [
      "FM2397\n",
      "SH0055\n",
      "FM1468\n"
     ]
    },
    {
     "name": "stderr",
     "output_type": "stream",
     "text": [
      "/var/folders/fz/qwk5rxqs39gcy8h_0lhy47c80000gn/T/ipykernel_40576/4022452298.py:87: SettingWithCopyWarning: \n",
      "A value is trying to be set on a copy of a slice from a DataFrame.\n",
      "Try using .loc[row_indexer,col_indexer] = value instead\n",
      "\n",
      "See the caveats in the documentation: https://pandas.pydata.org/pandas-docs/stable/user_guide/indexing.html#returning-a-view-versus-a-copy\n",
      "  tvdf['mile'] = tvdf.apply(lambda row: closest_mile_marker(row['X'], row['Y'], data), axis=1)\n",
      "/var/folders/fz/qwk5rxqs39gcy8h_0lhy47c80000gn/T/ipykernel_40576/4022452298.py:87: SettingWithCopyWarning: \n",
      "A value is trying to be set on a copy of a slice from a DataFrame.\n",
      "Try using .loc[row_indexer,col_indexer] = value instead\n",
      "\n",
      "See the caveats in the documentation: https://pandas.pydata.org/pandas-docs/stable/user_guide/indexing.html#returning-a-view-versus-a-copy\n",
      "  tvdf['mile'] = tvdf.apply(lambda row: closest_mile_marker(row['X'], row['Y'], data), axis=1)\n",
      "/var/folders/fz/qwk5rxqs39gcy8h_0lhy47c80000gn/T/ipykernel_40576/4022452298.py:87: SettingWithCopyWarning: \n",
      "A value is trying to be set on a copy of a slice from a DataFrame.\n",
      "Try using .loc[row_indexer,col_indexer] = value instead\n",
      "\n",
      "See the caveats in the documentation: https://pandas.pydata.org/pandas-docs/stable/user_guide/indexing.html#returning-a-view-versus-a-copy\n",
      "  tvdf['mile'] = tvdf.apply(lambda row: closest_mile_marker(row['X'], row['Y'], data), axis=1)\n",
      "/var/folders/fz/qwk5rxqs39gcy8h_0lhy47c80000gn/T/ipykernel_40576/4022452298.py:87: SettingWithCopyWarning: \n",
      "A value is trying to be set on a copy of a slice from a DataFrame.\n",
      "Try using .loc[row_indexer,col_indexer] = value instead\n",
      "\n",
      "See the caveats in the documentation: https://pandas.pydata.org/pandas-docs/stable/user_guide/indexing.html#returning-a-view-versus-a-copy\n",
      "  tvdf['mile'] = tvdf.apply(lambda row: closest_mile_marker(row['X'], row['Y'], data), axis=1)\n",
      "/var/folders/fz/qwk5rxqs39gcy8h_0lhy47c80000gn/T/ipykernel_40576/4022452298.py:87: SettingWithCopyWarning: \n",
      "A value is trying to be set on a copy of a slice from a DataFrame.\n",
      "Try using .loc[row_indexer,col_indexer] = value instead\n",
      "\n",
      "See the caveats in the documentation: https://pandas.pydata.org/pandas-docs/stable/user_guide/indexing.html#returning-a-view-versus-a-copy\n",
      "  tvdf['mile'] = tvdf.apply(lambda row: closest_mile_marker(row['X'], row['Y'], data), axis=1)\n",
      "/var/folders/fz/qwk5rxqs39gcy8h_0lhy47c80000gn/T/ipykernel_40576/4022452298.py:87: SettingWithCopyWarning: \n",
      "A value is trying to be set on a copy of a slice from a DataFrame.\n",
      "Try using .loc[row_indexer,col_indexer] = value instead\n",
      "\n",
      "See the caveats in the documentation: https://pandas.pydata.org/pandas-docs/stable/user_guide/indexing.html#returning-a-view-versus-a-copy\n",
      "  tvdf['mile'] = tvdf.apply(lambda row: closest_mile_marker(row['X'], row['Y'], data), axis=1)\n"
     ]
    },
    {
     "name": "stdout",
     "output_type": "stream",
     "text": [
      "RM2222\n",
      "FM1844\n",
      "FM1293\n",
      "SH0012\n",
      "FM0182\n",
      "FM1098\n"
     ]
    },
    {
     "name": "stderr",
     "output_type": "stream",
     "text": [
      "/var/folders/fz/qwk5rxqs39gcy8h_0lhy47c80000gn/T/ipykernel_40576/4022452298.py:87: SettingWithCopyWarning: \n",
      "A value is trying to be set on a copy of a slice from a DataFrame.\n",
      "Try using .loc[row_indexer,col_indexer] = value instead\n",
      "\n",
      "See the caveats in the documentation: https://pandas.pydata.org/pandas-docs/stable/user_guide/indexing.html#returning-a-view-versus-a-copy\n",
      "  tvdf['mile'] = tvdf.apply(lambda row: closest_mile_marker(row['X'], row['Y'], data), axis=1)\n",
      "/var/folders/fz/qwk5rxqs39gcy8h_0lhy47c80000gn/T/ipykernel_40576/4022452298.py:87: SettingWithCopyWarning: \n",
      "A value is trying to be set on a copy of a slice from a DataFrame.\n",
      "Try using .loc[row_indexer,col_indexer] = value instead\n",
      "\n",
      "See the caveats in the documentation: https://pandas.pydata.org/pandas-docs/stable/user_guide/indexing.html#returning-a-view-versus-a-copy\n",
      "  tvdf['mile'] = tvdf.apply(lambda row: closest_mile_marker(row['X'], row['Y'], data), axis=1)\n",
      "/var/folders/fz/qwk5rxqs39gcy8h_0lhy47c80000gn/T/ipykernel_40576/4022452298.py:87: SettingWithCopyWarning: \n",
      "A value is trying to be set on a copy of a slice from a DataFrame.\n",
      "Try using .loc[row_indexer,col_indexer] = value instead\n",
      "\n",
      "See the caveats in the documentation: https://pandas.pydata.org/pandas-docs/stable/user_guide/indexing.html#returning-a-view-versus-a-copy\n",
      "  tvdf['mile'] = tvdf.apply(lambda row: closest_mile_marker(row['X'], row['Y'], data), axis=1)\n",
      "/var/folders/fz/qwk5rxqs39gcy8h_0lhy47c80000gn/T/ipykernel_40576/4022452298.py:87: SettingWithCopyWarning: \n",
      "A value is trying to be set on a copy of a slice from a DataFrame.\n",
      "Try using .loc[row_indexer,col_indexer] = value instead\n",
      "\n",
      "See the caveats in the documentation: https://pandas.pydata.org/pandas-docs/stable/user_guide/indexing.html#returning-a-view-versus-a-copy\n",
      "  tvdf['mile'] = tvdf.apply(lambda row: closest_mile_marker(row['X'], row['Y'], data), axis=1)\n",
      "/var/folders/fz/qwk5rxqs39gcy8h_0lhy47c80000gn/T/ipykernel_40576/4022452298.py:87: SettingWithCopyWarning: \n",
      "A value is trying to be set on a copy of a slice from a DataFrame.\n",
      "Try using .loc[row_indexer,col_indexer] = value instead\n",
      "\n",
      "See the caveats in the documentation: https://pandas.pydata.org/pandas-docs/stable/user_guide/indexing.html#returning-a-view-versus-a-copy\n",
      "  tvdf['mile'] = tvdf.apply(lambda row: closest_mile_marker(row['X'], row['Y'], data), axis=1)\n"
     ]
    },
    {
     "name": "stdout",
     "output_type": "stream",
     "text": [
      "FM1458\n",
      "FM1419\n",
      "FM0117\n",
      "SH0163\n"
     ]
    },
    {
     "name": "stderr",
     "output_type": "stream",
     "text": [
      "/var/folders/fz/qwk5rxqs39gcy8h_0lhy47c80000gn/T/ipykernel_40576/4022452298.py:87: SettingWithCopyWarning: \n",
      "A value is trying to be set on a copy of a slice from a DataFrame.\n",
      "Try using .loc[row_indexer,col_indexer] = value instead\n",
      "\n",
      "See the caveats in the documentation: https://pandas.pydata.org/pandas-docs/stable/user_guide/indexing.html#returning-a-view-versus-a-copy\n",
      "  tvdf['mile'] = tvdf.apply(lambda row: closest_mile_marker(row['X'], row['Y'], data), axis=1)\n",
      "/var/folders/fz/qwk5rxqs39gcy8h_0lhy47c80000gn/T/ipykernel_40576/4022452298.py:87: SettingWithCopyWarning: \n",
      "A value is trying to be set on a copy of a slice from a DataFrame.\n",
      "Try using .loc[row_indexer,col_indexer] = value instead\n",
      "\n",
      "See the caveats in the documentation: https://pandas.pydata.org/pandas-docs/stable/user_guide/indexing.html#returning-a-view-versus-a-copy\n",
      "  tvdf['mile'] = tvdf.apply(lambda row: closest_mile_marker(row['X'], row['Y'], data), axis=1)\n",
      "/var/folders/fz/qwk5rxqs39gcy8h_0lhy47c80000gn/T/ipykernel_40576/4022452298.py:87: SettingWithCopyWarning: \n",
      "A value is trying to be set on a copy of a slice from a DataFrame.\n",
      "Try using .loc[row_indexer,col_indexer] = value instead\n",
      "\n",
      "See the caveats in the documentation: https://pandas.pydata.org/pandas-docs/stable/user_guide/indexing.html#returning-a-view-versus-a-copy\n",
      "  tvdf['mile'] = tvdf.apply(lambda row: closest_mile_marker(row['X'], row['Y'], data), axis=1)\n",
      "/var/folders/fz/qwk5rxqs39gcy8h_0lhy47c80000gn/T/ipykernel_40576/4022452298.py:87: SettingWithCopyWarning: \n",
      "A value is trying to be set on a copy of a slice from a DataFrame.\n",
      "Try using .loc[row_indexer,col_indexer] = value instead\n",
      "\n",
      "See the caveats in the documentation: https://pandas.pydata.org/pandas-docs/stable/user_guide/indexing.html#returning-a-view-versus-a-copy\n",
      "  tvdf['mile'] = tvdf.apply(lambda row: closest_mile_marker(row['X'], row['Y'], data), axis=1)\n",
      "/var/folders/fz/qwk5rxqs39gcy8h_0lhy47c80000gn/T/ipykernel_40576/4022452298.py:87: SettingWithCopyWarning: \n",
      "A value is trying to be set on a copy of a slice from a DataFrame.\n",
      "Try using .loc[row_indexer,col_indexer] = value instead\n",
      "\n",
      "See the caveats in the documentation: https://pandas.pydata.org/pandas-docs/stable/user_guide/indexing.html#returning-a-view-versus-a-copy\n",
      "  tvdf['mile'] = tvdf.apply(lambda row: closest_mile_marker(row['X'], row['Y'], data), axis=1)\n"
     ]
    },
    {
     "name": "stdout",
     "output_type": "stream",
     "text": [
      "FM0660\n",
      "FM2478\n",
      "FM3136\n",
      "FM1259\n",
      "SH0103\n"
     ]
    },
    {
     "name": "stderr",
     "output_type": "stream",
     "text": [
      "/var/folders/fz/qwk5rxqs39gcy8h_0lhy47c80000gn/T/ipykernel_40576/4022452298.py:87: SettingWithCopyWarning: \n",
      "A value is trying to be set on a copy of a slice from a DataFrame.\n",
      "Try using .loc[row_indexer,col_indexer] = value instead\n",
      "\n",
      "See the caveats in the documentation: https://pandas.pydata.org/pandas-docs/stable/user_guide/indexing.html#returning-a-view-versus-a-copy\n",
      "  tvdf['mile'] = tvdf.apply(lambda row: closest_mile_marker(row['X'], row['Y'], data), axis=1)\n",
      "/var/folders/fz/qwk5rxqs39gcy8h_0lhy47c80000gn/T/ipykernel_40576/4022452298.py:87: SettingWithCopyWarning: \n",
      "A value is trying to be set on a copy of a slice from a DataFrame.\n",
      "Try using .loc[row_indexer,col_indexer] = value instead\n",
      "\n",
      "See the caveats in the documentation: https://pandas.pydata.org/pandas-docs/stable/user_guide/indexing.html#returning-a-view-versus-a-copy\n",
      "  tvdf['mile'] = tvdf.apply(lambda row: closest_mile_marker(row['X'], row['Y'], data), axis=1)\n",
      "/var/folders/fz/qwk5rxqs39gcy8h_0lhy47c80000gn/T/ipykernel_40576/4022452298.py:87: SettingWithCopyWarning: \n",
      "A value is trying to be set on a copy of a slice from a DataFrame.\n",
      "Try using .loc[row_indexer,col_indexer] = value instead\n",
      "\n",
      "See the caveats in the documentation: https://pandas.pydata.org/pandas-docs/stable/user_guide/indexing.html#returning-a-view-versus-a-copy\n",
      "  tvdf['mile'] = tvdf.apply(lambda row: closest_mile_marker(row['X'], row['Y'], data), axis=1)\n"
     ]
    },
    {
     "name": "stdout",
     "output_type": "stream",
     "text": [
      "SH0061\n",
      "SH0023\n",
      "SH0018\n"
     ]
    },
    {
     "name": "stderr",
     "output_type": "stream",
     "text": [
      "/var/folders/fz/qwk5rxqs39gcy8h_0lhy47c80000gn/T/ipykernel_40576/4022452298.py:87: SettingWithCopyWarning: \n",
      "A value is trying to be set on a copy of a slice from a DataFrame.\n",
      "Try using .loc[row_indexer,col_indexer] = value instead\n",
      "\n",
      "See the caveats in the documentation: https://pandas.pydata.org/pandas-docs/stable/user_guide/indexing.html#returning-a-view-versus-a-copy\n",
      "  tvdf['mile'] = tvdf.apply(lambda row: closest_mile_marker(row['X'], row['Y'], data), axis=1)\n",
      "/var/folders/fz/qwk5rxqs39gcy8h_0lhy47c80000gn/T/ipykernel_40576/4022452298.py:87: SettingWithCopyWarning: \n",
      "A value is trying to be set on a copy of a slice from a DataFrame.\n",
      "Try using .loc[row_indexer,col_indexer] = value instead\n",
      "\n",
      "See the caveats in the documentation: https://pandas.pydata.org/pandas-docs/stable/user_guide/indexing.html#returning-a-view-versus-a-copy\n",
      "  tvdf['mile'] = tvdf.apply(lambda row: closest_mile_marker(row['X'], row['Y'], data), axis=1)\n",
      "/var/folders/fz/qwk5rxqs39gcy8h_0lhy47c80000gn/T/ipykernel_40576/4022452298.py:87: SettingWithCopyWarning: \n",
      "A value is trying to be set on a copy of a slice from a DataFrame.\n",
      "Try using .loc[row_indexer,col_indexer] = value instead\n",
      "\n",
      "See the caveats in the documentation: https://pandas.pydata.org/pandas-docs/stable/user_guide/indexing.html#returning-a-view-versus-a-copy\n",
      "  tvdf['mile'] = tvdf.apply(lambda row: closest_mile_marker(row['X'], row['Y'], data), axis=1)\n",
      "/var/folders/fz/qwk5rxqs39gcy8h_0lhy47c80000gn/T/ipykernel_40576/4022452298.py:87: SettingWithCopyWarning: \n",
      "A value is trying to be set on a copy of a slice from a DataFrame.\n",
      "Try using .loc[row_indexer,col_indexer] = value instead\n",
      "\n",
      "See the caveats in the documentation: https://pandas.pydata.org/pandas-docs/stable/user_guide/indexing.html#returning-a-view-versus-a-copy\n",
      "  tvdf['mile'] = tvdf.apply(lambda row: closest_mile_marker(row['X'], row['Y'], data), axis=1)\n",
      "/var/folders/fz/qwk5rxqs39gcy8h_0lhy47c80000gn/T/ipykernel_40576/4022452298.py:87: SettingWithCopyWarning: \n",
      "A value is trying to be set on a copy of a slice from a DataFrame.\n",
      "Try using .loc[row_indexer,col_indexer] = value instead\n",
      "\n",
      "See the caveats in the documentation: https://pandas.pydata.org/pandas-docs/stable/user_guide/indexing.html#returning-a-view-versus-a-copy\n",
      "  tvdf['mile'] = tvdf.apply(lambda row: closest_mile_marker(row['X'], row['Y'], data), axis=1)\n",
      "/var/folders/fz/qwk5rxqs39gcy8h_0lhy47c80000gn/T/ipykernel_40576/4022452298.py:87: SettingWithCopyWarning: \n",
      "A value is trying to be set on a copy of a slice from a DataFrame.\n",
      "Try using .loc[row_indexer,col_indexer] = value instead\n",
      "\n",
      "See the caveats in the documentation: https://pandas.pydata.org/pandas-docs/stable/user_guide/indexing.html#returning-a-view-versus-a-copy\n",
      "  tvdf['mile'] = tvdf.apply(lambda row: closest_mile_marker(row['X'], row['Y'], data), axis=1)\n"
     ]
    },
    {
     "name": "stdout",
     "output_type": "stream",
     "text": [
      "RM0853\n",
      "FM0043\n",
      "FM0995\n",
      "FM0222\n",
      "SH0290\n",
      "BU0082\n",
      "bad df\n",
      "FM0949\n"
     ]
    },
    {
     "name": "stderr",
     "output_type": "stream",
     "text": [
      "/var/folders/fz/qwk5rxqs39gcy8h_0lhy47c80000gn/T/ipykernel_40576/4022452298.py:87: SettingWithCopyWarning: \n",
      "A value is trying to be set on a copy of a slice from a DataFrame.\n",
      "Try using .loc[row_indexer,col_indexer] = value instead\n",
      "\n",
      "See the caveats in the documentation: https://pandas.pydata.org/pandas-docs/stable/user_guide/indexing.html#returning-a-view-versus-a-copy\n",
      "  tvdf['mile'] = tvdf.apply(lambda row: closest_mile_marker(row['X'], row['Y'], data), axis=1)\n",
      "/var/folders/fz/qwk5rxqs39gcy8h_0lhy47c80000gn/T/ipykernel_40576/4022452298.py:87: SettingWithCopyWarning: \n",
      "A value is trying to be set on a copy of a slice from a DataFrame.\n",
      "Try using .loc[row_indexer,col_indexer] = value instead\n",
      "\n",
      "See the caveats in the documentation: https://pandas.pydata.org/pandas-docs/stable/user_guide/indexing.html#returning-a-view-versus-a-copy\n",
      "  tvdf['mile'] = tvdf.apply(lambda row: closest_mile_marker(row['X'], row['Y'], data), axis=1)\n"
     ]
    },
    {
     "name": "stdout",
     "output_type": "stream",
     "text": [
      "SL0020\n",
      "SH0046\n"
     ]
    },
    {
     "name": "stderr",
     "output_type": "stream",
     "text": [
      "/var/folders/fz/qwk5rxqs39gcy8h_0lhy47c80000gn/T/ipykernel_40576/4022452298.py:87: SettingWithCopyWarning: \n",
      "A value is trying to be set on a copy of a slice from a DataFrame.\n",
      "Try using .loc[row_indexer,col_indexer] = value instead\n",
      "\n",
      "See the caveats in the documentation: https://pandas.pydata.org/pandas-docs/stable/user_guide/indexing.html#returning-a-view-versus-a-copy\n",
      "  tvdf['mile'] = tvdf.apply(lambda row: closest_mile_marker(row['X'], row['Y'], data), axis=1)\n",
      "/var/folders/fz/qwk5rxqs39gcy8h_0lhy47c80000gn/T/ipykernel_40576/4022452298.py:87: SettingWithCopyWarning: \n",
      "A value is trying to be set on a copy of a slice from a DataFrame.\n",
      "Try using .loc[row_indexer,col_indexer] = value instead\n",
      "\n",
      "See the caveats in the documentation: https://pandas.pydata.org/pandas-docs/stable/user_guide/indexing.html#returning-a-view-versus-a-copy\n",
      "  tvdf['mile'] = tvdf.apply(lambda row: closest_mile_marker(row['X'], row['Y'], data), axis=1)\n",
      "/var/folders/fz/qwk5rxqs39gcy8h_0lhy47c80000gn/T/ipykernel_40576/4022452298.py:87: SettingWithCopyWarning: \n",
      "A value is trying to be set on a copy of a slice from a DataFrame.\n",
      "Try using .loc[row_indexer,col_indexer] = value instead\n",
      "\n",
      "See the caveats in the documentation: https://pandas.pydata.org/pandas-docs/stable/user_guide/indexing.html#returning-a-view-versus-a-copy\n",
      "  tvdf['mile'] = tvdf.apply(lambda row: closest_mile_marker(row['X'], row['Y'], data), axis=1)\n",
      "/var/folders/fz/qwk5rxqs39gcy8h_0lhy47c80000gn/T/ipykernel_40576/4022452298.py:87: SettingWithCopyWarning: \n",
      "A value is trying to be set on a copy of a slice from a DataFrame.\n",
      "Try using .loc[row_indexer,col_indexer] = value instead\n",
      "\n",
      "See the caveats in the documentation: https://pandas.pydata.org/pandas-docs/stable/user_guide/indexing.html#returning-a-view-versus-a-copy\n",
      "  tvdf['mile'] = tvdf.apply(lambda row: closest_mile_marker(row['X'], row['Y'], data), axis=1)\n",
      "/var/folders/fz/qwk5rxqs39gcy8h_0lhy47c80000gn/T/ipykernel_40576/4022452298.py:87: SettingWithCopyWarning: \n",
      "A value is trying to be set on a copy of a slice from a DataFrame.\n",
      "Try using .loc[row_indexer,col_indexer] = value instead\n",
      "\n",
      "See the caveats in the documentation: https://pandas.pydata.org/pandas-docs/stable/user_guide/indexing.html#returning-a-view-versus-a-copy\n",
      "  tvdf['mile'] = tvdf.apply(lambda row: closest_mile_marker(row['X'], row['Y'], data), axis=1)\n"
     ]
    },
    {
     "name": "stdout",
     "output_type": "stream",
     "text": [
      "FM0306\n",
      "FM0418\n",
      "SH0201\n",
      "FM0813\n",
      "FM2609\n",
      "FM2373\n"
     ]
    },
    {
     "name": "stderr",
     "output_type": "stream",
     "text": [
      "/var/folders/fz/qwk5rxqs39gcy8h_0lhy47c80000gn/T/ipykernel_40576/4022452298.py:87: SettingWithCopyWarning: \n",
      "A value is trying to be set on a copy of a slice from a DataFrame.\n",
      "Try using .loc[row_indexer,col_indexer] = value instead\n",
      "\n",
      "See the caveats in the documentation: https://pandas.pydata.org/pandas-docs/stable/user_guide/indexing.html#returning-a-view-versus-a-copy\n",
      "  tvdf['mile'] = tvdf.apply(lambda row: closest_mile_marker(row['X'], row['Y'], data), axis=1)\n",
      "/var/folders/fz/qwk5rxqs39gcy8h_0lhy47c80000gn/T/ipykernel_40576/4022452298.py:87: SettingWithCopyWarning: \n",
      "A value is trying to be set on a copy of a slice from a DataFrame.\n",
      "Try using .loc[row_indexer,col_indexer] = value instead\n",
      "\n",
      "See the caveats in the documentation: https://pandas.pydata.org/pandas-docs/stable/user_guide/indexing.html#returning-a-view-versus-a-copy\n",
      "  tvdf['mile'] = tvdf.apply(lambda row: closest_mile_marker(row['X'], row['Y'], data), axis=1)\n"
     ]
    },
    {
     "name": "stdout",
     "output_type": "stream",
     "text": [
      "IH0035\n"
     ]
    },
    {
     "name": "stderr",
     "output_type": "stream",
     "text": [
      "/var/folders/fz/qwk5rxqs39gcy8h_0lhy47c80000gn/T/ipykernel_40576/4022452298.py:87: SettingWithCopyWarning: \n",
      "A value is trying to be set on a copy of a slice from a DataFrame.\n",
      "Try using .loc[row_indexer,col_indexer] = value instead\n",
      "\n",
      "See the caveats in the documentation: https://pandas.pydata.org/pandas-docs/stable/user_guide/indexing.html#returning-a-view-versus-a-copy\n",
      "  tvdf['mile'] = tvdf.apply(lambda row: closest_mile_marker(row['X'], row['Y'], data), axis=1)\n"
     ]
    },
    {
     "name": "stdout",
     "output_type": "stream",
     "text": [
      "IH0030\n"
     ]
    },
    {
     "name": "stderr",
     "output_type": "stream",
     "text": [
      "/var/folders/fz/qwk5rxqs39gcy8h_0lhy47c80000gn/T/ipykernel_40576/4022452298.py:87: SettingWithCopyWarning: \n",
      "A value is trying to be set on a copy of a slice from a DataFrame.\n",
      "Try using .loc[row_indexer,col_indexer] = value instead\n",
      "\n",
      "See the caveats in the documentation: https://pandas.pydata.org/pandas-docs/stable/user_guide/indexing.html#returning-a-view-versus-a-copy\n",
      "  tvdf['mile'] = tvdf.apply(lambda row: closest_mile_marker(row['X'], row['Y'], data), axis=1)\n",
      "/var/folders/fz/qwk5rxqs39gcy8h_0lhy47c80000gn/T/ipykernel_40576/4022452298.py:87: SettingWithCopyWarning: \n",
      "A value is trying to be set on a copy of a slice from a DataFrame.\n",
      "Try using .loc[row_indexer,col_indexer] = value instead\n",
      "\n",
      "See the caveats in the documentation: https://pandas.pydata.org/pandas-docs/stable/user_guide/indexing.html#returning-a-view-versus-a-copy\n",
      "  tvdf['mile'] = tvdf.apply(lambda row: closest_mile_marker(row['X'], row['Y'], data), axis=1)\n",
      "/var/folders/fz/qwk5rxqs39gcy8h_0lhy47c80000gn/T/ipykernel_40576/4022452298.py:87: SettingWithCopyWarning: \n",
      "A value is trying to be set on a copy of a slice from a DataFrame.\n",
      "Try using .loc[row_indexer,col_indexer] = value instead\n",
      "\n",
      "See the caveats in the documentation: https://pandas.pydata.org/pandas-docs/stable/user_guide/indexing.html#returning-a-view-versus-a-copy\n",
      "  tvdf['mile'] = tvdf.apply(lambda row: closest_mile_marker(row['X'], row['Y'], data), axis=1)\n",
      "/var/folders/fz/qwk5rxqs39gcy8h_0lhy47c80000gn/T/ipykernel_40576/4022452298.py:87: SettingWithCopyWarning: \n",
      "A value is trying to be set on a copy of a slice from a DataFrame.\n",
      "Try using .loc[row_indexer,col_indexer] = value instead\n",
      "\n",
      "See the caveats in the documentation: https://pandas.pydata.org/pandas-docs/stable/user_guide/indexing.html#returning-a-view-versus-a-copy\n",
      "  tvdf['mile'] = tvdf.apply(lambda row: closest_mile_marker(row['X'], row['Y'], data), axis=1)\n"
     ]
    },
    {
     "name": "stdout",
     "output_type": "stream",
     "text": [
      "FM0717\n",
      "FM1601\n",
      "RM2401\n",
      "SH0118\n"
     ]
    },
    {
     "name": "stderr",
     "output_type": "stream",
     "text": [
      "/var/folders/fz/qwk5rxqs39gcy8h_0lhy47c80000gn/T/ipykernel_40576/4022452298.py:87: SettingWithCopyWarning: \n",
      "A value is trying to be set on a copy of a slice from a DataFrame.\n",
      "Try using .loc[row_indexer,col_indexer] = value instead\n",
      "\n",
      "See the caveats in the documentation: https://pandas.pydata.org/pandas-docs/stable/user_guide/indexing.html#returning-a-view-versus-a-copy\n",
      "  tvdf['mile'] = tvdf.apply(lambda row: closest_mile_marker(row['X'], row['Y'], data), axis=1)\n",
      "/var/folders/fz/qwk5rxqs39gcy8h_0lhy47c80000gn/T/ipykernel_40576/4022452298.py:87: SettingWithCopyWarning: \n",
      "A value is trying to be set on a copy of a slice from a DataFrame.\n",
      "Try using .loc[row_indexer,col_indexer] = value instead\n",
      "\n",
      "See the caveats in the documentation: https://pandas.pydata.org/pandas-docs/stable/user_guide/indexing.html#returning-a-view-versus-a-copy\n",
      "  tvdf['mile'] = tvdf.apply(lambda row: closest_mile_marker(row['X'], row['Y'], data), axis=1)\n"
     ]
    },
    {
     "name": "stdout",
     "output_type": "stream",
     "text": [
      "SH0206\n",
      "SH0097\n"
     ]
    },
    {
     "name": "stderr",
     "output_type": "stream",
     "text": [
      "/var/folders/fz/qwk5rxqs39gcy8h_0lhy47c80000gn/T/ipykernel_40576/4022452298.py:87: SettingWithCopyWarning: \n",
      "A value is trying to be set on a copy of a slice from a DataFrame.\n",
      "Try using .loc[row_indexer,col_indexer] = value instead\n",
      "\n",
      "See the caveats in the documentation: https://pandas.pydata.org/pandas-docs/stable/user_guide/indexing.html#returning-a-view-versus-a-copy\n",
      "  tvdf['mile'] = tvdf.apply(lambda row: closest_mile_marker(row['X'], row['Y'], data), axis=1)\n",
      "/var/folders/fz/qwk5rxqs39gcy8h_0lhy47c80000gn/T/ipykernel_40576/4022452298.py:87: SettingWithCopyWarning: \n",
      "A value is trying to be set on a copy of a slice from a DataFrame.\n",
      "Try using .loc[row_indexer,col_indexer] = value instead\n",
      "\n",
      "See the caveats in the documentation: https://pandas.pydata.org/pandas-docs/stable/user_guide/indexing.html#returning-a-view-versus-a-copy\n",
      "  tvdf['mile'] = tvdf.apply(lambda row: closest_mile_marker(row['X'], row['Y'], data), axis=1)\n",
      "/var/folders/fz/qwk5rxqs39gcy8h_0lhy47c80000gn/T/ipykernel_40576/4022452298.py:87: SettingWithCopyWarning: \n",
      "A value is trying to be set on a copy of a slice from a DataFrame.\n",
      "Try using .loc[row_indexer,col_indexer] = value instead\n",
      "\n",
      "See the caveats in the documentation: https://pandas.pydata.org/pandas-docs/stable/user_guide/indexing.html#returning-a-view-versus-a-copy\n",
      "  tvdf['mile'] = tvdf.apply(lambda row: closest_mile_marker(row['X'], row['Y'], data), axis=1)\n",
      "/var/folders/fz/qwk5rxqs39gcy8h_0lhy47c80000gn/T/ipykernel_40576/4022452298.py:87: SettingWithCopyWarning: \n",
      "A value is trying to be set on a copy of a slice from a DataFrame.\n",
      "Try using .loc[row_indexer,col_indexer] = value instead\n",
      "\n",
      "See the caveats in the documentation: https://pandas.pydata.org/pandas-docs/stable/user_guide/indexing.html#returning-a-view-versus-a-copy\n",
      "  tvdf['mile'] = tvdf.apply(lambda row: closest_mile_marker(row['X'], row['Y'], data), axis=1)\n"
     ]
    },
    {
     "name": "stdout",
     "output_type": "stream",
     "text": [
      "FM0937\n",
      "UP0281\n",
      "FM0807\n",
      "FM0314\n",
      "FM0902\n"
     ]
    },
    {
     "name": "stderr",
     "output_type": "stream",
     "text": [
      "/var/folders/fz/qwk5rxqs39gcy8h_0lhy47c80000gn/T/ipykernel_40576/4022452298.py:87: SettingWithCopyWarning: \n",
      "A value is trying to be set on a copy of a slice from a DataFrame.\n",
      "Try using .loc[row_indexer,col_indexer] = value instead\n",
      "\n",
      "See the caveats in the documentation: https://pandas.pydata.org/pandas-docs/stable/user_guide/indexing.html#returning-a-view-versus-a-copy\n",
      "  tvdf['mile'] = tvdf.apply(lambda row: closest_mile_marker(row['X'], row['Y'], data), axis=1)\n",
      "/var/folders/fz/qwk5rxqs39gcy8h_0lhy47c80000gn/T/ipykernel_40576/4022452298.py:87: SettingWithCopyWarning: \n",
      "A value is trying to be set on a copy of a slice from a DataFrame.\n",
      "Try using .loc[row_indexer,col_indexer] = value instead\n",
      "\n",
      "See the caveats in the documentation: https://pandas.pydata.org/pandas-docs/stable/user_guide/indexing.html#returning-a-view-versus-a-copy\n",
      "  tvdf['mile'] = tvdf.apply(lambda row: closest_mile_marker(row['X'], row['Y'], data), axis=1)\n"
     ]
    },
    {
     "name": "stdout",
     "output_type": "stream",
     "text": [
      "FM0051\n"
     ]
    },
    {
     "name": "stderr",
     "output_type": "stream",
     "text": [
      "/var/folders/fz/qwk5rxqs39gcy8h_0lhy47c80000gn/T/ipykernel_40576/4022452298.py:87: SettingWithCopyWarning: \n",
      "A value is trying to be set on a copy of a slice from a DataFrame.\n",
      "Try using .loc[row_indexer,col_indexer] = value instead\n",
      "\n",
      "See the caveats in the documentation: https://pandas.pydata.org/pandas-docs/stable/user_guide/indexing.html#returning-a-view-versus-a-copy\n",
      "  tvdf['mile'] = tvdf.apply(lambda row: closest_mile_marker(row['X'], row['Y'], data), axis=1)\n",
      "/var/folders/fz/qwk5rxqs39gcy8h_0lhy47c80000gn/T/ipykernel_40576/4022452298.py:87: SettingWithCopyWarning: \n",
      "A value is trying to be set on a copy of a slice from a DataFrame.\n",
      "Try using .loc[row_indexer,col_indexer] = value instead\n",
      "\n",
      "See the caveats in the documentation: https://pandas.pydata.org/pandas-docs/stable/user_guide/indexing.html#returning-a-view-versus-a-copy\n",
      "  tvdf['mile'] = tvdf.apply(lambda row: closest_mile_marker(row['X'], row['Y'], data), axis=1)\n",
      "/var/folders/fz/qwk5rxqs39gcy8h_0lhy47c80000gn/T/ipykernel_40576/4022452298.py:87: SettingWithCopyWarning: \n",
      "A value is trying to be set on a copy of a slice from a DataFrame.\n",
      "Try using .loc[row_indexer,col_indexer] = value instead\n",
      "\n",
      "See the caveats in the documentation: https://pandas.pydata.org/pandas-docs/stable/user_guide/indexing.html#returning-a-view-versus-a-copy\n",
      "  tvdf['mile'] = tvdf.apply(lambda row: closest_mile_marker(row['X'], row['Y'], data), axis=1)\n",
      "/var/folders/fz/qwk5rxqs39gcy8h_0lhy47c80000gn/T/ipykernel_40576/4022452298.py:87: SettingWithCopyWarning: \n",
      "A value is trying to be set on a copy of a slice from a DataFrame.\n",
      "Try using .loc[row_indexer,col_indexer] = value instead\n",
      "\n",
      "See the caveats in the documentation: https://pandas.pydata.org/pandas-docs/stable/user_guide/indexing.html#returning-a-view-versus-a-copy\n",
      "  tvdf['mile'] = tvdf.apply(lambda row: closest_mile_marker(row['X'], row['Y'], data), axis=1)\n",
      "/var/folders/fz/qwk5rxqs39gcy8h_0lhy47c80000gn/T/ipykernel_40576/4022452298.py:87: SettingWithCopyWarning: \n",
      "A value is trying to be set on a copy of a slice from a DataFrame.\n",
      "Try using .loc[row_indexer,col_indexer] = value instead\n",
      "\n",
      "See the caveats in the documentation: https://pandas.pydata.org/pandas-docs/stable/user_guide/indexing.html#returning-a-view-versus-a-copy\n",
      "  tvdf['mile'] = tvdf.apply(lambda row: closest_mile_marker(row['X'], row['Y'], data), axis=1)\n"
     ]
    },
    {
     "name": "stdout",
     "output_type": "stream",
     "text": [
      "FM0130\n",
      "FM0585\n",
      "FM0773\n",
      "RM2325\n",
      "FM0539\n"
     ]
    },
    {
     "name": "stderr",
     "output_type": "stream",
     "text": [
      "/var/folders/fz/qwk5rxqs39gcy8h_0lhy47c80000gn/T/ipykernel_40576/4022452298.py:87: SettingWithCopyWarning: \n",
      "A value is trying to be set on a copy of a slice from a DataFrame.\n",
      "Try using .loc[row_indexer,col_indexer] = value instead\n",
      "\n",
      "See the caveats in the documentation: https://pandas.pydata.org/pandas-docs/stable/user_guide/indexing.html#returning-a-view-versus-a-copy\n",
      "  tvdf['mile'] = tvdf.apply(lambda row: closest_mile_marker(row['X'], row['Y'], data), axis=1)\n",
      "/var/folders/fz/qwk5rxqs39gcy8h_0lhy47c80000gn/T/ipykernel_40576/4022452298.py:87: SettingWithCopyWarning: \n",
      "A value is trying to be set on a copy of a slice from a DataFrame.\n",
      "Try using .loc[row_indexer,col_indexer] = value instead\n",
      "\n",
      "See the caveats in the documentation: https://pandas.pydata.org/pandas-docs/stable/user_guide/indexing.html#returning-a-view-versus-a-copy\n",
      "  tvdf['mile'] = tvdf.apply(lambda row: closest_mile_marker(row['X'], row['Y'], data), axis=1)\n"
     ]
    },
    {
     "name": "stdout",
     "output_type": "stream",
     "text": [
      "FM3051\n",
      "FM0400\n"
     ]
    },
    {
     "name": "stderr",
     "output_type": "stream",
     "text": [
      "/var/folders/fz/qwk5rxqs39gcy8h_0lhy47c80000gn/T/ipykernel_40576/4022452298.py:87: SettingWithCopyWarning: \n",
      "A value is trying to be set on a copy of a slice from a DataFrame.\n",
      "Try using .loc[row_indexer,col_indexer] = value instead\n",
      "\n",
      "See the caveats in the documentation: https://pandas.pydata.org/pandas-docs/stable/user_guide/indexing.html#returning-a-view-versus-a-copy\n",
      "  tvdf['mile'] = tvdf.apply(lambda row: closest_mile_marker(row['X'], row['Y'], data), axis=1)\n",
      "/var/folders/fz/qwk5rxqs39gcy8h_0lhy47c80000gn/T/ipykernel_40576/4022452298.py:87: SettingWithCopyWarning: \n",
      "A value is trying to be set on a copy of a slice from a DataFrame.\n",
      "Try using .loc[row_indexer,col_indexer] = value instead\n",
      "\n",
      "See the caveats in the documentation: https://pandas.pydata.org/pandas-docs/stable/user_guide/indexing.html#returning-a-view-versus-a-copy\n",
      "  tvdf['mile'] = tvdf.apply(lambda row: closest_mile_marker(row['X'], row['Y'], data), axis=1)\n",
      "/var/folders/fz/qwk5rxqs39gcy8h_0lhy47c80000gn/T/ipykernel_40576/4022452298.py:87: SettingWithCopyWarning: \n",
      "A value is trying to be set on a copy of a slice from a DataFrame.\n",
      "Try using .loc[row_indexer,col_indexer] = value instead\n",
      "\n",
      "See the caveats in the documentation: https://pandas.pydata.org/pandas-docs/stable/user_guide/indexing.html#returning-a-view-versus-a-copy\n",
      "  tvdf['mile'] = tvdf.apply(lambda row: closest_mile_marker(row['X'], row['Y'], data), axis=1)\n"
     ]
    },
    {
     "name": "stdout",
     "output_type": "stream",
     "text": [
      "FM0393\n",
      "SL0335\n",
      "FM0167\n"
     ]
    },
    {
     "name": "stderr",
     "output_type": "stream",
     "text": [
      "/var/folders/fz/qwk5rxqs39gcy8h_0lhy47c80000gn/T/ipykernel_40576/4022452298.py:87: SettingWithCopyWarning: \n",
      "A value is trying to be set on a copy of a slice from a DataFrame.\n",
      "Try using .loc[row_indexer,col_indexer] = value instead\n",
      "\n",
      "See the caveats in the documentation: https://pandas.pydata.org/pandas-docs/stable/user_guide/indexing.html#returning-a-view-versus-a-copy\n",
      "  tvdf['mile'] = tvdf.apply(lambda row: closest_mile_marker(row['X'], row['Y'], data), axis=1)\n",
      "/var/folders/fz/qwk5rxqs39gcy8h_0lhy47c80000gn/T/ipykernel_40576/4022452298.py:87: SettingWithCopyWarning: \n",
      "A value is trying to be set on a copy of a slice from a DataFrame.\n",
      "Try using .loc[row_indexer,col_indexer] = value instead\n",
      "\n",
      "See the caveats in the documentation: https://pandas.pydata.org/pandas-docs/stable/user_guide/indexing.html#returning-a-view-versus-a-copy\n",
      "  tvdf['mile'] = tvdf.apply(lambda row: closest_mile_marker(row['X'], row['Y'], data), axis=1)\n",
      "/var/folders/fz/qwk5rxqs39gcy8h_0lhy47c80000gn/T/ipykernel_40576/4022452298.py:87: SettingWithCopyWarning: \n",
      "A value is trying to be set on a copy of a slice from a DataFrame.\n",
      "Try using .loc[row_indexer,col_indexer] = value instead\n",
      "\n",
      "See the caveats in the documentation: https://pandas.pydata.org/pandas-docs/stable/user_guide/indexing.html#returning-a-view-versus-a-copy\n",
      "  tvdf['mile'] = tvdf.apply(lambda row: closest_mile_marker(row['X'], row['Y'], data), axis=1)\n",
      "/var/folders/fz/qwk5rxqs39gcy8h_0lhy47c80000gn/T/ipykernel_40576/4022452298.py:87: SettingWithCopyWarning: \n",
      "A value is trying to be set on a copy of a slice from a DataFrame.\n",
      "Try using .loc[row_indexer,col_indexer] = value instead\n",
      "\n",
      "See the caveats in the documentation: https://pandas.pydata.org/pandas-docs/stable/user_guide/indexing.html#returning-a-view-versus-a-copy\n",
      "  tvdf['mile'] = tvdf.apply(lambda row: closest_mile_marker(row['X'], row['Y'], data), axis=1)\n"
     ]
    },
    {
     "name": "stdout",
     "output_type": "stream",
     "text": [
      "SH0279\n",
      "FM0759\n",
      "SH0350\n",
      "FM0226\n"
     ]
    },
    {
     "name": "stderr",
     "output_type": "stream",
     "text": [
      "/var/folders/fz/qwk5rxqs39gcy8h_0lhy47c80000gn/T/ipykernel_40576/4022452298.py:87: SettingWithCopyWarning: \n",
      "A value is trying to be set on a copy of a slice from a DataFrame.\n",
      "Try using .loc[row_indexer,col_indexer] = value instead\n",
      "\n",
      "See the caveats in the documentation: https://pandas.pydata.org/pandas-docs/stable/user_guide/indexing.html#returning-a-view-versus-a-copy\n",
      "  tvdf['mile'] = tvdf.apply(lambda row: closest_mile_marker(row['X'], row['Y'], data), axis=1)\n",
      "/var/folders/fz/qwk5rxqs39gcy8h_0lhy47c80000gn/T/ipykernel_40576/4022452298.py:87: SettingWithCopyWarning: \n",
      "A value is trying to be set on a copy of a slice from a DataFrame.\n",
      "Try using .loc[row_indexer,col_indexer] = value instead\n",
      "\n",
      "See the caveats in the documentation: https://pandas.pydata.org/pandas-docs/stable/user_guide/indexing.html#returning-a-view-versus-a-copy\n",
      "  tvdf['mile'] = tvdf.apply(lambda row: closest_mile_marker(row['X'], row['Y'], data), axis=1)\n",
      "/var/folders/fz/qwk5rxqs39gcy8h_0lhy47c80000gn/T/ipykernel_40576/4022452298.py:87: SettingWithCopyWarning: \n",
      "A value is trying to be set on a copy of a slice from a DataFrame.\n",
      "Try using .loc[row_indexer,col_indexer] = value instead\n",
      "\n",
      "See the caveats in the documentation: https://pandas.pydata.org/pandas-docs/stable/user_guide/indexing.html#returning-a-view-versus-a-copy\n",
      "  tvdf['mile'] = tvdf.apply(lambda row: closest_mile_marker(row['X'], row['Y'], data), axis=1)\n",
      "/var/folders/fz/qwk5rxqs39gcy8h_0lhy47c80000gn/T/ipykernel_40576/4022452298.py:87: SettingWithCopyWarning: \n",
      "A value is trying to be set on a copy of a slice from a DataFrame.\n",
      "Try using .loc[row_indexer,col_indexer] = value instead\n",
      "\n",
      "See the caveats in the documentation: https://pandas.pydata.org/pandas-docs/stable/user_guide/indexing.html#returning-a-view-versus-a-copy\n",
      "  tvdf['mile'] = tvdf.apply(lambda row: closest_mile_marker(row['X'], row['Y'], data), axis=1)\n"
     ]
    },
    {
     "name": "stdout",
     "output_type": "stream",
     "text": [
      "FM0439\n",
      "FM1911\n",
      "FM1094\n",
      "FM1606\n",
      "FM1426\n"
     ]
    },
    {
     "name": "stderr",
     "output_type": "stream",
     "text": [
      "/var/folders/fz/qwk5rxqs39gcy8h_0lhy47c80000gn/T/ipykernel_40576/4022452298.py:87: SettingWithCopyWarning: \n",
      "A value is trying to be set on a copy of a slice from a DataFrame.\n",
      "Try using .loc[row_indexer,col_indexer] = value instead\n",
      "\n",
      "See the caveats in the documentation: https://pandas.pydata.org/pandas-docs/stable/user_guide/indexing.html#returning-a-view-versus-a-copy\n",
      "  tvdf['mile'] = tvdf.apply(lambda row: closest_mile_marker(row['X'], row['Y'], data), axis=1)\n",
      "/var/folders/fz/qwk5rxqs39gcy8h_0lhy47c80000gn/T/ipykernel_40576/4022452298.py:87: SettingWithCopyWarning: \n",
      "A value is trying to be set on a copy of a slice from a DataFrame.\n",
      "Try using .loc[row_indexer,col_indexer] = value instead\n",
      "\n",
      "See the caveats in the documentation: https://pandas.pydata.org/pandas-docs/stable/user_guide/indexing.html#returning-a-view-versus-a-copy\n",
      "  tvdf['mile'] = tvdf.apply(lambda row: closest_mile_marker(row['X'], row['Y'], data), axis=1)\n"
     ]
    },
    {
     "name": "stdout",
     "output_type": "stream",
     "text": [
      "SH0158\n"
     ]
    },
    {
     "name": "stderr",
     "output_type": "stream",
     "text": [
      "/var/folders/fz/qwk5rxqs39gcy8h_0lhy47c80000gn/T/ipykernel_40576/4022452298.py:87: SettingWithCopyWarning: \n",
      "A value is trying to be set on a copy of a slice from a DataFrame.\n",
      "Try using .loc[row_indexer,col_indexer] = value instead\n",
      "\n",
      "See the caveats in the documentation: https://pandas.pydata.org/pandas-docs/stable/user_guide/indexing.html#returning-a-view-versus-a-copy\n",
      "  tvdf['mile'] = tvdf.apply(lambda row: closest_mile_marker(row['X'], row['Y'], data), axis=1)\n"
     ]
    },
    {
     "name": "stdout",
     "output_type": "stream",
     "text": [
      "SH0079\n"
     ]
    },
    {
     "name": "stderr",
     "output_type": "stream",
     "text": [
      "/var/folders/fz/qwk5rxqs39gcy8h_0lhy47c80000gn/T/ipykernel_40576/4022452298.py:87: SettingWithCopyWarning: \n",
      "A value is trying to be set on a copy of a slice from a DataFrame.\n",
      "Try using .loc[row_indexer,col_indexer] = value instead\n",
      "\n",
      "See the caveats in the documentation: https://pandas.pydata.org/pandas-docs/stable/user_guide/indexing.html#returning-a-view-versus-a-copy\n",
      "  tvdf['mile'] = tvdf.apply(lambda row: closest_mile_marker(row['X'], row['Y'], data), axis=1)\n",
      "/var/folders/fz/qwk5rxqs39gcy8h_0lhy47c80000gn/T/ipykernel_40576/4022452298.py:87: SettingWithCopyWarning: \n",
      "A value is trying to be set on a copy of a slice from a DataFrame.\n",
      "Try using .loc[row_indexer,col_indexer] = value instead\n",
      "\n",
      "See the caveats in the documentation: https://pandas.pydata.org/pandas-docs/stable/user_guide/indexing.html#returning-a-view-versus-a-copy\n",
      "  tvdf['mile'] = tvdf.apply(lambda row: closest_mile_marker(row['X'], row['Y'], data), axis=1)\n"
     ]
    },
    {
     "name": "stdout",
     "output_type": "stream",
     "text": [
      "RM0337\n",
      "SH0017\n"
     ]
    },
    {
     "name": "stderr",
     "output_type": "stream",
     "text": [
      "/var/folders/fz/qwk5rxqs39gcy8h_0lhy47c80000gn/T/ipykernel_40576/4022452298.py:87: SettingWithCopyWarning: \n",
      "A value is trying to be set on a copy of a slice from a DataFrame.\n",
      "Try using .loc[row_indexer,col_indexer] = value instead\n",
      "\n",
      "See the caveats in the documentation: https://pandas.pydata.org/pandas-docs/stable/user_guide/indexing.html#returning-a-view-versus-a-copy\n",
      "  tvdf['mile'] = tvdf.apply(lambda row: closest_mile_marker(row['X'], row['Y'], data), axis=1)\n",
      "/var/folders/fz/qwk5rxqs39gcy8h_0lhy47c80000gn/T/ipykernel_40576/4022452298.py:87: SettingWithCopyWarning: \n",
      "A value is trying to be set on a copy of a slice from a DataFrame.\n",
      "Try using .loc[row_indexer,col_indexer] = value instead\n",
      "\n",
      "See the caveats in the documentation: https://pandas.pydata.org/pandas-docs/stable/user_guide/indexing.html#returning-a-view-versus-a-copy\n",
      "  tvdf['mile'] = tvdf.apply(lambda row: closest_mile_marker(row['X'], row['Y'], data), axis=1)\n",
      "/var/folders/fz/qwk5rxqs39gcy8h_0lhy47c80000gn/T/ipykernel_40576/4022452298.py:87: SettingWithCopyWarning: \n",
      "A value is trying to be set on a copy of a slice from a DataFrame.\n",
      "Try using .loc[row_indexer,col_indexer] = value instead\n",
      "\n",
      "See the caveats in the documentation: https://pandas.pydata.org/pandas-docs/stable/user_guide/indexing.html#returning-a-view-versus-a-copy\n",
      "  tvdf['mile'] = tvdf.apply(lambda row: closest_mile_marker(row['X'], row['Y'], data), axis=1)\n",
      "/var/folders/fz/qwk5rxqs39gcy8h_0lhy47c80000gn/T/ipykernel_40576/4022452298.py:87: SettingWithCopyWarning: \n",
      "A value is trying to be set on a copy of a slice from a DataFrame.\n",
      "Try using .loc[row_indexer,col_indexer] = value instead\n",
      "\n",
      "See the caveats in the documentation: https://pandas.pydata.org/pandas-docs/stable/user_guide/indexing.html#returning-a-view-versus-a-copy\n",
      "  tvdf['mile'] = tvdf.apply(lambda row: closest_mile_marker(row['X'], row['Y'], data), axis=1)\n"
     ]
    },
    {
     "name": "stdout",
     "output_type": "stream",
     "text": [
      "SH0124\n",
      "FM0209\n",
      "SL0151\n",
      "FM1397\n",
      "SH0093\n"
     ]
    },
    {
     "name": "stderr",
     "output_type": "stream",
     "text": [
      "/var/folders/fz/qwk5rxqs39gcy8h_0lhy47c80000gn/T/ipykernel_40576/4022452298.py:87: SettingWithCopyWarning: \n",
      "A value is trying to be set on a copy of a slice from a DataFrame.\n",
      "Try using .loc[row_indexer,col_indexer] = value instead\n",
      "\n",
      "See the caveats in the documentation: https://pandas.pydata.org/pandas-docs/stable/user_guide/indexing.html#returning-a-view-versus-a-copy\n",
      "  tvdf['mile'] = tvdf.apply(lambda row: closest_mile_marker(row['X'], row['Y'], data), axis=1)\n",
      "/var/folders/fz/qwk5rxqs39gcy8h_0lhy47c80000gn/T/ipykernel_40576/4022452298.py:87: SettingWithCopyWarning: \n",
      "A value is trying to be set on a copy of a slice from a DataFrame.\n",
      "Try using .loc[row_indexer,col_indexer] = value instead\n",
      "\n",
      "See the caveats in the documentation: https://pandas.pydata.org/pandas-docs/stable/user_guide/indexing.html#returning-a-view-versus-a-copy\n",
      "  tvdf['mile'] = tvdf.apply(lambda row: closest_mile_marker(row['X'], row['Y'], data), axis=1)\n",
      "/var/folders/fz/qwk5rxqs39gcy8h_0lhy47c80000gn/T/ipykernel_40576/4022452298.py:87: SettingWithCopyWarning: \n",
      "A value is trying to be set on a copy of a slice from a DataFrame.\n",
      "Try using .loc[row_indexer,col_indexer] = value instead\n",
      "\n",
      "See the caveats in the documentation: https://pandas.pydata.org/pandas-docs/stable/user_guide/indexing.html#returning-a-view-versus-a-copy\n",
      "  tvdf['mile'] = tvdf.apply(lambda row: closest_mile_marker(row['X'], row['Y'], data), axis=1)\n",
      "/var/folders/fz/qwk5rxqs39gcy8h_0lhy47c80000gn/T/ipykernel_40576/4022452298.py:87: SettingWithCopyWarning: \n",
      "A value is trying to be set on a copy of a slice from a DataFrame.\n",
      "Try using .loc[row_indexer,col_indexer] = value instead\n",
      "\n",
      "See the caveats in the documentation: https://pandas.pydata.org/pandas-docs/stable/user_guide/indexing.html#returning-a-view-versus-a-copy\n",
      "  tvdf['mile'] = tvdf.apply(lambda row: closest_mile_marker(row['X'], row['Y'], data), axis=1)\n"
     ]
    },
    {
     "name": "stdout",
     "output_type": "stream",
     "text": [
      "UA0281\n",
      "SH0119\n",
      "FM0010\n",
      "FM1126\n",
      "FM1433\n"
     ]
    },
    {
     "name": "stderr",
     "output_type": "stream",
     "text": [
      "/var/folders/fz/qwk5rxqs39gcy8h_0lhy47c80000gn/T/ipykernel_40576/4022452298.py:87: SettingWithCopyWarning: \n",
      "A value is trying to be set on a copy of a slice from a DataFrame.\n",
      "Try using .loc[row_indexer,col_indexer] = value instead\n",
      "\n",
      "See the caveats in the documentation: https://pandas.pydata.org/pandas-docs/stable/user_guide/indexing.html#returning-a-view-versus-a-copy\n",
      "  tvdf['mile'] = tvdf.apply(lambda row: closest_mile_marker(row['X'], row['Y'], data), axis=1)\n",
      "/var/folders/fz/qwk5rxqs39gcy8h_0lhy47c80000gn/T/ipykernel_40576/4022452298.py:87: SettingWithCopyWarning: \n",
      "A value is trying to be set on a copy of a slice from a DataFrame.\n",
      "Try using .loc[row_indexer,col_indexer] = value instead\n",
      "\n",
      "See the caveats in the documentation: https://pandas.pydata.org/pandas-docs/stable/user_guide/indexing.html#returning-a-view-versus-a-copy\n",
      "  tvdf['mile'] = tvdf.apply(lambda row: closest_mile_marker(row['X'], row['Y'], data), axis=1)\n",
      "/var/folders/fz/qwk5rxqs39gcy8h_0lhy47c80000gn/T/ipykernel_40576/4022452298.py:87: SettingWithCopyWarning: \n",
      "A value is trying to be set on a copy of a slice from a DataFrame.\n",
      "Try using .loc[row_indexer,col_indexer] = value instead\n",
      "\n",
      "See the caveats in the documentation: https://pandas.pydata.org/pandas-docs/stable/user_guide/indexing.html#returning-a-view-versus-a-copy\n",
      "  tvdf['mile'] = tvdf.apply(lambda row: closest_mile_marker(row['X'], row['Y'], data), axis=1)\n",
      "/var/folders/fz/qwk5rxqs39gcy8h_0lhy47c80000gn/T/ipykernel_40576/4022452298.py:87: SettingWithCopyWarning: \n",
      "A value is trying to be set on a copy of a slice from a DataFrame.\n",
      "Try using .loc[row_indexer,col_indexer] = value instead\n",
      "\n",
      "See the caveats in the documentation: https://pandas.pydata.org/pandas-docs/stable/user_guide/indexing.html#returning-a-view-versus-a-copy\n",
      "  tvdf['mile'] = tvdf.apply(lambda row: closest_mile_marker(row['X'], row['Y'], data), axis=1)\n",
      "/var/folders/fz/qwk5rxqs39gcy8h_0lhy47c80000gn/T/ipykernel_40576/4022452298.py:87: SettingWithCopyWarning: \n",
      "A value is trying to be set on a copy of a slice from a DataFrame.\n",
      "Try using .loc[row_indexer,col_indexer] = value instead\n",
      "\n",
      "See the caveats in the documentation: https://pandas.pydata.org/pandas-docs/stable/user_guide/indexing.html#returning-a-view-versus-a-copy\n",
      "  tvdf['mile'] = tvdf.apply(lambda row: closest_mile_marker(row['X'], row['Y'], data), axis=1)\n"
     ]
    },
    {
     "name": "stdout",
     "output_type": "stream",
     "text": [
      "FM2200\n",
      "SL0275\n",
      "RM0584\n",
      "FM0279\n",
      "FM0946\n"
     ]
    },
    {
     "name": "stderr",
     "output_type": "stream",
     "text": [
      "/var/folders/fz/qwk5rxqs39gcy8h_0lhy47c80000gn/T/ipykernel_40576/4022452298.py:87: SettingWithCopyWarning: \n",
      "A value is trying to be set on a copy of a slice from a DataFrame.\n",
      "Try using .loc[row_indexer,col_indexer] = value instead\n",
      "\n",
      "See the caveats in the documentation: https://pandas.pydata.org/pandas-docs/stable/user_guide/indexing.html#returning-a-view-versus-a-copy\n",
      "  tvdf['mile'] = tvdf.apply(lambda row: closest_mile_marker(row['X'], row['Y'], data), axis=1)\n",
      "/var/folders/fz/qwk5rxqs39gcy8h_0lhy47c80000gn/T/ipykernel_40576/4022452298.py:87: SettingWithCopyWarning: \n",
      "A value is trying to be set on a copy of a slice from a DataFrame.\n",
      "Try using .loc[row_indexer,col_indexer] = value instead\n",
      "\n",
      "See the caveats in the documentation: https://pandas.pydata.org/pandas-docs/stable/user_guide/indexing.html#returning-a-view-versus-a-copy\n",
      "  tvdf['mile'] = tvdf.apply(lambda row: closest_mile_marker(row['X'], row['Y'], data), axis=1)\n",
      "/var/folders/fz/qwk5rxqs39gcy8h_0lhy47c80000gn/T/ipykernel_40576/4022452298.py:87: SettingWithCopyWarning: \n",
      "A value is trying to be set on a copy of a slice from a DataFrame.\n",
      "Try using .loc[row_indexer,col_indexer] = value instead\n",
      "\n",
      "See the caveats in the documentation: https://pandas.pydata.org/pandas-docs/stable/user_guide/indexing.html#returning-a-view-versus-a-copy\n",
      "  tvdf['mile'] = tvdf.apply(lambda row: closest_mile_marker(row['X'], row['Y'], data), axis=1)\n",
      "/var/folders/fz/qwk5rxqs39gcy8h_0lhy47c80000gn/T/ipykernel_40576/4022452298.py:87: SettingWithCopyWarning: \n",
      "A value is trying to be set on a copy of a slice from a DataFrame.\n",
      "Try using .loc[row_indexer,col_indexer] = value instead\n",
      "\n",
      "See the caveats in the documentation: https://pandas.pydata.org/pandas-docs/stable/user_guide/indexing.html#returning-a-view-versus-a-copy\n",
      "  tvdf['mile'] = tvdf.apply(lambda row: closest_mile_marker(row['X'], row['Y'], data), axis=1)\n",
      "/var/folders/fz/qwk5rxqs39gcy8h_0lhy47c80000gn/T/ipykernel_40576/4022452298.py:87: SettingWithCopyWarning: \n",
      "A value is trying to be set on a copy of a slice from a DataFrame.\n",
      "Try using .loc[row_indexer,col_indexer] = value instead\n",
      "\n",
      "See the caveats in the documentation: https://pandas.pydata.org/pandas-docs/stable/user_guide/indexing.html#returning-a-view-versus-a-copy\n",
      "  tvdf['mile'] = tvdf.apply(lambda row: closest_mile_marker(row['X'], row['Y'], data), axis=1)\n"
     ]
    },
    {
     "name": "stdout",
     "output_type": "stream",
     "text": [
      "RM0783\n",
      "FM2061\n",
      "SH0153\n"
     ]
    },
    {
     "name": "stderr",
     "output_type": "stream",
     "text": [
      "/var/folders/fz/qwk5rxqs39gcy8h_0lhy47c80000gn/T/ipykernel_40576/4022452298.py:87: SettingWithCopyWarning: \n",
      "A value is trying to be set on a copy of a slice from a DataFrame.\n",
      "Try using .loc[row_indexer,col_indexer] = value instead\n",
      "\n",
      "See the caveats in the documentation: https://pandas.pydata.org/pandas-docs/stable/user_guide/indexing.html#returning-a-view-versus-a-copy\n",
      "  tvdf['mile'] = tvdf.apply(lambda row: closest_mile_marker(row['X'], row['Y'], data), axis=1)\n",
      "/var/folders/fz/qwk5rxqs39gcy8h_0lhy47c80000gn/T/ipykernel_40576/4022452298.py:87: SettingWithCopyWarning: \n",
      "A value is trying to be set on a copy of a slice from a DataFrame.\n",
      "Try using .loc[row_indexer,col_indexer] = value instead\n",
      "\n",
      "See the caveats in the documentation: https://pandas.pydata.org/pandas-docs/stable/user_guide/indexing.html#returning-a-view-versus-a-copy\n",
      "  tvdf['mile'] = tvdf.apply(lambda row: closest_mile_marker(row['X'], row['Y'], data), axis=1)\n",
      "/var/folders/fz/qwk5rxqs39gcy8h_0lhy47c80000gn/T/ipykernel_40576/4022452298.py:87: SettingWithCopyWarning: \n",
      "A value is trying to be set on a copy of a slice from a DataFrame.\n",
      "Try using .loc[row_indexer,col_indexer] = value instead\n",
      "\n",
      "See the caveats in the documentation: https://pandas.pydata.org/pandas-docs/stable/user_guide/indexing.html#returning-a-view-versus-a-copy\n",
      "  tvdf['mile'] = tvdf.apply(lambda row: closest_mile_marker(row['X'], row['Y'], data), axis=1)\n",
      "/var/folders/fz/qwk5rxqs39gcy8h_0lhy47c80000gn/T/ipykernel_40576/4022452298.py:87: SettingWithCopyWarning: \n",
      "A value is trying to be set on a copy of a slice from a DataFrame.\n",
      "Try using .loc[row_indexer,col_indexer] = value instead\n",
      "\n",
      "See the caveats in the documentation: https://pandas.pydata.org/pandas-docs/stable/user_guide/indexing.html#returning-a-view-versus-a-copy\n",
      "  tvdf['mile'] = tvdf.apply(lambda row: closest_mile_marker(row['X'], row['Y'], data), axis=1)\n",
      "/var/folders/fz/qwk5rxqs39gcy8h_0lhy47c80000gn/T/ipykernel_40576/4022452298.py:87: SettingWithCopyWarning: \n",
      "A value is trying to be set on a copy of a slice from a DataFrame.\n",
      "Try using .loc[row_indexer,col_indexer] = value instead\n",
      "\n",
      "See the caveats in the documentation: https://pandas.pydata.org/pandas-docs/stable/user_guide/indexing.html#returning-a-view-versus-a-copy\n",
      "  tvdf['mile'] = tvdf.apply(lambda row: closest_mile_marker(row['X'], row['Y'], data), axis=1)\n"
     ]
    },
    {
     "name": "stdout",
     "output_type": "stream",
     "text": [
      "FM1512\n",
      "FM0125\n",
      "FM0999\n",
      "FM0153\n",
      "FM2220\n",
      "SH0130\n"
     ]
    },
    {
     "name": "stderr",
     "output_type": "stream",
     "text": [
      "/var/folders/fz/qwk5rxqs39gcy8h_0lhy47c80000gn/T/ipykernel_40576/4022452298.py:87: SettingWithCopyWarning: \n",
      "A value is trying to be set on a copy of a slice from a DataFrame.\n",
      "Try using .loc[row_indexer,col_indexer] = value instead\n",
      "\n",
      "See the caveats in the documentation: https://pandas.pydata.org/pandas-docs/stable/user_guide/indexing.html#returning-a-view-versus-a-copy\n",
      "  tvdf['mile'] = tvdf.apply(lambda row: closest_mile_marker(row['X'], row['Y'], data), axis=1)\n",
      "/var/folders/fz/qwk5rxqs39gcy8h_0lhy47c80000gn/T/ipykernel_40576/4022452298.py:87: SettingWithCopyWarning: \n",
      "A value is trying to be set on a copy of a slice from a DataFrame.\n",
      "Try using .loc[row_indexer,col_indexer] = value instead\n",
      "\n",
      "See the caveats in the documentation: https://pandas.pydata.org/pandas-docs/stable/user_guide/indexing.html#returning-a-view-versus-a-copy\n",
      "  tvdf['mile'] = tvdf.apply(lambda row: closest_mile_marker(row['X'], row['Y'], data), axis=1)\n",
      "/var/folders/fz/qwk5rxqs39gcy8h_0lhy47c80000gn/T/ipykernel_40576/4022452298.py:87: SettingWithCopyWarning: \n",
      "A value is trying to be set on a copy of a slice from a DataFrame.\n",
      "Try using .loc[row_indexer,col_indexer] = value instead\n",
      "\n",
      "See the caveats in the documentation: https://pandas.pydata.org/pandas-docs/stable/user_guide/indexing.html#returning-a-view-versus-a-copy\n",
      "  tvdf['mile'] = tvdf.apply(lambda row: closest_mile_marker(row['X'], row['Y'], data), axis=1)\n",
      "/var/folders/fz/qwk5rxqs39gcy8h_0lhy47c80000gn/T/ipykernel_40576/4022452298.py:87: SettingWithCopyWarning: \n",
      "A value is trying to be set on a copy of a slice from a DataFrame.\n",
      "Try using .loc[row_indexer,col_indexer] = value instead\n",
      "\n",
      "See the caveats in the documentation: https://pandas.pydata.org/pandas-docs/stable/user_guide/indexing.html#returning-a-view-versus-a-copy\n",
      "  tvdf['mile'] = tvdf.apply(lambda row: closest_mile_marker(row['X'], row['Y'], data), axis=1)\n",
      "/var/folders/fz/qwk5rxqs39gcy8h_0lhy47c80000gn/T/ipykernel_40576/4022452298.py:87: SettingWithCopyWarning: \n",
      "A value is trying to be set on a copy of a slice from a DataFrame.\n",
      "Try using .loc[row_indexer,col_indexer] = value instead\n",
      "\n",
      "See the caveats in the documentation: https://pandas.pydata.org/pandas-docs/stable/user_guide/indexing.html#returning-a-view-versus-a-copy\n",
      "  tvdf['mile'] = tvdf.apply(lambda row: closest_mile_marker(row['X'], row['Y'], data), axis=1)\n",
      "/var/folders/fz/qwk5rxqs39gcy8h_0lhy47c80000gn/T/ipykernel_40576/4022452298.py:87: SettingWithCopyWarning: \n",
      "A value is trying to be set on a copy of a slice from a DataFrame.\n",
      "Try using .loc[row_indexer,col_indexer] = value instead\n",
      "\n",
      "See the caveats in the documentation: https://pandas.pydata.org/pandas-docs/stable/user_guide/indexing.html#returning-a-view-versus-a-copy\n",
      "  tvdf['mile'] = tvdf.apply(lambda row: closest_mile_marker(row['X'], row['Y'], data), axis=1)\n"
     ]
    },
    {
     "name": "stdout",
     "output_type": "stream",
     "text": [
      "FM1516\n",
      "FM0357\n",
      "FM0364\n",
      "FM0350\n",
      "FM0740\n"
     ]
    },
    {
     "name": "stderr",
     "output_type": "stream",
     "text": [
      "/var/folders/fz/qwk5rxqs39gcy8h_0lhy47c80000gn/T/ipykernel_40576/4022452298.py:87: SettingWithCopyWarning: \n",
      "A value is trying to be set on a copy of a slice from a DataFrame.\n",
      "Try using .loc[row_indexer,col_indexer] = value instead\n",
      "\n",
      "See the caveats in the documentation: https://pandas.pydata.org/pandas-docs/stable/user_guide/indexing.html#returning-a-view-versus-a-copy\n",
      "  tvdf['mile'] = tvdf.apply(lambda row: closest_mile_marker(row['X'], row['Y'], data), axis=1)\n",
      "/var/folders/fz/qwk5rxqs39gcy8h_0lhy47c80000gn/T/ipykernel_40576/4022452298.py:87: SettingWithCopyWarning: \n",
      "A value is trying to be set on a copy of a slice from a DataFrame.\n",
      "Try using .loc[row_indexer,col_indexer] = value instead\n",
      "\n",
      "See the caveats in the documentation: https://pandas.pydata.org/pandas-docs/stable/user_guide/indexing.html#returning-a-view-versus-a-copy\n",
      "  tvdf['mile'] = tvdf.apply(lambda row: closest_mile_marker(row['X'], row['Y'], data), axis=1)\n",
      "/var/folders/fz/qwk5rxqs39gcy8h_0lhy47c80000gn/T/ipykernel_40576/4022452298.py:87: SettingWithCopyWarning: \n",
      "A value is trying to be set on a copy of a slice from a DataFrame.\n",
      "Try using .loc[row_indexer,col_indexer] = value instead\n",
      "\n",
      "See the caveats in the documentation: https://pandas.pydata.org/pandas-docs/stable/user_guide/indexing.html#returning-a-view-versus-a-copy\n",
      "  tvdf['mile'] = tvdf.apply(lambda row: closest_mile_marker(row['X'], row['Y'], data), axis=1)\n",
      "/var/folders/fz/qwk5rxqs39gcy8h_0lhy47c80000gn/T/ipykernel_40576/4022452298.py:87: SettingWithCopyWarning: \n",
      "A value is trying to be set on a copy of a slice from a DataFrame.\n",
      "Try using .loc[row_indexer,col_indexer] = value instead\n",
      "\n",
      "See the caveats in the documentation: https://pandas.pydata.org/pandas-docs/stable/user_guide/indexing.html#returning-a-view-versus-a-copy\n",
      "  tvdf['mile'] = tvdf.apply(lambda row: closest_mile_marker(row['X'], row['Y'], data), axis=1)\n",
      "/var/folders/fz/qwk5rxqs39gcy8h_0lhy47c80000gn/T/ipykernel_40576/4022452298.py:87: SettingWithCopyWarning: \n",
      "A value is trying to be set on a copy of a slice from a DataFrame.\n",
      "Try using .loc[row_indexer,col_indexer] = value instead\n",
      "\n",
      "See the caveats in the documentation: https://pandas.pydata.org/pandas-docs/stable/user_guide/indexing.html#returning-a-view-versus-a-copy\n",
      "  tvdf['mile'] = tvdf.apply(lambda row: closest_mile_marker(row['X'], row['Y'], data), axis=1)\n"
     ]
    },
    {
     "name": "stdout",
     "output_type": "stream",
     "text": [
      "FM1365\n",
      "FM0137\n",
      "FM0469\n",
      "BU0077\n",
      "bad df\n",
      "FM1970\n",
      "SH0101\n"
     ]
    },
    {
     "name": "stderr",
     "output_type": "stream",
     "text": [
      "/var/folders/fz/qwk5rxqs39gcy8h_0lhy47c80000gn/T/ipykernel_40576/4022452298.py:87: SettingWithCopyWarning: \n",
      "A value is trying to be set on a copy of a slice from a DataFrame.\n",
      "Try using .loc[row_indexer,col_indexer] = value instead\n",
      "\n",
      "See the caveats in the documentation: https://pandas.pydata.org/pandas-docs/stable/user_guide/indexing.html#returning-a-view-versus-a-copy\n",
      "  tvdf['mile'] = tvdf.apply(lambda row: closest_mile_marker(row['X'], row['Y'], data), axis=1)\n",
      "/var/folders/fz/qwk5rxqs39gcy8h_0lhy47c80000gn/T/ipykernel_40576/4022452298.py:87: SettingWithCopyWarning: \n",
      "A value is trying to be set on a copy of a slice from a DataFrame.\n",
      "Try using .loc[row_indexer,col_indexer] = value instead\n",
      "\n",
      "See the caveats in the documentation: https://pandas.pydata.org/pandas-docs/stable/user_guide/indexing.html#returning-a-view-versus-a-copy\n",
      "  tvdf['mile'] = tvdf.apply(lambda row: closest_mile_marker(row['X'], row['Y'], data), axis=1)\n",
      "/var/folders/fz/qwk5rxqs39gcy8h_0lhy47c80000gn/T/ipykernel_40576/4022452298.py:87: SettingWithCopyWarning: \n",
      "A value is trying to be set on a copy of a slice from a DataFrame.\n",
      "Try using .loc[row_indexer,col_indexer] = value instead\n",
      "\n",
      "See the caveats in the documentation: https://pandas.pydata.org/pandas-docs/stable/user_guide/indexing.html#returning-a-view-versus-a-copy\n",
      "  tvdf['mile'] = tvdf.apply(lambda row: closest_mile_marker(row['X'], row['Y'], data), axis=1)\n",
      "/var/folders/fz/qwk5rxqs39gcy8h_0lhy47c80000gn/T/ipykernel_40576/4022452298.py:87: SettingWithCopyWarning: \n",
      "A value is trying to be set on a copy of a slice from a DataFrame.\n",
      "Try using .loc[row_indexer,col_indexer] = value instead\n",
      "\n",
      "See the caveats in the documentation: https://pandas.pydata.org/pandas-docs/stable/user_guide/indexing.html#returning-a-view-versus-a-copy\n",
      "  tvdf['mile'] = tvdf.apply(lambda row: closest_mile_marker(row['X'], row['Y'], data), axis=1)\n",
      "/var/folders/fz/qwk5rxqs39gcy8h_0lhy47c80000gn/T/ipykernel_40576/4022452298.py:87: SettingWithCopyWarning: \n",
      "A value is trying to be set on a copy of a slice from a DataFrame.\n",
      "Try using .loc[row_indexer,col_indexer] = value instead\n",
      "\n",
      "See the caveats in the documentation: https://pandas.pydata.org/pandas-docs/stable/user_guide/indexing.html#returning-a-view-versus-a-copy\n",
      "  tvdf['mile'] = tvdf.apply(lambda row: closest_mile_marker(row['X'], row['Y'], data), axis=1)\n"
     ]
    },
    {
     "name": "stdout",
     "output_type": "stream",
     "text": [
      "FM0471\n",
      "SL0304\n",
      "FM0444\n",
      "SH0047\n",
      "FM1821\n"
     ]
    },
    {
     "name": "stderr",
     "output_type": "stream",
     "text": [
      "/var/folders/fz/qwk5rxqs39gcy8h_0lhy47c80000gn/T/ipykernel_40576/4022452298.py:87: SettingWithCopyWarning: \n",
      "A value is trying to be set on a copy of a slice from a DataFrame.\n",
      "Try using .loc[row_indexer,col_indexer] = value instead\n",
      "\n",
      "See the caveats in the documentation: https://pandas.pydata.org/pandas-docs/stable/user_guide/indexing.html#returning-a-view-versus-a-copy\n",
      "  tvdf['mile'] = tvdf.apply(lambda row: closest_mile_marker(row['X'], row['Y'], data), axis=1)\n",
      "/var/folders/fz/qwk5rxqs39gcy8h_0lhy47c80000gn/T/ipykernel_40576/4022452298.py:87: SettingWithCopyWarning: \n",
      "A value is trying to be set on a copy of a slice from a DataFrame.\n",
      "Try using .loc[row_indexer,col_indexer] = value instead\n",
      "\n",
      "See the caveats in the documentation: https://pandas.pydata.org/pandas-docs/stable/user_guide/indexing.html#returning-a-view-versus-a-copy\n",
      "  tvdf['mile'] = tvdf.apply(lambda row: closest_mile_marker(row['X'], row['Y'], data), axis=1)\n",
      "/var/folders/fz/qwk5rxqs39gcy8h_0lhy47c80000gn/T/ipykernel_40576/4022452298.py:87: SettingWithCopyWarning: \n",
      "A value is trying to be set on a copy of a slice from a DataFrame.\n",
      "Try using .loc[row_indexer,col_indexer] = value instead\n",
      "\n",
      "See the caveats in the documentation: https://pandas.pydata.org/pandas-docs/stable/user_guide/indexing.html#returning-a-view-versus-a-copy\n",
      "  tvdf['mile'] = tvdf.apply(lambda row: closest_mile_marker(row['X'], row['Y'], data), axis=1)\n",
      "/var/folders/fz/qwk5rxqs39gcy8h_0lhy47c80000gn/T/ipykernel_40576/4022452298.py:87: SettingWithCopyWarning: \n",
      "A value is trying to be set on a copy of a slice from a DataFrame.\n",
      "Try using .loc[row_indexer,col_indexer] = value instead\n",
      "\n",
      "See the caveats in the documentation: https://pandas.pydata.org/pandas-docs/stable/user_guide/indexing.html#returning-a-view-versus-a-copy\n",
      "  tvdf['mile'] = tvdf.apply(lambda row: closest_mile_marker(row['X'], row['Y'], data), axis=1)\n",
      "/var/folders/fz/qwk5rxqs39gcy8h_0lhy47c80000gn/T/ipykernel_40576/4022452298.py:87: SettingWithCopyWarning: \n",
      "A value is trying to be set on a copy of a slice from a DataFrame.\n",
      "Try using .loc[row_indexer,col_indexer] = value instead\n",
      "\n",
      "See the caveats in the documentation: https://pandas.pydata.org/pandas-docs/stable/user_guide/indexing.html#returning-a-view-versus-a-copy\n",
      "  tvdf['mile'] = tvdf.apply(lambda row: closest_mile_marker(row['X'], row['Y'], data), axis=1)\n",
      "/var/folders/fz/qwk5rxqs39gcy8h_0lhy47c80000gn/T/ipykernel_40576/4022452298.py:87: SettingWithCopyWarning: \n",
      "A value is trying to be set on a copy of a slice from a DataFrame.\n",
      "Try using .loc[row_indexer,col_indexer] = value instead\n",
      "\n",
      "See the caveats in the documentation: https://pandas.pydata.org/pandas-docs/stable/user_guide/indexing.html#returning-a-view-versus-a-copy\n",
      "  tvdf['mile'] = tvdf.apply(lambda row: closest_mile_marker(row['X'], row['Y'], data), axis=1)\n"
     ]
    },
    {
     "name": "stdout",
     "output_type": "stream",
     "text": [
      "FM2484\n",
      "SH0217\n",
      "FM1640\n",
      "FM0301\n",
      "FM2556\n",
      "FM2837\n"
     ]
    },
    {
     "name": "stderr",
     "output_type": "stream",
     "text": [
      "/var/folders/fz/qwk5rxqs39gcy8h_0lhy47c80000gn/T/ipykernel_40576/4022452298.py:87: SettingWithCopyWarning: \n",
      "A value is trying to be set on a copy of a slice from a DataFrame.\n",
      "Try using .loc[row_indexer,col_indexer] = value instead\n",
      "\n",
      "See the caveats in the documentation: https://pandas.pydata.org/pandas-docs/stable/user_guide/indexing.html#returning-a-view-versus-a-copy\n",
      "  tvdf['mile'] = tvdf.apply(lambda row: closest_mile_marker(row['X'], row['Y'], data), axis=1)\n",
      "/var/folders/fz/qwk5rxqs39gcy8h_0lhy47c80000gn/T/ipykernel_40576/4022452298.py:87: SettingWithCopyWarning: \n",
      "A value is trying to be set on a copy of a slice from a DataFrame.\n",
      "Try using .loc[row_indexer,col_indexer] = value instead\n",
      "\n",
      "See the caveats in the documentation: https://pandas.pydata.org/pandas-docs/stable/user_guide/indexing.html#returning-a-view-versus-a-copy\n",
      "  tvdf['mile'] = tvdf.apply(lambda row: closest_mile_marker(row['X'], row['Y'], data), axis=1)\n",
      "/var/folders/fz/qwk5rxqs39gcy8h_0lhy47c80000gn/T/ipykernel_40576/4022452298.py:87: SettingWithCopyWarning: \n",
      "A value is trying to be set on a copy of a slice from a DataFrame.\n",
      "Try using .loc[row_indexer,col_indexer] = value instead\n",
      "\n",
      "See the caveats in the documentation: https://pandas.pydata.org/pandas-docs/stable/user_guide/indexing.html#returning-a-view-versus-a-copy\n",
      "  tvdf['mile'] = tvdf.apply(lambda row: closest_mile_marker(row['X'], row['Y'], data), axis=1)\n"
     ]
    },
    {
     "name": "stdout",
     "output_type": "stream",
     "text": [
      "FM0829\n",
      "FM0108\n",
      "SH0006\n"
     ]
    },
    {
     "name": "stderr",
     "output_type": "stream",
     "text": [
      "/var/folders/fz/qwk5rxqs39gcy8h_0lhy47c80000gn/T/ipykernel_40576/4022452298.py:87: SettingWithCopyWarning: \n",
      "A value is trying to be set on a copy of a slice from a DataFrame.\n",
      "Try using .loc[row_indexer,col_indexer] = value instead\n",
      "\n",
      "See the caveats in the documentation: https://pandas.pydata.org/pandas-docs/stable/user_guide/indexing.html#returning-a-view-versus-a-copy\n",
      "  tvdf['mile'] = tvdf.apply(lambda row: closest_mile_marker(row['X'], row['Y'], data), axis=1)\n",
      "/var/folders/fz/qwk5rxqs39gcy8h_0lhy47c80000gn/T/ipykernel_40576/4022452298.py:87: SettingWithCopyWarning: \n",
      "A value is trying to be set on a copy of a slice from a DataFrame.\n",
      "Try using .loc[row_indexer,col_indexer] = value instead\n",
      "\n",
      "See the caveats in the documentation: https://pandas.pydata.org/pandas-docs/stable/user_guide/indexing.html#returning-a-view-versus-a-copy\n",
      "  tvdf['mile'] = tvdf.apply(lambda row: closest_mile_marker(row['X'], row['Y'], data), axis=1)\n",
      "/var/folders/fz/qwk5rxqs39gcy8h_0lhy47c80000gn/T/ipykernel_40576/4022452298.py:87: SettingWithCopyWarning: \n",
      "A value is trying to be set on a copy of a slice from a DataFrame.\n",
      "Try using .loc[row_indexer,col_indexer] = value instead\n",
      "\n",
      "See the caveats in the documentation: https://pandas.pydata.org/pandas-docs/stable/user_guide/indexing.html#returning-a-view-versus-a-copy\n",
      "  tvdf['mile'] = tvdf.apply(lambda row: closest_mile_marker(row['X'], row['Y'], data), axis=1)\n"
     ]
    },
    {
     "name": "stdout",
     "output_type": "stream",
     "text": [
      "FM0707\n",
      "SH0066\n",
      "FM1696\n"
     ]
    },
    {
     "name": "stderr",
     "output_type": "stream",
     "text": [
      "/var/folders/fz/qwk5rxqs39gcy8h_0lhy47c80000gn/T/ipykernel_40576/4022452298.py:87: SettingWithCopyWarning: \n",
      "A value is trying to be set on a copy of a slice from a DataFrame.\n",
      "Try using .loc[row_indexer,col_indexer] = value instead\n",
      "\n",
      "See the caveats in the documentation: https://pandas.pydata.org/pandas-docs/stable/user_guide/indexing.html#returning-a-view-versus-a-copy\n",
      "  tvdf['mile'] = tvdf.apply(lambda row: closest_mile_marker(row['X'], row['Y'], data), axis=1)\n"
     ]
    },
    {
     "name": "stdout",
     "output_type": "stream",
     "text": [
      "SH0070\n"
     ]
    },
    {
     "name": "stderr",
     "output_type": "stream",
     "text": [
      "/var/folders/fz/qwk5rxqs39gcy8h_0lhy47c80000gn/T/ipykernel_40576/4022452298.py:87: SettingWithCopyWarning: \n",
      "A value is trying to be set on a copy of a slice from a DataFrame.\n",
      "Try using .loc[row_indexer,col_indexer] = value instead\n",
      "\n",
      "See the caveats in the documentation: https://pandas.pydata.org/pandas-docs/stable/user_guide/indexing.html#returning-a-view-versus-a-copy\n",
      "  tvdf['mile'] = tvdf.apply(lambda row: closest_mile_marker(row['X'], row['Y'], data), axis=1)\n",
      "/var/folders/fz/qwk5rxqs39gcy8h_0lhy47c80000gn/T/ipykernel_40576/4022452298.py:87: SettingWithCopyWarning: \n",
      "A value is trying to be set on a copy of a slice from a DataFrame.\n",
      "Try using .loc[row_indexer,col_indexer] = value instead\n",
      "\n",
      "See the caveats in the documentation: https://pandas.pydata.org/pandas-docs/stable/user_guide/indexing.html#returning-a-view-versus-a-copy\n",
      "  tvdf['mile'] = tvdf.apply(lambda row: closest_mile_marker(row['X'], row['Y'], data), axis=1)\n",
      "/var/folders/fz/qwk5rxqs39gcy8h_0lhy47c80000gn/T/ipykernel_40576/4022452298.py:87: SettingWithCopyWarning: \n",
      "A value is trying to be set on a copy of a slice from a DataFrame.\n",
      "Try using .loc[row_indexer,col_indexer] = value instead\n",
      "\n",
      "See the caveats in the documentation: https://pandas.pydata.org/pandas-docs/stable/user_guide/indexing.html#returning-a-view-versus-a-copy\n",
      "  tvdf['mile'] = tvdf.apply(lambda row: closest_mile_marker(row['X'], row['Y'], data), axis=1)\n"
     ]
    },
    {
     "name": "stdout",
     "output_type": "stream",
     "text": [
      "FM2020\n",
      "FM0211\n",
      "BS0071\n",
      "bad df\n",
      "FM0305\n"
     ]
    },
    {
     "name": "stderr",
     "output_type": "stream",
     "text": [
      "/var/folders/fz/qwk5rxqs39gcy8h_0lhy47c80000gn/T/ipykernel_40576/4022452298.py:87: SettingWithCopyWarning: \n",
      "A value is trying to be set on a copy of a slice from a DataFrame.\n",
      "Try using .loc[row_indexer,col_indexer] = value instead\n",
      "\n",
      "See the caveats in the documentation: https://pandas.pydata.org/pandas-docs/stable/user_guide/indexing.html#returning-a-view-versus-a-copy\n",
      "  tvdf['mile'] = tvdf.apply(lambda row: closest_mile_marker(row['X'], row['Y'], data), axis=1)\n",
      "/var/folders/fz/qwk5rxqs39gcy8h_0lhy47c80000gn/T/ipykernel_40576/4022452298.py:87: SettingWithCopyWarning: \n",
      "A value is trying to be set on a copy of a slice from a DataFrame.\n",
      "Try using .loc[row_indexer,col_indexer] = value instead\n",
      "\n",
      "See the caveats in the documentation: https://pandas.pydata.org/pandas-docs/stable/user_guide/indexing.html#returning-a-view-versus-a-copy\n",
      "  tvdf['mile'] = tvdf.apply(lambda row: closest_mile_marker(row['X'], row['Y'], data), axis=1)\n",
      "/var/folders/fz/qwk5rxqs39gcy8h_0lhy47c80000gn/T/ipykernel_40576/4022452298.py:87: SettingWithCopyWarning: \n",
      "A value is trying to be set on a copy of a slice from a DataFrame.\n",
      "Try using .loc[row_indexer,col_indexer] = value instead\n",
      "\n",
      "See the caveats in the documentation: https://pandas.pydata.org/pandas-docs/stable/user_guide/indexing.html#returning-a-view-versus-a-copy\n",
      "  tvdf['mile'] = tvdf.apply(lambda row: closest_mile_marker(row['X'], row['Y'], data), axis=1)\n"
     ]
    },
    {
     "name": "stdout",
     "output_type": "stream",
     "text": [
      "FM1486\n",
      "SH0256\n",
      "FM0017\n"
     ]
    },
    {
     "name": "stderr",
     "output_type": "stream",
     "text": [
      "/var/folders/fz/qwk5rxqs39gcy8h_0lhy47c80000gn/T/ipykernel_40576/4022452298.py:87: SettingWithCopyWarning: \n",
      "A value is trying to be set on a copy of a slice from a DataFrame.\n",
      "Try using .loc[row_indexer,col_indexer] = value instead\n",
      "\n",
      "See the caveats in the documentation: https://pandas.pydata.org/pandas-docs/stable/user_guide/indexing.html#returning-a-view-versus-a-copy\n",
      "  tvdf['mile'] = tvdf.apply(lambda row: closest_mile_marker(row['X'], row['Y'], data), axis=1)\n",
      "/var/folders/fz/qwk5rxqs39gcy8h_0lhy47c80000gn/T/ipykernel_40576/4022452298.py:87: SettingWithCopyWarning: \n",
      "A value is trying to be set on a copy of a slice from a DataFrame.\n",
      "Try using .loc[row_indexer,col_indexer] = value instead\n",
      "\n",
      "See the caveats in the documentation: https://pandas.pydata.org/pandas-docs/stable/user_guide/indexing.html#returning-a-view-versus-a-copy\n",
      "  tvdf['mile'] = tvdf.apply(lambda row: closest_mile_marker(row['X'], row['Y'], data), axis=1)\n",
      "/var/folders/fz/qwk5rxqs39gcy8h_0lhy47c80000gn/T/ipykernel_40576/4022452298.py:87: SettingWithCopyWarning: \n",
      "A value is trying to be set on a copy of a slice from a DataFrame.\n",
      "Try using .loc[row_indexer,col_indexer] = value instead\n",
      "\n",
      "See the caveats in the documentation: https://pandas.pydata.org/pandas-docs/stable/user_guide/indexing.html#returning-a-view-versus-a-copy\n",
      "  tvdf['mile'] = tvdf.apply(lambda row: closest_mile_marker(row['X'], row['Y'], data), axis=1)\n",
      "/var/folders/fz/qwk5rxqs39gcy8h_0lhy47c80000gn/T/ipykernel_40576/4022452298.py:87: SettingWithCopyWarning: \n",
      "A value is trying to be set on a copy of a slice from a DataFrame.\n",
      "Try using .loc[row_indexer,col_indexer] = value instead\n",
      "\n",
      "See the caveats in the documentation: https://pandas.pydata.org/pandas-docs/stable/user_guide/indexing.html#returning-a-view-versus-a-copy\n",
      "  tvdf['mile'] = tvdf.apply(lambda row: closest_mile_marker(row['X'], row['Y'], data), axis=1)\n"
     ]
    },
    {
     "name": "stdout",
     "output_type": "stream",
     "text": [
      "FM0919\n",
      "FM0879\n",
      "FM0957\n",
      "SH0049\n"
     ]
    },
    {
     "name": "stderr",
     "output_type": "stream",
     "text": [
      "/var/folders/fz/qwk5rxqs39gcy8h_0lhy47c80000gn/T/ipykernel_40576/4022452298.py:87: SettingWithCopyWarning: \n",
      "A value is trying to be set on a copy of a slice from a DataFrame.\n",
      "Try using .loc[row_indexer,col_indexer] = value instead\n",
      "\n",
      "See the caveats in the documentation: https://pandas.pydata.org/pandas-docs/stable/user_guide/indexing.html#returning-a-view-versus-a-copy\n",
      "  tvdf['mile'] = tvdf.apply(lambda row: closest_mile_marker(row['X'], row['Y'], data), axis=1)\n"
     ]
    },
    {
     "name": "stdout",
     "output_type": "stream",
     "text": [
      "US0054\n"
     ]
    },
    {
     "name": "stderr",
     "output_type": "stream",
     "text": [
      "/var/folders/fz/qwk5rxqs39gcy8h_0lhy47c80000gn/T/ipykernel_40576/4022452298.py:87: SettingWithCopyWarning: \n",
      "A value is trying to be set on a copy of a slice from a DataFrame.\n",
      "Try using .loc[row_indexer,col_indexer] = value instead\n",
      "\n",
      "See the caveats in the documentation: https://pandas.pydata.org/pandas-docs/stable/user_guide/indexing.html#returning-a-view-versus-a-copy\n",
      "  tvdf['mile'] = tvdf.apply(lambda row: closest_mile_marker(row['X'], row['Y'], data), axis=1)\n",
      "/var/folders/fz/qwk5rxqs39gcy8h_0lhy47c80000gn/T/ipykernel_40576/4022452298.py:87: SettingWithCopyWarning: \n",
      "A value is trying to be set on a copy of a slice from a DataFrame.\n",
      "Try using .loc[row_indexer,col_indexer] = value instead\n",
      "\n",
      "See the caveats in the documentation: https://pandas.pydata.org/pandas-docs/stable/user_guide/indexing.html#returning-a-view-versus-a-copy\n",
      "  tvdf['mile'] = tvdf.apply(lambda row: closest_mile_marker(row['X'], row['Y'], data), axis=1)\n",
      "/var/folders/fz/qwk5rxqs39gcy8h_0lhy47c80000gn/T/ipykernel_40576/4022452298.py:87: SettingWithCopyWarning: \n",
      "A value is trying to be set on a copy of a slice from a DataFrame.\n",
      "Try using .loc[row_indexer,col_indexer] = value instead\n",
      "\n",
      "See the caveats in the documentation: https://pandas.pydata.org/pandas-docs/stable/user_guide/indexing.html#returning-a-view-versus-a-copy\n",
      "  tvdf['mile'] = tvdf.apply(lambda row: closest_mile_marker(row['X'], row['Y'], data), axis=1)\n",
      "/var/folders/fz/qwk5rxqs39gcy8h_0lhy47c80000gn/T/ipykernel_40576/4022452298.py:87: SettingWithCopyWarning: \n",
      "A value is trying to be set on a copy of a slice from a DataFrame.\n",
      "Try using .loc[row_indexer,col_indexer] = value instead\n",
      "\n",
      "See the caveats in the documentation: https://pandas.pydata.org/pandas-docs/stable/user_guide/indexing.html#returning-a-view-versus-a-copy\n",
      "  tvdf['mile'] = tvdf.apply(lambda row: closest_mile_marker(row['X'], row['Y'], data), axis=1)\n"
     ]
    },
    {
     "name": "stdout",
     "output_type": "stream",
     "text": [
      "FM0358\n",
      "SH0203\n",
      "FM2114\n",
      "FM1488\n"
     ]
    },
    {
     "name": "stderr",
     "output_type": "stream",
     "text": [
      "/var/folders/fz/qwk5rxqs39gcy8h_0lhy47c80000gn/T/ipykernel_40576/4022452298.py:87: SettingWithCopyWarning: \n",
      "A value is trying to be set on a copy of a slice from a DataFrame.\n",
      "Try using .loc[row_indexer,col_indexer] = value instead\n",
      "\n",
      "See the caveats in the documentation: https://pandas.pydata.org/pandas-docs/stable/user_guide/indexing.html#returning-a-view-versus-a-copy\n",
      "  tvdf['mile'] = tvdf.apply(lambda row: closest_mile_marker(row['X'], row['Y'], data), axis=1)\n"
     ]
    },
    {
     "name": "stdout",
     "output_type": "stream",
     "text": [
      "US0190\n"
     ]
    },
    {
     "name": "stderr",
     "output_type": "stream",
     "text": [
      "/var/folders/fz/qwk5rxqs39gcy8h_0lhy47c80000gn/T/ipykernel_40576/4022452298.py:87: SettingWithCopyWarning: \n",
      "A value is trying to be set on a copy of a slice from a DataFrame.\n",
      "Try using .loc[row_indexer,col_indexer] = value instead\n",
      "\n",
      "See the caveats in the documentation: https://pandas.pydata.org/pandas-docs/stable/user_guide/indexing.html#returning-a-view-versus-a-copy\n",
      "  tvdf['mile'] = tvdf.apply(lambda row: closest_mile_marker(row['X'], row['Y'], data), axis=1)\n",
      "/var/folders/fz/qwk5rxqs39gcy8h_0lhy47c80000gn/T/ipykernel_40576/4022452298.py:87: SettingWithCopyWarning: \n",
      "A value is trying to be set on a copy of a slice from a DataFrame.\n",
      "Try using .loc[row_indexer,col_indexer] = value instead\n",
      "\n",
      "See the caveats in the documentation: https://pandas.pydata.org/pandas-docs/stable/user_guide/indexing.html#returning-a-view-versus-a-copy\n",
      "  tvdf['mile'] = tvdf.apply(lambda row: closest_mile_marker(row['X'], row['Y'], data), axis=1)\n",
      "/var/folders/fz/qwk5rxqs39gcy8h_0lhy47c80000gn/T/ipykernel_40576/4022452298.py:87: SettingWithCopyWarning: \n",
      "A value is trying to be set on a copy of a slice from a DataFrame.\n",
      "Try using .loc[row_indexer,col_indexer] = value instead\n",
      "\n",
      "See the caveats in the documentation: https://pandas.pydata.org/pandas-docs/stable/user_guide/indexing.html#returning-a-view-versus-a-copy\n",
      "  tvdf['mile'] = tvdf.apply(lambda row: closest_mile_marker(row['X'], row['Y'], data), axis=1)\n",
      "/var/folders/fz/qwk5rxqs39gcy8h_0lhy47c80000gn/T/ipykernel_40576/4022452298.py:87: SettingWithCopyWarning: \n",
      "A value is trying to be set on a copy of a slice from a DataFrame.\n",
      "Try using .loc[row_indexer,col_indexer] = value instead\n",
      "\n",
      "See the caveats in the documentation: https://pandas.pydata.org/pandas-docs/stable/user_guide/indexing.html#returning-a-view-versus-a-copy\n",
      "  tvdf['mile'] = tvdf.apply(lambda row: closest_mile_marker(row['X'], row['Y'], data), axis=1)\n"
     ]
    },
    {
     "name": "stdout",
     "output_type": "stream",
     "text": [
      "FM0090\n",
      "FM0609\n",
      "FM1095\n",
      "SH0094\n"
     ]
    },
    {
     "name": "stderr",
     "output_type": "stream",
     "text": [
      "/var/folders/fz/qwk5rxqs39gcy8h_0lhy47c80000gn/T/ipykernel_40576/4022452298.py:87: SettingWithCopyWarning: \n",
      "A value is trying to be set on a copy of a slice from a DataFrame.\n",
      "Try using .loc[row_indexer,col_indexer] = value instead\n",
      "\n",
      "See the caveats in the documentation: https://pandas.pydata.org/pandas-docs/stable/user_guide/indexing.html#returning-a-view-versus-a-copy\n",
      "  tvdf['mile'] = tvdf.apply(lambda row: closest_mile_marker(row['X'], row['Y'], data), axis=1)\n",
      "/var/folders/fz/qwk5rxqs39gcy8h_0lhy47c80000gn/T/ipykernel_40576/4022452298.py:87: SettingWithCopyWarning: \n",
      "A value is trying to be set on a copy of a slice from a DataFrame.\n",
      "Try using .loc[row_indexer,col_indexer] = value instead\n",
      "\n",
      "See the caveats in the documentation: https://pandas.pydata.org/pandas-docs/stable/user_guide/indexing.html#returning-a-view-versus-a-copy\n",
      "  tvdf['mile'] = tvdf.apply(lambda row: closest_mile_marker(row['X'], row['Y'], data), axis=1)\n",
      "/var/folders/fz/qwk5rxqs39gcy8h_0lhy47c80000gn/T/ipykernel_40576/4022452298.py:87: SettingWithCopyWarning: \n",
      "A value is trying to be set on a copy of a slice from a DataFrame.\n",
      "Try using .loc[row_indexer,col_indexer] = value instead\n",
      "\n",
      "See the caveats in the documentation: https://pandas.pydata.org/pandas-docs/stable/user_guide/indexing.html#returning-a-view-versus-a-copy\n",
      "  tvdf['mile'] = tvdf.apply(lambda row: closest_mile_marker(row['X'], row['Y'], data), axis=1)\n",
      "/var/folders/fz/qwk5rxqs39gcy8h_0lhy47c80000gn/T/ipykernel_40576/4022452298.py:87: SettingWithCopyWarning: \n",
      "A value is trying to be set on a copy of a slice from a DataFrame.\n",
      "Try using .loc[row_indexer,col_indexer] = value instead\n",
      "\n",
      "See the caveats in the documentation: https://pandas.pydata.org/pandas-docs/stable/user_guide/indexing.html#returning-a-view-versus-a-copy\n",
      "  tvdf['mile'] = tvdf.apply(lambda row: closest_mile_marker(row['X'], row['Y'], data), axis=1)\n"
     ]
    },
    {
     "name": "stdout",
     "output_type": "stream",
     "text": [
      "SH0339\n",
      "RM0620\n",
      "FM2164\n",
      "FM0070\n"
     ]
    },
    {
     "name": "stderr",
     "output_type": "stream",
     "text": [
      "/var/folders/fz/qwk5rxqs39gcy8h_0lhy47c80000gn/T/ipykernel_40576/4022452298.py:87: SettingWithCopyWarning: \n",
      "A value is trying to be set on a copy of a slice from a DataFrame.\n",
      "Try using .loc[row_indexer,col_indexer] = value instead\n",
      "\n",
      "See the caveats in the documentation: https://pandas.pydata.org/pandas-docs/stable/user_guide/indexing.html#returning-a-view-versus-a-copy\n",
      "  tvdf['mile'] = tvdf.apply(lambda row: closest_mile_marker(row['X'], row['Y'], data), axis=1)\n",
      "/var/folders/fz/qwk5rxqs39gcy8h_0lhy47c80000gn/T/ipykernel_40576/4022452298.py:87: SettingWithCopyWarning: \n",
      "A value is trying to be set on a copy of a slice from a DataFrame.\n",
      "Try using .loc[row_indexer,col_indexer] = value instead\n",
      "\n",
      "See the caveats in the documentation: https://pandas.pydata.org/pandas-docs/stable/user_guide/indexing.html#returning-a-view-versus-a-copy\n",
      "  tvdf['mile'] = tvdf.apply(lambda row: closest_mile_marker(row['X'], row['Y'], data), axis=1)\n",
      "/var/folders/fz/qwk5rxqs39gcy8h_0lhy47c80000gn/T/ipykernel_40576/4022452298.py:87: SettingWithCopyWarning: \n",
      "A value is trying to be set on a copy of a slice from a DataFrame.\n",
      "Try using .loc[row_indexer,col_indexer] = value instead\n",
      "\n",
      "See the caveats in the documentation: https://pandas.pydata.org/pandas-docs/stable/user_guide/indexing.html#returning-a-view-versus-a-copy\n",
      "  tvdf['mile'] = tvdf.apply(lambda row: closest_mile_marker(row['X'], row['Y'], data), axis=1)\n"
     ]
    },
    {
     "name": "stdout",
     "output_type": "stream",
     "text": [
      "FM0256\n",
      "FM1787\n",
      "FM0649\n",
      "SH0035\n"
     ]
    },
    {
     "name": "stderr",
     "output_type": "stream",
     "text": [
      "/var/folders/fz/qwk5rxqs39gcy8h_0lhy47c80000gn/T/ipykernel_40576/4022452298.py:87: SettingWithCopyWarning: \n",
      "A value is trying to be set on a copy of a slice from a DataFrame.\n",
      "Try using .loc[row_indexer,col_indexer] = value instead\n",
      "\n",
      "See the caveats in the documentation: https://pandas.pydata.org/pandas-docs/stable/user_guide/indexing.html#returning-a-view-versus-a-copy\n",
      "  tvdf['mile'] = tvdf.apply(lambda row: closest_mile_marker(row['X'], row['Y'], data), axis=1)\n",
      "/var/folders/fz/qwk5rxqs39gcy8h_0lhy47c80000gn/T/ipykernel_40576/4022452298.py:87: SettingWithCopyWarning: \n",
      "A value is trying to be set on a copy of a slice from a DataFrame.\n",
      "Try using .loc[row_indexer,col_indexer] = value instead\n",
      "\n",
      "See the caveats in the documentation: https://pandas.pydata.org/pandas-docs/stable/user_guide/indexing.html#returning-a-view-versus-a-copy\n",
      "  tvdf['mile'] = tvdf.apply(lambda row: closest_mile_marker(row['X'], row['Y'], data), axis=1)\n",
      "/var/folders/fz/qwk5rxqs39gcy8h_0lhy47c80000gn/T/ipykernel_40576/4022452298.py:87: SettingWithCopyWarning: \n",
      "A value is trying to be set on a copy of a slice from a DataFrame.\n",
      "Try using .loc[row_indexer,col_indexer] = value instead\n",
      "\n",
      "See the caveats in the documentation: https://pandas.pydata.org/pandas-docs/stable/user_guide/indexing.html#returning-a-view-versus-a-copy\n",
      "  tvdf['mile'] = tvdf.apply(lambda row: closest_mile_marker(row['X'], row['Y'], data), axis=1)\n",
      "/var/folders/fz/qwk5rxqs39gcy8h_0lhy47c80000gn/T/ipykernel_40576/4022452298.py:87: SettingWithCopyWarning: \n",
      "A value is trying to be set on a copy of a slice from a DataFrame.\n",
      "Try using .loc[row_indexer,col_indexer] = value instead\n",
      "\n",
      "See the caveats in the documentation: https://pandas.pydata.org/pandas-docs/stable/user_guide/indexing.html#returning-a-view-versus-a-copy\n",
      "  tvdf['mile'] = tvdf.apply(lambda row: closest_mile_marker(row['X'], row['Y'], data), axis=1)\n"
     ]
    },
    {
     "name": "stdout",
     "output_type": "stream",
     "text": [
      "FM0523\n",
      "FM1057\n",
      "SH0060\n"
     ]
    },
    {
     "name": "stderr",
     "output_type": "stream",
     "text": [
      "/var/folders/fz/qwk5rxqs39gcy8h_0lhy47c80000gn/T/ipykernel_40576/4022452298.py:87: SettingWithCopyWarning: \n",
      "A value is trying to be set on a copy of a slice from a DataFrame.\n",
      "Try using .loc[row_indexer,col_indexer] = value instead\n",
      "\n",
      "See the caveats in the documentation: https://pandas.pydata.org/pandas-docs/stable/user_guide/indexing.html#returning-a-view-versus-a-copy\n",
      "  tvdf['mile'] = tvdf.apply(lambda row: closest_mile_marker(row['X'], row['Y'], data), axis=1)\n",
      "/var/folders/fz/qwk5rxqs39gcy8h_0lhy47c80000gn/T/ipykernel_40576/4022452298.py:87: SettingWithCopyWarning: \n",
      "A value is trying to be set on a copy of a slice from a DataFrame.\n",
      "Try using .loc[row_indexer,col_indexer] = value instead\n",
      "\n",
      "See the caveats in the documentation: https://pandas.pydata.org/pandas-docs/stable/user_guide/indexing.html#returning-a-view-versus-a-copy\n",
      "  tvdf['mile'] = tvdf.apply(lambda row: closest_mile_marker(row['X'], row['Y'], data), axis=1)\n",
      "/var/folders/fz/qwk5rxqs39gcy8h_0lhy47c80000gn/T/ipykernel_40576/4022452298.py:87: SettingWithCopyWarning: \n",
      "A value is trying to be set on a copy of a slice from a DataFrame.\n",
      "Try using .loc[row_indexer,col_indexer] = value instead\n",
      "\n",
      "See the caveats in the documentation: https://pandas.pydata.org/pandas-docs/stable/user_guide/indexing.html#returning-a-view-versus-a-copy\n",
      "  tvdf['mile'] = tvdf.apply(lambda row: closest_mile_marker(row['X'], row['Y'], data), axis=1)\n",
      "/var/folders/fz/qwk5rxqs39gcy8h_0lhy47c80000gn/T/ipykernel_40576/4022452298.py:87: SettingWithCopyWarning: \n",
      "A value is trying to be set on a copy of a slice from a DataFrame.\n",
      "Try using .loc[row_indexer,col_indexer] = value instead\n",
      "\n",
      "See the caveats in the documentation: https://pandas.pydata.org/pandas-docs/stable/user_guide/indexing.html#returning-a-view-versus-a-copy\n",
      "  tvdf['mile'] = tvdf.apply(lambda row: closest_mile_marker(row['X'], row['Y'], data), axis=1)\n"
     ]
    },
    {
     "name": "stdout",
     "output_type": "stream",
     "text": [
      "SH0254\n",
      "SL0571\n",
      "FM1518\n",
      "SL0001\n"
     ]
    },
    {
     "name": "stderr",
     "output_type": "stream",
     "text": [
      "/var/folders/fz/qwk5rxqs39gcy8h_0lhy47c80000gn/T/ipykernel_40576/4022452298.py:87: SettingWithCopyWarning: \n",
      "A value is trying to be set on a copy of a slice from a DataFrame.\n",
      "Try using .loc[row_indexer,col_indexer] = value instead\n",
      "\n",
      "See the caveats in the documentation: https://pandas.pydata.org/pandas-docs/stable/user_guide/indexing.html#returning-a-view-versus-a-copy\n",
      "  tvdf['mile'] = tvdf.apply(lambda row: closest_mile_marker(row['X'], row['Y'], data), axis=1)\n",
      "/var/folders/fz/qwk5rxqs39gcy8h_0lhy47c80000gn/T/ipykernel_40576/4022452298.py:87: SettingWithCopyWarning: \n",
      "A value is trying to be set on a copy of a slice from a DataFrame.\n",
      "Try using .loc[row_indexer,col_indexer] = value instead\n",
      "\n",
      "See the caveats in the documentation: https://pandas.pydata.org/pandas-docs/stable/user_guide/indexing.html#returning-a-view-versus-a-copy\n",
      "  tvdf['mile'] = tvdf.apply(lambda row: closest_mile_marker(row['X'], row['Y'], data), axis=1)\n"
     ]
    },
    {
     "name": "stdout",
     "output_type": "stream",
     "text": [
      "FM0659\n",
      "SH0099\n"
     ]
    },
    {
     "name": "stderr",
     "output_type": "stream",
     "text": [
      "/var/folders/fz/qwk5rxqs39gcy8h_0lhy47c80000gn/T/ipykernel_40576/4022452298.py:87: SettingWithCopyWarning: \n",
      "A value is trying to be set on a copy of a slice from a DataFrame.\n",
      "Try using .loc[row_indexer,col_indexer] = value instead\n",
      "\n",
      "See the caveats in the documentation: https://pandas.pydata.org/pandas-docs/stable/user_guide/indexing.html#returning-a-view-versus-a-copy\n",
      "  tvdf['mile'] = tvdf.apply(lambda row: closest_mile_marker(row['X'], row['Y'], data), axis=1)\n",
      "/var/folders/fz/qwk5rxqs39gcy8h_0lhy47c80000gn/T/ipykernel_40576/4022452298.py:87: SettingWithCopyWarning: \n",
      "A value is trying to be set on a copy of a slice from a DataFrame.\n",
      "Try using .loc[row_indexer,col_indexer] = value instead\n",
      "\n",
      "See the caveats in the documentation: https://pandas.pydata.org/pandas-docs/stable/user_guide/indexing.html#returning-a-view-versus-a-copy\n",
      "  tvdf['mile'] = tvdf.apply(lambda row: closest_mile_marker(row['X'], row['Y'], data), axis=1)\n",
      "/var/folders/fz/qwk5rxqs39gcy8h_0lhy47c80000gn/T/ipykernel_40576/4022452298.py:87: SettingWithCopyWarning: \n",
      "A value is trying to be set on a copy of a slice from a DataFrame.\n",
      "Try using .loc[row_indexer,col_indexer] = value instead\n",
      "\n",
      "See the caveats in the documentation: https://pandas.pydata.org/pandas-docs/stable/user_guide/indexing.html#returning-a-view-versus-a-copy\n",
      "  tvdf['mile'] = tvdf.apply(lambda row: closest_mile_marker(row['X'], row['Y'], data), axis=1)\n"
     ]
    },
    {
     "name": "stdout",
     "output_type": "stream",
     "text": [
      "SH0108\n",
      "FM0057\n",
      "FM0368\n"
     ]
    },
    {
     "name": "stderr",
     "output_type": "stream",
     "text": [
      "/var/folders/fz/qwk5rxqs39gcy8h_0lhy47c80000gn/T/ipykernel_40576/4022452298.py:87: SettingWithCopyWarning: \n",
      "A value is trying to be set on a copy of a slice from a DataFrame.\n",
      "Try using .loc[row_indexer,col_indexer] = value instead\n",
      "\n",
      "See the caveats in the documentation: https://pandas.pydata.org/pandas-docs/stable/user_guide/indexing.html#returning-a-view-versus-a-copy\n",
      "  tvdf['mile'] = tvdf.apply(lambda row: closest_mile_marker(row['X'], row['Y'], data), axis=1)\n",
      "/var/folders/fz/qwk5rxqs39gcy8h_0lhy47c80000gn/T/ipykernel_40576/4022452298.py:87: SettingWithCopyWarning: \n",
      "A value is trying to be set on a copy of a slice from a DataFrame.\n",
      "Try using .loc[row_indexer,col_indexer] = value instead\n",
      "\n",
      "See the caveats in the documentation: https://pandas.pydata.org/pandas-docs/stable/user_guide/indexing.html#returning-a-view-versus-a-copy\n",
      "  tvdf['mile'] = tvdf.apply(lambda row: closest_mile_marker(row['X'], row['Y'], data), axis=1)\n"
     ]
    },
    {
     "name": "stdout",
     "output_type": "stream",
     "text": [
      "FM1008\n",
      "US0287\n"
     ]
    },
    {
     "name": "stderr",
     "output_type": "stream",
     "text": [
      "/var/folders/fz/qwk5rxqs39gcy8h_0lhy47c80000gn/T/ipykernel_40576/4022452298.py:87: SettingWithCopyWarning: \n",
      "A value is trying to be set on a copy of a slice from a DataFrame.\n",
      "Try using .loc[row_indexer,col_indexer] = value instead\n",
      "\n",
      "See the caveats in the documentation: https://pandas.pydata.org/pandas-docs/stable/user_guide/indexing.html#returning-a-view-versus-a-copy\n",
      "  tvdf['mile'] = tvdf.apply(lambda row: closest_mile_marker(row['X'], row['Y'], data), axis=1)\n",
      "/var/folders/fz/qwk5rxqs39gcy8h_0lhy47c80000gn/T/ipykernel_40576/4022452298.py:87: SettingWithCopyWarning: \n",
      "A value is trying to be set on a copy of a slice from a DataFrame.\n",
      "Try using .loc[row_indexer,col_indexer] = value instead\n",
      "\n",
      "See the caveats in the documentation: https://pandas.pydata.org/pandas-docs/stable/user_guide/indexing.html#returning-a-view-versus-a-copy\n",
      "  tvdf['mile'] = tvdf.apply(lambda row: closest_mile_marker(row['X'], row['Y'], data), axis=1)\n"
     ]
    },
    {
     "name": "stdout",
     "output_type": "stream",
     "text": [
      "FM0580\n",
      "SH0043\n"
     ]
    },
    {
     "name": "stderr",
     "output_type": "stream",
     "text": [
      "/var/folders/fz/qwk5rxqs39gcy8h_0lhy47c80000gn/T/ipykernel_40576/4022452298.py:87: SettingWithCopyWarning: \n",
      "A value is trying to be set on a copy of a slice from a DataFrame.\n",
      "Try using .loc[row_indexer,col_indexer] = value instead\n",
      "\n",
      "See the caveats in the documentation: https://pandas.pydata.org/pandas-docs/stable/user_guide/indexing.html#returning-a-view-versus-a-copy\n",
      "  tvdf['mile'] = tvdf.apply(lambda row: closest_mile_marker(row['X'], row['Y'], data), axis=1)\n",
      "/var/folders/fz/qwk5rxqs39gcy8h_0lhy47c80000gn/T/ipykernel_40576/4022452298.py:87: SettingWithCopyWarning: \n",
      "A value is trying to be set on a copy of a slice from a DataFrame.\n",
      "Try using .loc[row_indexer,col_indexer] = value instead\n",
      "\n",
      "See the caveats in the documentation: https://pandas.pydata.org/pandas-docs/stable/user_guide/indexing.html#returning-a-view-versus-a-copy\n",
      "  tvdf['mile'] = tvdf.apply(lambda row: closest_mile_marker(row['X'], row['Y'], data), axis=1)\n"
     ]
    },
    {
     "name": "stdout",
     "output_type": "stream",
     "text": [
      "RM1869\n",
      "SH0075\n"
     ]
    },
    {
     "name": "stderr",
     "output_type": "stream",
     "text": [
      "/var/folders/fz/qwk5rxqs39gcy8h_0lhy47c80000gn/T/ipykernel_40576/4022452298.py:87: SettingWithCopyWarning: \n",
      "A value is trying to be set on a copy of a slice from a DataFrame.\n",
      "Try using .loc[row_indexer,col_indexer] = value instead\n",
      "\n",
      "See the caveats in the documentation: https://pandas.pydata.org/pandas-docs/stable/user_guide/indexing.html#returning-a-view-versus-a-copy\n",
      "  tvdf['mile'] = tvdf.apply(lambda row: closest_mile_marker(row['X'], row['Y'], data), axis=1)\n",
      "/var/folders/fz/qwk5rxqs39gcy8h_0lhy47c80000gn/T/ipykernel_40576/4022452298.py:87: SettingWithCopyWarning: \n",
      "A value is trying to be set on a copy of a slice from a DataFrame.\n",
      "Try using .loc[row_indexer,col_indexer] = value instead\n",
      "\n",
      "See the caveats in the documentation: https://pandas.pydata.org/pandas-docs/stable/user_guide/indexing.html#returning-a-view-versus-a-copy\n",
      "  tvdf['mile'] = tvdf.apply(lambda row: closest_mile_marker(row['X'], row['Y'], data), axis=1)\n",
      "/var/folders/fz/qwk5rxqs39gcy8h_0lhy47c80000gn/T/ipykernel_40576/4022452298.py:87: SettingWithCopyWarning: \n",
      "A value is trying to be set on a copy of a slice from a DataFrame.\n",
      "Try using .loc[row_indexer,col_indexer] = value instead\n",
      "\n",
      "See the caveats in the documentation: https://pandas.pydata.org/pandas-docs/stable/user_guide/indexing.html#returning-a-view-versus-a-copy\n",
      "  tvdf['mile'] = tvdf.apply(lambda row: closest_mile_marker(row['X'], row['Y'], data), axis=1)\n"
     ]
    },
    {
     "name": "stdout",
     "output_type": "stream",
     "text": [
      "SH0149\n",
      "SH0054\n",
      "FM1252\n",
      "SH0315\n"
     ]
    },
    {
     "name": "stderr",
     "output_type": "stream",
     "text": [
      "/var/folders/fz/qwk5rxqs39gcy8h_0lhy47c80000gn/T/ipykernel_40576/4022452298.py:87: SettingWithCopyWarning: \n",
      "A value is trying to be set on a copy of a slice from a DataFrame.\n",
      "Try using .loc[row_indexer,col_indexer] = value instead\n",
      "\n",
      "See the caveats in the documentation: https://pandas.pydata.org/pandas-docs/stable/user_guide/indexing.html#returning-a-view-versus-a-copy\n",
      "  tvdf['mile'] = tvdf.apply(lambda row: closest_mile_marker(row['X'], row['Y'], data), axis=1)\n",
      "/var/folders/fz/qwk5rxqs39gcy8h_0lhy47c80000gn/T/ipykernel_40576/4022452298.py:87: SettingWithCopyWarning: \n",
      "A value is trying to be set on a copy of a slice from a DataFrame.\n",
      "Try using .loc[row_indexer,col_indexer] = value instead\n",
      "\n",
      "See the caveats in the documentation: https://pandas.pydata.org/pandas-docs/stable/user_guide/indexing.html#returning-a-view-versus-a-copy\n",
      "  tvdf['mile'] = tvdf.apply(lambda row: closest_mile_marker(row['X'], row['Y'], data), axis=1)\n",
      "/var/folders/fz/qwk5rxqs39gcy8h_0lhy47c80000gn/T/ipykernel_40576/4022452298.py:87: SettingWithCopyWarning: \n",
      "A value is trying to be set on a copy of a slice from a DataFrame.\n",
      "Try using .loc[row_indexer,col_indexer] = value instead\n",
      "\n",
      "See the caveats in the documentation: https://pandas.pydata.org/pandas-docs/stable/user_guide/indexing.html#returning-a-view-versus-a-copy\n",
      "  tvdf['mile'] = tvdf.apply(lambda row: closest_mile_marker(row['X'], row['Y'], data), axis=1)\n",
      "/var/folders/fz/qwk5rxqs39gcy8h_0lhy47c80000gn/T/ipykernel_40576/4022452298.py:87: SettingWithCopyWarning: \n",
      "A value is trying to be set on a copy of a slice from a DataFrame.\n",
      "Try using .loc[row_indexer,col_indexer] = value instead\n",
      "\n",
      "See the caveats in the documentation: https://pandas.pydata.org/pandas-docs/stable/user_guide/indexing.html#returning-a-view-versus-a-copy\n",
      "  tvdf['mile'] = tvdf.apply(lambda row: closest_mile_marker(row['X'], row['Y'], data), axis=1)\n",
      "/var/folders/fz/qwk5rxqs39gcy8h_0lhy47c80000gn/T/ipykernel_40576/4022452298.py:87: SettingWithCopyWarning: \n",
      "A value is trying to be set on a copy of a slice from a DataFrame.\n",
      "Try using .loc[row_indexer,col_indexer] = value instead\n",
      "\n",
      "See the caveats in the documentation: https://pandas.pydata.org/pandas-docs/stable/user_guide/indexing.html#returning-a-view-versus-a-copy\n",
      "  tvdf['mile'] = tvdf.apply(lambda row: closest_mile_marker(row['X'], row['Y'], data), axis=1)\n",
      "/var/folders/fz/qwk5rxqs39gcy8h_0lhy47c80000gn/T/ipykernel_40576/4022452298.py:87: SettingWithCopyWarning: \n",
      "A value is trying to be set on a copy of a slice from a DataFrame.\n",
      "Try using .loc[row_indexer,col_indexer] = value instead\n",
      "\n",
      "See the caveats in the documentation: https://pandas.pydata.org/pandas-docs/stable/user_guide/indexing.html#returning-a-view-versus-a-copy\n",
      "  tvdf['mile'] = tvdf.apply(lambda row: closest_mile_marker(row['X'], row['Y'], data), axis=1)\n"
     ]
    },
    {
     "name": "stdout",
     "output_type": "stream",
     "text": [
      "FM0618\n",
      "RM0687\n",
      "FM1644\n",
      "FM1119\n",
      "FM0107\n"
     ]
    },
    {
     "name": "stderr",
     "output_type": "stream",
     "text": [
      "/var/folders/fz/qwk5rxqs39gcy8h_0lhy47c80000gn/T/ipykernel_40576/4022452298.py:87: SettingWithCopyWarning: \n",
      "A value is trying to be set on a copy of a slice from a DataFrame.\n",
      "Try using .loc[row_indexer,col_indexer] = value instead\n",
      "\n",
      "See the caveats in the documentation: https://pandas.pydata.org/pandas-docs/stable/user_guide/indexing.html#returning-a-view-versus-a-copy\n",
      "  tvdf['mile'] = tvdf.apply(lambda row: closest_mile_marker(row['X'], row['Y'], data), axis=1)\n",
      "/var/folders/fz/qwk5rxqs39gcy8h_0lhy47c80000gn/T/ipykernel_40576/4022452298.py:87: SettingWithCopyWarning: \n",
      "A value is trying to be set on a copy of a slice from a DataFrame.\n",
      "Try using .loc[row_indexer,col_indexer] = value instead\n",
      "\n",
      "See the caveats in the documentation: https://pandas.pydata.org/pandas-docs/stable/user_guide/indexing.html#returning-a-view-versus-a-copy\n",
      "  tvdf['mile'] = tvdf.apply(lambda row: closest_mile_marker(row['X'], row['Y'], data), axis=1)\n",
      "/var/folders/fz/qwk5rxqs39gcy8h_0lhy47c80000gn/T/ipykernel_40576/4022452298.py:87: SettingWithCopyWarning: \n",
      "A value is trying to be set on a copy of a slice from a DataFrame.\n",
      "Try using .loc[row_indexer,col_indexer] = value instead\n",
      "\n",
      "See the caveats in the documentation: https://pandas.pydata.org/pandas-docs/stable/user_guide/indexing.html#returning-a-view-versus-a-copy\n",
      "  tvdf['mile'] = tvdf.apply(lambda row: closest_mile_marker(row['X'], row['Y'], data), axis=1)\n",
      "/var/folders/fz/qwk5rxqs39gcy8h_0lhy47c80000gn/T/ipykernel_40576/4022452298.py:87: SettingWithCopyWarning: \n",
      "A value is trying to be set on a copy of a slice from a DataFrame.\n",
      "Try using .loc[row_indexer,col_indexer] = value instead\n",
      "\n",
      "See the caveats in the documentation: https://pandas.pydata.org/pandas-docs/stable/user_guide/indexing.html#returning-a-view-versus-a-copy\n",
      "  tvdf['mile'] = tvdf.apply(lambda row: closest_mile_marker(row['X'], row['Y'], data), axis=1)\n",
      "/var/folders/fz/qwk5rxqs39gcy8h_0lhy47c80000gn/T/ipykernel_40576/4022452298.py:87: SettingWithCopyWarning: \n",
      "A value is trying to be set on a copy of a slice from a DataFrame.\n",
      "Try using .loc[row_indexer,col_indexer] = value instead\n",
      "\n",
      "See the caveats in the documentation: https://pandas.pydata.org/pandas-docs/stable/user_guide/indexing.html#returning-a-view-versus-a-copy\n",
      "  tvdf['mile'] = tvdf.apply(lambda row: closest_mile_marker(row['X'], row['Y'], data), axis=1)\n"
     ]
    },
    {
     "name": "stdout",
     "output_type": "stream",
     "text": [
      "FM2862\n",
      "FM0055\n",
      "SL0306\n",
      "RM0674\n",
      "SH0323\n"
     ]
    },
    {
     "name": "stderr",
     "output_type": "stream",
     "text": [
      "/var/folders/fz/qwk5rxqs39gcy8h_0lhy47c80000gn/T/ipykernel_40576/4022452298.py:87: SettingWithCopyWarning: \n",
      "A value is trying to be set on a copy of a slice from a DataFrame.\n",
      "Try using .loc[row_indexer,col_indexer] = value instead\n",
      "\n",
      "See the caveats in the documentation: https://pandas.pydata.org/pandas-docs/stable/user_guide/indexing.html#returning-a-view-versus-a-copy\n",
      "  tvdf['mile'] = tvdf.apply(lambda row: closest_mile_marker(row['X'], row['Y'], data), axis=1)\n",
      "/var/folders/fz/qwk5rxqs39gcy8h_0lhy47c80000gn/T/ipykernel_40576/4022452298.py:87: SettingWithCopyWarning: \n",
      "A value is trying to be set on a copy of a slice from a DataFrame.\n",
      "Try using .loc[row_indexer,col_indexer] = value instead\n",
      "\n",
      "See the caveats in the documentation: https://pandas.pydata.org/pandas-docs/stable/user_guide/indexing.html#returning-a-view-versus-a-copy\n",
      "  tvdf['mile'] = tvdf.apply(lambda row: closest_mile_marker(row['X'], row['Y'], data), axis=1)\n",
      "/var/folders/fz/qwk5rxqs39gcy8h_0lhy47c80000gn/T/ipykernel_40576/4022452298.py:87: SettingWithCopyWarning: \n",
      "A value is trying to be set on a copy of a slice from a DataFrame.\n",
      "Try using .loc[row_indexer,col_indexer] = value instead\n",
      "\n",
      "See the caveats in the documentation: https://pandas.pydata.org/pandas-docs/stable/user_guide/indexing.html#returning-a-view-versus-a-copy\n",
      "  tvdf['mile'] = tvdf.apply(lambda row: closest_mile_marker(row['X'], row['Y'], data), axis=1)\n"
     ]
    },
    {
     "name": "stdout",
     "output_type": "stream",
     "text": [
      "FM0577\n",
      "BS0288\n",
      "bad df\n",
      "BU0069\n",
      "bad df\n",
      "FM1179\n",
      "FM0037\n"
     ]
    },
    {
     "name": "stderr",
     "output_type": "stream",
     "text": [
      "/var/folders/fz/qwk5rxqs39gcy8h_0lhy47c80000gn/T/ipykernel_40576/4022452298.py:87: SettingWithCopyWarning: \n",
      "A value is trying to be set on a copy of a slice from a DataFrame.\n",
      "Try using .loc[row_indexer,col_indexer] = value instead\n",
      "\n",
      "See the caveats in the documentation: https://pandas.pydata.org/pandas-docs/stable/user_guide/indexing.html#returning-a-view-versus-a-copy\n",
      "  tvdf['mile'] = tvdf.apply(lambda row: closest_mile_marker(row['X'], row['Y'], data), axis=1)\n",
      "/var/folders/fz/qwk5rxqs39gcy8h_0lhy47c80000gn/T/ipykernel_40576/4022452298.py:87: SettingWithCopyWarning: \n",
      "A value is trying to be set on a copy of a slice from a DataFrame.\n",
      "Try using .loc[row_indexer,col_indexer] = value instead\n",
      "\n",
      "See the caveats in the documentation: https://pandas.pydata.org/pandas-docs/stable/user_guide/indexing.html#returning-a-view-versus-a-copy\n",
      "  tvdf['mile'] = tvdf.apply(lambda row: closest_mile_marker(row['X'], row['Y'], data), axis=1)\n",
      "/var/folders/fz/qwk5rxqs39gcy8h_0lhy47c80000gn/T/ipykernel_40576/4022452298.py:87: SettingWithCopyWarning: \n",
      "A value is trying to be set on a copy of a slice from a DataFrame.\n",
      "Try using .loc[row_indexer,col_indexer] = value instead\n",
      "\n",
      "See the caveats in the documentation: https://pandas.pydata.org/pandas-docs/stable/user_guide/indexing.html#returning-a-view-versus-a-copy\n",
      "  tvdf['mile'] = tvdf.apply(lambda row: closest_mile_marker(row['X'], row['Y'], data), axis=1)\n"
     ]
    },
    {
     "name": "stdout",
     "output_type": "stream",
     "text": [
      "FM0945\n",
      "SL0121\n",
      "SH0029\n"
     ]
    },
    {
     "name": "stderr",
     "output_type": "stream",
     "text": [
      "/var/folders/fz/qwk5rxqs39gcy8h_0lhy47c80000gn/T/ipykernel_40576/4022452298.py:87: SettingWithCopyWarning: \n",
      "A value is trying to be set on a copy of a slice from a DataFrame.\n",
      "Try using .loc[row_indexer,col_indexer] = value instead\n",
      "\n",
      "See the caveats in the documentation: https://pandas.pydata.org/pandas-docs/stable/user_guide/indexing.html#returning-a-view-versus-a-copy\n",
      "  tvdf['mile'] = tvdf.apply(lambda row: closest_mile_marker(row['X'], row['Y'], data), axis=1)\n",
      "/var/folders/fz/qwk5rxqs39gcy8h_0lhy47c80000gn/T/ipykernel_40576/4022452298.py:87: SettingWithCopyWarning: \n",
      "A value is trying to be set on a copy of a slice from a DataFrame.\n",
      "Try using .loc[row_indexer,col_indexer] = value instead\n",
      "\n",
      "See the caveats in the documentation: https://pandas.pydata.org/pandas-docs/stable/user_guide/indexing.html#returning-a-view-versus-a-copy\n",
      "  tvdf['mile'] = tvdf.apply(lambda row: closest_mile_marker(row['X'], row['Y'], data), axis=1)\n",
      "/var/folders/fz/qwk5rxqs39gcy8h_0lhy47c80000gn/T/ipykernel_40576/4022452298.py:87: SettingWithCopyWarning: \n",
      "A value is trying to be set on a copy of a slice from a DataFrame.\n",
      "Try using .loc[row_indexer,col_indexer] = value instead\n",
      "\n",
      "See the caveats in the documentation: https://pandas.pydata.org/pandas-docs/stable/user_guide/indexing.html#returning-a-view-versus-a-copy\n",
      "  tvdf['mile'] = tvdf.apply(lambda row: closest_mile_marker(row['X'], row['Y'], data), axis=1)\n"
     ]
    },
    {
     "name": "stdout",
     "output_type": "stream",
     "text": [
      "FM0021\n",
      "SH0081\n",
      "SH0085\n"
     ]
    },
    {
     "name": "stderr",
     "output_type": "stream",
     "text": [
      "/var/folders/fz/qwk5rxqs39gcy8h_0lhy47c80000gn/T/ipykernel_40576/4022452298.py:87: SettingWithCopyWarning: \n",
      "A value is trying to be set on a copy of a slice from a DataFrame.\n",
      "Try using .loc[row_indexer,col_indexer] = value instead\n",
      "\n",
      "See the caveats in the documentation: https://pandas.pydata.org/pandas-docs/stable/user_guide/indexing.html#returning-a-view-versus-a-copy\n",
      "  tvdf['mile'] = tvdf.apply(lambda row: closest_mile_marker(row['X'], row['Y'], data), axis=1)\n",
      "/var/folders/fz/qwk5rxqs39gcy8h_0lhy47c80000gn/T/ipykernel_40576/4022452298.py:87: SettingWithCopyWarning: \n",
      "A value is trying to be set on a copy of a slice from a DataFrame.\n",
      "Try using .loc[row_indexer,col_indexer] = value instead\n",
      "\n",
      "See the caveats in the documentation: https://pandas.pydata.org/pandas-docs/stable/user_guide/indexing.html#returning-a-view-versus-a-copy\n",
      "  tvdf['mile'] = tvdf.apply(lambda row: closest_mile_marker(row['X'], row['Y'], data), axis=1)\n",
      "/var/folders/fz/qwk5rxqs39gcy8h_0lhy47c80000gn/T/ipykernel_40576/4022452298.py:87: SettingWithCopyWarning: \n",
      "A value is trying to be set on a copy of a slice from a DataFrame.\n",
      "Try using .loc[row_indexer,col_indexer] = value instead\n",
      "\n",
      "See the caveats in the documentation: https://pandas.pydata.org/pandas-docs/stable/user_guide/indexing.html#returning-a-view-versus-a-copy\n",
      "  tvdf['mile'] = tvdf.apply(lambda row: closest_mile_marker(row['X'], row['Y'], data), axis=1)\n",
      "/var/folders/fz/qwk5rxqs39gcy8h_0lhy47c80000gn/T/ipykernel_40576/4022452298.py:87: SettingWithCopyWarning: \n",
      "A value is trying to be set on a copy of a slice from a DataFrame.\n",
      "Try using .loc[row_indexer,col_indexer] = value instead\n",
      "\n",
      "See the caveats in the documentation: https://pandas.pydata.org/pandas-docs/stable/user_guide/indexing.html#returning-a-view-versus-a-copy\n",
      "  tvdf['mile'] = tvdf.apply(lambda row: closest_mile_marker(row['X'], row['Y'], data), axis=1)\n"
     ]
    },
    {
     "name": "stdout",
     "output_type": "stream",
     "text": [
      "FM0346\n",
      "SH0186\n",
      "FM0544\n",
      "BU0090\n",
      "bad df\n",
      "SH0072\n"
     ]
    },
    {
     "name": "stderr",
     "output_type": "stream",
     "text": [
      "/var/folders/fz/qwk5rxqs39gcy8h_0lhy47c80000gn/T/ipykernel_40576/4022452298.py:87: SettingWithCopyWarning: \n",
      "A value is trying to be set on a copy of a slice from a DataFrame.\n",
      "Try using .loc[row_indexer,col_indexer] = value instead\n",
      "\n",
      "See the caveats in the documentation: https://pandas.pydata.org/pandas-docs/stable/user_guide/indexing.html#returning-a-view-versus-a-copy\n",
      "  tvdf['mile'] = tvdf.apply(lambda row: closest_mile_marker(row['X'], row['Y'], data), axis=1)\n",
      "/var/folders/fz/qwk5rxqs39gcy8h_0lhy47c80000gn/T/ipykernel_40576/4022452298.py:87: SettingWithCopyWarning: \n",
      "A value is trying to be set on a copy of a slice from a DataFrame.\n",
      "Try using .loc[row_indexer,col_indexer] = value instead\n",
      "\n",
      "See the caveats in the documentation: https://pandas.pydata.org/pandas-docs/stable/user_guide/indexing.html#returning-a-view-versus-a-copy\n",
      "  tvdf['mile'] = tvdf.apply(lambda row: closest_mile_marker(row['X'], row['Y'], data), axis=1)\n",
      "/var/folders/fz/qwk5rxqs39gcy8h_0lhy47c80000gn/T/ipykernel_40576/4022452298.py:87: SettingWithCopyWarning: \n",
      "A value is trying to be set on a copy of a slice from a DataFrame.\n",
      "Try using .loc[row_indexer,col_indexer] = value instead\n",
      "\n",
      "See the caveats in the documentation: https://pandas.pydata.org/pandas-docs/stable/user_guide/indexing.html#returning-a-view-versus-a-copy\n",
      "  tvdf['mile'] = tvdf.apply(lambda row: closest_mile_marker(row['X'], row['Y'], data), axis=1)\n",
      "/var/folders/fz/qwk5rxqs39gcy8h_0lhy47c80000gn/T/ipykernel_40576/4022452298.py:87: SettingWithCopyWarning: \n",
      "A value is trying to be set on a copy of a slice from a DataFrame.\n",
      "Try using .loc[row_indexer,col_indexer] = value instead\n",
      "\n",
      "See the caveats in the documentation: https://pandas.pydata.org/pandas-docs/stable/user_guide/indexing.html#returning-a-view-versus-a-copy\n",
      "  tvdf['mile'] = tvdf.apply(lambda row: closest_mile_marker(row['X'], row['Y'], data), axis=1)\n",
      "/var/folders/fz/qwk5rxqs39gcy8h_0lhy47c80000gn/T/ipykernel_40576/4022452298.py:87: SettingWithCopyWarning: \n",
      "A value is trying to be set on a copy of a slice from a DataFrame.\n",
      "Try using .loc[row_indexer,col_indexer] = value instead\n",
      "\n",
      "See the caveats in the documentation: https://pandas.pydata.org/pandas-docs/stable/user_guide/indexing.html#returning-a-view-versus-a-copy\n",
      "  tvdf['mile'] = tvdf.apply(lambda row: closest_mile_marker(row['X'], row['Y'], data), axis=1)\n"
     ]
    },
    {
     "name": "stdout",
     "output_type": "stream",
     "text": [
      "FM1997\n",
      "FM3362\n",
      "FM0095\n",
      "FM1423\n",
      "RM2523\n"
     ]
    },
    {
     "name": "stderr",
     "output_type": "stream",
     "text": [
      "/var/folders/fz/qwk5rxqs39gcy8h_0lhy47c80000gn/T/ipykernel_40576/4022452298.py:87: SettingWithCopyWarning: \n",
      "A value is trying to be set on a copy of a slice from a DataFrame.\n",
      "Try using .loc[row_indexer,col_indexer] = value instead\n",
      "\n",
      "See the caveats in the documentation: https://pandas.pydata.org/pandas-docs/stable/user_guide/indexing.html#returning-a-view-versus-a-copy\n",
      "  tvdf['mile'] = tvdf.apply(lambda row: closest_mile_marker(row['X'], row['Y'], data), axis=1)\n",
      "/var/folders/fz/qwk5rxqs39gcy8h_0lhy47c80000gn/T/ipykernel_40576/4022452298.py:87: SettingWithCopyWarning: \n",
      "A value is trying to be set on a copy of a slice from a DataFrame.\n",
      "Try using .loc[row_indexer,col_indexer] = value instead\n",
      "\n",
      "See the caveats in the documentation: https://pandas.pydata.org/pandas-docs/stable/user_guide/indexing.html#returning-a-view-versus-a-copy\n",
      "  tvdf['mile'] = tvdf.apply(lambda row: closest_mile_marker(row['X'], row['Y'], data), axis=1)\n"
     ]
    },
    {
     "name": "stdout",
     "output_type": "stream",
     "text": [
      "FM0121\n",
      "SH0115\n"
     ]
    },
    {
     "name": "stderr",
     "output_type": "stream",
     "text": [
      "/var/folders/fz/qwk5rxqs39gcy8h_0lhy47c80000gn/T/ipykernel_40576/4022452298.py:87: SettingWithCopyWarning: \n",
      "A value is trying to be set on a copy of a slice from a DataFrame.\n",
      "Try using .loc[row_indexer,col_indexer] = value instead\n",
      "\n",
      "See the caveats in the documentation: https://pandas.pydata.org/pandas-docs/stable/user_guide/indexing.html#returning-a-view-versus-a-copy\n",
      "  tvdf['mile'] = tvdf.apply(lambda row: closest_mile_marker(row['X'], row['Y'], data), axis=1)\n"
     ]
    },
    {
     "name": "stdout",
     "output_type": "stream",
     "text": [
      "SL0008\n"
     ]
    },
    {
     "name": "stderr",
     "output_type": "stream",
     "text": [
      "/var/folders/fz/qwk5rxqs39gcy8h_0lhy47c80000gn/T/ipykernel_40576/4022452298.py:87: SettingWithCopyWarning: \n",
      "A value is trying to be set on a copy of a slice from a DataFrame.\n",
      "Try using .loc[row_indexer,col_indexer] = value instead\n",
      "\n",
      "See the caveats in the documentation: https://pandas.pydata.org/pandas-docs/stable/user_guide/indexing.html#returning-a-view-versus-a-copy\n",
      "  tvdf['mile'] = tvdf.apply(lambda row: closest_mile_marker(row['X'], row['Y'], data), axis=1)\n",
      "/var/folders/fz/qwk5rxqs39gcy8h_0lhy47c80000gn/T/ipykernel_40576/4022452298.py:87: SettingWithCopyWarning: \n",
      "A value is trying to be set on a copy of a slice from a DataFrame.\n",
      "Try using .loc[row_indexer,col_indexer] = value instead\n",
      "\n",
      "See the caveats in the documentation: https://pandas.pydata.org/pandas-docs/stable/user_guide/indexing.html#returning-a-view-versus-a-copy\n",
      "  tvdf['mile'] = tvdf.apply(lambda row: closest_mile_marker(row['X'], row['Y'], data), axis=1)\n",
      "/var/folders/fz/qwk5rxqs39gcy8h_0lhy47c80000gn/T/ipykernel_40576/4022452298.py:87: SettingWithCopyWarning: \n",
      "A value is trying to be set on a copy of a slice from a DataFrame.\n",
      "Try using .loc[row_indexer,col_indexer] = value instead\n",
      "\n",
      "See the caveats in the documentation: https://pandas.pydata.org/pandas-docs/stable/user_guide/indexing.html#returning-a-view-versus-a-copy\n",
      "  tvdf['mile'] = tvdf.apply(lambda row: closest_mile_marker(row['X'], row['Y'], data), axis=1)\n"
     ]
    },
    {
     "name": "stdout",
     "output_type": "stream",
     "text": [
      "FM0699\n",
      "IH0635\n",
      "FM0834\n",
      "SH0326\n"
     ]
    },
    {
     "name": "stderr",
     "output_type": "stream",
     "text": [
      "/var/folders/fz/qwk5rxqs39gcy8h_0lhy47c80000gn/T/ipykernel_40576/4022452298.py:87: SettingWithCopyWarning: \n",
      "A value is trying to be set on a copy of a slice from a DataFrame.\n",
      "Try using .loc[row_indexer,col_indexer] = value instead\n",
      "\n",
      "See the caveats in the documentation: https://pandas.pydata.org/pandas-docs/stable/user_guide/indexing.html#returning-a-view-versus-a-copy\n",
      "  tvdf['mile'] = tvdf.apply(lambda row: closest_mile_marker(row['X'], row['Y'], data), axis=1)\n",
      "/var/folders/fz/qwk5rxqs39gcy8h_0lhy47c80000gn/T/ipykernel_40576/4022452298.py:87: SettingWithCopyWarning: \n",
      "A value is trying to be set on a copy of a slice from a DataFrame.\n",
      "Try using .loc[row_indexer,col_indexer] = value instead\n",
      "\n",
      "See the caveats in the documentation: https://pandas.pydata.org/pandas-docs/stable/user_guide/indexing.html#returning-a-view-versus-a-copy\n",
      "  tvdf['mile'] = tvdf.apply(lambda row: closest_mile_marker(row['X'], row['Y'], data), axis=1)\n",
      "/var/folders/fz/qwk5rxqs39gcy8h_0lhy47c80000gn/T/ipykernel_40576/4022452298.py:87: SettingWithCopyWarning: \n",
      "A value is trying to be set on a copy of a slice from a DataFrame.\n",
      "Try using .loc[row_indexer,col_indexer] = value instead\n",
      "\n",
      "See the caveats in the documentation: https://pandas.pydata.org/pandas-docs/stable/user_guide/indexing.html#returning-a-view-versus-a-copy\n",
      "  tvdf['mile'] = tvdf.apply(lambda row: closest_mile_marker(row['X'], row['Y'], data), axis=1)\n",
      "/var/folders/fz/qwk5rxqs39gcy8h_0lhy47c80000gn/T/ipykernel_40576/4022452298.py:87: SettingWithCopyWarning: \n",
      "A value is trying to be set on a copy of a slice from a DataFrame.\n",
      "Try using .loc[row_indexer,col_indexer] = value instead\n",
      "\n",
      "See the caveats in the documentation: https://pandas.pydata.org/pandas-docs/stable/user_guide/indexing.html#returning-a-view-versus-a-copy\n",
      "  tvdf['mile'] = tvdf.apply(lambda row: closest_mile_marker(row['X'], row['Y'], data), axis=1)\n"
     ]
    },
    {
     "name": "stdout",
     "output_type": "stream",
     "text": [
      "FM1541\n",
      "BU0079\n",
      "bad df\n",
      "FM1472\n",
      "FM0089\n",
      "FM0922\n"
     ]
    },
    {
     "name": "stderr",
     "output_type": "stream",
     "text": [
      "/var/folders/fz/qwk5rxqs39gcy8h_0lhy47c80000gn/T/ipykernel_40576/4022452298.py:87: SettingWithCopyWarning: \n",
      "A value is trying to be set on a copy of a slice from a DataFrame.\n",
      "Try using .loc[row_indexer,col_indexer] = value instead\n",
      "\n",
      "See the caveats in the documentation: https://pandas.pydata.org/pandas-docs/stable/user_guide/indexing.html#returning-a-view-versus-a-copy\n",
      "  tvdf['mile'] = tvdf.apply(lambda row: closest_mile_marker(row['X'], row['Y'], data), axis=1)\n",
      "/var/folders/fz/qwk5rxqs39gcy8h_0lhy47c80000gn/T/ipykernel_40576/4022452298.py:87: SettingWithCopyWarning: \n",
      "A value is trying to be set on a copy of a slice from a DataFrame.\n",
      "Try using .loc[row_indexer,col_indexer] = value instead\n",
      "\n",
      "See the caveats in the documentation: https://pandas.pydata.org/pandas-docs/stable/user_guide/indexing.html#returning-a-view-versus-a-copy\n",
      "  tvdf['mile'] = tvdf.apply(lambda row: closest_mile_marker(row['X'], row['Y'], data), axis=1)\n",
      "/var/folders/fz/qwk5rxqs39gcy8h_0lhy47c80000gn/T/ipykernel_40576/4022452298.py:87: SettingWithCopyWarning: \n",
      "A value is trying to be set on a copy of a slice from a DataFrame.\n",
      "Try using .loc[row_indexer,col_indexer] = value instead\n",
      "\n",
      "See the caveats in the documentation: https://pandas.pydata.org/pandas-docs/stable/user_guide/indexing.html#returning-a-view-versus-a-copy\n",
      "  tvdf['mile'] = tvdf.apply(lambda row: closest_mile_marker(row['X'], row['Y'], data), axis=1)\n",
      "/var/folders/fz/qwk5rxqs39gcy8h_0lhy47c80000gn/T/ipykernel_40576/4022452298.py:87: SettingWithCopyWarning: \n",
      "A value is trying to be set on a copy of a slice from a DataFrame.\n",
      "Try using .loc[row_indexer,col_indexer] = value instead\n",
      "\n",
      "See the caveats in the documentation: https://pandas.pydata.org/pandas-docs/stable/user_guide/indexing.html#returning-a-view-versus-a-copy\n",
      "  tvdf['mile'] = tvdf.apply(lambda row: closest_mile_marker(row['X'], row['Y'], data), axis=1)\n"
     ]
    },
    {
     "name": "stdout",
     "output_type": "stream",
     "text": [
      "FM1283\n",
      "FM0898\n",
      "FM0225\n",
      "SH0357\n",
      "SH0042\n"
     ]
    },
    {
     "name": "stderr",
     "output_type": "stream",
     "text": [
      "/var/folders/fz/qwk5rxqs39gcy8h_0lhy47c80000gn/T/ipykernel_40576/4022452298.py:87: SettingWithCopyWarning: \n",
      "A value is trying to be set on a copy of a slice from a DataFrame.\n",
      "Try using .loc[row_indexer,col_indexer] = value instead\n",
      "\n",
      "See the caveats in the documentation: https://pandas.pydata.org/pandas-docs/stable/user_guide/indexing.html#returning-a-view-versus-a-copy\n",
      "  tvdf['mile'] = tvdf.apply(lambda row: closest_mile_marker(row['X'], row['Y'], data), axis=1)\n",
      "/var/folders/fz/qwk5rxqs39gcy8h_0lhy47c80000gn/T/ipykernel_40576/4022452298.py:87: SettingWithCopyWarning: \n",
      "A value is trying to be set on a copy of a slice from a DataFrame.\n",
      "Try using .loc[row_indexer,col_indexer] = value instead\n",
      "\n",
      "See the caveats in the documentation: https://pandas.pydata.org/pandas-docs/stable/user_guide/indexing.html#returning-a-view-versus-a-copy\n",
      "  tvdf['mile'] = tvdf.apply(lambda row: closest_mile_marker(row['X'], row['Y'], data), axis=1)\n",
      "/var/folders/fz/qwk5rxqs39gcy8h_0lhy47c80000gn/T/ipykernel_40576/4022452298.py:87: SettingWithCopyWarning: \n",
      "A value is trying to be set on a copy of a slice from a DataFrame.\n",
      "Try using .loc[row_indexer,col_indexer] = value instead\n",
      "\n",
      "See the caveats in the documentation: https://pandas.pydata.org/pandas-docs/stable/user_guide/indexing.html#returning-a-view-versus-a-copy\n",
      "  tvdf['mile'] = tvdf.apply(lambda row: closest_mile_marker(row['X'], row['Y'], data), axis=1)\n",
      "/var/folders/fz/qwk5rxqs39gcy8h_0lhy47c80000gn/T/ipykernel_40576/4022452298.py:87: SettingWithCopyWarning: \n",
      "A value is trying to be set on a copy of a slice from a DataFrame.\n",
      "Try using .loc[row_indexer,col_indexer] = value instead\n",
      "\n",
      "See the caveats in the documentation: https://pandas.pydata.org/pandas-docs/stable/user_guide/indexing.html#returning-a-view-versus-a-copy\n",
      "  tvdf['mile'] = tvdf.apply(lambda row: closest_mile_marker(row['X'], row['Y'], data), axis=1)\n"
     ]
    },
    {
     "name": "stdout",
     "output_type": "stream",
     "text": [
      "FM1637\n",
      "FM1176\n",
      "US0069\n"
     ]
    },
    {
     "name": "stderr",
     "output_type": "stream",
     "text": [
      "/var/folders/fz/qwk5rxqs39gcy8h_0lhy47c80000gn/T/ipykernel_40576/4022452298.py:87: SettingWithCopyWarning: \n",
      "A value is trying to be set on a copy of a slice from a DataFrame.\n",
      "Try using .loc[row_indexer,col_indexer] = value instead\n",
      "\n",
      "See the caveats in the documentation: https://pandas.pydata.org/pandas-docs/stable/user_guide/indexing.html#returning-a-view-versus-a-copy\n",
      "  tvdf['mile'] = tvdf.apply(lambda row: closest_mile_marker(row['X'], row['Y'], data), axis=1)\n",
      "/var/folders/fz/qwk5rxqs39gcy8h_0lhy47c80000gn/T/ipykernel_40576/4022452298.py:87: SettingWithCopyWarning: \n",
      "A value is trying to be set on a copy of a slice from a DataFrame.\n",
      "Try using .loc[row_indexer,col_indexer] = value instead\n",
      "\n",
      "See the caveats in the documentation: https://pandas.pydata.org/pandas-docs/stable/user_guide/indexing.html#returning-a-view-versus-a-copy\n",
      "  tvdf['mile'] = tvdf.apply(lambda row: closest_mile_marker(row['X'], row['Y'], data), axis=1)\n"
     ]
    },
    {
     "name": "stdout",
     "output_type": "stream",
     "text": [
      "SH0021\n"
     ]
    },
    {
     "name": "stderr",
     "output_type": "stream",
     "text": [
      "/var/folders/fz/qwk5rxqs39gcy8h_0lhy47c80000gn/T/ipykernel_40576/4022452298.py:87: SettingWithCopyWarning: \n",
      "A value is trying to be set on a copy of a slice from a DataFrame.\n",
      "Try using .loc[row_indexer,col_indexer] = value instead\n",
      "\n",
      "See the caveats in the documentation: https://pandas.pydata.org/pandas-docs/stable/user_guide/indexing.html#returning-a-view-versus-a-copy\n",
      "  tvdf['mile'] = tvdf.apply(lambda row: closest_mile_marker(row['X'], row['Y'], data), axis=1)\n",
      "/var/folders/fz/qwk5rxqs39gcy8h_0lhy47c80000gn/T/ipykernel_40576/4022452298.py:87: SettingWithCopyWarning: \n",
      "A value is trying to be set on a copy of a slice from a DataFrame.\n",
      "Try using .loc[row_indexer,col_indexer] = value instead\n",
      "\n",
      "See the caveats in the documentation: https://pandas.pydata.org/pandas-docs/stable/user_guide/indexing.html#returning-a-view-versus-a-copy\n",
      "  tvdf['mile'] = tvdf.apply(lambda row: closest_mile_marker(row['X'], row['Y'], data), axis=1)\n",
      "/var/folders/fz/qwk5rxqs39gcy8h_0lhy47c80000gn/T/ipykernel_40576/4022452298.py:87: SettingWithCopyWarning: \n",
      "A value is trying to be set on a copy of a slice from a DataFrame.\n",
      "Try using .loc[row_indexer,col_indexer] = value instead\n",
      "\n",
      "See the caveats in the documentation: https://pandas.pydata.org/pandas-docs/stable/user_guide/indexing.html#returning-a-view-versus-a-copy\n",
      "  tvdf['mile'] = tvdf.apply(lambda row: closest_mile_marker(row['X'], row['Y'], data), axis=1)\n",
      "/var/folders/fz/qwk5rxqs39gcy8h_0lhy47c80000gn/T/ipykernel_40576/4022452298.py:87: SettingWithCopyWarning: \n",
      "A value is trying to be set on a copy of a slice from a DataFrame.\n",
      "Try using .loc[row_indexer,col_indexer] = value instead\n",
      "\n",
      "See the caveats in the documentation: https://pandas.pydata.org/pandas-docs/stable/user_guide/indexing.html#returning-a-view-versus-a-copy\n",
      "  tvdf['mile'] = tvdf.apply(lambda row: closest_mile_marker(row['X'], row['Y'], data), axis=1)\n",
      "/var/folders/fz/qwk5rxqs39gcy8h_0lhy47c80000gn/T/ipykernel_40576/4022452298.py:87: SettingWithCopyWarning: \n",
      "A value is trying to be set on a copy of a slice from a DataFrame.\n",
      "Try using .loc[row_indexer,col_indexer] = value instead\n",
      "\n",
      "See the caveats in the documentation: https://pandas.pydata.org/pandas-docs/stable/user_guide/indexing.html#returning-a-view-versus-a-copy\n",
      "  tvdf['mile'] = tvdf.apply(lambda row: closest_mile_marker(row['X'], row['Y'], data), axis=1)\n"
     ]
    },
    {
     "name": "stdout",
     "output_type": "stream",
     "text": [
      "FM0676\n",
      "FM0362\n",
      "FM0911\n",
      "FM1450\n",
      "FM0065\n"
     ]
    },
    {
     "name": "stderr",
     "output_type": "stream",
     "text": [
      "/var/folders/fz/qwk5rxqs39gcy8h_0lhy47c80000gn/T/ipykernel_40576/4022452298.py:87: SettingWithCopyWarning: \n",
      "A value is trying to be set on a copy of a slice from a DataFrame.\n",
      "Try using .loc[row_indexer,col_indexer] = value instead\n",
      "\n",
      "See the caveats in the documentation: https://pandas.pydata.org/pandas-docs/stable/user_guide/indexing.html#returning-a-view-versus-a-copy\n",
      "  tvdf['mile'] = tvdf.apply(lambda row: closest_mile_marker(row['X'], row['Y'], data), axis=1)\n",
      "/var/folders/fz/qwk5rxqs39gcy8h_0lhy47c80000gn/T/ipykernel_40576/4022452298.py:87: SettingWithCopyWarning: \n",
      "A value is trying to be set on a copy of a slice from a DataFrame.\n",
      "Try using .loc[row_indexer,col_indexer] = value instead\n",
      "\n",
      "See the caveats in the documentation: https://pandas.pydata.org/pandas-docs/stable/user_guide/indexing.html#returning-a-view-versus-a-copy\n",
      "  tvdf['mile'] = tvdf.apply(lambda row: closest_mile_marker(row['X'], row['Y'], data), axis=1)\n",
      "/var/folders/fz/qwk5rxqs39gcy8h_0lhy47c80000gn/T/ipykernel_40576/4022452298.py:87: SettingWithCopyWarning: \n",
      "A value is trying to be set on a copy of a slice from a DataFrame.\n",
      "Try using .loc[row_indexer,col_indexer] = value instead\n",
      "\n",
      "See the caveats in the documentation: https://pandas.pydata.org/pandas-docs/stable/user_guide/indexing.html#returning-a-view-versus-a-copy\n",
      "  tvdf['mile'] = tvdf.apply(lambda row: closest_mile_marker(row['X'], row['Y'], data), axis=1)\n",
      "/var/folders/fz/qwk5rxqs39gcy8h_0lhy47c80000gn/T/ipykernel_40576/4022452298.py:87: SettingWithCopyWarning: \n",
      "A value is trying to be set on a copy of a slice from a DataFrame.\n",
      "Try using .loc[row_indexer,col_indexer] = value instead\n",
      "\n",
      "See the caveats in the documentation: https://pandas.pydata.org/pandas-docs/stable/user_guide/indexing.html#returning-a-view-versus-a-copy\n",
      "  tvdf['mile'] = tvdf.apply(lambda row: closest_mile_marker(row['X'], row['Y'], data), axis=1)\n"
     ]
    },
    {
     "name": "stdout",
     "output_type": "stream",
     "text": [
      "FM0097\n",
      "FM0146\n",
      "SH0237\n",
      "FM1054\n"
     ]
    },
    {
     "name": "stderr",
     "output_type": "stream",
     "text": [
      "/var/folders/fz/qwk5rxqs39gcy8h_0lhy47c80000gn/T/ipykernel_40576/4022452298.py:87: SettingWithCopyWarning: \n",
      "A value is trying to be set on a copy of a slice from a DataFrame.\n",
      "Try using .loc[row_indexer,col_indexer] = value instead\n",
      "\n",
      "See the caveats in the documentation: https://pandas.pydata.org/pandas-docs/stable/user_guide/indexing.html#returning-a-view-versus-a-copy\n",
      "  tvdf['mile'] = tvdf.apply(lambda row: closest_mile_marker(row['X'], row['Y'], data), axis=1)\n",
      "/var/folders/fz/qwk5rxqs39gcy8h_0lhy47c80000gn/T/ipykernel_40576/4022452298.py:87: SettingWithCopyWarning: \n",
      "A value is trying to be set on a copy of a slice from a DataFrame.\n",
      "Try using .loc[row_indexer,col_indexer] = value instead\n",
      "\n",
      "See the caveats in the documentation: https://pandas.pydata.org/pandas-docs/stable/user_guide/indexing.html#returning-a-view-versus-a-copy\n",
      "  tvdf['mile'] = tvdf.apply(lambda row: closest_mile_marker(row['X'], row['Y'], data), axis=1)\n",
      "/var/folders/fz/qwk5rxqs39gcy8h_0lhy47c80000gn/T/ipykernel_40576/4022452298.py:87: SettingWithCopyWarning: \n",
      "A value is trying to be set on a copy of a slice from a DataFrame.\n",
      "Try using .loc[row_indexer,col_indexer] = value instead\n",
      "\n",
      "See the caveats in the documentation: https://pandas.pydata.org/pandas-docs/stable/user_guide/indexing.html#returning-a-view-versus-a-copy\n",
      "  tvdf['mile'] = tvdf.apply(lambda row: closest_mile_marker(row['X'], row['Y'], data), axis=1)\n",
      "/var/folders/fz/qwk5rxqs39gcy8h_0lhy47c80000gn/T/ipykernel_40576/4022452298.py:87: SettingWithCopyWarning: \n",
      "A value is trying to be set on a copy of a slice from a DataFrame.\n",
      "Try using .loc[row_indexer,col_indexer] = value instead\n",
      "\n",
      "See the caveats in the documentation: https://pandas.pydata.org/pandas-docs/stable/user_guide/indexing.html#returning-a-view-versus-a-copy\n",
      "  tvdf['mile'] = tvdf.apply(lambda row: closest_mile_marker(row['X'], row['Y'], data), axis=1)\n",
      "/var/folders/fz/qwk5rxqs39gcy8h_0lhy47c80000gn/T/ipykernel_40576/4022452298.py:87: SettingWithCopyWarning: \n",
      "A value is trying to be set on a copy of a slice from a DataFrame.\n",
      "Try using .loc[row_indexer,col_indexer] = value instead\n",
      "\n",
      "See the caveats in the documentation: https://pandas.pydata.org/pandas-docs/stable/user_guide/indexing.html#returning-a-view-versus-a-copy\n",
      "  tvdf['mile'] = tvdf.apply(lambda row: closest_mile_marker(row['X'], row['Y'], data), axis=1)\n",
      "/var/folders/fz/qwk5rxqs39gcy8h_0lhy47c80000gn/T/ipykernel_40576/4022452298.py:87: SettingWithCopyWarning: \n",
      "A value is trying to be set on a copy of a slice from a DataFrame.\n",
      "Try using .loc[row_indexer,col_indexer] = value instead\n",
      "\n",
      "See the caveats in the documentation: https://pandas.pydata.org/pandas-docs/stable/user_guide/indexing.html#returning-a-view-versus-a-copy\n",
      "  tvdf['mile'] = tvdf.apply(lambda row: closest_mile_marker(row['X'], row['Y'], data), axis=1)\n"
     ]
    },
    {
     "name": "stdout",
     "output_type": "stream",
     "text": [
      "SH0127\n",
      "FM1002\n",
      "FM1038\n",
      "FM0874\n",
      "FM0803\n",
      "FM0343\n"
     ]
    },
    {
     "name": "stderr",
     "output_type": "stream",
     "text": [
      "/var/folders/fz/qwk5rxqs39gcy8h_0lhy47c80000gn/T/ipykernel_40576/4022452298.py:87: SettingWithCopyWarning: \n",
      "A value is trying to be set on a copy of a slice from a DataFrame.\n",
      "Try using .loc[row_indexer,col_indexer] = value instead\n",
      "\n",
      "See the caveats in the documentation: https://pandas.pydata.org/pandas-docs/stable/user_guide/indexing.html#returning-a-view-versus-a-copy\n",
      "  tvdf['mile'] = tvdf.apply(lambda row: closest_mile_marker(row['X'], row['Y'], data), axis=1)\n",
      "/var/folders/fz/qwk5rxqs39gcy8h_0lhy47c80000gn/T/ipykernel_40576/4022452298.py:87: SettingWithCopyWarning: \n",
      "A value is trying to be set on a copy of a slice from a DataFrame.\n",
      "Try using .loc[row_indexer,col_indexer] = value instead\n",
      "\n",
      "See the caveats in the documentation: https://pandas.pydata.org/pandas-docs/stable/user_guide/indexing.html#returning-a-view-versus-a-copy\n",
      "  tvdf['mile'] = tvdf.apply(lambda row: closest_mile_marker(row['X'], row['Y'], data), axis=1)\n",
      "/var/folders/fz/qwk5rxqs39gcy8h_0lhy47c80000gn/T/ipykernel_40576/4022452298.py:87: SettingWithCopyWarning: \n",
      "A value is trying to be set on a copy of a slice from a DataFrame.\n",
      "Try using .loc[row_indexer,col_indexer] = value instead\n",
      "\n",
      "See the caveats in the documentation: https://pandas.pydata.org/pandas-docs/stable/user_guide/indexing.html#returning-a-view-versus-a-copy\n",
      "  tvdf['mile'] = tvdf.apply(lambda row: closest_mile_marker(row['X'], row['Y'], data), axis=1)\n",
      "/var/folders/fz/qwk5rxqs39gcy8h_0lhy47c80000gn/T/ipykernel_40576/4022452298.py:87: SettingWithCopyWarning: \n",
      "A value is trying to be set on a copy of a slice from a DataFrame.\n",
      "Try using .loc[row_indexer,col_indexer] = value instead\n",
      "\n",
      "See the caveats in the documentation: https://pandas.pydata.org/pandas-docs/stable/user_guide/indexing.html#returning-a-view-versus-a-copy\n",
      "  tvdf['mile'] = tvdf.apply(lambda row: closest_mile_marker(row['X'], row['Y'], data), axis=1)\n"
     ]
    },
    {
     "name": "stdout",
     "output_type": "stream",
     "text": [
      "FM1329\n",
      "SH0234\n",
      "FM0102\n",
      "FM0217\n",
      "FM0178\n"
     ]
    },
    {
     "name": "stderr",
     "output_type": "stream",
     "text": [
      "/var/folders/fz/qwk5rxqs39gcy8h_0lhy47c80000gn/T/ipykernel_40576/4022452298.py:87: SettingWithCopyWarning: \n",
      "A value is trying to be set on a copy of a slice from a DataFrame.\n",
      "Try using .loc[row_indexer,col_indexer] = value instead\n",
      "\n",
      "See the caveats in the documentation: https://pandas.pydata.org/pandas-docs/stable/user_guide/indexing.html#returning-a-view-versus-a-copy\n",
      "  tvdf['mile'] = tvdf.apply(lambda row: closest_mile_marker(row['X'], row['Y'], data), axis=1)\n",
      "/var/folders/fz/qwk5rxqs39gcy8h_0lhy47c80000gn/T/ipykernel_40576/4022452298.py:87: SettingWithCopyWarning: \n",
      "A value is trying to be set on a copy of a slice from a DataFrame.\n",
      "Try using .loc[row_indexer,col_indexer] = value instead\n",
      "\n",
      "See the caveats in the documentation: https://pandas.pydata.org/pandas-docs/stable/user_guide/indexing.html#returning-a-view-versus-a-copy\n",
      "  tvdf['mile'] = tvdf.apply(lambda row: closest_mile_marker(row['X'], row['Y'], data), axis=1)\n",
      "/var/folders/fz/qwk5rxqs39gcy8h_0lhy47c80000gn/T/ipykernel_40576/4022452298.py:87: SettingWithCopyWarning: \n",
      "A value is trying to be set on a copy of a slice from a DataFrame.\n",
      "Try using .loc[row_indexer,col_indexer] = value instead\n",
      "\n",
      "See the caveats in the documentation: https://pandas.pydata.org/pandas-docs/stable/user_guide/indexing.html#returning-a-view-versus-a-copy\n",
      "  tvdf['mile'] = tvdf.apply(lambda row: closest_mile_marker(row['X'], row['Y'], data), axis=1)\n",
      "/var/folders/fz/qwk5rxqs39gcy8h_0lhy47c80000gn/T/ipykernel_40576/4022452298.py:87: SettingWithCopyWarning: \n",
      "A value is trying to be set on a copy of a slice from a DataFrame.\n",
      "Try using .loc[row_indexer,col_indexer] = value instead\n",
      "\n",
      "See the caveats in the documentation: https://pandas.pydata.org/pandas-docs/stable/user_guide/indexing.html#returning-a-view-versus-a-copy\n",
      "  tvdf['mile'] = tvdf.apply(lambda row: closest_mile_marker(row['X'], row['Y'], data), axis=1)\n",
      "/var/folders/fz/qwk5rxqs39gcy8h_0lhy47c80000gn/T/ipykernel_40576/4022452298.py:87: SettingWithCopyWarning: \n",
      "A value is trying to be set on a copy of a slice from a DataFrame.\n",
      "Try using .loc[row_indexer,col_indexer] = value instead\n",
      "\n",
      "See the caveats in the documentation: https://pandas.pydata.org/pandas-docs/stable/user_guide/indexing.html#returning-a-view-versus-a-copy\n",
      "  tvdf['mile'] = tvdf.apply(lambda row: closest_mile_marker(row['X'], row['Y'], data), axis=1)\n",
      "/var/folders/fz/qwk5rxqs39gcy8h_0lhy47c80000gn/T/ipykernel_40576/4022452298.py:87: SettingWithCopyWarning: \n",
      "A value is trying to be set on a copy of a slice from a DataFrame.\n",
      "Try using .loc[row_indexer,col_indexer] = value instead\n",
      "\n",
      "See the caveats in the documentation: https://pandas.pydata.org/pandas-docs/stable/user_guide/indexing.html#returning-a-view-versus-a-copy\n",
      "  tvdf['mile'] = tvdf.apply(lambda row: closest_mile_marker(row['X'], row['Y'], data), axis=1)\n"
     ]
    },
    {
     "name": "stdout",
     "output_type": "stream",
     "text": [
      "FM0270\n",
      "SH0091\n",
      "FM0419\n",
      "FM0488\n",
      "FM2210\n",
      "SH0349\n"
     ]
    },
    {
     "name": "stderr",
     "output_type": "stream",
     "text": [
      "/var/folders/fz/qwk5rxqs39gcy8h_0lhy47c80000gn/T/ipykernel_40576/4022452298.py:87: SettingWithCopyWarning: \n",
      "A value is trying to be set on a copy of a slice from a DataFrame.\n",
      "Try using .loc[row_indexer,col_indexer] = value instead\n",
      "\n",
      "See the caveats in the documentation: https://pandas.pydata.org/pandas-docs/stable/user_guide/indexing.html#returning-a-view-versus-a-copy\n",
      "  tvdf['mile'] = tvdf.apply(lambda row: closest_mile_marker(row['X'], row['Y'], data), axis=1)\n",
      "/var/folders/fz/qwk5rxqs39gcy8h_0lhy47c80000gn/T/ipykernel_40576/4022452298.py:87: SettingWithCopyWarning: \n",
      "A value is trying to be set on a copy of a slice from a DataFrame.\n",
      "Try using .loc[row_indexer,col_indexer] = value instead\n",
      "\n",
      "See the caveats in the documentation: https://pandas.pydata.org/pandas-docs/stable/user_guide/indexing.html#returning-a-view-versus-a-copy\n",
      "  tvdf['mile'] = tvdf.apply(lambda row: closest_mile_marker(row['X'], row['Y'], data), axis=1)\n",
      "/var/folders/fz/qwk5rxqs39gcy8h_0lhy47c80000gn/T/ipykernel_40576/4022452298.py:87: SettingWithCopyWarning: \n",
      "A value is trying to be set on a copy of a slice from a DataFrame.\n",
      "Try using .loc[row_indexer,col_indexer] = value instead\n",
      "\n",
      "See the caveats in the documentation: https://pandas.pydata.org/pandas-docs/stable/user_guide/indexing.html#returning-a-view-versus-a-copy\n",
      "  tvdf['mile'] = tvdf.apply(lambda row: closest_mile_marker(row['X'], row['Y'], data), axis=1)\n",
      "/var/folders/fz/qwk5rxqs39gcy8h_0lhy47c80000gn/T/ipykernel_40576/4022452298.py:87: SettingWithCopyWarning: \n",
      "A value is trying to be set on a copy of a slice from a DataFrame.\n",
      "Try using .loc[row_indexer,col_indexer] = value instead\n",
      "\n",
      "See the caveats in the documentation: https://pandas.pydata.org/pandas-docs/stable/user_guide/indexing.html#returning-a-view-versus-a-copy\n",
      "  tvdf['mile'] = tvdf.apply(lambda row: closest_mile_marker(row['X'], row['Y'], data), axis=1)\n",
      "/var/folders/fz/qwk5rxqs39gcy8h_0lhy47c80000gn/T/ipykernel_40576/4022452298.py:87: SettingWithCopyWarning: \n",
      "A value is trying to be set on a copy of a slice from a DataFrame.\n",
      "Try using .loc[row_indexer,col_indexer] = value instead\n",
      "\n",
      "See the caveats in the documentation: https://pandas.pydata.org/pandas-docs/stable/user_guide/indexing.html#returning-a-view-versus-a-copy\n",
      "  tvdf['mile'] = tvdf.apply(lambda row: closest_mile_marker(row['X'], row['Y'], data), axis=1)\n"
     ]
    },
    {
     "name": "stdout",
     "output_type": "stream",
     "text": [
      "FM0457\n",
      "FM3009\n",
      "FM0196\n",
      "FM0624\n"
     ]
    },
    {
     "name": "stderr",
     "output_type": "stream",
     "text": [
      "/var/folders/fz/qwk5rxqs39gcy8h_0lhy47c80000gn/T/ipykernel_40576/4022452298.py:87: SettingWithCopyWarning: \n",
      "A value is trying to be set on a copy of a slice from a DataFrame.\n",
      "Try using .loc[row_indexer,col_indexer] = value instead\n",
      "\n",
      "See the caveats in the documentation: https://pandas.pydata.org/pandas-docs/stable/user_guide/indexing.html#returning-a-view-versus-a-copy\n",
      "  tvdf['mile'] = tvdf.apply(lambda row: closest_mile_marker(row['X'], row['Y'], data), axis=1)\n"
     ]
    },
    {
     "name": "stdout",
     "output_type": "stream",
     "text": [
      "SH0086\n"
     ]
    },
    {
     "name": "stderr",
     "output_type": "stream",
     "text": [
      "/var/folders/fz/qwk5rxqs39gcy8h_0lhy47c80000gn/T/ipykernel_40576/4022452298.py:87: SettingWithCopyWarning: \n",
      "A value is trying to be set on a copy of a slice from a DataFrame.\n",
      "Try using .loc[row_indexer,col_indexer] = value instead\n",
      "\n",
      "See the caveats in the documentation: https://pandas.pydata.org/pandas-docs/stable/user_guide/indexing.html#returning-a-view-versus-a-copy\n",
      "  tvdf['mile'] = tvdf.apply(lambda row: closest_mile_marker(row['X'], row['Y'], data), axis=1)\n",
      "/var/folders/fz/qwk5rxqs39gcy8h_0lhy47c80000gn/T/ipykernel_40576/4022452298.py:87: SettingWithCopyWarning: \n",
      "A value is trying to be set on a copy of a slice from a DataFrame.\n",
      "Try using .loc[row_indexer,col_indexer] = value instead\n",
      "\n",
      "See the caveats in the documentation: https://pandas.pydata.org/pandas-docs/stable/user_guide/indexing.html#returning-a-view-versus-a-copy\n",
      "  tvdf['mile'] = tvdf.apply(lambda row: closest_mile_marker(row['X'], row['Y'], data), axis=1)\n",
      "/var/folders/fz/qwk5rxqs39gcy8h_0lhy47c80000gn/T/ipykernel_40576/4022452298.py:87: SettingWithCopyWarning: \n",
      "A value is trying to be set on a copy of a slice from a DataFrame.\n",
      "Try using .loc[row_indexer,col_indexer] = value instead\n",
      "\n",
      "See the caveats in the documentation: https://pandas.pydata.org/pandas-docs/stable/user_guide/indexing.html#returning-a-view-versus-a-copy\n",
      "  tvdf['mile'] = tvdf.apply(lambda row: closest_mile_marker(row['X'], row['Y'], data), axis=1)\n",
      "/var/folders/fz/qwk5rxqs39gcy8h_0lhy47c80000gn/T/ipykernel_40576/4022452298.py:87: SettingWithCopyWarning: \n",
      "A value is trying to be set on a copy of a slice from a DataFrame.\n",
      "Try using .loc[row_indexer,col_indexer] = value instead\n",
      "\n",
      "See the caveats in the documentation: https://pandas.pydata.org/pandas-docs/stable/user_guide/indexing.html#returning-a-view-versus-a-copy\n",
      "  tvdf['mile'] = tvdf.apply(lambda row: closest_mile_marker(row['X'], row['Y'], data), axis=1)\n"
     ]
    },
    {
     "name": "stdout",
     "output_type": "stream",
     "text": [
      "FM0158\n",
      "FM1882\n",
      "FM1015\n",
      "SH0005\n",
      "US0277\n"
     ]
    },
    {
     "name": "stderr",
     "output_type": "stream",
     "text": [
      "/var/folders/fz/qwk5rxqs39gcy8h_0lhy47c80000gn/T/ipykernel_40576/4022452298.py:87: SettingWithCopyWarning: \n",
      "A value is trying to be set on a copy of a slice from a DataFrame.\n",
      "Try using .loc[row_indexer,col_indexer] = value instead\n",
      "\n",
      "See the caveats in the documentation: https://pandas.pydata.org/pandas-docs/stable/user_guide/indexing.html#returning-a-view-versus-a-copy\n",
      "  tvdf['mile'] = tvdf.apply(lambda row: closest_mile_marker(row['X'], row['Y'], data), axis=1)\n",
      "/var/folders/fz/qwk5rxqs39gcy8h_0lhy47c80000gn/T/ipykernel_40576/4022452298.py:87: SettingWithCopyWarning: \n",
      "A value is trying to be set on a copy of a slice from a DataFrame.\n",
      "Try using .loc[row_indexer,col_indexer] = value instead\n",
      "\n",
      "See the caveats in the documentation: https://pandas.pydata.org/pandas-docs/stable/user_guide/indexing.html#returning-a-view-versus-a-copy\n",
      "  tvdf['mile'] = tvdf.apply(lambda row: closest_mile_marker(row['X'], row['Y'], data), axis=1)\n",
      "/var/folders/fz/qwk5rxqs39gcy8h_0lhy47c80000gn/T/ipykernel_40576/4022452298.py:87: SettingWithCopyWarning: \n",
      "A value is trying to be set on a copy of a slice from a DataFrame.\n",
      "Try using .loc[row_indexer,col_indexer] = value instead\n",
      "\n",
      "See the caveats in the documentation: https://pandas.pydata.org/pandas-docs/stable/user_guide/indexing.html#returning-a-view-versus-a-copy\n",
      "  tvdf['mile'] = tvdf.apply(lambda row: closest_mile_marker(row['X'], row['Y'], data), axis=1)\n",
      "/var/folders/fz/qwk5rxqs39gcy8h_0lhy47c80000gn/T/ipykernel_40576/4022452298.py:87: SettingWithCopyWarning: \n",
      "A value is trying to be set on a copy of a slice from a DataFrame.\n",
      "Try using .loc[row_indexer,col_indexer] = value instead\n",
      "\n",
      "See the caveats in the documentation: https://pandas.pydata.org/pandas-docs/stable/user_guide/indexing.html#returning-a-view-versus-a-copy\n",
      "  tvdf['mile'] = tvdf.apply(lambda row: closest_mile_marker(row['X'], row['Y'], data), axis=1)\n",
      "/var/folders/fz/qwk5rxqs39gcy8h_0lhy47c80000gn/T/ipykernel_40576/4022452298.py:87: SettingWithCopyWarning: \n",
      "A value is trying to be set on a copy of a slice from a DataFrame.\n",
      "Try using .loc[row_indexer,col_indexer] = value instead\n",
      "\n",
      "See the caveats in the documentation: https://pandas.pydata.org/pandas-docs/stable/user_guide/indexing.html#returning-a-view-versus-a-copy\n",
      "  tvdf['mile'] = tvdf.apply(lambda row: closest_mile_marker(row['X'], row['Y'], data), axis=1)\n"
     ]
    },
    {
     "name": "stdout",
     "output_type": "stream",
     "text": [
      "FM1942\n",
      "FM1818\n",
      "SS0380\n",
      "SH0171\n"
     ]
    },
    {
     "name": "stderr",
     "output_type": "stream",
     "text": [
      "/var/folders/fz/qwk5rxqs39gcy8h_0lhy47c80000gn/T/ipykernel_40576/4022452298.py:87: SettingWithCopyWarning: \n",
      "A value is trying to be set on a copy of a slice from a DataFrame.\n",
      "Try using .loc[row_indexer,col_indexer] = value instead\n",
      "\n",
      "See the caveats in the documentation: https://pandas.pydata.org/pandas-docs/stable/user_guide/indexing.html#returning-a-view-versus-a-copy\n",
      "  tvdf['mile'] = tvdf.apply(lambda row: closest_mile_marker(row['X'], row['Y'], data), axis=1)\n",
      "/var/folders/fz/qwk5rxqs39gcy8h_0lhy47c80000gn/T/ipykernel_40576/4022452298.py:87: SettingWithCopyWarning: \n",
      "A value is trying to be set on a copy of a slice from a DataFrame.\n",
      "Try using .loc[row_indexer,col_indexer] = value instead\n",
      "\n",
      "See the caveats in the documentation: https://pandas.pydata.org/pandas-docs/stable/user_guide/indexing.html#returning-a-view-versus-a-copy\n",
      "  tvdf['mile'] = tvdf.apply(lambda row: closest_mile_marker(row['X'], row['Y'], data), axis=1)\n",
      "/var/folders/fz/qwk5rxqs39gcy8h_0lhy47c80000gn/T/ipykernel_40576/4022452298.py:87: SettingWithCopyWarning: \n",
      "A value is trying to be set on a copy of a slice from a DataFrame.\n",
      "Try using .loc[row_indexer,col_indexer] = value instead\n",
      "\n",
      "See the caveats in the documentation: https://pandas.pydata.org/pandas-docs/stable/user_guide/indexing.html#returning-a-view-versus-a-copy\n",
      "  tvdf['mile'] = tvdf.apply(lambda row: closest_mile_marker(row['X'], row['Y'], data), axis=1)\n",
      "/var/folders/fz/qwk5rxqs39gcy8h_0lhy47c80000gn/T/ipykernel_40576/4022452298.py:87: SettingWithCopyWarning: \n",
      "A value is trying to be set on a copy of a slice from a DataFrame.\n",
      "Try using .loc[row_indexer,col_indexer] = value instead\n",
      "\n",
      "See the caveats in the documentation: https://pandas.pydata.org/pandas-docs/stable/user_guide/indexing.html#returning-a-view-versus-a-copy\n",
      "  tvdf['mile'] = tvdf.apply(lambda row: closest_mile_marker(row['X'], row['Y'], data), axis=1)\n",
      "/var/folders/fz/qwk5rxqs39gcy8h_0lhy47c80000gn/T/ipykernel_40576/4022452298.py:87: SettingWithCopyWarning: \n",
      "A value is trying to be set on a copy of a slice from a DataFrame.\n",
      "Try using .loc[row_indexer,col_indexer] = value instead\n",
      "\n",
      "See the caveats in the documentation: https://pandas.pydata.org/pandas-docs/stable/user_guide/indexing.html#returning-a-view-versus-a-copy\n",
      "  tvdf['mile'] = tvdf.apply(lambda row: closest_mile_marker(row['X'], row['Y'], data), axis=1)\n"
     ]
    },
    {
     "name": "stdout",
     "output_type": "stream",
     "text": [
      "FM0185\n",
      "FM2286\n",
      "FM1294\n",
      "FM0519\n",
      "FM1173\n"
     ]
    },
    {
     "name": "stderr",
     "output_type": "stream",
     "text": [
      "/var/folders/fz/qwk5rxqs39gcy8h_0lhy47c80000gn/T/ipykernel_40576/4022452298.py:87: SettingWithCopyWarning: \n",
      "A value is trying to be set on a copy of a slice from a DataFrame.\n",
      "Try using .loc[row_indexer,col_indexer] = value instead\n",
      "\n",
      "See the caveats in the documentation: https://pandas.pydata.org/pandas-docs/stable/user_guide/indexing.html#returning-a-view-versus-a-copy\n",
      "  tvdf['mile'] = tvdf.apply(lambda row: closest_mile_marker(row['X'], row['Y'], data), axis=1)\n"
     ]
    },
    {
     "name": "stdout",
     "output_type": "stream",
     "text": [
      "IH0010\n"
     ]
    },
    {
     "name": "stderr",
     "output_type": "stream",
     "text": [
      "/var/folders/fz/qwk5rxqs39gcy8h_0lhy47c80000gn/T/ipykernel_40576/4022452298.py:87: SettingWithCopyWarning: \n",
      "A value is trying to be set on a copy of a slice from a DataFrame.\n",
      "Try using .loc[row_indexer,col_indexer] = value instead\n",
      "\n",
      "See the caveats in the documentation: https://pandas.pydata.org/pandas-docs/stable/user_guide/indexing.html#returning-a-view-versus-a-copy\n",
      "  tvdf['mile'] = tvdf.apply(lambda row: closest_mile_marker(row['X'], row['Y'], data), axis=1)\n",
      "/var/folders/fz/qwk5rxqs39gcy8h_0lhy47c80000gn/T/ipykernel_40576/4022452298.py:87: SettingWithCopyWarning: \n",
      "A value is trying to be set on a copy of a slice from a DataFrame.\n",
      "Try using .loc[row_indexer,col_indexer] = value instead\n",
      "\n",
      "See the caveats in the documentation: https://pandas.pydata.org/pandas-docs/stable/user_guide/indexing.html#returning-a-view-versus-a-copy\n",
      "  tvdf['mile'] = tvdf.apply(lambda row: closest_mile_marker(row['X'], row['Y'], data), axis=1)\n",
      "/var/folders/fz/qwk5rxqs39gcy8h_0lhy47c80000gn/T/ipykernel_40576/4022452298.py:87: SettingWithCopyWarning: \n",
      "A value is trying to be set on a copy of a slice from a DataFrame.\n",
      "Try using .loc[row_indexer,col_indexer] = value instead\n",
      "\n",
      "See the caveats in the documentation: https://pandas.pydata.org/pandas-docs/stable/user_guide/indexing.html#returning-a-view-versus-a-copy\n",
      "  tvdf['mile'] = tvdf.apply(lambda row: closest_mile_marker(row['X'], row['Y'], data), axis=1)\n",
      "/var/folders/fz/qwk5rxqs39gcy8h_0lhy47c80000gn/T/ipykernel_40576/4022452298.py:87: SettingWithCopyWarning: \n",
      "A value is trying to be set on a copy of a slice from a DataFrame.\n",
      "Try using .loc[row_indexer,col_indexer] = value instead\n",
      "\n",
      "See the caveats in the documentation: https://pandas.pydata.org/pandas-docs/stable/user_guide/indexing.html#returning-a-view-versus-a-copy\n",
      "  tvdf['mile'] = tvdf.apply(lambda row: closest_mile_marker(row['X'], row['Y'], data), axis=1)\n",
      "/var/folders/fz/qwk5rxqs39gcy8h_0lhy47c80000gn/T/ipykernel_40576/4022452298.py:87: SettingWithCopyWarning: \n",
      "A value is trying to be set on a copy of a slice from a DataFrame.\n",
      "Try using .loc[row_indexer,col_indexer] = value instead\n",
      "\n",
      "See the caveats in the documentation: https://pandas.pydata.org/pandas-docs/stable/user_guide/indexing.html#returning-a-view-versus-a-copy\n",
      "  tvdf['mile'] = tvdf.apply(lambda row: closest_mile_marker(row['X'], row['Y'], data), axis=1)\n"
     ]
    },
    {
     "name": "stdout",
     "output_type": "stream",
     "text": [
      "FM3438\n",
      "FM2351\n",
      "FM1845\n",
      "FM0666\n",
      "FM0205\n"
     ]
    },
    {
     "name": "stderr",
     "output_type": "stream",
     "text": [
      "/var/folders/fz/qwk5rxqs39gcy8h_0lhy47c80000gn/T/ipykernel_40576/4022452298.py:87: SettingWithCopyWarning: \n",
      "A value is trying to be set on a copy of a slice from a DataFrame.\n",
      "Try using .loc[row_indexer,col_indexer] = value instead\n",
      "\n",
      "See the caveats in the documentation: https://pandas.pydata.org/pandas-docs/stable/user_guide/indexing.html#returning-a-view-versus-a-copy\n",
      "  tvdf['mile'] = tvdf.apply(lambda row: closest_mile_marker(row['X'], row['Y'], data), axis=1)\n",
      "/var/folders/fz/qwk5rxqs39gcy8h_0lhy47c80000gn/T/ipykernel_40576/4022452298.py:87: SettingWithCopyWarning: \n",
      "A value is trying to be set on a copy of a slice from a DataFrame.\n",
      "Try using .loc[row_indexer,col_indexer] = value instead\n",
      "\n",
      "See the caveats in the documentation: https://pandas.pydata.org/pandas-docs/stable/user_guide/indexing.html#returning-a-view-versus-a-copy\n",
      "  tvdf['mile'] = tvdf.apply(lambda row: closest_mile_marker(row['X'], row['Y'], data), axis=1)\n",
      "/var/folders/fz/qwk5rxqs39gcy8h_0lhy47c80000gn/T/ipykernel_40576/4022452298.py:87: SettingWithCopyWarning: \n",
      "A value is trying to be set on a copy of a slice from a DataFrame.\n",
      "Try using .loc[row_indexer,col_indexer] = value instead\n",
      "\n",
      "See the caveats in the documentation: https://pandas.pydata.org/pandas-docs/stable/user_guide/indexing.html#returning-a-view-versus-a-copy\n",
      "  tvdf['mile'] = tvdf.apply(lambda row: closest_mile_marker(row['X'], row['Y'], data), axis=1)\n",
      "/var/folders/fz/qwk5rxqs39gcy8h_0lhy47c80000gn/T/ipykernel_40576/4022452298.py:87: SettingWithCopyWarning: \n",
      "A value is trying to be set on a copy of a slice from a DataFrame.\n",
      "Try using .loc[row_indexer,col_indexer] = value instead\n",
      "\n",
      "See the caveats in the documentation: https://pandas.pydata.org/pandas-docs/stable/user_guide/indexing.html#returning-a-view-versus-a-copy\n",
      "  tvdf['mile'] = tvdf.apply(lambda row: closest_mile_marker(row['X'], row['Y'], data), axis=1)\n",
      "/var/folders/fz/qwk5rxqs39gcy8h_0lhy47c80000gn/T/ipykernel_40576/4022452298.py:87: SettingWithCopyWarning: \n",
      "A value is trying to be set on a copy of a slice from a DataFrame.\n",
      "Try using .loc[row_indexer,col_indexer] = value instead\n",
      "\n",
      "See the caveats in the documentation: https://pandas.pydata.org/pandas-docs/stable/user_guide/indexing.html#returning-a-view-versus-a-copy\n",
      "  tvdf['mile'] = tvdf.apply(lambda row: closest_mile_marker(row['X'], row['Y'], data), axis=1)\n"
     ]
    },
    {
     "name": "stdout",
     "output_type": "stream",
     "text": [
      "FM0852\n",
      "FM2943\n",
      "FM2369\n",
      "FM1769\n",
      "US0281\n"
     ]
    },
    {
     "name": "stderr",
     "output_type": "stream",
     "text": [
      "/var/folders/fz/qwk5rxqs39gcy8h_0lhy47c80000gn/T/ipykernel_40576/4022452298.py:87: SettingWithCopyWarning: \n",
      "A value is trying to be set on a copy of a slice from a DataFrame.\n",
      "Try using .loc[row_indexer,col_indexer] = value instead\n",
      "\n",
      "See the caveats in the documentation: https://pandas.pydata.org/pandas-docs/stable/user_guide/indexing.html#returning-a-view-versus-a-copy\n",
      "  tvdf['mile'] = tvdf.apply(lambda row: closest_mile_marker(row['X'], row['Y'], data), axis=1)\n",
      "/var/folders/fz/qwk5rxqs39gcy8h_0lhy47c80000gn/T/ipykernel_40576/4022452298.py:87: SettingWithCopyWarning: \n",
      "A value is trying to be set on a copy of a slice from a DataFrame.\n",
      "Try using .loc[row_indexer,col_indexer] = value instead\n",
      "\n",
      "See the caveats in the documentation: https://pandas.pydata.org/pandas-docs/stable/user_guide/indexing.html#returning-a-view-versus-a-copy\n",
      "  tvdf['mile'] = tvdf.apply(lambda row: closest_mile_marker(row['X'], row['Y'], data), axis=1)\n",
      "/var/folders/fz/qwk5rxqs39gcy8h_0lhy47c80000gn/T/ipykernel_40576/4022452298.py:87: SettingWithCopyWarning: \n",
      "A value is trying to be set on a copy of a slice from a DataFrame.\n",
      "Try using .loc[row_indexer,col_indexer] = value instead\n",
      "\n",
      "See the caveats in the documentation: https://pandas.pydata.org/pandas-docs/stable/user_guide/indexing.html#returning-a-view-versus-a-copy\n",
      "  tvdf['mile'] = tvdf.apply(lambda row: closest_mile_marker(row['X'], row['Y'], data), axis=1)\n"
     ]
    },
    {
     "name": "stdout",
     "output_type": "stream",
     "text": [
      "SH0198\n",
      "FM0556\n",
      "BU0190\n",
      "bad df\n",
      "FM0980\n",
      "FM1417\n"
     ]
    },
    {
     "name": "stderr",
     "output_type": "stream",
     "text": [
      "/var/folders/fz/qwk5rxqs39gcy8h_0lhy47c80000gn/T/ipykernel_40576/4022452298.py:87: SettingWithCopyWarning: \n",
      "A value is trying to be set on a copy of a slice from a DataFrame.\n",
      "Try using .loc[row_indexer,col_indexer] = value instead\n",
      "\n",
      "See the caveats in the documentation: https://pandas.pydata.org/pandas-docs/stable/user_guide/indexing.html#returning-a-view-versus-a-copy\n",
      "  tvdf['mile'] = tvdf.apply(lambda row: closest_mile_marker(row['X'], row['Y'], data), axis=1)\n",
      "/var/folders/fz/qwk5rxqs39gcy8h_0lhy47c80000gn/T/ipykernel_40576/4022452298.py:87: SettingWithCopyWarning: \n",
      "A value is trying to be set on a copy of a slice from a DataFrame.\n",
      "Try using .loc[row_indexer,col_indexer] = value instead\n",
      "\n",
      "See the caveats in the documentation: https://pandas.pydata.org/pandas-docs/stable/user_guide/indexing.html#returning-a-view-versus-a-copy\n",
      "  tvdf['mile'] = tvdf.apply(lambda row: closest_mile_marker(row['X'], row['Y'], data), axis=1)\n",
      "/var/folders/fz/qwk5rxqs39gcy8h_0lhy47c80000gn/T/ipykernel_40576/4022452298.py:87: SettingWithCopyWarning: \n",
      "A value is trying to be set on a copy of a slice from a DataFrame.\n",
      "Try using .loc[row_indexer,col_indexer] = value instead\n",
      "\n",
      "See the caveats in the documentation: https://pandas.pydata.org/pandas-docs/stable/user_guide/indexing.html#returning-a-view-versus-a-copy\n",
      "  tvdf['mile'] = tvdf.apply(lambda row: closest_mile_marker(row['X'], row['Y'], data), axis=1)\n",
      "/var/folders/fz/qwk5rxqs39gcy8h_0lhy47c80000gn/T/ipykernel_40576/4022452298.py:87: SettingWithCopyWarning: \n",
      "A value is trying to be set on a copy of a slice from a DataFrame.\n",
      "Try using .loc[row_indexer,col_indexer] = value instead\n",
      "\n",
      "See the caveats in the documentation: https://pandas.pydata.org/pandas-docs/stable/user_guide/indexing.html#returning-a-view-versus-a-copy\n",
      "  tvdf['mile'] = tvdf.apply(lambda row: closest_mile_marker(row['X'], row['Y'], data), axis=1)\n",
      "/var/folders/fz/qwk5rxqs39gcy8h_0lhy47c80000gn/T/ipykernel_40576/4022452298.py:87: SettingWithCopyWarning: \n",
      "A value is trying to be set on a copy of a slice from a DataFrame.\n",
      "Try using .loc[row_indexer,col_indexer] = value instead\n",
      "\n",
      "See the caveats in the documentation: https://pandas.pydata.org/pandas-docs/stable/user_guide/indexing.html#returning-a-view-versus-a-copy\n",
      "  tvdf['mile'] = tvdf.apply(lambda row: closest_mile_marker(row['X'], row['Y'], data), axis=1)\n"
     ]
    },
    {
     "name": "stdout",
     "output_type": "stream",
     "text": [
      "SH0202\n",
      "FM1499\n",
      "RM1111\n",
      "FM1277\n",
      "SH0288\n"
     ]
    },
    {
     "name": "stderr",
     "output_type": "stream",
     "text": [
      "/var/folders/fz/qwk5rxqs39gcy8h_0lhy47c80000gn/T/ipykernel_40576/4022452298.py:87: SettingWithCopyWarning: \n",
      "A value is trying to be set on a copy of a slice from a DataFrame.\n",
      "Try using .loc[row_indexer,col_indexer] = value instead\n",
      "\n",
      "See the caveats in the documentation: https://pandas.pydata.org/pandas-docs/stable/user_guide/indexing.html#returning-a-view-versus-a-copy\n",
      "  tvdf['mile'] = tvdf.apply(lambda row: closest_mile_marker(row['X'], row['Y'], data), axis=1)\n",
      "/var/folders/fz/qwk5rxqs39gcy8h_0lhy47c80000gn/T/ipykernel_40576/4022452298.py:87: SettingWithCopyWarning: \n",
      "A value is trying to be set on a copy of a slice from a DataFrame.\n",
      "Try using .loc[row_indexer,col_indexer] = value instead\n",
      "\n",
      "See the caveats in the documentation: https://pandas.pydata.org/pandas-docs/stable/user_guide/indexing.html#returning-a-view-versus-a-copy\n",
      "  tvdf['mile'] = tvdf.apply(lambda row: closest_mile_marker(row['X'], row['Y'], data), axis=1)\n",
      "/var/folders/fz/qwk5rxqs39gcy8h_0lhy47c80000gn/T/ipykernel_40576/4022452298.py:87: SettingWithCopyWarning: \n",
      "A value is trying to be set on a copy of a slice from a DataFrame.\n",
      "Try using .loc[row_indexer,col_indexer] = value instead\n",
      "\n",
      "See the caveats in the documentation: https://pandas.pydata.org/pandas-docs/stable/user_guide/indexing.html#returning-a-view-versus-a-copy\n",
      "  tvdf['mile'] = tvdf.apply(lambda row: closest_mile_marker(row['X'], row['Y'], data), axis=1)\n",
      "/var/folders/fz/qwk5rxqs39gcy8h_0lhy47c80000gn/T/ipykernel_40576/4022452298.py:87: SettingWithCopyWarning: \n",
      "A value is trying to be set on a copy of a slice from a DataFrame.\n",
      "Try using .loc[row_indexer,col_indexer] = value instead\n",
      "\n",
      "See the caveats in the documentation: https://pandas.pydata.org/pandas-docs/stable/user_guide/indexing.html#returning-a-view-versus-a-copy\n",
      "  tvdf['mile'] = tvdf.apply(lambda row: closest_mile_marker(row['X'], row['Y'], data), axis=1)\n",
      "/var/folders/fz/qwk5rxqs39gcy8h_0lhy47c80000gn/T/ipykernel_40576/4022452298.py:87: SettingWithCopyWarning: \n",
      "A value is trying to be set on a copy of a slice from a DataFrame.\n",
      "Try using .loc[row_indexer,col_indexer] = value instead\n",
      "\n",
      "See the caveats in the documentation: https://pandas.pydata.org/pandas-docs/stable/user_guide/indexing.html#returning-a-view-versus-a-copy\n",
      "  tvdf['mile'] = tvdf.apply(lambda row: closest_mile_marker(row['X'], row['Y'], data), axis=1)\n"
     ]
    },
    {
     "name": "stdout",
     "output_type": "stream",
     "text": [
      "FM0563\n",
      "FM2657\n",
      "IH0014\n",
      "FM2275\n"
     ]
    },
    {
     "name": "stderr",
     "output_type": "stream",
     "text": [
      "/var/folders/fz/qwk5rxqs39gcy8h_0lhy47c80000gn/T/ipykernel_40576/4022452298.py:87: SettingWithCopyWarning: \n",
      "A value is trying to be set on a copy of a slice from a DataFrame.\n",
      "Try using .loc[row_indexer,col_indexer] = value instead\n",
      "\n",
      "See the caveats in the documentation: https://pandas.pydata.org/pandas-docs/stable/user_guide/indexing.html#returning-a-view-versus-a-copy\n",
      "  tvdf['mile'] = tvdf.apply(lambda row: closest_mile_marker(row['X'], row['Y'], data), axis=1)\n",
      "/var/folders/fz/qwk5rxqs39gcy8h_0lhy47c80000gn/T/ipykernel_40576/4022452298.py:87: SettingWithCopyWarning: \n",
      "A value is trying to be set on a copy of a slice from a DataFrame.\n",
      "Try using .loc[row_indexer,col_indexer] = value instead\n",
      "\n",
      "See the caveats in the documentation: https://pandas.pydata.org/pandas-docs/stable/user_guide/indexing.html#returning-a-view-versus-a-copy\n",
      "  tvdf['mile'] = tvdf.apply(lambda row: closest_mile_marker(row['X'], row['Y'], data), axis=1)\n",
      "/var/folders/fz/qwk5rxqs39gcy8h_0lhy47c80000gn/T/ipykernel_40576/4022452298.py:87: SettingWithCopyWarning: \n",
      "A value is trying to be set on a copy of a slice from a DataFrame.\n",
      "Try using .loc[row_indexer,col_indexer] = value instead\n",
      "\n",
      "See the caveats in the documentation: https://pandas.pydata.org/pandas-docs/stable/user_guide/indexing.html#returning-a-view-versus-a-copy\n",
      "  tvdf['mile'] = tvdf.apply(lambda row: closest_mile_marker(row['X'], row['Y'], data), axis=1)\n"
     ]
    },
    {
     "name": "stdout",
     "output_type": "stream",
     "text": [
      "FM0678\n",
      "FM3248\n",
      "UA0090\n"
     ]
    },
    {
     "name": "stderr",
     "output_type": "stream",
     "text": [
      "/var/folders/fz/qwk5rxqs39gcy8h_0lhy47c80000gn/T/ipykernel_40576/4022452298.py:87: SettingWithCopyWarning: \n",
      "A value is trying to be set on a copy of a slice from a DataFrame.\n",
      "Try using .loc[row_indexer,col_indexer] = value instead\n",
      "\n",
      "See the caveats in the documentation: https://pandas.pydata.org/pandas-docs/stable/user_guide/indexing.html#returning-a-view-versus-a-copy\n",
      "  tvdf['mile'] = tvdf.apply(lambda row: closest_mile_marker(row['X'], row['Y'], data), axis=1)\n",
      "/var/folders/fz/qwk5rxqs39gcy8h_0lhy47c80000gn/T/ipykernel_40576/4022452298.py:87: SettingWithCopyWarning: \n",
      "A value is trying to be set on a copy of a slice from a DataFrame.\n",
      "Try using .loc[row_indexer,col_indexer] = value instead\n",
      "\n",
      "See the caveats in the documentation: https://pandas.pydata.org/pandas-docs/stable/user_guide/indexing.html#returning-a-view-versus-a-copy\n",
      "  tvdf['mile'] = tvdf.apply(lambda row: closest_mile_marker(row['X'], row['Y'], data), axis=1)\n",
      "/var/folders/fz/qwk5rxqs39gcy8h_0lhy47c80000gn/T/ipykernel_40576/4022452298.py:87: SettingWithCopyWarning: \n",
      "A value is trying to be set on a copy of a slice from a DataFrame.\n",
      "Try using .loc[row_indexer,col_indexer] = value instead\n",
      "\n",
      "See the caveats in the documentation: https://pandas.pydata.org/pandas-docs/stable/user_guide/indexing.html#returning-a-view-versus-a-copy\n",
      "  tvdf['mile'] = tvdf.apply(lambda row: closest_mile_marker(row['X'], row['Y'], data), axis=1)\n",
      "/var/folders/fz/qwk5rxqs39gcy8h_0lhy47c80000gn/T/ipykernel_40576/4022452298.py:87: SettingWithCopyWarning: \n",
      "A value is trying to be set on a copy of a slice from a DataFrame.\n",
      "Try using .loc[row_indexer,col_indexer] = value instead\n",
      "\n",
      "See the caveats in the documentation: https://pandas.pydata.org/pandas-docs/stable/user_guide/indexing.html#returning-a-view-versus-a-copy\n",
      "  tvdf['mile'] = tvdf.apply(lambda row: closest_mile_marker(row['X'], row['Y'], data), axis=1)\n"
     ]
    },
    {
     "name": "stdout",
     "output_type": "stream",
     "text": [
      "FM0247\n",
      "FM0365\n",
      "FM0509\n",
      "FM2022\n"
     ]
    },
    {
     "name": "stderr",
     "output_type": "stream",
     "text": [
      "/var/folders/fz/qwk5rxqs39gcy8h_0lhy47c80000gn/T/ipykernel_40576/4022452298.py:87: SettingWithCopyWarning: \n",
      "A value is trying to be set on a copy of a slice from a DataFrame.\n",
      "Try using .loc[row_indexer,col_indexer] = value instead\n",
      "\n",
      "See the caveats in the documentation: https://pandas.pydata.org/pandas-docs/stable/user_guide/indexing.html#returning-a-view-versus-a-copy\n",
      "  tvdf['mile'] = tvdf.apply(lambda row: closest_mile_marker(row['X'], row['Y'], data), axis=1)\n",
      "/var/folders/fz/qwk5rxqs39gcy8h_0lhy47c80000gn/T/ipykernel_40576/4022452298.py:87: SettingWithCopyWarning: \n",
      "A value is trying to be set on a copy of a slice from a DataFrame.\n",
      "Try using .loc[row_indexer,col_indexer] = value instead\n",
      "\n",
      "See the caveats in the documentation: https://pandas.pydata.org/pandas-docs/stable/user_guide/indexing.html#returning-a-view-versus-a-copy\n",
      "  tvdf['mile'] = tvdf.apply(lambda row: closest_mile_marker(row['X'], row['Y'], data), axis=1)\n",
      "/var/folders/fz/qwk5rxqs39gcy8h_0lhy47c80000gn/T/ipykernel_40576/4022452298.py:87: SettingWithCopyWarning: \n",
      "A value is trying to be set on a copy of a slice from a DataFrame.\n",
      "Try using .loc[row_indexer,col_indexer] = value instead\n",
      "\n",
      "See the caveats in the documentation: https://pandas.pydata.org/pandas-docs/stable/user_guide/indexing.html#returning-a-view-versus-a-copy\n",
      "  tvdf['mile'] = tvdf.apply(lambda row: closest_mile_marker(row['X'], row['Y'], data), axis=1)\n"
     ]
    },
    {
     "name": "stdout",
     "output_type": "stream",
     "text": [
      "FM1013\n",
      "FM1497\n",
      "SH0188\n",
      "FM0006\n"
     ]
    },
    {
     "name": "stderr",
     "output_type": "stream",
     "text": [
      "/var/folders/fz/qwk5rxqs39gcy8h_0lhy47c80000gn/T/ipykernel_40576/4022452298.py:87: SettingWithCopyWarning: \n",
      "A value is trying to be set on a copy of a slice from a DataFrame.\n",
      "Try using .loc[row_indexer,col_indexer] = value instead\n",
      "\n",
      "See the caveats in the documentation: https://pandas.pydata.org/pandas-docs/stable/user_guide/indexing.html#returning-a-view-versus-a-copy\n",
      "  tvdf['mile'] = tvdf.apply(lambda row: closest_mile_marker(row['X'], row['Y'], data), axis=1)\n",
      "/var/folders/fz/qwk5rxqs39gcy8h_0lhy47c80000gn/T/ipykernel_40576/4022452298.py:87: SettingWithCopyWarning: \n",
      "A value is trying to be set on a copy of a slice from a DataFrame.\n",
      "Try using .loc[row_indexer,col_indexer] = value instead\n",
      "\n",
      "See the caveats in the documentation: https://pandas.pydata.org/pandas-docs/stable/user_guide/indexing.html#returning-a-view-versus-a-copy\n",
      "  tvdf['mile'] = tvdf.apply(lambda row: closest_mile_marker(row['X'], row['Y'], data), axis=1)\n",
      "/var/folders/fz/qwk5rxqs39gcy8h_0lhy47c80000gn/T/ipykernel_40576/4022452298.py:87: SettingWithCopyWarning: \n",
      "A value is trying to be set on a copy of a slice from a DataFrame.\n",
      "Try using .loc[row_indexer,col_indexer] = value instead\n",
      "\n",
      "See the caveats in the documentation: https://pandas.pydata.org/pandas-docs/stable/user_guide/indexing.html#returning-a-view-versus-a-copy\n",
      "  tvdf['mile'] = tvdf.apply(lambda row: closest_mile_marker(row['X'], row['Y'], data), axis=1)\n",
      "/var/folders/fz/qwk5rxqs39gcy8h_0lhy47c80000gn/T/ipykernel_40576/4022452298.py:87: SettingWithCopyWarning: \n",
      "A value is trying to be set on a copy of a slice from a DataFrame.\n",
      "Try using .loc[row_indexer,col_indexer] = value instead\n",
      "\n",
      "See the caveats in the documentation: https://pandas.pydata.org/pandas-docs/stable/user_guide/indexing.html#returning-a-view-versus-a-copy\n",
      "  tvdf['mile'] = tvdf.apply(lambda row: closest_mile_marker(row['X'], row['Y'], data), axis=1)\n"
     ]
    },
    {
     "name": "stdout",
     "output_type": "stream",
     "text": [
      "SH0191\n",
      "SH0351\n",
      "FM0039\n"
     ]
    },
    {
     "name": "stderr",
     "output_type": "stream",
     "text": [
      "/var/folders/fz/qwk5rxqs39gcy8h_0lhy47c80000gn/T/ipykernel_40576/4022452298.py:87: SettingWithCopyWarning: \n",
      "A value is trying to be set on a copy of a slice from a DataFrame.\n",
      "Try using .loc[row_indexer,col_indexer] = value instead\n",
      "\n",
      "See the caveats in the documentation: https://pandas.pydata.org/pandas-docs/stable/user_guide/indexing.html#returning-a-view-versus-a-copy\n",
      "  tvdf['mile'] = tvdf.apply(lambda row: closest_mile_marker(row['X'], row['Y'], data), axis=1)\n",
      "/var/folders/fz/qwk5rxqs39gcy8h_0lhy47c80000gn/T/ipykernel_40576/4022452298.py:87: SettingWithCopyWarning: \n",
      "A value is trying to be set on a copy of a slice from a DataFrame.\n",
      "Try using .loc[row_indexer,col_indexer] = value instead\n",
      "\n",
      "See the caveats in the documentation: https://pandas.pydata.org/pandas-docs/stable/user_guide/indexing.html#returning-a-view-versus-a-copy\n",
      "  tvdf['mile'] = tvdf.apply(lambda row: closest_mile_marker(row['X'], row['Y'], data), axis=1)\n"
     ]
    },
    {
     "name": "stdout",
     "output_type": "stream",
     "text": [
      "FM0056\n",
      "FM2154\n"
     ]
    },
    {
     "name": "stderr",
     "output_type": "stream",
     "text": [
      "/var/folders/fz/qwk5rxqs39gcy8h_0lhy47c80000gn/T/ipykernel_40576/4022452298.py:87: SettingWithCopyWarning: \n",
      "A value is trying to be set on a copy of a slice from a DataFrame.\n",
      "Try using .loc[row_indexer,col_indexer] = value instead\n",
      "\n",
      "See the caveats in the documentation: https://pandas.pydata.org/pandas-docs/stable/user_guide/indexing.html#returning-a-view-versus-a-copy\n",
      "  tvdf['mile'] = tvdf.apply(lambda row: closest_mile_marker(row['X'], row['Y'], data), axis=1)\n",
      "/var/folders/fz/qwk5rxqs39gcy8h_0lhy47c80000gn/T/ipykernel_40576/4022452298.py:87: SettingWithCopyWarning: \n",
      "A value is trying to be set on a copy of a slice from a DataFrame.\n",
      "Try using .loc[row_indexer,col_indexer] = value instead\n",
      "\n",
      "See the caveats in the documentation: https://pandas.pydata.org/pandas-docs/stable/user_guide/indexing.html#returning-a-view-versus-a-copy\n",
      "  tvdf['mile'] = tvdf.apply(lambda row: closest_mile_marker(row['X'], row['Y'], data), axis=1)\n"
     ]
    },
    {
     "name": "stdout",
     "output_type": "stream",
     "text": [
      "FM0491\n",
      "SH0152\n"
     ]
    },
    {
     "name": "stderr",
     "output_type": "stream",
     "text": [
      "/var/folders/fz/qwk5rxqs39gcy8h_0lhy47c80000gn/T/ipykernel_40576/4022452298.py:87: SettingWithCopyWarning: \n",
      "A value is trying to be set on a copy of a slice from a DataFrame.\n",
      "Try using .loc[row_indexer,col_indexer] = value instead\n",
      "\n",
      "See the caveats in the documentation: https://pandas.pydata.org/pandas-docs/stable/user_guide/indexing.html#returning-a-view-versus-a-copy\n",
      "  tvdf['mile'] = tvdf.apply(lambda row: closest_mile_marker(row['X'], row['Y'], data), axis=1)\n",
      "/var/folders/fz/qwk5rxqs39gcy8h_0lhy47c80000gn/T/ipykernel_40576/4022452298.py:87: SettingWithCopyWarning: \n",
      "A value is trying to be set on a copy of a slice from a DataFrame.\n",
      "Try using .loc[row_indexer,col_indexer] = value instead\n",
      "\n",
      "See the caveats in the documentation: https://pandas.pydata.org/pandas-docs/stable/user_guide/indexing.html#returning-a-view-versus-a-copy\n",
      "  tvdf['mile'] = tvdf.apply(lambda row: closest_mile_marker(row['X'], row['Y'], data), axis=1)\n"
     ]
    },
    {
     "name": "stdout",
     "output_type": "stream",
     "text": [
      "BS0036\n",
      "bad df\n",
      "FM1191\n",
      "IH0027\n"
     ]
    },
    {
     "name": "stderr",
     "output_type": "stream",
     "text": [
      "/var/folders/fz/qwk5rxqs39gcy8h_0lhy47c80000gn/T/ipykernel_40576/4022452298.py:87: SettingWithCopyWarning: \n",
      "A value is trying to be set on a copy of a slice from a DataFrame.\n",
      "Try using .loc[row_indexer,col_indexer] = value instead\n",
      "\n",
      "See the caveats in the documentation: https://pandas.pydata.org/pandas-docs/stable/user_guide/indexing.html#returning-a-view-versus-a-copy\n",
      "  tvdf['mile'] = tvdf.apply(lambda row: closest_mile_marker(row['X'], row['Y'], data), axis=1)\n",
      "/var/folders/fz/qwk5rxqs39gcy8h_0lhy47c80000gn/T/ipykernel_40576/4022452298.py:87: SettingWithCopyWarning: \n",
      "A value is trying to be set on a copy of a slice from a DataFrame.\n",
      "Try using .loc[row_indexer,col_indexer] = value instead\n",
      "\n",
      "See the caveats in the documentation: https://pandas.pydata.org/pandas-docs/stable/user_guide/indexing.html#returning-a-view-versus-a-copy\n",
      "  tvdf['mile'] = tvdf.apply(lambda row: closest_mile_marker(row['X'], row['Y'], data), axis=1)\n",
      "/var/folders/fz/qwk5rxqs39gcy8h_0lhy47c80000gn/T/ipykernel_40576/4022452298.py:87: SettingWithCopyWarning: \n",
      "A value is trying to be set on a copy of a slice from a DataFrame.\n",
      "Try using .loc[row_indexer,col_indexer] = value instead\n",
      "\n",
      "See the caveats in the documentation: https://pandas.pydata.org/pandas-docs/stable/user_guide/indexing.html#returning-a-view-versus-a-copy\n",
      "  tvdf['mile'] = tvdf.apply(lambda row: closest_mile_marker(row['X'], row['Y'], data), axis=1)\n"
     ]
    },
    {
     "name": "stdout",
     "output_type": "stream",
     "text": [
      "FM0423\n",
      "SH0285\n",
      "FM0947\n",
      "SL0281\n"
     ]
    },
    {
     "name": "stderr",
     "output_type": "stream",
     "text": [
      "/var/folders/fz/qwk5rxqs39gcy8h_0lhy47c80000gn/T/ipykernel_40576/4022452298.py:87: SettingWithCopyWarning: \n",
      "A value is trying to be set on a copy of a slice from a DataFrame.\n",
      "Try using .loc[row_indexer,col_indexer] = value instead\n",
      "\n",
      "See the caveats in the documentation: https://pandas.pydata.org/pandas-docs/stable/user_guide/indexing.html#returning-a-view-versus-a-copy\n",
      "  tvdf['mile'] = tvdf.apply(lambda row: closest_mile_marker(row['X'], row['Y'], data), axis=1)\n",
      "/var/folders/fz/qwk5rxqs39gcy8h_0lhy47c80000gn/T/ipykernel_40576/4022452298.py:87: SettingWithCopyWarning: \n",
      "A value is trying to be set on a copy of a slice from a DataFrame.\n",
      "Try using .loc[row_indexer,col_indexer] = value instead\n",
      "\n",
      "See the caveats in the documentation: https://pandas.pydata.org/pandas-docs/stable/user_guide/indexing.html#returning-a-view-versus-a-copy\n",
      "  tvdf['mile'] = tvdf.apply(lambda row: closest_mile_marker(row['X'], row['Y'], data), axis=1)\n",
      "/var/folders/fz/qwk5rxqs39gcy8h_0lhy47c80000gn/T/ipykernel_40576/4022452298.py:87: SettingWithCopyWarning: \n",
      "A value is trying to be set on a copy of a slice from a DataFrame.\n",
      "Try using .loc[row_indexer,col_indexer] = value instead\n",
      "\n",
      "See the caveats in the documentation: https://pandas.pydata.org/pandas-docs/stable/user_guide/indexing.html#returning-a-view-versus-a-copy\n",
      "  tvdf['mile'] = tvdf.apply(lambda row: closest_mile_marker(row['X'], row['Y'], data), axis=1)\n",
      "/var/folders/fz/qwk5rxqs39gcy8h_0lhy47c80000gn/T/ipykernel_40576/4022452298.py:87: SettingWithCopyWarning: \n",
      "A value is trying to be set on a copy of a slice from a DataFrame.\n",
      "Try using .loc[row_indexer,col_indexer] = value instead\n",
      "\n",
      "See the caveats in the documentation: https://pandas.pydata.org/pandas-docs/stable/user_guide/indexing.html#returning-a-view-versus-a-copy\n",
      "  tvdf['mile'] = tvdf.apply(lambda row: closest_mile_marker(row['X'], row['Y'], data), axis=1)\n"
     ]
    },
    {
     "name": "stdout",
     "output_type": "stream",
     "text": [
      "FM0722\n",
      "SH0144\n",
      "BU0067\n",
      "bad df\n",
      "SH0036\n"
     ]
    },
    {
     "name": "stderr",
     "output_type": "stream",
     "text": [
      "/var/folders/fz/qwk5rxqs39gcy8h_0lhy47c80000gn/T/ipykernel_40576/4022452298.py:87: SettingWithCopyWarning: \n",
      "A value is trying to be set on a copy of a slice from a DataFrame.\n",
      "Try using .loc[row_indexer,col_indexer] = value instead\n",
      "\n",
      "See the caveats in the documentation: https://pandas.pydata.org/pandas-docs/stable/user_guide/indexing.html#returning-a-view-versus-a-copy\n",
      "  tvdf['mile'] = tvdf.apply(lambda row: closest_mile_marker(row['X'], row['Y'], data), axis=1)\n"
     ]
    },
    {
     "name": "stdout",
     "output_type": "stream",
     "text": [
      "SH0114\n"
     ]
    },
    {
     "name": "stderr",
     "output_type": "stream",
     "text": [
      "/var/folders/fz/qwk5rxqs39gcy8h_0lhy47c80000gn/T/ipykernel_40576/4022452298.py:87: SettingWithCopyWarning: \n",
      "A value is trying to be set on a copy of a slice from a DataFrame.\n",
      "Try using .loc[row_indexer,col_indexer] = value instead\n",
      "\n",
      "See the caveats in the documentation: https://pandas.pydata.org/pandas-docs/stable/user_guide/indexing.html#returning-a-view-versus-a-copy\n",
      "  tvdf['mile'] = tvdf.apply(lambda row: closest_mile_marker(row['X'], row['Y'], data), axis=1)\n",
      "/var/folders/fz/qwk5rxqs39gcy8h_0lhy47c80000gn/T/ipykernel_40576/4022452298.py:87: SettingWithCopyWarning: \n",
      "A value is trying to be set on a copy of a slice from a DataFrame.\n",
      "Try using .loc[row_indexer,col_indexer] = value instead\n",
      "\n",
      "See the caveats in the documentation: https://pandas.pydata.org/pandas-docs/stable/user_guide/indexing.html#returning-a-view-versus-a-copy\n",
      "  tvdf['mile'] = tvdf.apply(lambda row: closest_mile_marker(row['X'], row['Y'], data), axis=1)\n",
      "/var/folders/fz/qwk5rxqs39gcy8h_0lhy47c80000gn/T/ipykernel_40576/4022452298.py:87: SettingWithCopyWarning: \n",
      "A value is trying to be set on a copy of a slice from a DataFrame.\n",
      "Try using .loc[row_indexer,col_indexer] = value instead\n",
      "\n",
      "See the caveats in the documentation: https://pandas.pydata.org/pandas-docs/stable/user_guide/indexing.html#returning-a-view-versus-a-copy\n",
      "  tvdf['mile'] = tvdf.apply(lambda row: closest_mile_marker(row['X'], row['Y'], data), axis=1)\n",
      "/var/folders/fz/qwk5rxqs39gcy8h_0lhy47c80000gn/T/ipykernel_40576/4022452298.py:87: SettingWithCopyWarning: \n",
      "A value is trying to be set on a copy of a slice from a DataFrame.\n",
      "Try using .loc[row_indexer,col_indexer] = value instead\n",
      "\n",
      "See the caveats in the documentation: https://pandas.pydata.org/pandas-docs/stable/user_guide/indexing.html#returning-a-view-versus-a-copy\n",
      "  tvdf['mile'] = tvdf.apply(lambda row: closest_mile_marker(row['X'], row['Y'], data), axis=1)\n",
      "/var/folders/fz/qwk5rxqs39gcy8h_0lhy47c80000gn/T/ipykernel_40576/4022452298.py:87: SettingWithCopyWarning: \n",
      "A value is trying to be set on a copy of a slice from a DataFrame.\n",
      "Try using .loc[row_indexer,col_indexer] = value instead\n",
      "\n",
      "See the caveats in the documentation: https://pandas.pydata.org/pandas-docs/stable/user_guide/indexing.html#returning-a-view-versus-a-copy\n",
      "  tvdf['mile'] = tvdf.apply(lambda row: closest_mile_marker(row['X'], row['Y'], data), axis=1)\n"
     ]
    },
    {
     "name": "stdout",
     "output_type": "stream",
     "text": [
      "FM1774\n",
      "FM1954\n",
      "FM0725\n",
      "FM0605\n",
      "FM1716\n"
     ]
    },
    {
     "name": "stderr",
     "output_type": "stream",
     "text": [
      "/var/folders/fz/qwk5rxqs39gcy8h_0lhy47c80000gn/T/ipykernel_40576/4022452298.py:87: SettingWithCopyWarning: \n",
      "A value is trying to be set on a copy of a slice from a DataFrame.\n",
      "Try using .loc[row_indexer,col_indexer] = value instead\n",
      "\n",
      "See the caveats in the documentation: https://pandas.pydata.org/pandas-docs/stable/user_guide/indexing.html#returning-a-view-versus-a-copy\n",
      "  tvdf['mile'] = tvdf.apply(lambda row: closest_mile_marker(row['X'], row['Y'], data), axis=1)\n"
     ]
    },
    {
     "name": "stdout",
     "output_type": "stream",
     "text": [
      "US0082\n"
     ]
    },
    {
     "name": "stderr",
     "output_type": "stream",
     "text": [
      "/var/folders/fz/qwk5rxqs39gcy8h_0lhy47c80000gn/T/ipykernel_40576/4022452298.py:87: SettingWithCopyWarning: \n",
      "A value is trying to be set on a copy of a slice from a DataFrame.\n",
      "Try using .loc[row_indexer,col_indexer] = value instead\n",
      "\n",
      "See the caveats in the documentation: https://pandas.pydata.org/pandas-docs/stable/user_guide/indexing.html#returning-a-view-versus-a-copy\n",
      "  tvdf['mile'] = tvdf.apply(lambda row: closest_mile_marker(row['X'], row['Y'], data), axis=1)\n",
      "/var/folders/fz/qwk5rxqs39gcy8h_0lhy47c80000gn/T/ipykernel_40576/4022452298.py:87: SettingWithCopyWarning: \n",
      "A value is trying to be set on a copy of a slice from a DataFrame.\n",
      "Try using .loc[row_indexer,col_indexer] = value instead\n",
      "\n",
      "See the caveats in the documentation: https://pandas.pydata.org/pandas-docs/stable/user_guide/indexing.html#returning-a-view-versus-a-copy\n",
      "  tvdf['mile'] = tvdf.apply(lambda row: closest_mile_marker(row['X'], row['Y'], data), axis=1)\n"
     ]
    },
    {
     "name": "stdout",
     "output_type": "stream",
     "text": [
      "FM1373\n",
      "SH0022\n"
     ]
    },
    {
     "name": "stderr",
     "output_type": "stream",
     "text": [
      "/var/folders/fz/qwk5rxqs39gcy8h_0lhy47c80000gn/T/ipykernel_40576/4022452298.py:87: SettingWithCopyWarning: \n",
      "A value is trying to be set on a copy of a slice from a DataFrame.\n",
      "Try using .loc[row_indexer,col_indexer] = value instead\n",
      "\n",
      "See the caveats in the documentation: https://pandas.pydata.org/pandas-docs/stable/user_guide/indexing.html#returning-a-view-versus-a-copy\n",
      "  tvdf['mile'] = tvdf.apply(lambda row: closest_mile_marker(row['X'], row['Y'], data), axis=1)\n",
      "/var/folders/fz/qwk5rxqs39gcy8h_0lhy47c80000gn/T/ipykernel_40576/4022452298.py:87: SettingWithCopyWarning: \n",
      "A value is trying to be set on a copy of a slice from a DataFrame.\n",
      "Try using .loc[row_indexer,col_indexer] = value instead\n",
      "\n",
      "See the caveats in the documentation: https://pandas.pydata.org/pandas-docs/stable/user_guide/indexing.html#returning-a-view-versus-a-copy\n",
      "  tvdf['mile'] = tvdf.apply(lambda row: closest_mile_marker(row['X'], row['Y'], data), axis=1)\n"
     ]
    },
    {
     "name": "stdout",
     "output_type": "stream",
     "text": [
      "FM0738\n",
      "SH0034\n"
     ]
    },
    {
     "name": "stderr",
     "output_type": "stream",
     "text": [
      "/var/folders/fz/qwk5rxqs39gcy8h_0lhy47c80000gn/T/ipykernel_40576/4022452298.py:87: SettingWithCopyWarning: \n",
      "A value is trying to be set on a copy of a slice from a DataFrame.\n",
      "Try using .loc[row_indexer,col_indexer] = value instead\n",
      "\n",
      "See the caveats in the documentation: https://pandas.pydata.org/pandas-docs/stable/user_guide/indexing.html#returning-a-view-versus-a-copy\n",
      "  tvdf['mile'] = tvdf.apply(lambda row: closest_mile_marker(row['X'], row['Y'], data), axis=1)\n",
      "/var/folders/fz/qwk5rxqs39gcy8h_0lhy47c80000gn/T/ipykernel_40576/4022452298.py:87: SettingWithCopyWarning: \n",
      "A value is trying to be set on a copy of a slice from a DataFrame.\n",
      "Try using .loc[row_indexer,col_indexer] = value instead\n",
      "\n",
      "See the caveats in the documentation: https://pandas.pydata.org/pandas-docs/stable/user_guide/indexing.html#returning-a-view-versus-a-copy\n",
      "  tvdf['mile'] = tvdf.apply(lambda row: closest_mile_marker(row['X'], row['Y'], data), axis=1)\n",
      "/var/folders/fz/qwk5rxqs39gcy8h_0lhy47c80000gn/T/ipykernel_40576/4022452298.py:87: SettingWithCopyWarning: \n",
      "A value is trying to be set on a copy of a slice from a DataFrame.\n",
      "Try using .loc[row_indexer,col_indexer] = value instead\n",
      "\n",
      "See the caveats in the documentation: https://pandas.pydata.org/pandas-docs/stable/user_guide/indexing.html#returning-a-view-versus-a-copy\n",
      "  tvdf['mile'] = tvdf.apply(lambda row: closest_mile_marker(row['X'], row['Y'], data), axis=1)\n",
      "/var/folders/fz/qwk5rxqs39gcy8h_0lhy47c80000gn/T/ipykernel_40576/4022452298.py:87: SettingWithCopyWarning: \n",
      "A value is trying to be set on a copy of a slice from a DataFrame.\n",
      "Try using .loc[row_indexer,col_indexer] = value instead\n",
      "\n",
      "See the caveats in the documentation: https://pandas.pydata.org/pandas-docs/stable/user_guide/indexing.html#returning-a-view-versus-a-copy\n",
      "  tvdf['mile'] = tvdf.apply(lambda row: closest_mile_marker(row['X'], row['Y'], data), axis=1)\n"
     ]
    },
    {
     "name": "stdout",
     "output_type": "stream",
     "text": [
      "SH0204\n",
      "FM1333\n",
      "FM3351\n",
      "RM0334\n"
     ]
    },
    {
     "name": "stderr",
     "output_type": "stream",
     "text": [
      "/var/folders/fz/qwk5rxqs39gcy8h_0lhy47c80000gn/T/ipykernel_40576/4022452298.py:87: SettingWithCopyWarning: \n",
      "A value is trying to be set on a copy of a slice from a DataFrame.\n",
      "Try using .loc[row_indexer,col_indexer] = value instead\n",
      "\n",
      "See the caveats in the documentation: https://pandas.pydata.org/pandas-docs/stable/user_guide/indexing.html#returning-a-view-versus-a-copy\n",
      "  tvdf['mile'] = tvdf.apply(lambda row: closest_mile_marker(row['X'], row['Y'], data), axis=1)\n",
      "/var/folders/fz/qwk5rxqs39gcy8h_0lhy47c80000gn/T/ipykernel_40576/4022452298.py:87: SettingWithCopyWarning: \n",
      "A value is trying to be set on a copy of a slice from a DataFrame.\n",
      "Try using .loc[row_indexer,col_indexer] = value instead\n",
      "\n",
      "See the caveats in the documentation: https://pandas.pydata.org/pandas-docs/stable/user_guide/indexing.html#returning-a-view-versus-a-copy\n",
      "  tvdf['mile'] = tvdf.apply(lambda row: closest_mile_marker(row['X'], row['Y'], data), axis=1)\n",
      "/var/folders/fz/qwk5rxqs39gcy8h_0lhy47c80000gn/T/ipykernel_40576/4022452298.py:87: SettingWithCopyWarning: \n",
      "A value is trying to be set on a copy of a slice from a DataFrame.\n",
      "Try using .loc[row_indexer,col_indexer] = value instead\n",
      "\n",
      "See the caveats in the documentation: https://pandas.pydata.org/pandas-docs/stable/user_guide/indexing.html#returning-a-view-versus-a-copy\n",
      "  tvdf['mile'] = tvdf.apply(lambda row: closest_mile_marker(row['X'], row['Y'], data), axis=1)\n",
      "/var/folders/fz/qwk5rxqs39gcy8h_0lhy47c80000gn/T/ipykernel_40576/4022452298.py:87: SettingWithCopyWarning: \n",
      "A value is trying to be set on a copy of a slice from a DataFrame.\n",
      "Try using .loc[row_indexer,col_indexer] = value instead\n",
      "\n",
      "See the caveats in the documentation: https://pandas.pydata.org/pandas-docs/stable/user_guide/indexing.html#returning-a-view-versus-a-copy\n",
      "  tvdf['mile'] = tvdf.apply(lambda row: closest_mile_marker(row['X'], row['Y'], data), axis=1)\n",
      "/var/folders/fz/qwk5rxqs39gcy8h_0lhy47c80000gn/T/ipykernel_40576/4022452298.py:87: SettingWithCopyWarning: \n",
      "A value is trying to be set on a copy of a slice from a DataFrame.\n",
      "Try using .loc[row_indexer,col_indexer] = value instead\n",
      "\n",
      "See the caveats in the documentation: https://pandas.pydata.org/pandas-docs/stable/user_guide/indexing.html#returning-a-view-versus-a-copy\n",
      "  tvdf['mile'] = tvdf.apply(lambda row: closest_mile_marker(row['X'], row['Y'], data), axis=1)\n"
     ]
    },
    {
     "name": "stdout",
     "output_type": "stream",
     "text": [
      "RM0963\n",
      "FM2378\n",
      "FM1382\n",
      "FM0449\n",
      "US0077\n"
     ]
    },
    {
     "name": "stderr",
     "output_type": "stream",
     "text": [
      "/var/folders/fz/qwk5rxqs39gcy8h_0lhy47c80000gn/T/ipykernel_40576/4022452298.py:87: SettingWithCopyWarning: \n",
      "A value is trying to be set on a copy of a slice from a DataFrame.\n",
      "Try using .loc[row_indexer,col_indexer] = value instead\n",
      "\n",
      "See the caveats in the documentation: https://pandas.pydata.org/pandas-docs/stable/user_guide/indexing.html#returning-a-view-versus-a-copy\n",
      "  tvdf['mile'] = tvdf.apply(lambda row: closest_mile_marker(row['X'], row['Y'], data), axis=1)\n",
      "/var/folders/fz/qwk5rxqs39gcy8h_0lhy47c80000gn/T/ipykernel_40576/4022452298.py:87: SettingWithCopyWarning: \n",
      "A value is trying to be set on a copy of a slice from a DataFrame.\n",
      "Try using .loc[row_indexer,col_indexer] = value instead\n",
      "\n",
      "See the caveats in the documentation: https://pandas.pydata.org/pandas-docs/stable/user_guide/indexing.html#returning-a-view-versus-a-copy\n",
      "  tvdf['mile'] = tvdf.apply(lambda row: closest_mile_marker(row['X'], row['Y'], data), axis=1)\n",
      "/var/folders/fz/qwk5rxqs39gcy8h_0lhy47c80000gn/T/ipykernel_40576/4022452298.py:87: SettingWithCopyWarning: \n",
      "A value is trying to be set on a copy of a slice from a DataFrame.\n",
      "Try using .loc[row_indexer,col_indexer] = value instead\n",
      "\n",
      "See the caveats in the documentation: https://pandas.pydata.org/pandas-docs/stable/user_guide/indexing.html#returning-a-view-versus-a-copy\n",
      "  tvdf['mile'] = tvdf.apply(lambda row: closest_mile_marker(row['X'], row['Y'], data), axis=1)\n"
     ]
    },
    {
     "name": "stdout",
     "output_type": "stream",
     "text": [
      "FM1424\n",
      "FM0971\n",
      "US0067\n"
     ]
    },
    {
     "name": "stderr",
     "output_type": "stream",
     "text": [
      "/var/folders/fz/qwk5rxqs39gcy8h_0lhy47c80000gn/T/ipykernel_40576/4022452298.py:87: SettingWithCopyWarning: \n",
      "A value is trying to be set on a copy of a slice from a DataFrame.\n",
      "Try using .loc[row_indexer,col_indexer] = value instead\n",
      "\n",
      "See the caveats in the documentation: https://pandas.pydata.org/pandas-docs/stable/user_guide/indexing.html#returning-a-view-versus-a-copy\n",
      "  tvdf['mile'] = tvdf.apply(lambda row: closest_mile_marker(row['X'], row['Y'], data), axis=1)\n"
     ]
    },
    {
     "name": "stdout",
     "output_type": "stream",
     "text": [
      "SH0214\n"
     ]
    },
    {
     "name": "stderr",
     "output_type": "stream",
     "text": [
      "/var/folders/fz/qwk5rxqs39gcy8h_0lhy47c80000gn/T/ipykernel_40576/4022452298.py:87: SettingWithCopyWarning: \n",
      "A value is trying to be set on a copy of a slice from a DataFrame.\n",
      "Try using .loc[row_indexer,col_indexer] = value instead\n",
      "\n",
      "See the caveats in the documentation: https://pandas.pydata.org/pandas-docs/stable/user_guide/indexing.html#returning-a-view-versus-a-copy\n",
      "  tvdf['mile'] = tvdf.apply(lambda row: closest_mile_marker(row['X'], row['Y'], data), axis=1)\n",
      "/var/folders/fz/qwk5rxqs39gcy8h_0lhy47c80000gn/T/ipykernel_40576/4022452298.py:87: SettingWithCopyWarning: \n",
      "A value is trying to be set on a copy of a slice from a DataFrame.\n",
      "Try using .loc[row_indexer,col_indexer] = value instead\n",
      "\n",
      "See the caveats in the documentation: https://pandas.pydata.org/pandas-docs/stable/user_guide/indexing.html#returning-a-view-versus-a-copy\n",
      "  tvdf['mile'] = tvdf.apply(lambda row: closest_mile_marker(row['X'], row['Y'], data), axis=1)\n",
      "/var/folders/fz/qwk5rxqs39gcy8h_0lhy47c80000gn/T/ipykernel_40576/4022452298.py:87: SettingWithCopyWarning: \n",
      "A value is trying to be set on a copy of a slice from a DataFrame.\n",
      "Try using .loc[row_indexer,col_indexer] = value instead\n",
      "\n",
      "See the caveats in the documentation: https://pandas.pydata.org/pandas-docs/stable/user_guide/indexing.html#returning-a-view-versus-a-copy\n",
      "  tvdf['mile'] = tvdf.apply(lambda row: closest_mile_marker(row['X'], row['Y'], data), axis=1)\n",
      "/var/folders/fz/qwk5rxqs39gcy8h_0lhy47c80000gn/T/ipykernel_40576/4022452298.py:87: SettingWithCopyWarning: \n",
      "A value is trying to be set on a copy of a slice from a DataFrame.\n",
      "Try using .loc[row_indexer,col_indexer] = value instead\n",
      "\n",
      "See the caveats in the documentation: https://pandas.pydata.org/pandas-docs/stable/user_guide/indexing.html#returning-a-view-versus-a-copy\n",
      "  tvdf['mile'] = tvdf.apply(lambda row: closest_mile_marker(row['X'], row['Y'], data), axis=1)\n"
     ]
    },
    {
     "name": "stdout",
     "output_type": "stream",
     "text": [
      "FM1731\n",
      "FM0258\n",
      "SH0172\n",
      "FM0273\n"
     ]
    },
    {
     "name": "stderr",
     "output_type": "stream",
     "text": [
      "/var/folders/fz/qwk5rxqs39gcy8h_0lhy47c80000gn/T/ipykernel_40576/4022452298.py:87: SettingWithCopyWarning: \n",
      "A value is trying to be set on a copy of a slice from a DataFrame.\n",
      "Try using .loc[row_indexer,col_indexer] = value instead\n",
      "\n",
      "See the caveats in the documentation: https://pandas.pydata.org/pandas-docs/stable/user_guide/indexing.html#returning-a-view-versus-a-copy\n",
      "  tvdf['mile'] = tvdf.apply(lambda row: closest_mile_marker(row['X'], row['Y'], data), axis=1)\n",
      "/var/folders/fz/qwk5rxqs39gcy8h_0lhy47c80000gn/T/ipykernel_40576/4022452298.py:87: SettingWithCopyWarning: \n",
      "A value is trying to be set on a copy of a slice from a DataFrame.\n",
      "Try using .loc[row_indexer,col_indexer] = value instead\n",
      "\n",
      "See the caveats in the documentation: https://pandas.pydata.org/pandas-docs/stable/user_guide/indexing.html#returning-a-view-versus-a-copy\n",
      "  tvdf['mile'] = tvdf.apply(lambda row: closest_mile_marker(row['X'], row['Y'], data), axis=1)\n"
     ]
    },
    {
     "name": "stdout",
     "output_type": "stream",
     "text": [
      "SH0194\n",
      "SH0011\n"
     ]
    },
    {
     "name": "stderr",
     "output_type": "stream",
     "text": [
      "/var/folders/fz/qwk5rxqs39gcy8h_0lhy47c80000gn/T/ipykernel_40576/4022452298.py:87: SettingWithCopyWarning: \n",
      "A value is trying to be set on a copy of a slice from a DataFrame.\n",
      "Try using .loc[row_indexer,col_indexer] = value instead\n",
      "\n",
      "See the caveats in the documentation: https://pandas.pydata.org/pandas-docs/stable/user_guide/indexing.html#returning-a-view-versus-a-copy\n",
      "  tvdf['mile'] = tvdf.apply(lambda row: closest_mile_marker(row['X'], row['Y'], data), axis=1)\n",
      "/var/folders/fz/qwk5rxqs39gcy8h_0lhy47c80000gn/T/ipykernel_40576/4022452298.py:87: SettingWithCopyWarning: \n",
      "A value is trying to be set on a copy of a slice from a DataFrame.\n",
      "Try using .loc[row_indexer,col_indexer] = value instead\n",
      "\n",
      "See the caveats in the documentation: https://pandas.pydata.org/pandas-docs/stable/user_guide/indexing.html#returning-a-view-versus-a-copy\n",
      "  tvdf['mile'] = tvdf.apply(lambda row: closest_mile_marker(row['X'], row['Y'], data), axis=1)\n",
      "/var/folders/fz/qwk5rxqs39gcy8h_0lhy47c80000gn/T/ipykernel_40576/4022452298.py:87: SettingWithCopyWarning: \n",
      "A value is trying to be set on a copy of a slice from a DataFrame.\n",
      "Try using .loc[row_indexer,col_indexer] = value instead\n",
      "\n",
      "See the caveats in the documentation: https://pandas.pydata.org/pandas-docs/stable/user_guide/indexing.html#returning-a-view-versus-a-copy\n",
      "  tvdf['mile'] = tvdf.apply(lambda row: closest_mile_marker(row['X'], row['Y'], data), axis=1)\n"
     ]
    },
    {
     "name": "stdout",
     "output_type": "stream",
     "text": [
      "FM1840\n",
      "FM2100\n",
      "SH0007\n"
     ]
    },
    {
     "name": "stderr",
     "output_type": "stream",
     "text": [
      "/var/folders/fz/qwk5rxqs39gcy8h_0lhy47c80000gn/T/ipykernel_40576/4022452298.py:87: SettingWithCopyWarning: \n",
      "A value is trying to be set on a copy of a slice from a DataFrame.\n",
      "Try using .loc[row_indexer,col_indexer] = value instead\n",
      "\n",
      "See the caveats in the documentation: https://pandas.pydata.org/pandas-docs/stable/user_guide/indexing.html#returning-a-view-versus-a-copy\n",
      "  tvdf['mile'] = tvdf.apply(lambda row: closest_mile_marker(row['X'], row['Y'], data), axis=1)\n",
      "/var/folders/fz/qwk5rxqs39gcy8h_0lhy47c80000gn/T/ipykernel_40576/4022452298.py:87: SettingWithCopyWarning: \n",
      "A value is trying to be set on a copy of a slice from a DataFrame.\n",
      "Try using .loc[row_indexer,col_indexer] = value instead\n",
      "\n",
      "See the caveats in the documentation: https://pandas.pydata.org/pandas-docs/stable/user_guide/indexing.html#returning-a-view-versus-a-copy\n",
      "  tvdf['mile'] = tvdf.apply(lambda row: closest_mile_marker(row['X'], row['Y'], data), axis=1)\n",
      "/var/folders/fz/qwk5rxqs39gcy8h_0lhy47c80000gn/T/ipykernel_40576/4022452298.py:87: SettingWithCopyWarning: \n",
      "A value is trying to be set on a copy of a slice from a DataFrame.\n",
      "Try using .loc[row_indexer,col_indexer] = value instead\n",
      "\n",
      "See the caveats in the documentation: https://pandas.pydata.org/pandas-docs/stable/user_guide/indexing.html#returning-a-view-versus-a-copy\n",
      "  tvdf['mile'] = tvdf.apply(lambda row: closest_mile_marker(row['X'], row['Y'], data), axis=1)\n"
     ]
    },
    {
     "name": "stdout",
     "output_type": "stream",
     "text": [
      "FM0529\n",
      "FM1017\n",
      "FM0134\n"
     ]
    },
    {
     "name": "stderr",
     "output_type": "stream",
     "text": [
      "/var/folders/fz/qwk5rxqs39gcy8h_0lhy47c80000gn/T/ipykernel_40576/4022452298.py:87: SettingWithCopyWarning: \n",
      "A value is trying to be set on a copy of a slice from a DataFrame.\n",
      "Try using .loc[row_indexer,col_indexer] = value instead\n",
      "\n",
      "See the caveats in the documentation: https://pandas.pydata.org/pandas-docs/stable/user_guide/indexing.html#returning-a-view-versus-a-copy\n",
      "  tvdf['mile'] = tvdf.apply(lambda row: closest_mile_marker(row['X'], row['Y'], data), axis=1)\n",
      "/var/folders/fz/qwk5rxqs39gcy8h_0lhy47c80000gn/T/ipykernel_40576/4022452298.py:87: SettingWithCopyWarning: \n",
      "A value is trying to be set on a copy of a slice from a DataFrame.\n",
      "Try using .loc[row_indexer,col_indexer] = value instead\n",
      "\n",
      "See the caveats in the documentation: https://pandas.pydata.org/pandas-docs/stable/user_guide/indexing.html#returning-a-view-versus-a-copy\n",
      "  tvdf['mile'] = tvdf.apply(lambda row: closest_mile_marker(row['X'], row['Y'], data), axis=1)\n",
      "/var/folders/fz/qwk5rxqs39gcy8h_0lhy47c80000gn/T/ipykernel_40576/4022452298.py:87: SettingWithCopyWarning: \n",
      "A value is trying to be set on a copy of a slice from a DataFrame.\n",
      "Try using .loc[row_indexer,col_indexer] = value instead\n",
      "\n",
      "See the caveats in the documentation: https://pandas.pydata.org/pandas-docs/stable/user_guide/indexing.html#returning-a-view-versus-a-copy\n",
      "  tvdf['mile'] = tvdf.apply(lambda row: closest_mile_marker(row['X'], row['Y'], data), axis=1)\n",
      "/var/folders/fz/qwk5rxqs39gcy8h_0lhy47c80000gn/T/ipykernel_40576/4022452298.py:87: SettingWithCopyWarning: \n",
      "A value is trying to be set on a copy of a slice from a DataFrame.\n",
      "Try using .loc[row_indexer,col_indexer] = value instead\n",
      "\n",
      "See the caveats in the documentation: https://pandas.pydata.org/pandas-docs/stable/user_guide/indexing.html#returning-a-view-versus-a-copy\n",
      "  tvdf['mile'] = tvdf.apply(lambda row: closest_mile_marker(row['X'], row['Y'], data), axis=1)\n",
      "/var/folders/fz/qwk5rxqs39gcy8h_0lhy47c80000gn/T/ipykernel_40576/4022452298.py:87: SettingWithCopyWarning: \n",
      "A value is trying to be set on a copy of a slice from a DataFrame.\n",
      "Try using .loc[row_indexer,col_indexer] = value instead\n",
      "\n",
      "See the caveats in the documentation: https://pandas.pydata.org/pandas-docs/stable/user_guide/indexing.html#returning-a-view-versus-a-copy\n",
      "  tvdf['mile'] = tvdf.apply(lambda row: closest_mile_marker(row['X'], row['Y'], data), axis=1)\n",
      "/var/folders/fz/qwk5rxqs39gcy8h_0lhy47c80000gn/T/ipykernel_40576/4022452298.py:87: SettingWithCopyWarning: \n",
      "A value is trying to be set on a copy of a slice from a DataFrame.\n",
      "Try using .loc[row_indexer,col_indexer] = value instead\n",
      "\n",
      "See the caveats in the documentation: https://pandas.pydata.org/pandas-docs/stable/user_guide/indexing.html#returning-a-view-versus-a-copy\n",
      "  tvdf['mile'] = tvdf.apply(lambda row: closest_mile_marker(row['X'], row['Y'], data), axis=1)\n"
     ]
    },
    {
     "name": "stdout",
     "output_type": "stream",
     "text": [
      "FM1988\n",
      "FM1346\n",
      "RM2244\n",
      "FM1943\n",
      "FM0943\n",
      "SL0250\n"
     ]
    },
    {
     "name": "stderr",
     "output_type": "stream",
     "text": [
      "/var/folders/fz/qwk5rxqs39gcy8h_0lhy47c80000gn/T/ipykernel_40576/4022452298.py:87: SettingWithCopyWarning: \n",
      "A value is trying to be set on a copy of a slice from a DataFrame.\n",
      "Try using .loc[row_indexer,col_indexer] = value instead\n",
      "\n",
      "See the caveats in the documentation: https://pandas.pydata.org/pandas-docs/stable/user_guide/indexing.html#returning-a-view-versus-a-copy\n",
      "  tvdf['mile'] = tvdf.apply(lambda row: closest_mile_marker(row['X'], row['Y'], data), axis=1)\n",
      "/var/folders/fz/qwk5rxqs39gcy8h_0lhy47c80000gn/T/ipykernel_40576/4022452298.py:87: SettingWithCopyWarning: \n",
      "A value is trying to be set on a copy of a slice from a DataFrame.\n",
      "Try using .loc[row_indexer,col_indexer] = value instead\n",
      "\n",
      "See the caveats in the documentation: https://pandas.pydata.org/pandas-docs/stable/user_guide/indexing.html#returning-a-view-versus-a-copy\n",
      "  tvdf['mile'] = tvdf.apply(lambda row: closest_mile_marker(row['X'], row['Y'], data), axis=1)\n",
      "/var/folders/fz/qwk5rxqs39gcy8h_0lhy47c80000gn/T/ipykernel_40576/4022452298.py:87: SettingWithCopyWarning: \n",
      "A value is trying to be set on a copy of a slice from a DataFrame.\n",
      "Try using .loc[row_indexer,col_indexer] = value instead\n",
      "\n",
      "See the caveats in the documentation: https://pandas.pydata.org/pandas-docs/stable/user_guide/indexing.html#returning-a-view-versus-a-copy\n",
      "  tvdf['mile'] = tvdf.apply(lambda row: closest_mile_marker(row['X'], row['Y'], data), axis=1)\n",
      "/var/folders/fz/qwk5rxqs39gcy8h_0lhy47c80000gn/T/ipykernel_40576/4022452298.py:87: SettingWithCopyWarning: \n",
      "A value is trying to be set on a copy of a slice from a DataFrame.\n",
      "Try using .loc[row_indexer,col_indexer] = value instead\n",
      "\n",
      "See the caveats in the documentation: https://pandas.pydata.org/pandas-docs/stable/user_guide/indexing.html#returning-a-view-versus-a-copy\n",
      "  tvdf['mile'] = tvdf.apply(lambda row: closest_mile_marker(row['X'], row['Y'], data), axis=1)\n",
      "/var/folders/fz/qwk5rxqs39gcy8h_0lhy47c80000gn/T/ipykernel_40576/4022452298.py:87: SettingWithCopyWarning: \n",
      "A value is trying to be set on a copy of a slice from a DataFrame.\n",
      "Try using .loc[row_indexer,col_indexer] = value instead\n",
      "\n",
      "See the caveats in the documentation: https://pandas.pydata.org/pandas-docs/stable/user_guide/indexing.html#returning-a-view-versus-a-copy\n",
      "  tvdf['mile'] = tvdf.apply(lambda row: closest_mile_marker(row['X'], row['Y'], data), axis=1)\n"
     ]
    },
    {
     "name": "stdout",
     "output_type": "stream",
     "text": [
      "FM1485\n",
      "FM1092\n",
      "FM0429\n",
      "FM1660\n",
      "FM0041\n"
     ]
    },
    {
     "name": "stderr",
     "output_type": "stream",
     "text": [
      "/var/folders/fz/qwk5rxqs39gcy8h_0lhy47c80000gn/T/ipykernel_40576/4022452298.py:87: SettingWithCopyWarning: \n",
      "A value is trying to be set on a copy of a slice from a DataFrame.\n",
      "Try using .loc[row_indexer,col_indexer] = value instead\n",
      "\n",
      "See the caveats in the documentation: https://pandas.pydata.org/pandas-docs/stable/user_guide/indexing.html#returning-a-view-versus-a-copy\n",
      "  tvdf['mile'] = tvdf.apply(lambda row: closest_mile_marker(row['X'], row['Y'], data), axis=1)\n",
      "/var/folders/fz/qwk5rxqs39gcy8h_0lhy47c80000gn/T/ipykernel_40576/4022452298.py:87: SettingWithCopyWarning: \n",
      "A value is trying to be set on a copy of a slice from a DataFrame.\n",
      "Try using .loc[row_indexer,col_indexer] = value instead\n",
      "\n",
      "See the caveats in the documentation: https://pandas.pydata.org/pandas-docs/stable/user_guide/indexing.html#returning-a-view-versus-a-copy\n",
      "  tvdf['mile'] = tvdf.apply(lambda row: closest_mile_marker(row['X'], row['Y'], data), axis=1)\n",
      "/var/folders/fz/qwk5rxqs39gcy8h_0lhy47c80000gn/T/ipykernel_40576/4022452298.py:87: SettingWithCopyWarning: \n",
      "A value is trying to be set on a copy of a slice from a DataFrame.\n",
      "Try using .loc[row_indexer,col_indexer] = value instead\n",
      "\n",
      "See the caveats in the documentation: https://pandas.pydata.org/pandas-docs/stable/user_guide/indexing.html#returning-a-view-versus-a-copy\n",
      "  tvdf['mile'] = tvdf.apply(lambda row: closest_mile_marker(row['X'], row['Y'], data), axis=1)\n",
      "/var/folders/fz/qwk5rxqs39gcy8h_0lhy47c80000gn/T/ipykernel_40576/4022452298.py:87: SettingWithCopyWarning: \n",
      "A value is trying to be set on a copy of a slice from a DataFrame.\n",
      "Try using .loc[row_indexer,col_indexer] = value instead\n",
      "\n",
      "See the caveats in the documentation: https://pandas.pydata.org/pandas-docs/stable/user_guide/indexing.html#returning-a-view-versus-a-copy\n",
      "  tvdf['mile'] = tvdf.apply(lambda row: closest_mile_marker(row['X'], row['Y'], data), axis=1)\n",
      "/var/folders/fz/qwk5rxqs39gcy8h_0lhy47c80000gn/T/ipykernel_40576/4022452298.py:87: SettingWithCopyWarning: \n",
      "A value is trying to be set on a copy of a slice from a DataFrame.\n",
      "Try using .loc[row_indexer,col_indexer] = value instead\n",
      "\n",
      "See the caveats in the documentation: https://pandas.pydata.org/pandas-docs/stable/user_guide/indexing.html#returning-a-view-versus-a-copy\n",
      "  tvdf['mile'] = tvdf.apply(lambda row: closest_mile_marker(row['X'], row['Y'], data), axis=1)\n"
     ]
    },
    {
     "name": "stdout",
     "output_type": "stream",
     "text": [
      "FM2673\n",
      "BS0035\n",
      "bad df\n",
      "FM1021\n",
      "SH0242\n",
      "SH0336\n",
      "FM1798\n"
     ]
    },
    {
     "name": "stderr",
     "output_type": "stream",
     "text": [
      "/var/folders/fz/qwk5rxqs39gcy8h_0lhy47c80000gn/T/ipykernel_40576/4022452298.py:87: SettingWithCopyWarning: \n",
      "A value is trying to be set on a copy of a slice from a DataFrame.\n",
      "Try using .loc[row_indexer,col_indexer] = value instead\n",
      "\n",
      "See the caveats in the documentation: https://pandas.pydata.org/pandas-docs/stable/user_guide/indexing.html#returning-a-view-versus-a-copy\n",
      "  tvdf['mile'] = tvdf.apply(lambda row: closest_mile_marker(row['X'], row['Y'], data), axis=1)\n",
      "/var/folders/fz/qwk5rxqs39gcy8h_0lhy47c80000gn/T/ipykernel_40576/4022452298.py:87: SettingWithCopyWarning: \n",
      "A value is trying to be set on a copy of a slice from a DataFrame.\n",
      "Try using .loc[row_indexer,col_indexer] = value instead\n",
      "\n",
      "See the caveats in the documentation: https://pandas.pydata.org/pandas-docs/stable/user_guide/indexing.html#returning-a-view-versus-a-copy\n",
      "  tvdf['mile'] = tvdf.apply(lambda row: closest_mile_marker(row['X'], row['Y'], data), axis=1)\n",
      "/var/folders/fz/qwk5rxqs39gcy8h_0lhy47c80000gn/T/ipykernel_40576/4022452298.py:87: SettingWithCopyWarning: \n",
      "A value is trying to be set on a copy of a slice from a DataFrame.\n",
      "Try using .loc[row_indexer,col_indexer] = value instead\n",
      "\n",
      "See the caveats in the documentation: https://pandas.pydata.org/pandas-docs/stable/user_guide/indexing.html#returning-a-view-versus-a-copy\n",
      "  tvdf['mile'] = tvdf.apply(lambda row: closest_mile_marker(row['X'], row['Y'], data), axis=1)\n",
      "/var/folders/fz/qwk5rxqs39gcy8h_0lhy47c80000gn/T/ipykernel_40576/4022452298.py:87: SettingWithCopyWarning: \n",
      "A value is trying to be set on a copy of a slice from a DataFrame.\n",
      "Try using .loc[row_indexer,col_indexer] = value instead\n",
      "\n",
      "See the caveats in the documentation: https://pandas.pydata.org/pandas-docs/stable/user_guide/indexing.html#returning-a-view-versus-a-copy\n",
      "  tvdf['mile'] = tvdf.apply(lambda row: closest_mile_marker(row['X'], row['Y'], data), axis=1)\n"
     ]
    },
    {
     "name": "stdout",
     "output_type": "stream",
     "text": [
      "FM0076\n",
      "FM1304\n",
      "FM1046\n",
      "SH0183\n"
     ]
    },
    {
     "name": "stderr",
     "output_type": "stream",
     "text": [
      "/var/folders/fz/qwk5rxqs39gcy8h_0lhy47c80000gn/T/ipykernel_40576/4022452298.py:87: SettingWithCopyWarning: \n",
      "A value is trying to be set on a copy of a slice from a DataFrame.\n",
      "Try using .loc[row_indexer,col_indexer] = value instead\n",
      "\n",
      "See the caveats in the documentation: https://pandas.pydata.org/pandas-docs/stable/user_guide/indexing.html#returning-a-view-versus-a-copy\n",
      "  tvdf['mile'] = tvdf.apply(lambda row: closest_mile_marker(row['X'], row['Y'], data), axis=1)\n",
      "/var/folders/fz/qwk5rxqs39gcy8h_0lhy47c80000gn/T/ipykernel_40576/4022452298.py:87: SettingWithCopyWarning: \n",
      "A value is trying to be set on a copy of a slice from a DataFrame.\n",
      "Try using .loc[row_indexer,col_indexer] = value instead\n",
      "\n",
      "See the caveats in the documentation: https://pandas.pydata.org/pandas-docs/stable/user_guide/indexing.html#returning-a-view-versus-a-copy\n",
      "  tvdf['mile'] = tvdf.apply(lambda row: closest_mile_marker(row['X'], row['Y'], data), axis=1)\n",
      "/var/folders/fz/qwk5rxqs39gcy8h_0lhy47c80000gn/T/ipykernel_40576/4022452298.py:87: SettingWithCopyWarning: \n",
      "A value is trying to be set on a copy of a slice from a DataFrame.\n",
      "Try using .loc[row_indexer,col_indexer] = value instead\n",
      "\n",
      "See the caveats in the documentation: https://pandas.pydata.org/pandas-docs/stable/user_guide/indexing.html#returning-a-view-versus-a-copy\n",
      "  tvdf['mile'] = tvdf.apply(lambda row: closest_mile_marker(row['X'], row['Y'], data), axis=1)\n",
      "/var/folders/fz/qwk5rxqs39gcy8h_0lhy47c80000gn/T/ipykernel_40576/4022452298.py:87: SettingWithCopyWarning: \n",
      "A value is trying to be set on a copy of a slice from a DataFrame.\n",
      "Try using .loc[row_indexer,col_indexer] = value instead\n",
      "\n",
      "See the caveats in the documentation: https://pandas.pydata.org/pandas-docs/stable/user_guide/indexing.html#returning-a-view-versus-a-copy\n",
      "  tvdf['mile'] = tvdf.apply(lambda row: closest_mile_marker(row['X'], row['Y'], data), axis=1)\n"
     ]
    },
    {
     "name": "stdout",
     "output_type": "stream",
     "text": [
      "FM0973\n",
      "RM2147\n",
      "FM1023\n",
      "US0075\n"
     ]
    },
    {
     "name": "stderr",
     "output_type": "stream",
     "text": [
      "/var/folders/fz/qwk5rxqs39gcy8h_0lhy47c80000gn/T/ipykernel_40576/4022452298.py:87: SettingWithCopyWarning: \n",
      "A value is trying to be set on a copy of a slice from a DataFrame.\n",
      "Try using .loc[row_indexer,col_indexer] = value instead\n",
      "\n",
      "See the caveats in the documentation: https://pandas.pydata.org/pandas-docs/stable/user_guide/indexing.html#returning-a-view-versus-a-copy\n",
      "  tvdf['mile'] = tvdf.apply(lambda row: closest_mile_marker(row['X'], row['Y'], data), axis=1)\n",
      "/var/folders/fz/qwk5rxqs39gcy8h_0lhy47c80000gn/T/ipykernel_40576/4022452298.py:87: SettingWithCopyWarning: \n",
      "A value is trying to be set on a copy of a slice from a DataFrame.\n",
      "Try using .loc[row_indexer,col_indexer] = value instead\n",
      "\n",
      "See the caveats in the documentation: https://pandas.pydata.org/pandas-docs/stable/user_guide/indexing.html#returning-a-view-versus-a-copy\n",
      "  tvdf['mile'] = tvdf.apply(lambda row: closest_mile_marker(row['X'], row['Y'], data), axis=1)\n",
      "/var/folders/fz/qwk5rxqs39gcy8h_0lhy47c80000gn/T/ipykernel_40576/4022452298.py:87: SettingWithCopyWarning: \n",
      "A value is trying to be set on a copy of a slice from a DataFrame.\n",
      "Try using .loc[row_indexer,col_indexer] = value instead\n",
      "\n",
      "See the caveats in the documentation: https://pandas.pydata.org/pandas-docs/stable/user_guide/indexing.html#returning-a-view-versus-a-copy\n",
      "  tvdf['mile'] = tvdf.apply(lambda row: closest_mile_marker(row['X'], row['Y'], data), axis=1)\n",
      "/var/folders/fz/qwk5rxqs39gcy8h_0lhy47c80000gn/T/ipykernel_40576/4022452298.py:87: SettingWithCopyWarning: \n",
      "A value is trying to be set on a copy of a slice from a DataFrame.\n",
      "Try using .loc[row_indexer,col_indexer] = value instead\n",
      "\n",
      "See the caveats in the documentation: https://pandas.pydata.org/pandas-docs/stable/user_guide/indexing.html#returning-a-view-versus-a-copy\n",
      "  tvdf['mile'] = tvdf.apply(lambda row: closest_mile_marker(row['X'], row['Y'], data), axis=1)\n"
     ]
    },
    {
     "name": "stdout",
     "output_type": "stream",
     "text": [
      "SH0048\n",
      "FM1885\n",
      "FM0297\n",
      "FM1291\n",
      "SS0303\n"
     ]
    },
    {
     "name": "stderr",
     "output_type": "stream",
     "text": [
      "/var/folders/fz/qwk5rxqs39gcy8h_0lhy47c80000gn/T/ipykernel_40576/4022452298.py:87: SettingWithCopyWarning: \n",
      "A value is trying to be set on a copy of a slice from a DataFrame.\n",
      "Try using .loc[row_indexer,col_indexer] = value instead\n",
      "\n",
      "See the caveats in the documentation: https://pandas.pydata.org/pandas-docs/stable/user_guide/indexing.html#returning-a-view-versus-a-copy\n",
      "  tvdf['mile'] = tvdf.apply(lambda row: closest_mile_marker(row['X'], row['Y'], data), axis=1)\n",
      "/var/folders/fz/qwk5rxqs39gcy8h_0lhy47c80000gn/T/ipykernel_40576/4022452298.py:87: SettingWithCopyWarning: \n",
      "A value is trying to be set on a copy of a slice from a DataFrame.\n",
      "Try using .loc[row_indexer,col_indexer] = value instead\n",
      "\n",
      "See the caveats in the documentation: https://pandas.pydata.org/pandas-docs/stable/user_guide/indexing.html#returning-a-view-versus-a-copy\n",
      "  tvdf['mile'] = tvdf.apply(lambda row: closest_mile_marker(row['X'], row['Y'], data), axis=1)\n",
      "/var/folders/fz/qwk5rxqs39gcy8h_0lhy47c80000gn/T/ipykernel_40576/4022452298.py:87: SettingWithCopyWarning: \n",
      "A value is trying to be set on a copy of a slice from a DataFrame.\n",
      "Try using .loc[row_indexer,col_indexer] = value instead\n",
      "\n",
      "See the caveats in the documentation: https://pandas.pydata.org/pandas-docs/stable/user_guide/indexing.html#returning-a-view-versus-a-copy\n",
      "  tvdf['mile'] = tvdf.apply(lambda row: closest_mile_marker(row['X'], row['Y'], data), axis=1)\n"
     ]
    },
    {
     "name": "stdout",
     "output_type": "stream",
     "text": [
      "BU0084\n",
      "bad df\n",
      "FM0512\n",
      "SH0164\n",
      "FM1924\n",
      "SH0243\n"
     ]
    },
    {
     "name": "stderr",
     "output_type": "stream",
     "text": [
      "/var/folders/fz/qwk5rxqs39gcy8h_0lhy47c80000gn/T/ipykernel_40576/4022452298.py:87: SettingWithCopyWarning: \n",
      "A value is trying to be set on a copy of a slice from a DataFrame.\n",
      "Try using .loc[row_indexer,col_indexer] = value instead\n",
      "\n",
      "See the caveats in the documentation: https://pandas.pydata.org/pandas-docs/stable/user_guide/indexing.html#returning-a-view-versus-a-copy\n",
      "  tvdf['mile'] = tvdf.apply(lambda row: closest_mile_marker(row['X'], row['Y'], data), axis=1)\n",
      "/var/folders/fz/qwk5rxqs39gcy8h_0lhy47c80000gn/T/ipykernel_40576/4022452298.py:87: SettingWithCopyWarning: \n",
      "A value is trying to be set on a copy of a slice from a DataFrame.\n",
      "Try using .loc[row_indexer,col_indexer] = value instead\n",
      "\n",
      "See the caveats in the documentation: https://pandas.pydata.org/pandas-docs/stable/user_guide/indexing.html#returning-a-view-versus-a-copy\n",
      "  tvdf['mile'] = tvdf.apply(lambda row: closest_mile_marker(row['X'], row['Y'], data), axis=1)\n",
      "/var/folders/fz/qwk5rxqs39gcy8h_0lhy47c80000gn/T/ipykernel_40576/4022452298.py:87: SettingWithCopyWarning: \n",
      "A value is trying to be set on a copy of a slice from a DataFrame.\n",
      "Try using .loc[row_indexer,col_indexer] = value instead\n",
      "\n",
      "See the caveats in the documentation: https://pandas.pydata.org/pandas-docs/stable/user_guide/indexing.html#returning-a-view-versus-a-copy\n",
      "  tvdf['mile'] = tvdf.apply(lambda row: closest_mile_marker(row['X'], row['Y'], data), axis=1)\n",
      "/var/folders/fz/qwk5rxqs39gcy8h_0lhy47c80000gn/T/ipykernel_40576/4022452298.py:87: SettingWithCopyWarning: \n",
      "A value is trying to be set on a copy of a slice from a DataFrame.\n",
      "Try using .loc[row_indexer,col_indexer] = value instead\n",
      "\n",
      "See the caveats in the documentation: https://pandas.pydata.org/pandas-docs/stable/user_guide/indexing.html#returning-a-view-versus-a-copy\n",
      "  tvdf['mile'] = tvdf.apply(lambda row: closest_mile_marker(row['X'], row['Y'], data), axis=1)\n",
      "/var/folders/fz/qwk5rxqs39gcy8h_0lhy47c80000gn/T/ipykernel_40576/4022452298.py:87: SettingWithCopyWarning: \n",
      "A value is trying to be set on a copy of a slice from a DataFrame.\n",
      "Try using .loc[row_indexer,col_indexer] = value instead\n",
      "\n",
      "See the caveats in the documentation: https://pandas.pydata.org/pandas-docs/stable/user_guide/indexing.html#returning-a-view-versus-a-copy\n",
      "  tvdf['mile'] = tvdf.apply(lambda row: closest_mile_marker(row['X'], row['Y'], data), axis=1)\n"
     ]
    },
    {
     "name": "stdout",
     "output_type": "stream",
     "text": [
      "FM0322\n",
      "FM0517\n",
      "SH0059\n",
      "FM2360\n"
     ]
    },
    {
     "name": "stderr",
     "output_type": "stream",
     "text": [
      "/var/folders/fz/qwk5rxqs39gcy8h_0lhy47c80000gn/T/ipykernel_40576/4022452298.py:87: SettingWithCopyWarning: \n",
      "A value is trying to be set on a copy of a slice from a DataFrame.\n",
      "Try using .loc[row_indexer,col_indexer] = value instead\n",
      "\n",
      "See the caveats in the documentation: https://pandas.pydata.org/pandas-docs/stable/user_guide/indexing.html#returning-a-view-versus-a-copy\n",
      "  tvdf['mile'] = tvdf.apply(lambda row: closest_mile_marker(row['X'], row['Y'], data), axis=1)\n",
      "/var/folders/fz/qwk5rxqs39gcy8h_0lhy47c80000gn/T/ipykernel_40576/4022452298.py:87: SettingWithCopyWarning: \n",
      "A value is trying to be set on a copy of a slice from a DataFrame.\n",
      "Try using .loc[row_indexer,col_indexer] = value instead\n",
      "\n",
      "See the caveats in the documentation: https://pandas.pydata.org/pandas-docs/stable/user_guide/indexing.html#returning-a-view-versus-a-copy\n",
      "  tvdf['mile'] = tvdf.apply(lambda row: closest_mile_marker(row['X'], row['Y'], data), axis=1)\n",
      "/var/folders/fz/qwk5rxqs39gcy8h_0lhy47c80000gn/T/ipykernel_40576/4022452298.py:87: SettingWithCopyWarning: \n",
      "A value is trying to be set on a copy of a slice from a DataFrame.\n",
      "Try using .loc[row_indexer,col_indexer] = value instead\n",
      "\n",
      "See the caveats in the documentation: https://pandas.pydata.org/pandas-docs/stable/user_guide/indexing.html#returning-a-view-versus-a-copy\n",
      "  tvdf['mile'] = tvdf.apply(lambda row: closest_mile_marker(row['X'], row['Y'], data), axis=1)\n",
      "/var/folders/fz/qwk5rxqs39gcy8h_0lhy47c80000gn/T/ipykernel_40576/4022452298.py:87: SettingWithCopyWarning: \n",
      "A value is trying to be set on a copy of a slice from a DataFrame.\n",
      "Try using .loc[row_indexer,col_indexer] = value instead\n",
      "\n",
      "See the caveats in the documentation: https://pandas.pydata.org/pandas-docs/stable/user_guide/indexing.html#returning-a-view-versus-a-copy\n",
      "  tvdf['mile'] = tvdf.apply(lambda row: closest_mile_marker(row['X'], row['Y'], data), axis=1)\n",
      "/var/folders/fz/qwk5rxqs39gcy8h_0lhy47c80000gn/T/ipykernel_40576/4022452298.py:87: SettingWithCopyWarning: \n",
      "A value is trying to be set on a copy of a slice from a DataFrame.\n",
      "Try using .loc[row_indexer,col_indexer] = value instead\n",
      "\n",
      "See the caveats in the documentation: https://pandas.pydata.org/pandas-docs/stable/user_guide/indexing.html#returning-a-view-versus-a-copy\n",
      "  tvdf['mile'] = tvdf.apply(lambda row: closest_mile_marker(row['X'], row['Y'], data), axis=1)\n"
     ]
    },
    {
     "name": "stdout",
     "output_type": "stream",
     "text": [
      "FM0877\n",
      "SH0205\n",
      "FM0486\n",
      "SH0358\n"
     ]
    },
    {
     "name": "stderr",
     "output_type": "stream",
     "text": [
      "/var/folders/fz/qwk5rxqs39gcy8h_0lhy47c80000gn/T/ipykernel_40576/4022452298.py:87: SettingWithCopyWarning: \n",
      "A value is trying to be set on a copy of a slice from a DataFrame.\n",
      "Try using .loc[row_indexer,col_indexer] = value instead\n",
      "\n",
      "See the caveats in the documentation: https://pandas.pydata.org/pandas-docs/stable/user_guide/indexing.html#returning-a-view-versus-a-copy\n",
      "  tvdf['mile'] = tvdf.apply(lambda row: closest_mile_marker(row['X'], row['Y'], data), axis=1)\n",
      "/var/folders/fz/qwk5rxqs39gcy8h_0lhy47c80000gn/T/ipykernel_40576/4022452298.py:87: SettingWithCopyWarning: \n",
      "A value is trying to be set on a copy of a slice from a DataFrame.\n",
      "Try using .loc[row_indexer,col_indexer] = value instead\n",
      "\n",
      "See the caveats in the documentation: https://pandas.pydata.org/pandas-docs/stable/user_guide/indexing.html#returning-a-view-versus-a-copy\n",
      "  tvdf['mile'] = tvdf.apply(lambda row: closest_mile_marker(row['X'], row['Y'], data), axis=1)\n",
      "/var/folders/fz/qwk5rxqs39gcy8h_0lhy47c80000gn/T/ipykernel_40576/4022452298.py:87: SettingWithCopyWarning: \n",
      "A value is trying to be set on a copy of a slice from a DataFrame.\n",
      "Try using .loc[row_indexer,col_indexer] = value instead\n",
      "\n",
      "See the caveats in the documentation: https://pandas.pydata.org/pandas-docs/stable/user_guide/indexing.html#returning-a-view-versus-a-copy\n",
      "  tvdf['mile'] = tvdf.apply(lambda row: closest_mile_marker(row['X'], row['Y'], data), axis=1)\n",
      "/var/folders/fz/qwk5rxqs39gcy8h_0lhy47c80000gn/T/ipykernel_40576/4022452298.py:87: SettingWithCopyWarning: \n",
      "A value is trying to be set on a copy of a slice from a DataFrame.\n",
      "Try using .loc[row_indexer,col_indexer] = value instead\n",
      "\n",
      "See the caveats in the documentation: https://pandas.pydata.org/pandas-docs/stable/user_guide/indexing.html#returning-a-view-versus-a-copy\n",
      "  tvdf['mile'] = tvdf.apply(lambda row: closest_mile_marker(row['X'], row['Y'], data), axis=1)\n",
      "/var/folders/fz/qwk5rxqs39gcy8h_0lhy47c80000gn/T/ipykernel_40576/4022452298.py:87: SettingWithCopyWarning: \n",
      "A value is trying to be set on a copy of a slice from a DataFrame.\n",
      "Try using .loc[row_indexer,col_indexer] = value instead\n",
      "\n",
      "See the caveats in the documentation: https://pandas.pydata.org/pandas-docs/stable/user_guide/indexing.html#returning-a-view-versus-a-copy\n",
      "  tvdf['mile'] = tvdf.apply(lambda row: closest_mile_marker(row['X'], row['Y'], data), axis=1)\n"
     ]
    },
    {
     "name": "stdout",
     "output_type": "stream",
     "text": [
      "FM0914\n",
      "FM1314\n",
      "FM2090\n",
      "FM0119\n",
      "FM0236\n"
     ]
    },
    {
     "name": "stderr",
     "output_type": "stream",
     "text": [
      "/var/folders/fz/qwk5rxqs39gcy8h_0lhy47c80000gn/T/ipykernel_40576/4022452298.py:87: SettingWithCopyWarning: \n",
      "A value is trying to be set on a copy of a slice from a DataFrame.\n",
      "Try using .loc[row_indexer,col_indexer] = value instead\n",
      "\n",
      "See the caveats in the documentation: https://pandas.pydata.org/pandas-docs/stable/user_guide/indexing.html#returning-a-view-versus-a-copy\n",
      "  tvdf['mile'] = tvdf.apply(lambda row: closest_mile_marker(row['X'], row['Y'], data), axis=1)\n",
      "/var/folders/fz/qwk5rxqs39gcy8h_0lhy47c80000gn/T/ipykernel_40576/4022452298.py:87: SettingWithCopyWarning: \n",
      "A value is trying to be set on a copy of a slice from a DataFrame.\n",
      "Try using .loc[row_indexer,col_indexer] = value instead\n",
      "\n",
      "See the caveats in the documentation: https://pandas.pydata.org/pandas-docs/stable/user_guide/indexing.html#returning-a-view-versus-a-copy\n",
      "  tvdf['mile'] = tvdf.apply(lambda row: closest_mile_marker(row['X'], row['Y'], data), axis=1)\n",
      "/var/folders/fz/qwk5rxqs39gcy8h_0lhy47c80000gn/T/ipykernel_40576/4022452298.py:87: SettingWithCopyWarning: \n",
      "A value is trying to be set on a copy of a slice from a DataFrame.\n",
      "Try using .loc[row_indexer,col_indexer] = value instead\n",
      "\n",
      "See the caveats in the documentation: https://pandas.pydata.org/pandas-docs/stable/user_guide/indexing.html#returning-a-view-versus-a-copy\n",
      "  tvdf['mile'] = tvdf.apply(lambda row: closest_mile_marker(row['X'], row['Y'], data), axis=1)\n"
     ]
    },
    {
     "name": "stdout",
     "output_type": "stream",
     "text": [
      "FM0085\n",
      "FM0933\n",
      "FM1264\n",
      "FM1479\n"
     ]
    },
    {
     "name": "stderr",
     "output_type": "stream",
     "text": [
      "/var/folders/fz/qwk5rxqs39gcy8h_0lhy47c80000gn/T/ipykernel_40576/4022452298.py:87: SettingWithCopyWarning: \n",
      "A value is trying to be set on a copy of a slice from a DataFrame.\n",
      "Try using .loc[row_indexer,col_indexer] = value instead\n",
      "\n",
      "See the caveats in the documentation: https://pandas.pydata.org/pandas-docs/stable/user_guide/indexing.html#returning-a-view-versus-a-copy\n",
      "  tvdf['mile'] = tvdf.apply(lambda row: closest_mile_marker(row['X'], row['Y'], data), axis=1)\n",
      "/var/folders/fz/qwk5rxqs39gcy8h_0lhy47c80000gn/T/ipykernel_40576/4022452298.py:87: SettingWithCopyWarning: \n",
      "A value is trying to be set on a copy of a slice from a DataFrame.\n",
      "Try using .loc[row_indexer,col_indexer] = value instead\n",
      "\n",
      "See the caveats in the documentation: https://pandas.pydata.org/pandas-docs/stable/user_guide/indexing.html#returning-a-view-versus-a-copy\n",
      "  tvdf['mile'] = tvdf.apply(lambda row: closest_mile_marker(row['X'], row['Y'], data), axis=1)\n",
      "/var/folders/fz/qwk5rxqs39gcy8h_0lhy47c80000gn/T/ipykernel_40576/4022452298.py:87: SettingWithCopyWarning: \n",
      "A value is trying to be set on a copy of a slice from a DataFrame.\n",
      "Try using .loc[row_indexer,col_indexer] = value instead\n",
      "\n",
      "See the caveats in the documentation: https://pandas.pydata.org/pandas-docs/stable/user_guide/indexing.html#returning-a-view-versus-a-copy\n",
      "  tvdf['mile'] = tvdf.apply(lambda row: closest_mile_marker(row['X'], row['Y'], data), axis=1)\n",
      "/var/folders/fz/qwk5rxqs39gcy8h_0lhy47c80000gn/T/ipykernel_40576/4022452298.py:87: SettingWithCopyWarning: \n",
      "A value is trying to be set on a copy of a slice from a DataFrame.\n",
      "Try using .loc[row_indexer,col_indexer] = value instead\n",
      "\n",
      "See the caveats in the documentation: https://pandas.pydata.org/pandas-docs/stable/user_guide/indexing.html#returning-a-view-versus-a-copy\n",
      "  tvdf['mile'] = tvdf.apply(lambda row: closest_mile_marker(row['X'], row['Y'], data), axis=1)\n",
      "/var/folders/fz/qwk5rxqs39gcy8h_0lhy47c80000gn/T/ipykernel_40576/4022452298.py:87: SettingWithCopyWarning: \n",
      "A value is trying to be set on a copy of a slice from a DataFrame.\n",
      "Try using .loc[row_indexer,col_indexer] = value instead\n",
      "\n",
      "See the caveats in the documentation: https://pandas.pydata.org/pandas-docs/stable/user_guide/indexing.html#returning-a-view-versus-a-copy\n",
      "  tvdf['mile'] = tvdf.apply(lambda row: closest_mile_marker(row['X'], row['Y'], data), axis=1)\n"
     ]
    },
    {
     "name": "stdout",
     "output_type": "stream",
     "text": [
      "FM1249\n",
      "FM1117\n",
      "FM0939\n",
      "FM0210\n",
      "US0062\n"
     ]
    },
    {
     "name": "stderr",
     "output_type": "stream",
     "text": [
      "/var/folders/fz/qwk5rxqs39gcy8h_0lhy47c80000gn/T/ipykernel_40576/4022452298.py:87: SettingWithCopyWarning: \n",
      "A value is trying to be set on a copy of a slice from a DataFrame.\n",
      "Try using .loc[row_indexer,col_indexer] = value instead\n",
      "\n",
      "See the caveats in the documentation: https://pandas.pydata.org/pandas-docs/stable/user_guide/indexing.html#returning-a-view-versus-a-copy\n",
      "  tvdf['mile'] = tvdf.apply(lambda row: closest_mile_marker(row['X'], row['Y'], data), axis=1)\n",
      "/var/folders/fz/qwk5rxqs39gcy8h_0lhy47c80000gn/T/ipykernel_40576/4022452298.py:87: SettingWithCopyWarning: \n",
      "A value is trying to be set on a copy of a slice from a DataFrame.\n",
      "Try using .loc[row_indexer,col_indexer] = value instead\n",
      "\n",
      "See the caveats in the documentation: https://pandas.pydata.org/pandas-docs/stable/user_guide/indexing.html#returning-a-view-versus-a-copy\n",
      "  tvdf['mile'] = tvdf.apply(lambda row: closest_mile_marker(row['X'], row['Y'], data), axis=1)\n",
      "/var/folders/fz/qwk5rxqs39gcy8h_0lhy47c80000gn/T/ipykernel_40576/4022452298.py:87: SettingWithCopyWarning: \n",
      "A value is trying to be set on a copy of a slice from a DataFrame.\n",
      "Try using .loc[row_indexer,col_indexer] = value instead\n",
      "\n",
      "See the caveats in the documentation: https://pandas.pydata.org/pandas-docs/stable/user_guide/indexing.html#returning-a-view-versus-a-copy\n",
      "  tvdf['mile'] = tvdf.apply(lambda row: closest_mile_marker(row['X'], row['Y'], data), axis=1)\n",
      "/var/folders/fz/qwk5rxqs39gcy8h_0lhy47c80000gn/T/ipykernel_40576/4022452298.py:87: SettingWithCopyWarning: \n",
      "A value is trying to be set on a copy of a slice from a DataFrame.\n",
      "Try using .loc[row_indexer,col_indexer] = value instead\n",
      "\n",
      "See the caveats in the documentation: https://pandas.pydata.org/pandas-docs/stable/user_guide/indexing.html#returning-a-view-versus-a-copy\n",
      "  tvdf['mile'] = tvdf.apply(lambda row: closest_mile_marker(row['X'], row['Y'], data), axis=1)\n",
      "/var/folders/fz/qwk5rxqs39gcy8h_0lhy47c80000gn/T/ipykernel_40576/4022452298.py:87: SettingWithCopyWarning: \n",
      "A value is trying to be set on a copy of a slice from a DataFrame.\n",
      "Try using .loc[row_indexer,col_indexer] = value instead\n",
      "\n",
      "See the caveats in the documentation: https://pandas.pydata.org/pandas-docs/stable/user_guide/indexing.html#returning-a-view-versus-a-copy\n",
      "  tvdf['mile'] = tvdf.apply(lambda row: closest_mile_marker(row['X'], row['Y'], data), axis=1)\n"
     ]
    },
    {
     "name": "stdout",
     "output_type": "stream",
     "text": [
      "FM0013\n",
      "FM2920\n",
      "SL0499\n",
      "US0271\n"
     ]
    },
    {
     "name": "stderr",
     "output_type": "stream",
     "text": [
      "/var/folders/fz/qwk5rxqs39gcy8h_0lhy47c80000gn/T/ipykernel_40576/4022452298.py:87: SettingWithCopyWarning: \n",
      "A value is trying to be set on a copy of a slice from a DataFrame.\n",
      "Try using .loc[row_indexer,col_indexer] = value instead\n",
      "\n",
      "See the caveats in the documentation: https://pandas.pydata.org/pandas-docs/stable/user_guide/indexing.html#returning-a-view-versus-a-copy\n",
      "  tvdf['mile'] = tvdf.apply(lambda row: closest_mile_marker(row['X'], row['Y'], data), axis=1)\n",
      "/var/folders/fz/qwk5rxqs39gcy8h_0lhy47c80000gn/T/ipykernel_40576/4022452298.py:87: SettingWithCopyWarning: \n",
      "A value is trying to be set on a copy of a slice from a DataFrame.\n",
      "Try using .loc[row_indexer,col_indexer] = value instead\n",
      "\n",
      "See the caveats in the documentation: https://pandas.pydata.org/pandas-docs/stable/user_guide/indexing.html#returning-a-view-versus-a-copy\n",
      "  tvdf['mile'] = tvdf.apply(lambda row: closest_mile_marker(row['X'], row['Y'], data), axis=1)\n",
      "/var/folders/fz/qwk5rxqs39gcy8h_0lhy47c80000gn/T/ipykernel_40576/4022452298.py:87: SettingWithCopyWarning: \n",
      "A value is trying to be set on a copy of a slice from a DataFrame.\n",
      "Try using .loc[row_indexer,col_indexer] = value instead\n",
      "\n",
      "See the caveats in the documentation: https://pandas.pydata.org/pandas-docs/stable/user_guide/indexing.html#returning-a-view-versus-a-copy\n",
      "  tvdf['mile'] = tvdf.apply(lambda row: closest_mile_marker(row['X'], row['Y'], data), axis=1)\n"
     ]
    },
    {
     "name": "stdout",
     "output_type": "stream",
     "text": [
      "FM0071\n",
      "FM0249\n",
      "BU0059\n",
      "bad df\n",
      "FM0124\n"
     ]
    },
    {
     "name": "stderr",
     "output_type": "stream",
     "text": [
      "/var/folders/fz/qwk5rxqs39gcy8h_0lhy47c80000gn/T/ipykernel_40576/4022452298.py:87: SettingWithCopyWarning: \n",
      "A value is trying to be set on a copy of a slice from a DataFrame.\n",
      "Try using .loc[row_indexer,col_indexer] = value instead\n",
      "\n",
      "See the caveats in the documentation: https://pandas.pydata.org/pandas-docs/stable/user_guide/indexing.html#returning-a-view-versus-a-copy\n",
      "  tvdf['mile'] = tvdf.apply(lambda row: closest_mile_marker(row['X'], row['Y'], data), axis=1)\n",
      "/var/folders/fz/qwk5rxqs39gcy8h_0lhy47c80000gn/T/ipykernel_40576/4022452298.py:87: SettingWithCopyWarning: \n",
      "A value is trying to be set on a copy of a slice from a DataFrame.\n",
      "Try using .loc[row_indexer,col_indexer] = value instead\n",
      "\n",
      "See the caveats in the documentation: https://pandas.pydata.org/pandas-docs/stable/user_guide/indexing.html#returning-a-view-versus-a-copy\n",
      "  tvdf['mile'] = tvdf.apply(lambda row: closest_mile_marker(row['X'], row['Y'], data), axis=1)\n",
      "/var/folders/fz/qwk5rxqs39gcy8h_0lhy47c80000gn/T/ipykernel_40576/4022452298.py:87: SettingWithCopyWarning: \n",
      "A value is trying to be set on a copy of a slice from a DataFrame.\n",
      "Try using .loc[row_indexer,col_indexer] = value instead\n",
      "\n",
      "See the caveats in the documentation: https://pandas.pydata.org/pandas-docs/stable/user_guide/indexing.html#returning-a-view-versus-a-copy\n",
      "  tvdf['mile'] = tvdf.apply(lambda row: closest_mile_marker(row['X'], row['Y'], data), axis=1)\n",
      "/var/folders/fz/qwk5rxqs39gcy8h_0lhy47c80000gn/T/ipykernel_40576/4022452298.py:87: SettingWithCopyWarning: \n",
      "A value is trying to be set on a copy of a slice from a DataFrame.\n",
      "Try using .loc[row_indexer,col_indexer] = value instead\n",
      "\n",
      "See the caveats in the documentation: https://pandas.pydata.org/pandas-docs/stable/user_guide/indexing.html#returning-a-view-versus-a-copy\n",
      "  tvdf['mile'] = tvdf.apply(lambda row: closest_mile_marker(row['X'], row['Y'], data), axis=1)\n",
      "/var/folders/fz/qwk5rxqs39gcy8h_0lhy47c80000gn/T/ipykernel_40576/4022452298.py:87: SettingWithCopyWarning: \n",
      "A value is trying to be set on a copy of a slice from a DataFrame.\n",
      "Try using .loc[row_indexer,col_indexer] = value instead\n",
      "\n",
      "See the caveats in the documentation: https://pandas.pydata.org/pandas-docs/stable/user_guide/indexing.html#returning-a-view-versus-a-copy\n",
      "  tvdf['mile'] = tvdf.apply(lambda row: closest_mile_marker(row['X'], row['Y'], data), axis=1)\n"
     ]
    },
    {
     "name": "stdout",
     "output_type": "stream",
     "text": [
      "FM0608\n",
      "RM0965\n",
      "FM0040\n",
      "FM0351\n",
      "FM1055\n"
     ]
    },
    {
     "name": "stderr",
     "output_type": "stream",
     "text": [
      "/var/folders/fz/qwk5rxqs39gcy8h_0lhy47c80000gn/T/ipykernel_40576/4022452298.py:87: SettingWithCopyWarning: \n",
      "A value is trying to be set on a copy of a slice from a DataFrame.\n",
      "Try using .loc[row_indexer,col_indexer] = value instead\n",
      "\n",
      "See the caveats in the documentation: https://pandas.pydata.org/pandas-docs/stable/user_guide/indexing.html#returning-a-view-versus-a-copy\n",
      "  tvdf['mile'] = tvdf.apply(lambda row: closest_mile_marker(row['X'], row['Y'], data), axis=1)\n",
      "/var/folders/fz/qwk5rxqs39gcy8h_0lhy47c80000gn/T/ipykernel_40576/4022452298.py:87: SettingWithCopyWarning: \n",
      "A value is trying to be set on a copy of a slice from a DataFrame.\n",
      "Try using .loc[row_indexer,col_indexer] = value instead\n",
      "\n",
      "See the caveats in the documentation: https://pandas.pydata.org/pandas-docs/stable/user_guide/indexing.html#returning-a-view-versus-a-copy\n",
      "  tvdf['mile'] = tvdf.apply(lambda row: closest_mile_marker(row['X'], row['Y'], data), axis=1)\n",
      "/var/folders/fz/qwk5rxqs39gcy8h_0lhy47c80000gn/T/ipykernel_40576/4022452298.py:87: SettingWithCopyWarning: \n",
      "A value is trying to be set on a copy of a slice from a DataFrame.\n",
      "Try using .loc[row_indexer,col_indexer] = value instead\n",
      "\n",
      "See the caveats in the documentation: https://pandas.pydata.org/pandas-docs/stable/user_guide/indexing.html#returning-a-view-versus-a-copy\n",
      "  tvdf['mile'] = tvdf.apply(lambda row: closest_mile_marker(row['X'], row['Y'], data), axis=1)\n",
      "/var/folders/fz/qwk5rxqs39gcy8h_0lhy47c80000gn/T/ipykernel_40576/4022452298.py:87: SettingWithCopyWarning: \n",
      "A value is trying to be set on a copy of a slice from a DataFrame.\n",
      "Try using .loc[row_indexer,col_indexer] = value instead\n",
      "\n",
      "See the caveats in the documentation: https://pandas.pydata.org/pandas-docs/stable/user_guide/indexing.html#returning-a-view-versus-a-copy\n",
      "  tvdf['mile'] = tvdf.apply(lambda row: closest_mile_marker(row['X'], row['Y'], data), axis=1)\n",
      "/var/folders/fz/qwk5rxqs39gcy8h_0lhy47c80000gn/T/ipykernel_40576/4022452298.py:87: SettingWithCopyWarning: \n",
      "A value is trying to be set on a copy of a slice from a DataFrame.\n",
      "Try using .loc[row_indexer,col_indexer] = value instead\n",
      "\n",
      "See the caveats in the documentation: https://pandas.pydata.org/pandas-docs/stable/user_guide/indexing.html#returning-a-view-versus-a-copy\n",
      "  tvdf['mile'] = tvdf.apply(lambda row: closest_mile_marker(row['X'], row['Y'], data), axis=1)\n",
      "/var/folders/fz/qwk5rxqs39gcy8h_0lhy47c80000gn/T/ipykernel_40576/4022452298.py:87: SettingWithCopyWarning: \n",
      "A value is trying to be set on a copy of a slice from a DataFrame.\n",
      "Try using .loc[row_indexer,col_indexer] = value instead\n",
      "\n",
      "See the caveats in the documentation: https://pandas.pydata.org/pandas-docs/stable/user_guide/indexing.html#returning-a-view-versus-a-copy\n",
      "  tvdf['mile'] = tvdf.apply(lambda row: closest_mile_marker(row['X'], row['Y'], data), axis=1)\n"
     ]
    },
    {
     "name": "stdout",
     "output_type": "stream",
     "text": [
      "FM2528\n",
      "FM0251\n",
      "FM2821\n",
      "SH0082\n",
      "FM1131\n",
      "US0080\n"
     ]
    },
    {
     "name": "stderr",
     "output_type": "stream",
     "text": [
      "/var/folders/fz/qwk5rxqs39gcy8h_0lhy47c80000gn/T/ipykernel_40576/4022452298.py:87: SettingWithCopyWarning: \n",
      "A value is trying to be set on a copy of a slice from a DataFrame.\n",
      "Try using .loc[row_indexer,col_indexer] = value instead\n",
      "\n",
      "See the caveats in the documentation: https://pandas.pydata.org/pandas-docs/stable/user_guide/indexing.html#returning-a-view-versus-a-copy\n",
      "  tvdf['mile'] = tvdf.apply(lambda row: closest_mile_marker(row['X'], row['Y'], data), axis=1)\n",
      "/var/folders/fz/qwk5rxqs39gcy8h_0lhy47c80000gn/T/ipykernel_40576/4022452298.py:87: SettingWithCopyWarning: \n",
      "A value is trying to be set on a copy of a slice from a DataFrame.\n",
      "Try using .loc[row_indexer,col_indexer] = value instead\n",
      "\n",
      "See the caveats in the documentation: https://pandas.pydata.org/pandas-docs/stable/user_guide/indexing.html#returning-a-view-versus-a-copy\n",
      "  tvdf['mile'] = tvdf.apply(lambda row: closest_mile_marker(row['X'], row['Y'], data), axis=1)\n",
      "/var/folders/fz/qwk5rxqs39gcy8h_0lhy47c80000gn/T/ipykernel_40576/4022452298.py:87: SettingWithCopyWarning: \n",
      "A value is trying to be set on a copy of a slice from a DataFrame.\n",
      "Try using .loc[row_indexer,col_indexer] = value instead\n",
      "\n",
      "See the caveats in the documentation: https://pandas.pydata.org/pandas-docs/stable/user_guide/indexing.html#returning-a-view-versus-a-copy\n",
      "  tvdf['mile'] = tvdf.apply(lambda row: closest_mile_marker(row['X'], row['Y'], data), axis=1)\n",
      "/var/folders/fz/qwk5rxqs39gcy8h_0lhy47c80000gn/T/ipykernel_40576/4022452298.py:87: SettingWithCopyWarning: \n",
      "A value is trying to be set on a copy of a slice from a DataFrame.\n",
      "Try using .loc[row_indexer,col_indexer] = value instead\n",
      "\n",
      "See the caveats in the documentation: https://pandas.pydata.org/pandas-docs/stable/user_guide/indexing.html#returning-a-view-versus-a-copy\n",
      "  tvdf['mile'] = tvdf.apply(lambda row: closest_mile_marker(row['X'], row['Y'], data), axis=1)\n",
      "/var/folders/fz/qwk5rxqs39gcy8h_0lhy47c80000gn/T/ipykernel_40576/4022452298.py:87: SettingWithCopyWarning: \n",
      "A value is trying to be set on a copy of a slice from a DataFrame.\n",
      "Try using .loc[row_indexer,col_indexer] = value instead\n",
      "\n",
      "See the caveats in the documentation: https://pandas.pydata.org/pandas-docs/stable/user_guide/indexing.html#returning-a-view-versus-a-copy\n",
      "  tvdf['mile'] = tvdf.apply(lambda row: closest_mile_marker(row['X'], row['Y'], data), axis=1)\n"
     ]
    },
    {
     "name": "stdout",
     "output_type": "stream",
     "text": [
      "FM0565\n",
      "SL0340\n",
      "FM0080\n",
      "FM1375\n",
      "FM1528\n"
     ]
    },
    {
     "name": "stderr",
     "output_type": "stream",
     "text": [
      "/var/folders/fz/qwk5rxqs39gcy8h_0lhy47c80000gn/T/ipykernel_40576/4022452298.py:87: SettingWithCopyWarning: \n",
      "A value is trying to be set on a copy of a slice from a DataFrame.\n",
      "Try using .loc[row_indexer,col_indexer] = value instead\n",
      "\n",
      "See the caveats in the documentation: https://pandas.pydata.org/pandas-docs/stable/user_guide/indexing.html#returning-a-view-versus-a-copy\n",
      "  tvdf['mile'] = tvdf.apply(lambda row: closest_mile_marker(row['X'], row['Y'], data), axis=1)\n",
      "/var/folders/fz/qwk5rxqs39gcy8h_0lhy47c80000gn/T/ipykernel_40576/4022452298.py:87: SettingWithCopyWarning: \n",
      "A value is trying to be set on a copy of a slice from a DataFrame.\n",
      "Try using .loc[row_indexer,col_indexer] = value instead\n",
      "\n",
      "See the caveats in the documentation: https://pandas.pydata.org/pandas-docs/stable/user_guide/indexing.html#returning-a-view-versus-a-copy\n",
      "  tvdf['mile'] = tvdf.apply(lambda row: closest_mile_marker(row['X'], row['Y'], data), axis=1)\n"
     ]
    },
    {
     "name": "stdout",
     "output_type": "stream",
     "text": [
      "SL0521\n",
      "SH0014\n",
      "FM0866\n"
     ]
    },
    {
     "name": "stderr",
     "output_type": "stream",
     "text": [
      "/var/folders/fz/qwk5rxqs39gcy8h_0lhy47c80000gn/T/ipykernel_40576/4022452298.py:87: SettingWithCopyWarning: \n",
      "A value is trying to be set on a copy of a slice from a DataFrame.\n",
      "Try using .loc[row_indexer,col_indexer] = value instead\n",
      "\n",
      "See the caveats in the documentation: https://pandas.pydata.org/pandas-docs/stable/user_guide/indexing.html#returning-a-view-versus-a-copy\n",
      "  tvdf['mile'] = tvdf.apply(lambda row: closest_mile_marker(row['X'], row['Y'], data), axis=1)\n",
      "/var/folders/fz/qwk5rxqs39gcy8h_0lhy47c80000gn/T/ipykernel_40576/4022452298.py:87: SettingWithCopyWarning: \n",
      "A value is trying to be set on a copy of a slice from a DataFrame.\n",
      "Try using .loc[row_indexer,col_indexer] = value instead\n",
      "\n",
      "See the caveats in the documentation: https://pandas.pydata.org/pandas-docs/stable/user_guide/indexing.html#returning-a-view-versus-a-copy\n",
      "  tvdf['mile'] = tvdf.apply(lambda row: closest_mile_marker(row['X'], row['Y'], data), axis=1)\n",
      "/var/folders/fz/qwk5rxqs39gcy8h_0lhy47c80000gn/T/ipykernel_40576/4022452298.py:87: SettingWithCopyWarning: \n",
      "A value is trying to be set on a copy of a slice from a DataFrame.\n",
      "Try using .loc[row_indexer,col_indexer] = value instead\n",
      "\n",
      "See the caveats in the documentation: https://pandas.pydata.org/pandas-docs/stable/user_guide/indexing.html#returning-a-view-versus-a-copy\n",
      "  tvdf['mile'] = tvdf.apply(lambda row: closest_mile_marker(row['X'], row['Y'], data), axis=1)\n",
      "/var/folders/fz/qwk5rxqs39gcy8h_0lhy47c80000gn/T/ipykernel_40576/4022452298.py:87: SettingWithCopyWarning: \n",
      "A value is trying to be set on a copy of a slice from a DataFrame.\n",
      "Try using .loc[row_indexer,col_indexer] = value instead\n",
      "\n",
      "See the caveats in the documentation: https://pandas.pydata.org/pandas-docs/stable/user_guide/indexing.html#returning-a-view-versus-a-copy\n",
      "  tvdf['mile'] = tvdf.apply(lambda row: closest_mile_marker(row['X'], row['Y'], data), axis=1)\n",
      "/var/folders/fz/qwk5rxqs39gcy8h_0lhy47c80000gn/T/ipykernel_40576/4022452298.py:87: SettingWithCopyWarning: \n",
      "A value is trying to be set on a copy of a slice from a DataFrame.\n",
      "Try using .loc[row_indexer,col_indexer] = value instead\n",
      "\n",
      "See the caveats in the documentation: https://pandas.pydata.org/pandas-docs/stable/user_guide/indexing.html#returning-a-view-versus-a-copy\n",
      "  tvdf['mile'] = tvdf.apply(lambda row: closest_mile_marker(row['X'], row['Y'], data), axis=1)\n"
     ]
    },
    {
     "name": "stdout",
     "output_type": "stream",
     "text": [
      "FM1776\n",
      "SH0347\n",
      "FM1730\n",
      "SH0225\n",
      "PR0037\n"
     ]
    },
    {
     "name": "stderr",
     "output_type": "stream",
     "text": [
      "/var/folders/fz/qwk5rxqs39gcy8h_0lhy47c80000gn/T/ipykernel_40576/4022452298.py:87: SettingWithCopyWarning: \n",
      "A value is trying to be set on a copy of a slice from a DataFrame.\n",
      "Try using .loc[row_indexer,col_indexer] = value instead\n",
      "\n",
      "See the caveats in the documentation: https://pandas.pydata.org/pandas-docs/stable/user_guide/indexing.html#returning-a-view-versus-a-copy\n",
      "  tvdf['mile'] = tvdf.apply(lambda row: closest_mile_marker(row['X'], row['Y'], data), axis=1)\n",
      "/var/folders/fz/qwk5rxqs39gcy8h_0lhy47c80000gn/T/ipykernel_40576/4022452298.py:87: SettingWithCopyWarning: \n",
      "A value is trying to be set on a copy of a slice from a DataFrame.\n",
      "Try using .loc[row_indexer,col_indexer] = value instead\n",
      "\n",
      "See the caveats in the documentation: https://pandas.pydata.org/pandas-docs/stable/user_guide/indexing.html#returning-a-view-versus-a-copy\n",
      "  tvdf['mile'] = tvdf.apply(lambda row: closest_mile_marker(row['X'], row['Y'], data), axis=1)\n",
      "/var/folders/fz/qwk5rxqs39gcy8h_0lhy47c80000gn/T/ipykernel_40576/4022452298.py:87: SettingWithCopyWarning: \n",
      "A value is trying to be set on a copy of a slice from a DataFrame.\n",
      "Try using .loc[row_indexer,col_indexer] = value instead\n",
      "\n",
      "See the caveats in the documentation: https://pandas.pydata.org/pandas-docs/stable/user_guide/indexing.html#returning-a-view-versus-a-copy\n",
      "  tvdf['mile'] = tvdf.apply(lambda row: closest_mile_marker(row['X'], row['Y'], data), axis=1)\n"
     ]
    },
    {
     "name": "stdout",
     "output_type": "stream",
     "text": [
      "FM0307\n",
      "BU0054\n",
      "bad df\n",
      "SH0173\n"
     ]
    },
    {
     "name": "stderr",
     "output_type": "stream",
     "text": [
      "/var/folders/fz/qwk5rxqs39gcy8h_0lhy47c80000gn/T/ipykernel_40576/4022452298.py:87: SettingWithCopyWarning: \n",
      "A value is trying to be set on a copy of a slice from a DataFrame.\n",
      "Try using .loc[row_indexer,col_indexer] = value instead\n",
      "\n",
      "See the caveats in the documentation: https://pandas.pydata.org/pandas-docs/stable/user_guide/indexing.html#returning-a-view-versus-a-copy\n",
      "  tvdf['mile'] = tvdf.apply(lambda row: closest_mile_marker(row['X'], row['Y'], data), axis=1)\n",
      "/var/folders/fz/qwk5rxqs39gcy8h_0lhy47c80000gn/T/ipykernel_40576/4022452298.py:87: SettingWithCopyWarning: \n",
      "A value is trying to be set on a copy of a slice from a DataFrame.\n",
      "Try using .loc[row_indexer,col_indexer] = value instead\n",
      "\n",
      "See the caveats in the documentation: https://pandas.pydata.org/pandas-docs/stable/user_guide/indexing.html#returning-a-view-versus-a-copy\n",
      "  tvdf['mile'] = tvdf.apply(lambda row: closest_mile_marker(row['X'], row['Y'], data), axis=1)\n",
      "/var/folders/fz/qwk5rxqs39gcy8h_0lhy47c80000gn/T/ipykernel_40576/4022452298.py:87: SettingWithCopyWarning: \n",
      "A value is trying to be set on a copy of a slice from a DataFrame.\n",
      "Try using .loc[row_indexer,col_indexer] = value instead\n",
      "\n",
      "See the caveats in the documentation: https://pandas.pydata.org/pandas-docs/stable/user_guide/indexing.html#returning-a-view-versus-a-copy\n",
      "  tvdf['mile'] = tvdf.apply(lambda row: closest_mile_marker(row['X'], row['Y'], data), axis=1)\n",
      "/var/folders/fz/qwk5rxqs39gcy8h_0lhy47c80000gn/T/ipykernel_40576/4022452298.py:87: SettingWithCopyWarning: \n",
      "A value is trying to be set on a copy of a slice from a DataFrame.\n",
      "Try using .loc[row_indexer,col_indexer] = value instead\n",
      "\n",
      "See the caveats in the documentation: https://pandas.pydata.org/pandas-docs/stable/user_guide/indexing.html#returning-a-view-versus-a-copy\n",
      "  tvdf['mile'] = tvdf.apply(lambda row: closest_mile_marker(row['X'], row['Y'], data), axis=1)\n"
     ]
    },
    {
     "name": "stdout",
     "output_type": "stream",
     "text": [
      "FM0511\n",
      "SH0062\n",
      "FM1462\n",
      "US0096\n"
     ]
    },
    {
     "name": "stderr",
     "output_type": "stream",
     "text": [
      "/var/folders/fz/qwk5rxqs39gcy8h_0lhy47c80000gn/T/ipykernel_40576/4022452298.py:87: SettingWithCopyWarning: \n",
      "A value is trying to be set on a copy of a slice from a DataFrame.\n",
      "Try using .loc[row_indexer,col_indexer] = value instead\n",
      "\n",
      "See the caveats in the documentation: https://pandas.pydata.org/pandas-docs/stable/user_guide/indexing.html#returning-a-view-versus-a-copy\n",
      "  tvdf['mile'] = tvdf.apply(lambda row: closest_mile_marker(row['X'], row['Y'], data), axis=1)\n",
      "/var/folders/fz/qwk5rxqs39gcy8h_0lhy47c80000gn/T/ipykernel_40576/4022452298.py:87: SettingWithCopyWarning: \n",
      "A value is trying to be set on a copy of a slice from a DataFrame.\n",
      "Try using .loc[row_indexer,col_indexer] = value instead\n",
      "\n",
      "See the caveats in the documentation: https://pandas.pydata.org/pandas-docs/stable/user_guide/indexing.html#returning-a-view-versus-a-copy\n",
      "  tvdf['mile'] = tvdf.apply(lambda row: closest_mile_marker(row['X'], row['Y'], data), axis=1)\n"
     ]
    },
    {
     "name": "stdout",
     "output_type": "stream",
     "text": [
      "FM1245\n",
      "SH0044\n"
     ]
    },
    {
     "name": "stderr",
     "output_type": "stream",
     "text": [
      "/var/folders/fz/qwk5rxqs39gcy8h_0lhy47c80000gn/T/ipykernel_40576/4022452298.py:87: SettingWithCopyWarning: \n",
      "A value is trying to be set on a copy of a slice from a DataFrame.\n",
      "Try using .loc[row_indexer,col_indexer] = value instead\n",
      "\n",
      "See the caveats in the documentation: https://pandas.pydata.org/pandas-docs/stable/user_guide/indexing.html#returning-a-view-versus-a-copy\n",
      "  tvdf['mile'] = tvdf.apply(lambda row: closest_mile_marker(row['X'], row['Y'], data), axis=1)\n",
      "/var/folders/fz/qwk5rxqs39gcy8h_0lhy47c80000gn/T/ipykernel_40576/4022452298.py:87: SettingWithCopyWarning: \n",
      "A value is trying to be set on a copy of a slice from a DataFrame.\n",
      "Try using .loc[row_indexer,col_indexer] = value instead\n",
      "\n",
      "See the caveats in the documentation: https://pandas.pydata.org/pandas-docs/stable/user_guide/indexing.html#returning-a-view-versus-a-copy\n",
      "  tvdf['mile'] = tvdf.apply(lambda row: closest_mile_marker(row['X'], row['Y'], data), axis=1)\n",
      "/var/folders/fz/qwk5rxqs39gcy8h_0lhy47c80000gn/T/ipykernel_40576/4022452298.py:87: SettingWithCopyWarning: \n",
      "A value is trying to be set on a copy of a slice from a DataFrame.\n",
      "Try using .loc[row_indexer,col_indexer] = value instead\n",
      "\n",
      "See the caveats in the documentation: https://pandas.pydata.org/pandas-docs/stable/user_guide/indexing.html#returning-a-view-versus-a-copy\n",
      "  tvdf['mile'] = tvdf.apply(lambda row: closest_mile_marker(row['X'], row['Y'], data), axis=1)\n"
     ]
    },
    {
     "name": "stdout",
     "output_type": "stream",
     "text": [
      "FM0677\n",
      "FM0373\n",
      "SH0095\n"
     ]
    },
    {
     "name": "stderr",
     "output_type": "stream",
     "text": [
      "/var/folders/fz/qwk5rxqs39gcy8h_0lhy47c80000gn/T/ipykernel_40576/4022452298.py:87: SettingWithCopyWarning: \n",
      "A value is trying to be set on a copy of a slice from a DataFrame.\n",
      "Try using .loc[row_indexer,col_indexer] = value instead\n",
      "\n",
      "See the caveats in the documentation: https://pandas.pydata.org/pandas-docs/stable/user_guide/indexing.html#returning-a-view-versus-a-copy\n",
      "  tvdf['mile'] = tvdf.apply(lambda row: closest_mile_marker(row['X'], row['Y'], data), axis=1)\n"
     ]
    },
    {
     "name": "stdout",
     "output_type": "stream",
     "text": [
      "IH0069\n"
     ]
    },
    {
     "name": "stderr",
     "output_type": "stream",
     "text": [
      "/var/folders/fz/qwk5rxqs39gcy8h_0lhy47c80000gn/T/ipykernel_40576/4022452298.py:87: SettingWithCopyWarning: \n",
      "A value is trying to be set on a copy of a slice from a DataFrame.\n",
      "Try using .loc[row_indexer,col_indexer] = value instead\n",
      "\n",
      "See the caveats in the documentation: https://pandas.pydata.org/pandas-docs/stable/user_guide/indexing.html#returning-a-view-versus-a-copy\n",
      "  tvdf['mile'] = tvdf.apply(lambda row: closest_mile_marker(row['X'], row['Y'], data), axis=1)\n",
      "/var/folders/fz/qwk5rxqs39gcy8h_0lhy47c80000gn/T/ipykernel_40576/4022452298.py:87: SettingWithCopyWarning: \n",
      "A value is trying to be set on a copy of a slice from a DataFrame.\n",
      "Try using .loc[row_indexer,col_indexer] = value instead\n",
      "\n",
      "See the caveats in the documentation: https://pandas.pydata.org/pandas-docs/stable/user_guide/indexing.html#returning-a-view-versus-a-copy\n",
      "  tvdf['mile'] = tvdf.apply(lambda row: closest_mile_marker(row['X'], row['Y'], data), axis=1)\n",
      "/var/folders/fz/qwk5rxqs39gcy8h_0lhy47c80000gn/T/ipykernel_40576/4022452298.py:87: SettingWithCopyWarning: \n",
      "A value is trying to be set on a copy of a slice from a DataFrame.\n",
      "Try using .loc[row_indexer,col_indexer] = value instead\n",
      "\n",
      "See the caveats in the documentation: https://pandas.pydata.org/pandas-docs/stable/user_guide/indexing.html#returning-a-view-versus-a-copy\n",
      "  tvdf['mile'] = tvdf.apply(lambda row: closest_mile_marker(row['X'], row['Y'], data), axis=1)\n",
      "/var/folders/fz/qwk5rxqs39gcy8h_0lhy47c80000gn/T/ipykernel_40576/4022452298.py:87: SettingWithCopyWarning: \n",
      "A value is trying to be set on a copy of a slice from a DataFrame.\n",
      "Try using .loc[row_indexer,col_indexer] = value instead\n",
      "\n",
      "See the caveats in the documentation: https://pandas.pydata.org/pandas-docs/stable/user_guide/indexing.html#returning-a-view-versus-a-copy\n",
      "  tvdf['mile'] = tvdf.apply(lambda row: closest_mile_marker(row['X'], row['Y'], data), axis=1)\n",
      "/var/folders/fz/qwk5rxqs39gcy8h_0lhy47c80000gn/T/ipykernel_40576/4022452298.py:87: SettingWithCopyWarning: \n",
      "A value is trying to be set on a copy of a slice from a DataFrame.\n",
      "Try using .loc[row_indexer,col_indexer] = value instead\n",
      "\n",
      "See the caveats in the documentation: https://pandas.pydata.org/pandas-docs/stable/user_guide/indexing.html#returning-a-view-versus-a-copy\n",
      "  tvdf['mile'] = tvdf.apply(lambda row: closest_mile_marker(row['X'], row['Y'], data), axis=1)\n"
     ]
    },
    {
     "name": "stdout",
     "output_type": "stream",
     "text": [
      "FM0562\n",
      "FM0667\n",
      "FM2295\n",
      "FM1908\n",
      "FM2221\n",
      "FM0136\n"
     ]
    },
    {
     "name": "stderr",
     "output_type": "stream",
     "text": [
      "/var/folders/fz/qwk5rxqs39gcy8h_0lhy47c80000gn/T/ipykernel_40576/4022452298.py:87: SettingWithCopyWarning: \n",
      "A value is trying to be set on a copy of a slice from a DataFrame.\n",
      "Try using .loc[row_indexer,col_indexer] = value instead\n",
      "\n",
      "See the caveats in the documentation: https://pandas.pydata.org/pandas-docs/stable/user_guide/indexing.html#returning-a-view-versus-a-copy\n",
      "  tvdf['mile'] = tvdf.apply(lambda row: closest_mile_marker(row['X'], row['Y'], data), axis=1)\n",
      "/var/folders/fz/qwk5rxqs39gcy8h_0lhy47c80000gn/T/ipykernel_40576/4022452298.py:87: SettingWithCopyWarning: \n",
      "A value is trying to be set on a copy of a slice from a DataFrame.\n",
      "Try using .loc[row_indexer,col_indexer] = value instead\n",
      "\n",
      "See the caveats in the documentation: https://pandas.pydata.org/pandas-docs/stable/user_guide/indexing.html#returning-a-view-versus-a-copy\n",
      "  tvdf['mile'] = tvdf.apply(lambda row: closest_mile_marker(row['X'], row['Y'], data), axis=1)\n"
     ]
    },
    {
     "name": "stdout",
     "output_type": "stream",
     "text": [
      "FM0485\n",
      "FM2208\n",
      "SH0249\n"
     ]
    },
    {
     "name": "stderr",
     "output_type": "stream",
     "text": [
      "/var/folders/fz/qwk5rxqs39gcy8h_0lhy47c80000gn/T/ipykernel_40576/4022452298.py:87: SettingWithCopyWarning: \n",
      "A value is trying to be set on a copy of a slice from a DataFrame.\n",
      "Try using .loc[row_indexer,col_indexer] = value instead\n",
      "\n",
      "See the caveats in the documentation: https://pandas.pydata.org/pandas-docs/stable/user_guide/indexing.html#returning-a-view-versus-a-copy\n",
      "  tvdf['mile'] = tvdf.apply(lambda row: closest_mile_marker(row['X'], row['Y'], data), axis=1)\n",
      "/var/folders/fz/qwk5rxqs39gcy8h_0lhy47c80000gn/T/ipykernel_40576/4022452298.py:87: SettingWithCopyWarning: \n",
      "A value is trying to be set on a copy of a slice from a DataFrame.\n",
      "Try using .loc[row_indexer,col_indexer] = value instead\n",
      "\n",
      "See the caveats in the documentation: https://pandas.pydata.org/pandas-docs/stable/user_guide/indexing.html#returning-a-view-versus-a-copy\n",
      "  tvdf['mile'] = tvdf.apply(lambda row: closest_mile_marker(row['X'], row['Y'], data), axis=1)\n",
      "/var/folders/fz/qwk5rxqs39gcy8h_0lhy47c80000gn/T/ipykernel_40576/4022452298.py:87: SettingWithCopyWarning: \n",
      "A value is trying to be set on a copy of a slice from a DataFrame.\n",
      "Try using .loc[row_indexer,col_indexer] = value instead\n",
      "\n",
      "See the caveats in the documentation: https://pandas.pydata.org/pandas-docs/stable/user_guide/indexing.html#returning-a-view-versus-a-copy\n",
      "  tvdf['mile'] = tvdf.apply(lambda row: closest_mile_marker(row['X'], row['Y'], data), axis=1)\n",
      "/var/folders/fz/qwk5rxqs39gcy8h_0lhy47c80000gn/T/ipykernel_40576/4022452298.py:87: SettingWithCopyWarning: \n",
      "A value is trying to be set on a copy of a slice from a DataFrame.\n",
      "Try using .loc[row_indexer,col_indexer] = value instead\n",
      "\n",
      "See the caveats in the documentation: https://pandas.pydata.org/pandas-docs/stable/user_guide/indexing.html#returning-a-view-versus-a-copy\n",
      "  tvdf['mile'] = tvdf.apply(lambda row: closest_mile_marker(row['X'], row['Y'], data), axis=1)\n",
      "/var/folders/fz/qwk5rxqs39gcy8h_0lhy47c80000gn/T/ipykernel_40576/4022452298.py:87: SettingWithCopyWarning: \n",
      "A value is trying to be set on a copy of a slice from a DataFrame.\n",
      "Try using .loc[row_indexer,col_indexer] = value instead\n",
      "\n",
      "See the caveats in the documentation: https://pandas.pydata.org/pandas-docs/stable/user_guide/indexing.html#returning-a-view-versus-a-copy\n",
      "  tvdf['mile'] = tvdf.apply(lambda row: closest_mile_marker(row['X'], row['Y'], data), axis=1)\n",
      "/var/folders/fz/qwk5rxqs39gcy8h_0lhy47c80000gn/T/ipykernel_40576/4022452298.py:87: SettingWithCopyWarning: \n",
      "A value is trying to be set on a copy of a slice from a DataFrame.\n",
      "Try using .loc[row_indexer,col_indexer] = value instead\n",
      "\n",
      "See the caveats in the documentation: https://pandas.pydata.org/pandas-docs/stable/user_guide/indexing.html#returning-a-view-versus-a-copy\n",
      "  tvdf['mile'] = tvdf.apply(lambda row: closest_mile_marker(row['X'], row['Y'], data), axis=1)\n",
      "/var/folders/fz/qwk5rxqs39gcy8h_0lhy47c80000gn/T/ipykernel_40576/4022452298.py:87: SettingWithCopyWarning: \n",
      "A value is trying to be set on a copy of a slice from a DataFrame.\n",
      "Try using .loc[row_indexer,col_indexer] = value instead\n",
      "\n",
      "See the caveats in the documentation: https://pandas.pydata.org/pandas-docs/stable/user_guide/indexing.html#returning-a-view-versus-a-copy\n",
      "  tvdf['mile'] = tvdf.apply(lambda row: closest_mile_marker(row['X'], row['Y'], data), axis=1)\n",
      "/var/folders/fz/qwk5rxqs39gcy8h_0lhy47c80000gn/T/ipykernel_40576/4022452298.py:87: SettingWithCopyWarning: \n",
      "A value is trying to be set on a copy of a slice from a DataFrame.\n",
      "Try using .loc[row_indexer,col_indexer] = value instead\n",
      "\n",
      "See the caveats in the documentation: https://pandas.pydata.org/pandas-docs/stable/user_guide/indexing.html#returning-a-view-versus-a-copy\n",
      "  tvdf['mile'] = tvdf.apply(lambda row: closest_mile_marker(row['X'], row['Y'], data), axis=1)\n"
     ]
    },
    {
     "name": "stdout",
     "output_type": "stream",
     "text": [
      "FM2641\n",
      "FM2499\n",
      "FM1288\n",
      "RM1174\n",
      "FM0524\n",
      "FM0001\n"
     ]
    },
    {
     "name": "stderr",
     "output_type": "stream",
     "text": [
      "/var/folders/fz/qwk5rxqs39gcy8h_0lhy47c80000gn/T/ipykernel_40576/4022452298.py:87: SettingWithCopyWarning: \n",
      "A value is trying to be set on a copy of a slice from a DataFrame.\n",
      "Try using .loc[row_indexer,col_indexer] = value instead\n",
      "\n",
      "See the caveats in the documentation: https://pandas.pydata.org/pandas-docs/stable/user_guide/indexing.html#returning-a-view-versus-a-copy\n",
      "  tvdf['mile'] = tvdf.apply(lambda row: closest_mile_marker(row['X'], row['Y'], data), axis=1)\n",
      "/var/folders/fz/qwk5rxqs39gcy8h_0lhy47c80000gn/T/ipykernel_40576/4022452298.py:87: SettingWithCopyWarning: \n",
      "A value is trying to be set on a copy of a slice from a DataFrame.\n",
      "Try using .loc[row_indexer,col_indexer] = value instead\n",
      "\n",
      "See the caveats in the documentation: https://pandas.pydata.org/pandas-docs/stable/user_guide/indexing.html#returning-a-view-versus-a-copy\n",
      "  tvdf['mile'] = tvdf.apply(lambda row: closest_mile_marker(row['X'], row['Y'], data), axis=1)\n",
      "/var/folders/fz/qwk5rxqs39gcy8h_0lhy47c80000gn/T/ipykernel_40576/4022452298.py:87: SettingWithCopyWarning: \n",
      "A value is trying to be set on a copy of a slice from a DataFrame.\n",
      "Try using .loc[row_indexer,col_indexer] = value instead\n",
      "\n",
      "See the caveats in the documentation: https://pandas.pydata.org/pandas-docs/stable/user_guide/indexing.html#returning-a-view-versus-a-copy\n",
      "  tvdf['mile'] = tvdf.apply(lambda row: closest_mile_marker(row['X'], row['Y'], data), axis=1)\n",
      "/var/folders/fz/qwk5rxqs39gcy8h_0lhy47c80000gn/T/ipykernel_40576/4022452298.py:87: SettingWithCopyWarning: \n",
      "A value is trying to be set on a copy of a slice from a DataFrame.\n",
      "Try using .loc[row_indexer,col_indexer] = value instead\n",
      "\n",
      "See the caveats in the documentation: https://pandas.pydata.org/pandas-docs/stable/user_guide/indexing.html#returning-a-view-versus-a-copy\n",
      "  tvdf['mile'] = tvdf.apply(lambda row: closest_mile_marker(row['X'], row['Y'], data), axis=1)\n",
      "/var/folders/fz/qwk5rxqs39gcy8h_0lhy47c80000gn/T/ipykernel_40576/4022452298.py:87: SettingWithCopyWarning: \n",
      "A value is trying to be set on a copy of a slice from a DataFrame.\n",
      "Try using .loc[row_indexer,col_indexer] = value instead\n",
      "\n",
      "See the caveats in the documentation: https://pandas.pydata.org/pandas-docs/stable/user_guide/indexing.html#returning-a-view-versus-a-copy\n",
      "  tvdf['mile'] = tvdf.apply(lambda row: closest_mile_marker(row['X'], row['Y'], data), axis=1)\n",
      "/var/folders/fz/qwk5rxqs39gcy8h_0lhy47c80000gn/T/ipykernel_40576/4022452298.py:87: SettingWithCopyWarning: \n",
      "A value is trying to be set on a copy of a slice from a DataFrame.\n",
      "Try using .loc[row_indexer,col_indexer] = value instead\n",
      "\n",
      "See the caveats in the documentation: https://pandas.pydata.org/pandas-docs/stable/user_guide/indexing.html#returning-a-view-versus-a-copy\n",
      "  tvdf['mile'] = tvdf.apply(lambda row: closest_mile_marker(row['X'], row['Y'], data), axis=1)\n"
     ]
    },
    {
     "name": "stdout",
     "output_type": "stream",
     "text": [
      "SH0274\n",
      "FM0536\n",
      "SL0478\n",
      "FM0159\n",
      "FM2021\n",
      "FM1187\n"
     ]
    },
    {
     "name": "stderr",
     "output_type": "stream",
     "text": [
      "/var/folders/fz/qwk5rxqs39gcy8h_0lhy47c80000gn/T/ipykernel_40576/4022452298.py:87: SettingWithCopyWarning: \n",
      "A value is trying to be set on a copy of a slice from a DataFrame.\n",
      "Try using .loc[row_indexer,col_indexer] = value instead\n",
      "\n",
      "See the caveats in the documentation: https://pandas.pydata.org/pandas-docs/stable/user_guide/indexing.html#returning-a-view-versus-a-copy\n",
      "  tvdf['mile'] = tvdf.apply(lambda row: closest_mile_marker(row['X'], row['Y'], data), axis=1)\n",
      "/var/folders/fz/qwk5rxqs39gcy8h_0lhy47c80000gn/T/ipykernel_40576/4022452298.py:87: SettingWithCopyWarning: \n",
      "A value is trying to be set on a copy of a slice from a DataFrame.\n",
      "Try using .loc[row_indexer,col_indexer] = value instead\n",
      "\n",
      "See the caveats in the documentation: https://pandas.pydata.org/pandas-docs/stable/user_guide/indexing.html#returning-a-view-versus-a-copy\n",
      "  tvdf['mile'] = tvdf.apply(lambda row: closest_mile_marker(row['X'], row['Y'], data), axis=1)\n"
     ]
    },
    {
     "name": "stdout",
     "output_type": "stream",
     "text": [
      "FM0755\n",
      "BU0271\n",
      "bad df\n",
      "US0283\n"
     ]
    },
    {
     "name": "stderr",
     "output_type": "stream",
     "text": [
      "/var/folders/fz/qwk5rxqs39gcy8h_0lhy47c80000gn/T/ipykernel_40576/4022452298.py:87: SettingWithCopyWarning: \n",
      "A value is trying to be set on a copy of a slice from a DataFrame.\n",
      "Try using .loc[row_indexer,col_indexer] = value instead\n",
      "\n",
      "See the caveats in the documentation: https://pandas.pydata.org/pandas-docs/stable/user_guide/indexing.html#returning-a-view-versus-a-copy\n",
      "  tvdf['mile'] = tvdf.apply(lambda row: closest_mile_marker(row['X'], row['Y'], data), axis=1)\n",
      "/var/folders/fz/qwk5rxqs39gcy8h_0lhy47c80000gn/T/ipykernel_40576/4022452298.py:87: SettingWithCopyWarning: \n",
      "A value is trying to be set on a copy of a slice from a DataFrame.\n",
      "Try using .loc[row_indexer,col_indexer] = value instead\n",
      "\n",
      "See the caveats in the documentation: https://pandas.pydata.org/pandas-docs/stable/user_guide/indexing.html#returning-a-view-versus-a-copy\n",
      "  tvdf['mile'] = tvdf.apply(lambda row: closest_mile_marker(row['X'], row['Y'], data), axis=1)\n",
      "/var/folders/fz/qwk5rxqs39gcy8h_0lhy47c80000gn/T/ipykernel_40576/4022452298.py:87: SettingWithCopyWarning: \n",
      "A value is trying to be set on a copy of a slice from a DataFrame.\n",
      "Try using .loc[row_indexer,col_indexer] = value instead\n",
      "\n",
      "See the caveats in the documentation: https://pandas.pydata.org/pandas-docs/stable/user_guide/indexing.html#returning-a-view-versus-a-copy\n",
      "  tvdf['mile'] = tvdf.apply(lambda row: closest_mile_marker(row['X'], row['Y'], data), axis=1)\n",
      "/var/folders/fz/qwk5rxqs39gcy8h_0lhy47c80000gn/T/ipykernel_40576/4022452298.py:87: SettingWithCopyWarning: \n",
      "A value is trying to be set on a copy of a slice from a DataFrame.\n",
      "Try using .loc[row_indexer,col_indexer] = value instead\n",
      "\n",
      "See the caveats in the documentation: https://pandas.pydata.org/pandas-docs/stable/user_guide/indexing.html#returning-a-view-versus-a-copy\n",
      "  tvdf['mile'] = tvdf.apply(lambda row: closest_mile_marker(row['X'], row['Y'], data), axis=1)\n",
      "/var/folders/fz/qwk5rxqs39gcy8h_0lhy47c80000gn/T/ipykernel_40576/4022452298.py:87: SettingWithCopyWarning: \n",
      "A value is trying to be set on a copy of a slice from a DataFrame.\n",
      "Try using .loc[row_indexer,col_indexer] = value instead\n",
      "\n",
      "See the caveats in the documentation: https://pandas.pydata.org/pandas-docs/stable/user_guide/indexing.html#returning-a-view-versus-a-copy\n",
      "  tvdf['mile'] = tvdf.apply(lambda row: closest_mile_marker(row['X'], row['Y'], data), axis=1)\n",
      "/var/folders/fz/qwk5rxqs39gcy8h_0lhy47c80000gn/T/ipykernel_40576/4022452298.py:87: SettingWithCopyWarning: \n",
      "A value is trying to be set on a copy of a slice from a DataFrame.\n",
      "Try using .loc[row_indexer,col_indexer] = value instead\n",
      "\n",
      "See the caveats in the documentation: https://pandas.pydata.org/pandas-docs/stable/user_guide/indexing.html#returning-a-view-versus-a-copy\n",
      "  tvdf['mile'] = tvdf.apply(lambda row: closest_mile_marker(row['X'], row['Y'], data), axis=1)\n"
     ]
    },
    {
     "name": "stdout",
     "output_type": "stream",
     "text": [
      "FM0875\n",
      "FM0048\n",
      "BS0006\n",
      "bad df\n",
      "FM0983\n",
      "FM0064\n",
      "FM1459\n",
      "SL0500\n"
     ]
    },
    {
     "name": "stderr",
     "output_type": "stream",
     "text": [
      "/var/folders/fz/qwk5rxqs39gcy8h_0lhy47c80000gn/T/ipykernel_40576/4022452298.py:87: SettingWithCopyWarning: \n",
      "A value is trying to be set on a copy of a slice from a DataFrame.\n",
      "Try using .loc[row_indexer,col_indexer] = value instead\n",
      "\n",
      "See the caveats in the documentation: https://pandas.pydata.org/pandas-docs/stable/user_guide/indexing.html#returning-a-view-versus-a-copy\n",
      "  tvdf['mile'] = tvdf.apply(lambda row: closest_mile_marker(row['X'], row['Y'], data), axis=1)\n",
      "/var/folders/fz/qwk5rxqs39gcy8h_0lhy47c80000gn/T/ipykernel_40576/4022452298.py:87: SettingWithCopyWarning: \n",
      "A value is trying to be set on a copy of a slice from a DataFrame.\n",
      "Try using .loc[row_indexer,col_indexer] = value instead\n",
      "\n",
      "See the caveats in the documentation: https://pandas.pydata.org/pandas-docs/stable/user_guide/indexing.html#returning-a-view-versus-a-copy\n",
      "  tvdf['mile'] = tvdf.apply(lambda row: closest_mile_marker(row['X'], row['Y'], data), axis=1)\n",
      "/var/folders/fz/qwk5rxqs39gcy8h_0lhy47c80000gn/T/ipykernel_40576/4022452298.py:87: SettingWithCopyWarning: \n",
      "A value is trying to be set on a copy of a slice from a DataFrame.\n",
      "Try using .loc[row_indexer,col_indexer] = value instead\n",
      "\n",
      "See the caveats in the documentation: https://pandas.pydata.org/pandas-docs/stable/user_guide/indexing.html#returning-a-view-versus-a-copy\n",
      "  tvdf['mile'] = tvdf.apply(lambda row: closest_mile_marker(row['X'], row['Y'], data), axis=1)\n",
      "/var/folders/fz/qwk5rxqs39gcy8h_0lhy47c80000gn/T/ipykernel_40576/4022452298.py:87: SettingWithCopyWarning: \n",
      "A value is trying to be set on a copy of a slice from a DataFrame.\n",
      "Try using .loc[row_indexer,col_indexer] = value instead\n",
      "\n",
      "See the caveats in the documentation: https://pandas.pydata.org/pandas-docs/stable/user_guide/indexing.html#returning-a-view-versus-a-copy\n",
      "  tvdf['mile'] = tvdf.apply(lambda row: closest_mile_marker(row['X'], row['Y'], data), axis=1)\n"
     ]
    },
    {
     "name": "stdout",
     "output_type": "stream",
     "text": [
      "FM1565\n",
      "SH0151\n",
      "FM1593\n",
      "FM0020\n"
     ]
    },
    {
     "name": "stderr",
     "output_type": "stream",
     "text": [
      "/var/folders/fz/qwk5rxqs39gcy8h_0lhy47c80000gn/T/ipykernel_40576/4022452298.py:87: SettingWithCopyWarning: \n",
      "A value is trying to be set on a copy of a slice from a DataFrame.\n",
      "Try using .loc[row_indexer,col_indexer] = value instead\n",
      "\n",
      "See the caveats in the documentation: https://pandas.pydata.org/pandas-docs/stable/user_guide/indexing.html#returning-a-view-versus-a-copy\n",
      "  tvdf['mile'] = tvdf.apply(lambda row: closest_mile_marker(row['X'], row['Y'], data), axis=1)\n",
      "/var/folders/fz/qwk5rxqs39gcy8h_0lhy47c80000gn/T/ipykernel_40576/4022452298.py:87: SettingWithCopyWarning: \n",
      "A value is trying to be set on a copy of a slice from a DataFrame.\n",
      "Try using .loc[row_indexer,col_indexer] = value instead\n",
      "\n",
      "See the caveats in the documentation: https://pandas.pydata.org/pandas-docs/stable/user_guide/indexing.html#returning-a-view-versus-a-copy\n",
      "  tvdf['mile'] = tvdf.apply(lambda row: closest_mile_marker(row['X'], row['Y'], data), axis=1)\n",
      "/var/folders/fz/qwk5rxqs39gcy8h_0lhy47c80000gn/T/ipykernel_40576/4022452298.py:87: SettingWithCopyWarning: \n",
      "A value is trying to be set on a copy of a slice from a DataFrame.\n",
      "Try using .loc[row_indexer,col_indexer] = value instead\n",
      "\n",
      "See the caveats in the documentation: https://pandas.pydata.org/pandas-docs/stable/user_guide/indexing.html#returning-a-view-versus-a-copy\n",
      "  tvdf['mile'] = tvdf.apply(lambda row: closest_mile_marker(row['X'], row['Y'], data), axis=1)\n",
      "/var/folders/fz/qwk5rxqs39gcy8h_0lhy47c80000gn/T/ipykernel_40576/4022452298.py:87: SettingWithCopyWarning: \n",
      "A value is trying to be set on a copy of a slice from a DataFrame.\n",
      "Try using .loc[row_indexer,col_indexer] = value instead\n",
      "\n",
      "See the caveats in the documentation: https://pandas.pydata.org/pandas-docs/stable/user_guide/indexing.html#returning-a-view-versus-a-copy\n",
      "  tvdf['mile'] = tvdf.apply(lambda row: closest_mile_marker(row['X'], row['Y'], data), axis=1)\n",
      "/var/folders/fz/qwk5rxqs39gcy8h_0lhy47c80000gn/T/ipykernel_40576/4022452298.py:87: SettingWithCopyWarning: \n",
      "A value is trying to be set on a copy of a slice from a DataFrame.\n",
      "Try using .loc[row_indexer,col_indexer] = value instead\n",
      "\n",
      "See the caveats in the documentation: https://pandas.pydata.org/pandas-docs/stable/user_guide/indexing.html#returning-a-view-versus-a-copy\n",
      "  tvdf['mile'] = tvdf.apply(lambda row: closest_mile_marker(row['X'], row['Y'], data), axis=1)\n",
      "/var/folders/fz/qwk5rxqs39gcy8h_0lhy47c80000gn/T/ipykernel_40576/4022452298.py:87: SettingWithCopyWarning: \n",
      "A value is trying to be set on a copy of a slice from a DataFrame.\n",
      "Try using .loc[row_indexer,col_indexer] = value instead\n",
      "\n",
      "See the caveats in the documentation: https://pandas.pydata.org/pandas-docs/stable/user_guide/indexing.html#returning-a-view-versus-a-copy\n",
      "  tvdf['mile'] = tvdf.apply(lambda row: closest_mile_marker(row['X'], row['Y'], data), axis=1)\n"
     ]
    },
    {
     "name": "stdout",
     "output_type": "stream",
     "text": [
      "FM2481\n",
      "FM2005\n",
      "FM1764\n",
      "FM0250\n",
      "FM1725\n",
      "IH0045\n"
     ]
    },
    {
     "name": "stderr",
     "output_type": "stream",
     "text": [
      "/var/folders/fz/qwk5rxqs39gcy8h_0lhy47c80000gn/T/ipykernel_40576/4022452298.py:87: SettingWithCopyWarning: \n",
      "A value is trying to be set on a copy of a slice from a DataFrame.\n",
      "Try using .loc[row_indexer,col_indexer] = value instead\n",
      "\n",
      "See the caveats in the documentation: https://pandas.pydata.org/pandas-docs/stable/user_guide/indexing.html#returning-a-view-versus-a-copy\n",
      "  tvdf['mile'] = tvdf.apply(lambda row: closest_mile_marker(row['X'], row['Y'], data), axis=1)\n",
      "/var/folders/fz/qwk5rxqs39gcy8h_0lhy47c80000gn/T/ipykernel_40576/4022452298.py:87: SettingWithCopyWarning: \n",
      "A value is trying to be set on a copy of a slice from a DataFrame.\n",
      "Try using .loc[row_indexer,col_indexer] = value instead\n",
      "\n",
      "See the caveats in the documentation: https://pandas.pydata.org/pandas-docs/stable/user_guide/indexing.html#returning-a-view-versus-a-copy\n",
      "  tvdf['mile'] = tvdf.apply(lambda row: closest_mile_marker(row['X'], row['Y'], data), axis=1)\n",
      "/var/folders/fz/qwk5rxqs39gcy8h_0lhy47c80000gn/T/ipykernel_40576/4022452298.py:87: SettingWithCopyWarning: \n",
      "A value is trying to be set on a copy of a slice from a DataFrame.\n",
      "Try using .loc[row_indexer,col_indexer] = value instead\n",
      "\n",
      "See the caveats in the documentation: https://pandas.pydata.org/pandas-docs/stable/user_guide/indexing.html#returning-a-view-versus-a-copy\n",
      "  tvdf['mile'] = tvdf.apply(lambda row: closest_mile_marker(row['X'], row['Y'], data), axis=1)\n",
      "/var/folders/fz/qwk5rxqs39gcy8h_0lhy47c80000gn/T/ipykernel_40576/4022452298.py:87: SettingWithCopyWarning: \n",
      "A value is trying to be set on a copy of a slice from a DataFrame.\n",
      "Try using .loc[row_indexer,col_indexer] = value instead\n",
      "\n",
      "See the caveats in the documentation: https://pandas.pydata.org/pandas-docs/stable/user_guide/indexing.html#returning-a-view-versus-a-copy\n",
      "  tvdf['mile'] = tvdf.apply(lambda row: closest_mile_marker(row['X'], row['Y'], data), axis=1)\n"
     ]
    },
    {
     "name": "stdout",
     "output_type": "stream",
     "text": [
      "FM1695\n",
      "SL0336\n",
      "SH0027\n",
      "SL0338\n"
     ]
    },
    {
     "name": "stderr",
     "output_type": "stream",
     "text": [
      "/var/folders/fz/qwk5rxqs39gcy8h_0lhy47c80000gn/T/ipykernel_40576/4022452298.py:87: SettingWithCopyWarning: \n",
      "A value is trying to be set on a copy of a slice from a DataFrame.\n",
      "Try using .loc[row_indexer,col_indexer] = value instead\n",
      "\n",
      "See the caveats in the documentation: https://pandas.pydata.org/pandas-docs/stable/user_guide/indexing.html#returning-a-view-versus-a-copy\n",
      "  tvdf['mile'] = tvdf.apply(lambda row: closest_mile_marker(row['X'], row['Y'], data), axis=1)\n",
      "/var/folders/fz/qwk5rxqs39gcy8h_0lhy47c80000gn/T/ipykernel_40576/4022452298.py:87: SettingWithCopyWarning: \n",
      "A value is trying to be set on a copy of a slice from a DataFrame.\n",
      "Try using .loc[row_indexer,col_indexer] = value instead\n",
      "\n",
      "See the caveats in the documentation: https://pandas.pydata.org/pandas-docs/stable/user_guide/indexing.html#returning-a-view-versus-a-copy\n",
      "  tvdf['mile'] = tvdf.apply(lambda row: closest_mile_marker(row['X'], row['Y'], data), axis=1)\n",
      "/var/folders/fz/qwk5rxqs39gcy8h_0lhy47c80000gn/T/ipykernel_40576/4022452298.py:87: SettingWithCopyWarning: \n",
      "A value is trying to be set on a copy of a slice from a DataFrame.\n",
      "Try using .loc[row_indexer,col_indexer] = value instead\n",
      "\n",
      "See the caveats in the documentation: https://pandas.pydata.org/pandas-docs/stable/user_guide/indexing.html#returning-a-view-versus-a-copy\n",
      "  tvdf['mile'] = tvdf.apply(lambda row: closest_mile_marker(row['X'], row['Y'], data), axis=1)\n",
      "/var/folders/fz/qwk5rxqs39gcy8h_0lhy47c80000gn/T/ipykernel_40576/4022452298.py:87: SettingWithCopyWarning: \n",
      "A value is trying to be set on a copy of a slice from a DataFrame.\n",
      "Try using .loc[row_indexer,col_indexer] = value instead\n",
      "\n",
      "See the caveats in the documentation: https://pandas.pydata.org/pandas-docs/stable/user_guide/indexing.html#returning-a-view-versus-a-copy\n",
      "  tvdf['mile'] = tvdf.apply(lambda row: closest_mile_marker(row['X'], row['Y'], data), axis=1)\n"
     ]
    },
    {
     "name": "stdout",
     "output_type": "stream",
     "text": [
      "FM0909\n",
      "FM0631\n",
      "RM1357\n",
      "SH0080\n"
     ]
    },
    {
     "name": "stderr",
     "output_type": "stream",
     "text": [
      "/var/folders/fz/qwk5rxqs39gcy8h_0lhy47c80000gn/T/ipykernel_40576/4022452298.py:87: SettingWithCopyWarning: \n",
      "A value is trying to be set on a copy of a slice from a DataFrame.\n",
      "Try using .loc[row_indexer,col_indexer] = value instead\n",
      "\n",
      "See the caveats in the documentation: https://pandas.pydata.org/pandas-docs/stable/user_guide/indexing.html#returning-a-view-versus-a-copy\n",
      "  tvdf['mile'] = tvdf.apply(lambda row: closest_mile_marker(row['X'], row['Y'], data), axis=1)\n",
      "/var/folders/fz/qwk5rxqs39gcy8h_0lhy47c80000gn/T/ipykernel_40576/4022452298.py:87: SettingWithCopyWarning: \n",
      "A value is trying to be set on a copy of a slice from a DataFrame.\n",
      "Try using .loc[row_indexer,col_indexer] = value instead\n",
      "\n",
      "See the caveats in the documentation: https://pandas.pydata.org/pandas-docs/stable/user_guide/indexing.html#returning-a-view-versus-a-copy\n",
      "  tvdf['mile'] = tvdf.apply(lambda row: closest_mile_marker(row['X'], row['Y'], data), axis=1)\n",
      "/var/folders/fz/qwk5rxqs39gcy8h_0lhy47c80000gn/T/ipykernel_40576/4022452298.py:87: SettingWithCopyWarning: \n",
      "A value is trying to be set on a copy of a slice from a DataFrame.\n",
      "Try using .loc[row_indexer,col_indexer] = value instead\n",
      "\n",
      "See the caveats in the documentation: https://pandas.pydata.org/pandas-docs/stable/user_guide/indexing.html#returning-a-view-versus-a-copy\n",
      "  tvdf['mile'] = tvdf.apply(lambda row: closest_mile_marker(row['X'], row['Y'], data), axis=1)\n"
     ]
    },
    {
     "name": "stdout",
     "output_type": "stream",
     "text": [
      "FM1006\n",
      "SL0363\n",
      "SH0123\n"
     ]
    },
    {
     "name": "stderr",
     "output_type": "stream",
     "text": [
      "/var/folders/fz/qwk5rxqs39gcy8h_0lhy47c80000gn/T/ipykernel_40576/4022452298.py:87: SettingWithCopyWarning: \n",
      "A value is trying to be set on a copy of a slice from a DataFrame.\n",
      "Try using .loc[row_indexer,col_indexer] = value instead\n",
      "\n",
      "See the caveats in the documentation: https://pandas.pydata.org/pandas-docs/stable/user_guide/indexing.html#returning-a-view-versus-a-copy\n",
      "  tvdf['mile'] = tvdf.apply(lambda row: closest_mile_marker(row['X'], row['Y'], data), axis=1)\n",
      "/var/folders/fz/qwk5rxqs39gcy8h_0lhy47c80000gn/T/ipykernel_40576/4022452298.py:87: SettingWithCopyWarning: \n",
      "A value is trying to be set on a copy of a slice from a DataFrame.\n",
      "Try using .loc[row_indexer,col_indexer] = value instead\n",
      "\n",
      "See the caveats in the documentation: https://pandas.pydata.org/pandas-docs/stable/user_guide/indexing.html#returning-a-view-versus-a-copy\n",
      "  tvdf['mile'] = tvdf.apply(lambda row: closest_mile_marker(row['X'], row['Y'], data), axis=1)\n",
      "/var/folders/fz/qwk5rxqs39gcy8h_0lhy47c80000gn/T/ipykernel_40576/4022452298.py:87: SettingWithCopyWarning: \n",
      "A value is trying to be set on a copy of a slice from a DataFrame.\n",
      "Try using .loc[row_indexer,col_indexer] = value instead\n",
      "\n",
      "See the caveats in the documentation: https://pandas.pydata.org/pandas-docs/stable/user_guide/indexing.html#returning-a-view-versus-a-copy\n",
      "  tvdf['mile'] = tvdf.apply(lambda row: closest_mile_marker(row['X'], row['Y'], data), axis=1)\n",
      "/var/folders/fz/qwk5rxqs39gcy8h_0lhy47c80000gn/T/ipykernel_40576/4022452298.py:87: SettingWithCopyWarning: \n",
      "A value is trying to be set on a copy of a slice from a DataFrame.\n",
      "Try using .loc[row_indexer,col_indexer] = value instead\n",
      "\n",
      "See the caveats in the documentation: https://pandas.pydata.org/pandas-docs/stable/user_guide/indexing.html#returning-a-view-versus-a-copy\n",
      "  tvdf['mile'] = tvdf.apply(lambda row: closest_mile_marker(row['X'], row['Y'], data), axis=1)\n",
      "/var/folders/fz/qwk5rxqs39gcy8h_0lhy47c80000gn/T/ipykernel_40576/4022452298.py:87: SettingWithCopyWarning: \n",
      "A value is trying to be set on a copy of a slice from a DataFrame.\n",
      "Try using .loc[row_indexer,col_indexer] = value instead\n",
      "\n",
      "See the caveats in the documentation: https://pandas.pydata.org/pandas-docs/stable/user_guide/indexing.html#returning-a-view-versus-a-copy\n",
      "  tvdf['mile'] = tvdf.apply(lambda row: closest_mile_marker(row['X'], row['Y'], data), axis=1)\n"
     ]
    },
    {
     "name": "stdout",
     "output_type": "stream",
     "text": [
      "FM0066\n",
      "RM0967\n",
      "SH0112\n",
      "FM1484\n",
      "FM0266\n"
     ]
    },
    {
     "name": "stderr",
     "output_type": "stream",
     "text": [
      "/var/folders/fz/qwk5rxqs39gcy8h_0lhy47c80000gn/T/ipykernel_40576/4022452298.py:87: SettingWithCopyWarning: \n",
      "A value is trying to be set on a copy of a slice from a DataFrame.\n",
      "Try using .loc[row_indexer,col_indexer] = value instead\n",
      "\n",
      "See the caveats in the documentation: https://pandas.pydata.org/pandas-docs/stable/user_guide/indexing.html#returning-a-view-versus-a-copy\n",
      "  tvdf['mile'] = tvdf.apply(lambda row: closest_mile_marker(row['X'], row['Y'], data), axis=1)\n",
      "/var/folders/fz/qwk5rxqs39gcy8h_0lhy47c80000gn/T/ipykernel_40576/4022452298.py:87: SettingWithCopyWarning: \n",
      "A value is trying to be set on a copy of a slice from a DataFrame.\n",
      "Try using .loc[row_indexer,col_indexer] = value instead\n",
      "\n",
      "See the caveats in the documentation: https://pandas.pydata.org/pandas-docs/stable/user_guide/indexing.html#returning-a-view-versus-a-copy\n",
      "  tvdf['mile'] = tvdf.apply(lambda row: closest_mile_marker(row['X'], row['Y'], data), axis=1)\n",
      "/var/folders/fz/qwk5rxqs39gcy8h_0lhy47c80000gn/T/ipykernel_40576/4022452298.py:87: SettingWithCopyWarning: \n",
      "A value is trying to be set on a copy of a slice from a DataFrame.\n",
      "Try using .loc[row_indexer,col_indexer] = value instead\n",
      "\n",
      "See the caveats in the documentation: https://pandas.pydata.org/pandas-docs/stable/user_guide/indexing.html#returning-a-view-versus-a-copy\n",
      "  tvdf['mile'] = tvdf.apply(lambda row: closest_mile_marker(row['X'], row['Y'], data), axis=1)\n",
      "/var/folders/fz/qwk5rxqs39gcy8h_0lhy47c80000gn/T/ipykernel_40576/4022452298.py:87: SettingWithCopyWarning: \n",
      "A value is trying to be set on a copy of a slice from a DataFrame.\n",
      "Try using .loc[row_indexer,col_indexer] = value instead\n",
      "\n",
      "See the caveats in the documentation: https://pandas.pydata.org/pandas-docs/stable/user_guide/indexing.html#returning-a-view-versus-a-copy\n",
      "  tvdf['mile'] = tvdf.apply(lambda row: closest_mile_marker(row['X'], row['Y'], data), axis=1)\n",
      "/var/folders/fz/qwk5rxqs39gcy8h_0lhy47c80000gn/T/ipykernel_40576/4022452298.py:87: SettingWithCopyWarning: \n",
      "A value is trying to be set on a copy of a slice from a DataFrame.\n",
      "Try using .loc[row_indexer,col_indexer] = value instead\n",
      "\n",
      "See the caveats in the documentation: https://pandas.pydata.org/pandas-docs/stable/user_guide/indexing.html#returning-a-view-versus-a-copy\n",
      "  tvdf['mile'] = tvdf.apply(lambda row: closest_mile_marker(row['X'], row['Y'], data), axis=1)\n"
     ]
    },
    {
     "name": "stdout",
     "output_type": "stream",
     "text": [
      "FM0115\n",
      "FM0731\n",
      "FM0726\n",
      "FM0367\n",
      "FM0049\n"
     ]
    },
    {
     "name": "stderr",
     "output_type": "stream",
     "text": [
      "/var/folders/fz/qwk5rxqs39gcy8h_0lhy47c80000gn/T/ipykernel_40576/4022452298.py:87: SettingWithCopyWarning: \n",
      "A value is trying to be set on a copy of a slice from a DataFrame.\n",
      "Try using .loc[row_indexer,col_indexer] = value instead\n",
      "\n",
      "See the caveats in the documentation: https://pandas.pydata.org/pandas-docs/stable/user_guide/indexing.html#returning-a-view-versus-a-copy\n",
      "  tvdf['mile'] = tvdf.apply(lambda row: closest_mile_marker(row['X'], row['Y'], data), axis=1)\n",
      "/var/folders/fz/qwk5rxqs39gcy8h_0lhy47c80000gn/T/ipykernel_40576/4022452298.py:87: SettingWithCopyWarning: \n",
      "A value is trying to be set on a copy of a slice from a DataFrame.\n",
      "Try using .loc[row_indexer,col_indexer] = value instead\n",
      "\n",
      "See the caveats in the documentation: https://pandas.pydata.org/pandas-docs/stable/user_guide/indexing.html#returning-a-view-versus-a-copy\n",
      "  tvdf['mile'] = tvdf.apply(lambda row: closest_mile_marker(row['X'], row['Y'], data), axis=1)\n",
      "/var/folders/fz/qwk5rxqs39gcy8h_0lhy47c80000gn/T/ipykernel_40576/4022452298.py:87: SettingWithCopyWarning: \n",
      "A value is trying to be set on a copy of a slice from a DataFrame.\n",
      "Try using .loc[row_indexer,col_indexer] = value instead\n",
      "\n",
      "See the caveats in the documentation: https://pandas.pydata.org/pandas-docs/stable/user_guide/indexing.html#returning-a-view-versus-a-copy\n",
      "  tvdf['mile'] = tvdf.apply(lambda row: closest_mile_marker(row['X'], row['Y'], data), axis=1)\n"
     ]
    },
    {
     "name": "stdout",
     "output_type": "stream",
     "text": [
      "FM1914\n",
      "FM1780\n",
      "SL0375\n"
     ]
    },
    {
     "name": "stderr",
     "output_type": "stream",
     "text": [
      "/var/folders/fz/qwk5rxqs39gcy8h_0lhy47c80000gn/T/ipykernel_40576/4022452298.py:87: SettingWithCopyWarning: \n",
      "A value is trying to be set on a copy of a slice from a DataFrame.\n",
      "Try using .loc[row_indexer,col_indexer] = value instead\n",
      "\n",
      "See the caveats in the documentation: https://pandas.pydata.org/pandas-docs/stable/user_guide/indexing.html#returning-a-view-versus-a-copy\n",
      "  tvdf['mile'] = tvdf.apply(lambda row: closest_mile_marker(row['X'], row['Y'], data), axis=1)\n",
      "/var/folders/fz/qwk5rxqs39gcy8h_0lhy47c80000gn/T/ipykernel_40576/4022452298.py:87: SettingWithCopyWarning: \n",
      "A value is trying to be set on a copy of a slice from a DataFrame.\n",
      "Try using .loc[row_indexer,col_indexer] = value instead\n",
      "\n",
      "See the caveats in the documentation: https://pandas.pydata.org/pandas-docs/stable/user_guide/indexing.html#returning-a-view-versus-a-copy\n",
      "  tvdf['mile'] = tvdf.apply(lambda row: closest_mile_marker(row['X'], row['Y'], data), axis=1)\n",
      "/var/folders/fz/qwk5rxqs39gcy8h_0lhy47c80000gn/T/ipykernel_40576/4022452298.py:87: SettingWithCopyWarning: \n",
      "A value is trying to be set on a copy of a slice from a DataFrame.\n",
      "Try using .loc[row_indexer,col_indexer] = value instead\n",
      "\n",
      "See the caveats in the documentation: https://pandas.pydata.org/pandas-docs/stable/user_guide/indexing.html#returning-a-view-versus-a-copy\n",
      "  tvdf['mile'] = tvdf.apply(lambda row: closest_mile_marker(row['X'], row['Y'], data), axis=1)\n",
      "/var/folders/fz/qwk5rxqs39gcy8h_0lhy47c80000gn/T/ipykernel_40576/4022452298.py:87: SettingWithCopyWarning: \n",
      "A value is trying to be set on a copy of a slice from a DataFrame.\n",
      "Try using .loc[row_indexer,col_indexer] = value instead\n",
      "\n",
      "See the caveats in the documentation: https://pandas.pydata.org/pandas-docs/stable/user_guide/indexing.html#returning-a-view-versus-a-copy\n",
      "  tvdf['mile'] = tvdf.apply(lambda row: closest_mile_marker(row['X'], row['Y'], data), axis=1)\n"
     ]
    },
    {
     "name": "stdout",
     "output_type": "stream",
     "text": [
      "FM1016\n",
      "FM0709\n",
      "FM0696\n",
      "FM0559\n",
      "RM0032\n"
     ]
    },
    {
     "name": "stderr",
     "output_type": "stream",
     "text": [
      "/var/folders/fz/qwk5rxqs39gcy8h_0lhy47c80000gn/T/ipykernel_40576/4022452298.py:87: SettingWithCopyWarning: \n",
      "A value is trying to be set on a copy of a slice from a DataFrame.\n",
      "Try using .loc[row_indexer,col_indexer] = value instead\n",
      "\n",
      "See the caveats in the documentation: https://pandas.pydata.org/pandas-docs/stable/user_guide/indexing.html#returning-a-view-versus-a-copy\n",
      "  tvdf['mile'] = tvdf.apply(lambda row: closest_mile_marker(row['X'], row['Y'], data), axis=1)\n",
      "/var/folders/fz/qwk5rxqs39gcy8h_0lhy47c80000gn/T/ipykernel_40576/4022452298.py:87: SettingWithCopyWarning: \n",
      "A value is trying to be set on a copy of a slice from a DataFrame.\n",
      "Try using .loc[row_indexer,col_indexer] = value instead\n",
      "\n",
      "See the caveats in the documentation: https://pandas.pydata.org/pandas-docs/stable/user_guide/indexing.html#returning-a-view-versus-a-copy\n",
      "  tvdf['mile'] = tvdf.apply(lambda row: closest_mile_marker(row['X'], row['Y'], data), axis=1)\n",
      "/var/folders/fz/qwk5rxqs39gcy8h_0lhy47c80000gn/T/ipykernel_40576/4022452298.py:87: SettingWithCopyWarning: \n",
      "A value is trying to be set on a copy of a slice from a DataFrame.\n",
      "Try using .loc[row_indexer,col_indexer] = value instead\n",
      "\n",
      "See the caveats in the documentation: https://pandas.pydata.org/pandas-docs/stable/user_guide/indexing.html#returning-a-view-versus-a-copy\n",
      "  tvdf['mile'] = tvdf.apply(lambda row: closest_mile_marker(row['X'], row['Y'], data), axis=1)\n",
      "/var/folders/fz/qwk5rxqs39gcy8h_0lhy47c80000gn/T/ipykernel_40576/4022452298.py:87: SettingWithCopyWarning: \n",
      "A value is trying to be set on a copy of a slice from a DataFrame.\n",
      "Try using .loc[row_indexer,col_indexer] = value instead\n",
      "\n",
      "See the caveats in the documentation: https://pandas.pydata.org/pandas-docs/stable/user_guide/indexing.html#returning-a-view-versus-a-copy\n",
      "  tvdf['mile'] = tvdf.apply(lambda row: closest_mile_marker(row['X'], row['Y'], data), axis=1)\n",
      "/var/folders/fz/qwk5rxqs39gcy8h_0lhy47c80000gn/T/ipykernel_40576/4022452298.py:87: SettingWithCopyWarning: \n",
      "A value is trying to be set on a copy of a slice from a DataFrame.\n",
      "Try using .loc[row_indexer,col_indexer] = value instead\n",
      "\n",
      "See the caveats in the documentation: https://pandas.pydata.org/pandas-docs/stable/user_guide/indexing.html#returning-a-view-versus-a-copy\n",
      "  tvdf['mile'] = tvdf.apply(lambda row: closest_mile_marker(row['X'], row['Y'], data), axis=1)\n"
     ]
    },
    {
     "name": "stdout",
     "output_type": "stream",
     "text": [
      "SH0024\n",
      "FM2259\n",
      "FM0959\n",
      "SH0222\n"
     ]
    },
    {
     "name": "stderr",
     "output_type": "stream",
     "text": [
      "/var/folders/fz/qwk5rxqs39gcy8h_0lhy47c80000gn/T/ipykernel_40576/4022452298.py:87: SettingWithCopyWarning: \n",
      "A value is trying to be set on a copy of a slice from a DataFrame.\n",
      "Try using .loc[row_indexer,col_indexer] = value instead\n",
      "\n",
      "See the caveats in the documentation: https://pandas.pydata.org/pandas-docs/stable/user_guide/indexing.html#returning-a-view-versus-a-copy\n",
      "  tvdf['mile'] = tvdf.apply(lambda row: closest_mile_marker(row['X'], row['Y'], data), axis=1)\n",
      "/var/folders/fz/qwk5rxqs39gcy8h_0lhy47c80000gn/T/ipykernel_40576/4022452298.py:87: SettingWithCopyWarning: \n",
      "A value is trying to be set on a copy of a slice from a DataFrame.\n",
      "Try using .loc[row_indexer,col_indexer] = value instead\n",
      "\n",
      "See the caveats in the documentation: https://pandas.pydata.org/pandas-docs/stable/user_guide/indexing.html#returning-a-view-versus-a-copy\n",
      "  tvdf['mile'] = tvdf.apply(lambda row: closest_mile_marker(row['X'], row['Y'], data), axis=1)\n",
      "/var/folders/fz/qwk5rxqs39gcy8h_0lhy47c80000gn/T/ipykernel_40576/4022452298.py:87: SettingWithCopyWarning: \n",
      "A value is trying to be set on a copy of a slice from a DataFrame.\n",
      "Try using .loc[row_indexer,col_indexer] = value instead\n",
      "\n",
      "See the caveats in the documentation: https://pandas.pydata.org/pandas-docs/stable/user_guide/indexing.html#returning-a-view-versus-a-copy\n",
      "  tvdf['mile'] = tvdf.apply(lambda row: closest_mile_marker(row['X'], row['Y'], data), axis=1)\n"
     ]
    },
    {
     "name": "stdout",
     "output_type": "stream",
     "text": [
      "FM0315\n",
      "SH0148\n",
      "FM2004\n"
     ]
    },
    {
     "name": "stderr",
     "output_type": "stream",
     "text": [
      "/var/folders/fz/qwk5rxqs39gcy8h_0lhy47c80000gn/T/ipykernel_40576/4022452298.py:87: SettingWithCopyWarning: \n",
      "A value is trying to be set on a copy of a slice from a DataFrame.\n",
      "Try using .loc[row_indexer,col_indexer] = value instead\n",
      "\n",
      "See the caveats in the documentation: https://pandas.pydata.org/pandas-docs/stable/user_guide/indexing.html#returning-a-view-versus-a-copy\n",
      "  tvdf['mile'] = tvdf.apply(lambda row: closest_mile_marker(row['X'], row['Y'], data), axis=1)\n",
      "/var/folders/fz/qwk5rxqs39gcy8h_0lhy47c80000gn/T/ipykernel_40576/4022452298.py:87: SettingWithCopyWarning: \n",
      "A value is trying to be set on a copy of a slice from a DataFrame.\n",
      "Try using .loc[row_indexer,col_indexer] = value instead\n",
      "\n",
      "See the caveats in the documentation: https://pandas.pydata.org/pandas-docs/stable/user_guide/indexing.html#returning-a-view-versus-a-copy\n",
      "  tvdf['mile'] = tvdf.apply(lambda row: closest_mile_marker(row['X'], row['Y'], data), axis=1)\n",
      "/var/folders/fz/qwk5rxqs39gcy8h_0lhy47c80000gn/T/ipykernel_40576/4022452298.py:87: SettingWithCopyWarning: \n",
      "A value is trying to be set on a copy of a slice from a DataFrame.\n",
      "Try using .loc[row_indexer,col_indexer] = value instead\n",
      "\n",
      "See the caveats in the documentation: https://pandas.pydata.org/pandas-docs/stable/user_guide/indexing.html#returning-a-view-versus-a-copy\n",
      "  tvdf['mile'] = tvdf.apply(lambda row: closest_mile_marker(row['X'], row['Y'], data), axis=1)\n",
      "/var/folders/fz/qwk5rxqs39gcy8h_0lhy47c80000gn/T/ipykernel_40576/4022452298.py:87: SettingWithCopyWarning: \n",
      "A value is trying to be set on a copy of a slice from a DataFrame.\n",
      "Try using .loc[row_indexer,col_indexer] = value instead\n",
      "\n",
      "See the caveats in the documentation: https://pandas.pydata.org/pandas-docs/stable/user_guide/indexing.html#returning-a-view-versus-a-copy\n",
      "  tvdf['mile'] = tvdf.apply(lambda row: closest_mile_marker(row['X'], row['Y'], data), axis=1)\n",
      "/var/folders/fz/qwk5rxqs39gcy8h_0lhy47c80000gn/T/ipykernel_40576/4022452298.py:87: SettingWithCopyWarning: \n",
      "A value is trying to be set on a copy of a slice from a DataFrame.\n",
      "Try using .loc[row_indexer,col_indexer] = value instead\n",
      "\n",
      "See the caveats in the documentation: https://pandas.pydata.org/pandas-docs/stable/user_guide/indexing.html#returning-a-view-versus-a-copy\n",
      "  tvdf['mile'] = tvdf.apply(lambda row: closest_mile_marker(row['X'], row['Y'], data), axis=1)\n"
     ]
    },
    {
     "name": "stdout",
     "output_type": "stream",
     "text": [
      "FM3247\n",
      "RM1623\n",
      "SL0181\n",
      "FM1075\n",
      "FM1171\n",
      "SH0320\n"
     ]
    },
    {
     "name": "stderr",
     "output_type": "stream",
     "text": [
      "/var/folders/fz/qwk5rxqs39gcy8h_0lhy47c80000gn/T/ipykernel_40576/4022452298.py:87: SettingWithCopyWarning: \n",
      "A value is trying to be set on a copy of a slice from a DataFrame.\n",
      "Try using .loc[row_indexer,col_indexer] = value instead\n",
      "\n",
      "See the caveats in the documentation: https://pandas.pydata.org/pandas-docs/stable/user_guide/indexing.html#returning-a-view-versus-a-copy\n",
      "  tvdf['mile'] = tvdf.apply(lambda row: closest_mile_marker(row['X'], row['Y'], data), axis=1)\n",
      "/var/folders/fz/qwk5rxqs39gcy8h_0lhy47c80000gn/T/ipykernel_40576/4022452298.py:87: SettingWithCopyWarning: \n",
      "A value is trying to be set on a copy of a slice from a DataFrame.\n",
      "Try using .loc[row_indexer,col_indexer] = value instead\n",
      "\n",
      "See the caveats in the documentation: https://pandas.pydata.org/pandas-docs/stable/user_guide/indexing.html#returning-a-view-versus-a-copy\n",
      "  tvdf['mile'] = tvdf.apply(lambda row: closest_mile_marker(row['X'], row['Y'], data), axis=1)\n",
      "/var/folders/fz/qwk5rxqs39gcy8h_0lhy47c80000gn/T/ipykernel_40576/4022452298.py:87: SettingWithCopyWarning: \n",
      "A value is trying to be set on a copy of a slice from a DataFrame.\n",
      "Try using .loc[row_indexer,col_indexer] = value instead\n",
      "\n",
      "See the caveats in the documentation: https://pandas.pydata.org/pandas-docs/stable/user_guide/indexing.html#returning-a-view-versus-a-copy\n",
      "  tvdf['mile'] = tvdf.apply(lambda row: closest_mile_marker(row['X'], row['Y'], data), axis=1)\n",
      "/var/folders/fz/qwk5rxqs39gcy8h_0lhy47c80000gn/T/ipykernel_40576/4022452298.py:87: SettingWithCopyWarning: \n",
      "A value is trying to be set on a copy of a slice from a DataFrame.\n",
      "Try using .loc[row_indexer,col_indexer] = value instead\n",
      "\n",
      "See the caveats in the documentation: https://pandas.pydata.org/pandas-docs/stable/user_guide/indexing.html#returning-a-view-versus-a-copy\n",
      "  tvdf['mile'] = tvdf.apply(lambda row: closest_mile_marker(row['X'], row['Y'], data), axis=1)\n",
      "/var/folders/fz/qwk5rxqs39gcy8h_0lhy47c80000gn/T/ipykernel_40576/4022452298.py:87: SettingWithCopyWarning: \n",
      "A value is trying to be set on a copy of a slice from a DataFrame.\n",
      "Try using .loc[row_indexer,col_indexer] = value instead\n",
      "\n",
      "See the caveats in the documentation: https://pandas.pydata.org/pandas-docs/stable/user_guide/indexing.html#returning-a-view-versus-a-copy\n",
      "  tvdf['mile'] = tvdf.apply(lambda row: closest_mile_marker(row['X'], row['Y'], data), axis=1)\n",
      "/var/folders/fz/qwk5rxqs39gcy8h_0lhy47c80000gn/T/ipykernel_40576/4022452298.py:87: SettingWithCopyWarning: \n",
      "A value is trying to be set on a copy of a slice from a DataFrame.\n",
      "Try using .loc[row_indexer,col_indexer] = value instead\n",
      "\n",
      "See the caveats in the documentation: https://pandas.pydata.org/pandas-docs/stable/user_guide/indexing.html#returning-a-view-versus-a-copy\n",
      "  tvdf['mile'] = tvdf.apply(lambda row: closest_mile_marker(row['X'], row['Y'], data), axis=1)\n"
     ]
    },
    {
     "name": "stdout",
     "output_type": "stream",
     "text": [
      "FM2653\n",
      "SH0142\n",
      "FM1791\n",
      "FM2668\n",
      "FM2728\n",
      "FM0777\n"
     ]
    },
    {
     "name": "stderr",
     "output_type": "stream",
     "text": [
      "/var/folders/fz/qwk5rxqs39gcy8h_0lhy47c80000gn/T/ipykernel_40576/4022452298.py:87: SettingWithCopyWarning: \n",
      "A value is trying to be set on a copy of a slice from a DataFrame.\n",
      "Try using .loc[row_indexer,col_indexer] = value instead\n",
      "\n",
      "See the caveats in the documentation: https://pandas.pydata.org/pandas-docs/stable/user_guide/indexing.html#returning-a-view-versus-a-copy\n",
      "  tvdf['mile'] = tvdf.apply(lambda row: closest_mile_marker(row['X'], row['Y'], data), axis=1)\n",
      "/var/folders/fz/qwk5rxqs39gcy8h_0lhy47c80000gn/T/ipykernel_40576/4022452298.py:87: SettingWithCopyWarning: \n",
      "A value is trying to be set on a copy of a slice from a DataFrame.\n",
      "Try using .loc[row_indexer,col_indexer] = value instead\n",
      "\n",
      "See the caveats in the documentation: https://pandas.pydata.org/pandas-docs/stable/user_guide/indexing.html#returning-a-view-versus-a-copy\n",
      "  tvdf['mile'] = tvdf.apply(lambda row: closest_mile_marker(row['X'], row['Y'], data), axis=1)\n",
      "/var/folders/fz/qwk5rxqs39gcy8h_0lhy47c80000gn/T/ipykernel_40576/4022452298.py:87: SettingWithCopyWarning: \n",
      "A value is trying to be set on a copy of a slice from a DataFrame.\n",
      "Try using .loc[row_indexer,col_indexer] = value instead\n",
      "\n",
      "See the caveats in the documentation: https://pandas.pydata.org/pandas-docs/stable/user_guide/indexing.html#returning-a-view-versus-a-copy\n",
      "  tvdf['mile'] = tvdf.apply(lambda row: closest_mile_marker(row['X'], row['Y'], data), axis=1)\n",
      "/var/folders/fz/qwk5rxqs39gcy8h_0lhy47c80000gn/T/ipykernel_40576/4022452298.py:87: SettingWithCopyWarning: \n",
      "A value is trying to be set on a copy of a slice from a DataFrame.\n",
      "Try using .loc[row_indexer,col_indexer] = value instead\n",
      "\n",
      "See the caveats in the documentation: https://pandas.pydata.org/pandas-docs/stable/user_guide/indexing.html#returning-a-view-versus-a-copy\n",
      "  tvdf['mile'] = tvdf.apply(lambda row: closest_mile_marker(row['X'], row['Y'], data), axis=1)\n"
     ]
    },
    {
     "name": "stdout",
     "output_type": "stream",
     "text": [
      "FM0541\n",
      "FM0586\n",
      "FM0468\n",
      "US0180\n"
     ]
    },
    {
     "name": "stderr",
     "output_type": "stream",
     "text": [
      "/var/folders/fz/qwk5rxqs39gcy8h_0lhy47c80000gn/T/ipykernel_40576/4022452298.py:87: SettingWithCopyWarning: \n",
      "A value is trying to be set on a copy of a slice from a DataFrame.\n",
      "Try using .loc[row_indexer,col_indexer] = value instead\n",
      "\n",
      "See the caveats in the documentation: https://pandas.pydata.org/pandas-docs/stable/user_guide/indexing.html#returning-a-view-versus-a-copy\n",
      "  tvdf['mile'] = tvdf.apply(lambda row: closest_mile_marker(row['X'], row['Y'], data), axis=1)\n",
      "/var/folders/fz/qwk5rxqs39gcy8h_0lhy47c80000gn/T/ipykernel_40576/4022452298.py:87: SettingWithCopyWarning: \n",
      "A value is trying to be set on a copy of a slice from a DataFrame.\n",
      "Try using .loc[row_indexer,col_indexer] = value instead\n",
      "\n",
      "See the caveats in the documentation: https://pandas.pydata.org/pandas-docs/stable/user_guide/indexing.html#returning-a-view-versus-a-copy\n",
      "  tvdf['mile'] = tvdf.apply(lambda row: closest_mile_marker(row['X'], row['Y'], data), axis=1)\n",
      "/var/folders/fz/qwk5rxqs39gcy8h_0lhy47c80000gn/T/ipykernel_40576/4022452298.py:87: SettingWithCopyWarning: \n",
      "A value is trying to be set on a copy of a slice from a DataFrame.\n",
      "Try using .loc[row_indexer,col_indexer] = value instead\n",
      "\n",
      "See the caveats in the documentation: https://pandas.pydata.org/pandas-docs/stable/user_guide/indexing.html#returning-a-view-versus-a-copy\n",
      "  tvdf['mile'] = tvdf.apply(lambda row: closest_mile_marker(row['X'], row['Y'], data), axis=1)\n",
      "/var/folders/fz/qwk5rxqs39gcy8h_0lhy47c80000gn/T/ipykernel_40576/4022452298.py:87: SettingWithCopyWarning: \n",
      "A value is trying to be set on a copy of a slice from a DataFrame.\n",
      "Try using .loc[row_indexer,col_indexer] = value instead\n",
      "\n",
      "See the caveats in the documentation: https://pandas.pydata.org/pandas-docs/stable/user_guide/indexing.html#returning-a-view-versus-a-copy\n",
      "  tvdf['mile'] = tvdf.apply(lambda row: closest_mile_marker(row['X'], row['Y'], data), axis=1)\n",
      "/var/folders/fz/qwk5rxqs39gcy8h_0lhy47c80000gn/T/ipykernel_40576/4022452298.py:87: SettingWithCopyWarning: \n",
      "A value is trying to be set on a copy of a slice from a DataFrame.\n",
      "Try using .loc[row_indexer,col_indexer] = value instead\n",
      "\n",
      "See the caveats in the documentation: https://pandas.pydata.org/pandas-docs/stable/user_guide/indexing.html#returning-a-view-versus-a-copy\n",
      "  tvdf['mile'] = tvdf.apply(lambda row: closest_mile_marker(row['X'], row['Y'], data), axis=1)\n",
      "/var/folders/fz/qwk5rxqs39gcy8h_0lhy47c80000gn/T/ipykernel_40576/4022452298.py:87: SettingWithCopyWarning: \n",
      "A value is trying to be set on a copy of a slice from a DataFrame.\n",
      "Try using .loc[row_indexer,col_indexer] = value instead\n",
      "\n",
      "See the caveats in the documentation: https://pandas.pydata.org/pandas-docs/stable/user_guide/indexing.html#returning-a-view-versus-a-copy\n",
      "  tvdf['mile'] = tvdf.apply(lambda row: closest_mile_marker(row['X'], row['Y'], data), axis=1)\n"
     ]
    },
    {
     "name": "stdout",
     "output_type": "stream",
     "text": [
      "SH0495\n",
      "FM0908\n",
      "SS0502\n",
      "SH0050\n",
      "FM1795\n",
      "SH0030\n"
     ]
    },
    {
     "name": "stderr",
     "output_type": "stream",
     "text": [
      "/var/folders/fz/qwk5rxqs39gcy8h_0lhy47c80000gn/T/ipykernel_40576/4022452298.py:87: SettingWithCopyWarning: \n",
      "A value is trying to be set on a copy of a slice from a DataFrame.\n",
      "Try using .loc[row_indexer,col_indexer] = value instead\n",
      "\n",
      "See the caveats in the documentation: https://pandas.pydata.org/pandas-docs/stable/user_guide/indexing.html#returning-a-view-versus-a-copy\n",
      "  tvdf['mile'] = tvdf.apply(lambda row: closest_mile_marker(row['X'], row['Y'], data), axis=1)\n",
      "/var/folders/fz/qwk5rxqs39gcy8h_0lhy47c80000gn/T/ipykernel_40576/4022452298.py:87: SettingWithCopyWarning: \n",
      "A value is trying to be set on a copy of a slice from a DataFrame.\n",
      "Try using .loc[row_indexer,col_indexer] = value instead\n",
      "\n",
      "See the caveats in the documentation: https://pandas.pydata.org/pandas-docs/stable/user_guide/indexing.html#returning-a-view-versus-a-copy\n",
      "  tvdf['mile'] = tvdf.apply(lambda row: closest_mile_marker(row['X'], row['Y'], data), axis=1)\n",
      "/var/folders/fz/qwk5rxqs39gcy8h_0lhy47c80000gn/T/ipykernel_40576/4022452298.py:87: SettingWithCopyWarning: \n",
      "A value is trying to be set on a copy of a slice from a DataFrame.\n",
      "Try using .loc[row_indexer,col_indexer] = value instead\n",
      "\n",
      "See the caveats in the documentation: https://pandas.pydata.org/pandas-docs/stable/user_guide/indexing.html#returning-a-view-versus-a-copy\n",
      "  tvdf['mile'] = tvdf.apply(lambda row: closest_mile_marker(row['X'], row['Y'], data), axis=1)\n",
      "/var/folders/fz/qwk5rxqs39gcy8h_0lhy47c80000gn/T/ipykernel_40576/4022452298.py:87: SettingWithCopyWarning: \n",
      "A value is trying to be set on a copy of a slice from a DataFrame.\n",
      "Try using .loc[row_indexer,col_indexer] = value instead\n",
      "\n",
      "See the caveats in the documentation: https://pandas.pydata.org/pandas-docs/stable/user_guide/indexing.html#returning-a-view-versus-a-copy\n",
      "  tvdf['mile'] = tvdf.apply(lambda row: closest_mile_marker(row['X'], row['Y'], data), axis=1)\n"
     ]
    },
    {
     "name": "stdout",
     "output_type": "stream",
     "text": [
      "FM1398\n",
      "SL0396\n",
      "SH0019\n"
     ]
    },
    {
     "name": "stderr",
     "output_type": "stream",
     "text": [
      "/var/folders/fz/qwk5rxqs39gcy8h_0lhy47c80000gn/T/ipykernel_40576/4022452298.py:87: SettingWithCopyWarning: \n",
      "A value is trying to be set on a copy of a slice from a DataFrame.\n",
      "Try using .loc[row_indexer,col_indexer] = value instead\n",
      "\n",
      "See the caveats in the documentation: https://pandas.pydata.org/pandas-docs/stable/user_guide/indexing.html#returning-a-view-versus-a-copy\n",
      "  tvdf['mile'] = tvdf.apply(lambda row: closest_mile_marker(row['X'], row['Y'], data), axis=1)\n",
      "/var/folders/fz/qwk5rxqs39gcy8h_0lhy47c80000gn/T/ipykernel_40576/4022452298.py:87: SettingWithCopyWarning: \n",
      "A value is trying to be set on a copy of a slice from a DataFrame.\n",
      "Try using .loc[row_indexer,col_indexer] = value instead\n",
      "\n",
      "See the caveats in the documentation: https://pandas.pydata.org/pandas-docs/stable/user_guide/indexing.html#returning-a-view-versus-a-copy\n",
      "  tvdf['mile'] = tvdf.apply(lambda row: closest_mile_marker(row['X'], row['Y'], data), axis=1)\n",
      "/var/folders/fz/qwk5rxqs39gcy8h_0lhy47c80000gn/T/ipykernel_40576/4022452298.py:87: SettingWithCopyWarning: \n",
      "A value is trying to be set on a copy of a slice from a DataFrame.\n",
      "Try using .loc[row_indexer,col_indexer] = value instead\n",
      "\n",
      "See the caveats in the documentation: https://pandas.pydata.org/pandas-docs/stable/user_guide/indexing.html#returning-a-view-versus-a-copy\n",
      "  tvdf['mile'] = tvdf.apply(lambda row: closest_mile_marker(row['X'], row['Y'], data), axis=1)\n",
      "/var/folders/fz/qwk5rxqs39gcy8h_0lhy47c80000gn/T/ipykernel_40576/4022452298.py:87: SettingWithCopyWarning: \n",
      "A value is trying to be set on a copy of a slice from a DataFrame.\n",
      "Try using .loc[row_indexer,col_indexer] = value instead\n",
      "\n",
      "See the caveats in the documentation: https://pandas.pydata.org/pandas-docs/stable/user_guide/indexing.html#returning-a-view-versus-a-copy\n",
      "  tvdf['mile'] = tvdf.apply(lambda row: closest_mile_marker(row['X'], row['Y'], data), axis=1)\n",
      "/var/folders/fz/qwk5rxqs39gcy8h_0lhy47c80000gn/T/ipykernel_40576/4022452298.py:87: SettingWithCopyWarning: \n",
      "A value is trying to be set on a copy of a slice from a DataFrame.\n",
      "Try using .loc[row_indexer,col_indexer] = value instead\n",
      "\n",
      "See the caveats in the documentation: https://pandas.pydata.org/pandas-docs/stable/user_guide/indexing.html#returning-a-view-versus-a-copy\n",
      "  tvdf['mile'] = tvdf.apply(lambda row: closest_mile_marker(row['X'], row['Y'], data), axis=1)\n"
     ]
    },
    {
     "name": "stdout",
     "output_type": "stream",
     "text": [
      "FM3129\n",
      "SS0115\n",
      "FM0734\n",
      "FM0212\n",
      "FM0917\n",
      "FM2012\n"
     ]
    },
    {
     "name": "stderr",
     "output_type": "stream",
     "text": [
      "/var/folders/fz/qwk5rxqs39gcy8h_0lhy47c80000gn/T/ipykernel_40576/4022452298.py:87: SettingWithCopyWarning: \n",
      "A value is trying to be set on a copy of a slice from a DataFrame.\n",
      "Try using .loc[row_indexer,col_indexer] = value instead\n",
      "\n",
      "See the caveats in the documentation: https://pandas.pydata.org/pandas-docs/stable/user_guide/indexing.html#returning-a-view-versus-a-copy\n",
      "  tvdf['mile'] = tvdf.apply(lambda row: closest_mile_marker(row['X'], row['Y'], data), axis=1)\n",
      "/var/folders/fz/qwk5rxqs39gcy8h_0lhy47c80000gn/T/ipykernel_40576/4022452298.py:87: SettingWithCopyWarning: \n",
      "A value is trying to be set on a copy of a slice from a DataFrame.\n",
      "Try using .loc[row_indexer,col_indexer] = value instead\n",
      "\n",
      "See the caveats in the documentation: https://pandas.pydata.org/pandas-docs/stable/user_guide/indexing.html#returning-a-view-versus-a-copy\n",
      "  tvdf['mile'] = tvdf.apply(lambda row: closest_mile_marker(row['X'], row['Y'], data), axis=1)\n",
      "/var/folders/fz/qwk5rxqs39gcy8h_0lhy47c80000gn/T/ipykernel_40576/4022452298.py:87: SettingWithCopyWarning: \n",
      "A value is trying to be set on a copy of a slice from a DataFrame.\n",
      "Try using .loc[row_indexer,col_indexer] = value instead\n",
      "\n",
      "See the caveats in the documentation: https://pandas.pydata.org/pandas-docs/stable/user_guide/indexing.html#returning-a-view-versus-a-copy\n",
      "  tvdf['mile'] = tvdf.apply(lambda row: closest_mile_marker(row['X'], row['Y'], data), axis=1)\n",
      "/var/folders/fz/qwk5rxqs39gcy8h_0lhy47c80000gn/T/ipykernel_40576/4022452298.py:87: SettingWithCopyWarning: \n",
      "A value is trying to be set on a copy of a slice from a DataFrame.\n",
      "Try using .loc[row_indexer,col_indexer] = value instead\n",
      "\n",
      "See the caveats in the documentation: https://pandas.pydata.org/pandas-docs/stable/user_guide/indexing.html#returning-a-view-versus-a-copy\n",
      "  tvdf['mile'] = tvdf.apply(lambda row: closest_mile_marker(row['X'], row['Y'], data), axis=1)\n",
      "/var/folders/fz/qwk5rxqs39gcy8h_0lhy47c80000gn/T/ipykernel_40576/4022452298.py:87: SettingWithCopyWarning: \n",
      "A value is trying to be set on a copy of a slice from a DataFrame.\n",
      "Try using .loc[row_indexer,col_indexer] = value instead\n",
      "\n",
      "See the caveats in the documentation: https://pandas.pydata.org/pandas-docs/stable/user_guide/indexing.html#returning-a-view-versus-a-copy\n",
      "  tvdf['mile'] = tvdf.apply(lambda row: closest_mile_marker(row['X'], row['Y'], data), axis=1)\n",
      "/var/folders/fz/qwk5rxqs39gcy8h_0lhy47c80000gn/T/ipykernel_40576/4022452298.py:87: SettingWithCopyWarning: \n",
      "A value is trying to be set on a copy of a slice from a DataFrame.\n",
      "Try using .loc[row_indexer,col_indexer] = value instead\n",
      "\n",
      "See the caveats in the documentation: https://pandas.pydata.org/pandas-docs/stable/user_guide/indexing.html#returning-a-view-versus-a-copy\n",
      "  tvdf['mile'] = tvdf.apply(lambda row: closest_mile_marker(row['X'], row['Y'], data), axis=1)\n",
      "/var/folders/fz/qwk5rxqs39gcy8h_0lhy47c80000gn/T/ipykernel_40576/4022452298.py:87: SettingWithCopyWarning: \n",
      "A value is trying to be set on a copy of a slice from a DataFrame.\n",
      "Try using .loc[row_indexer,col_indexer] = value instead\n",
      "\n",
      "See the caveats in the documentation: https://pandas.pydata.org/pandas-docs/stable/user_guide/indexing.html#returning-a-view-versus-a-copy\n",
      "  tvdf['mile'] = tvdf.apply(lambda row: closest_mile_marker(row['X'], row['Y'], data), axis=1)\n"
     ]
    },
    {
     "name": "stdout",
     "output_type": "stream",
     "text": [
      "FM0528\n",
      "SH0255\n",
      "FM0700\n",
      "SH0345\n",
      "FM0347\n",
      "FM0789\n"
     ]
    },
    {
     "name": "stderr",
     "output_type": "stream",
     "text": [
      "/var/folders/fz/qwk5rxqs39gcy8h_0lhy47c80000gn/T/ipykernel_40576/4022452298.py:87: SettingWithCopyWarning: \n",
      "A value is trying to be set on a copy of a slice from a DataFrame.\n",
      "Try using .loc[row_indexer,col_indexer] = value instead\n",
      "\n",
      "See the caveats in the documentation: https://pandas.pydata.org/pandas-docs/stable/user_guide/indexing.html#returning-a-view-versus-a-copy\n",
      "  tvdf['mile'] = tvdf.apply(lambda row: closest_mile_marker(row['X'], row['Y'], data), axis=1)\n",
      "/var/folders/fz/qwk5rxqs39gcy8h_0lhy47c80000gn/T/ipykernel_40576/4022452298.py:87: SettingWithCopyWarning: \n",
      "A value is trying to be set on a copy of a slice from a DataFrame.\n",
      "Try using .loc[row_indexer,col_indexer] = value instead\n",
      "\n",
      "See the caveats in the documentation: https://pandas.pydata.org/pandas-docs/stable/user_guide/indexing.html#returning-a-view-versus-a-copy\n",
      "  tvdf['mile'] = tvdf.apply(lambda row: closest_mile_marker(row['X'], row['Y'], data), axis=1)\n",
      "/var/folders/fz/qwk5rxqs39gcy8h_0lhy47c80000gn/T/ipykernel_40576/4022452298.py:87: SettingWithCopyWarning: \n",
      "A value is trying to be set on a copy of a slice from a DataFrame.\n",
      "Try using .loc[row_indexer,col_indexer] = value instead\n",
      "\n",
      "See the caveats in the documentation: https://pandas.pydata.org/pandas-docs/stable/user_guide/indexing.html#returning-a-view-versus-a-copy\n",
      "  tvdf['mile'] = tvdf.apply(lambda row: closest_mile_marker(row['X'], row['Y'], data), axis=1)\n",
      "/var/folders/fz/qwk5rxqs39gcy8h_0lhy47c80000gn/T/ipykernel_40576/4022452298.py:87: SettingWithCopyWarning: \n",
      "A value is trying to be set on a copy of a slice from a DataFrame.\n",
      "Try using .loc[row_indexer,col_indexer] = value instead\n",
      "\n",
      "See the caveats in the documentation: https://pandas.pydata.org/pandas-docs/stable/user_guide/indexing.html#returning-a-view-versus-a-copy\n",
      "  tvdf['mile'] = tvdf.apply(lambda row: closest_mile_marker(row['X'], row['Y'], data), axis=1)\n",
      "/var/folders/fz/qwk5rxqs39gcy8h_0lhy47c80000gn/T/ipykernel_40576/4022452298.py:87: SettingWithCopyWarning: \n",
      "A value is trying to be set on a copy of a slice from a DataFrame.\n",
      "Try using .loc[row_indexer,col_indexer] = value instead\n",
      "\n",
      "See the caveats in the documentation: https://pandas.pydata.org/pandas-docs/stable/user_guide/indexing.html#returning-a-view-versus-a-copy\n",
      "  tvdf['mile'] = tvdf.apply(lambda row: closest_mile_marker(row['X'], row['Y'], data), axis=1)\n"
     ]
    },
    {
     "name": "stdout",
     "output_type": "stream",
     "text": [
      "FM0515\n",
      "FM0878\n",
      "FM2001\n",
      "FM1563\n",
      "SH0121\n"
     ]
    },
    {
     "name": "stderr",
     "output_type": "stream",
     "text": [
      "/var/folders/fz/qwk5rxqs39gcy8h_0lhy47c80000gn/T/ipykernel_40576/4022452298.py:87: SettingWithCopyWarning: \n",
      "A value is trying to be set on a copy of a slice from a DataFrame.\n",
      "Try using .loc[row_indexer,col_indexer] = value instead\n",
      "\n",
      "See the caveats in the documentation: https://pandas.pydata.org/pandas-docs/stable/user_guide/indexing.html#returning-a-view-versus-a-copy\n",
      "  tvdf['mile'] = tvdf.apply(lambda row: closest_mile_marker(row['X'], row['Y'], data), axis=1)\n",
      "/var/folders/fz/qwk5rxqs39gcy8h_0lhy47c80000gn/T/ipykernel_40576/4022452298.py:87: SettingWithCopyWarning: \n",
      "A value is trying to be set on a copy of a slice from a DataFrame.\n",
      "Try using .loc[row_indexer,col_indexer] = value instead\n",
      "\n",
      "See the caveats in the documentation: https://pandas.pydata.org/pandas-docs/stable/user_guide/indexing.html#returning-a-view-versus-a-copy\n",
      "  tvdf['mile'] = tvdf.apply(lambda row: closest_mile_marker(row['X'], row['Y'], data), axis=1)\n",
      "/var/folders/fz/qwk5rxqs39gcy8h_0lhy47c80000gn/T/ipykernel_40576/4022452298.py:87: SettingWithCopyWarning: \n",
      "A value is trying to be set on a copy of a slice from a DataFrame.\n",
      "Try using .loc[row_indexer,col_indexer] = value instead\n",
      "\n",
      "See the caveats in the documentation: https://pandas.pydata.org/pandas-docs/stable/user_guide/indexing.html#returning-a-view-versus-a-copy\n",
      "  tvdf['mile'] = tvdf.apply(lambda row: closest_mile_marker(row['X'], row['Y'], data), axis=1)\n",
      "/var/folders/fz/qwk5rxqs39gcy8h_0lhy47c80000gn/T/ipykernel_40576/4022452298.py:87: SettingWithCopyWarning: \n",
      "A value is trying to be set on a copy of a slice from a DataFrame.\n",
      "Try using .loc[row_indexer,col_indexer] = value instead\n",
      "\n",
      "See the caveats in the documentation: https://pandas.pydata.org/pandas-docs/stable/user_guide/indexing.html#returning-a-view-versus-a-copy\n",
      "  tvdf['mile'] = tvdf.apply(lambda row: closest_mile_marker(row['X'], row['Y'], data), axis=1)\n",
      "/var/folders/fz/qwk5rxqs39gcy8h_0lhy47c80000gn/T/ipykernel_40576/4022452298.py:87: SettingWithCopyWarning: \n",
      "A value is trying to be set on a copy of a slice from a DataFrame.\n",
      "Try using .loc[row_indexer,col_indexer] = value instead\n",
      "\n",
      "See the caveats in the documentation: https://pandas.pydata.org/pandas-docs/stable/user_guide/indexing.html#returning-a-view-versus-a-copy\n",
      "  tvdf['mile'] = tvdf.apply(lambda row: closest_mile_marker(row['X'], row['Y'], data), axis=1)\n"
     ]
    },
    {
     "name": "stdout",
     "output_type": "stream",
     "text": [
      "SL0288\n",
      "SL0360\n",
      "FM2252\n",
      "FM1655\n",
      "FM2441\n"
     ]
    },
    {
     "name": "stderr",
     "output_type": "stream",
     "text": [
      "/var/folders/fz/qwk5rxqs39gcy8h_0lhy47c80000gn/T/ipykernel_40576/4022452298.py:87: SettingWithCopyWarning: \n",
      "A value is trying to be set on a copy of a slice from a DataFrame.\n",
      "Try using .loc[row_indexer,col_indexer] = value instead\n",
      "\n",
      "See the caveats in the documentation: https://pandas.pydata.org/pandas-docs/stable/user_guide/indexing.html#returning-a-view-versus-a-copy\n",
      "  tvdf['mile'] = tvdf.apply(lambda row: closest_mile_marker(row['X'], row['Y'], data), axis=1)\n",
      "/var/folders/fz/qwk5rxqs39gcy8h_0lhy47c80000gn/T/ipykernel_40576/4022452298.py:87: SettingWithCopyWarning: \n",
      "A value is trying to be set on a copy of a slice from a DataFrame.\n",
      "Try using .loc[row_indexer,col_indexer] = value instead\n",
      "\n",
      "See the caveats in the documentation: https://pandas.pydata.org/pandas-docs/stable/user_guide/indexing.html#returning-a-view-versus-a-copy\n",
      "  tvdf['mile'] = tvdf.apply(lambda row: closest_mile_marker(row['X'], row['Y'], data), axis=1)\n",
      "/var/folders/fz/qwk5rxqs39gcy8h_0lhy47c80000gn/T/ipykernel_40576/4022452298.py:87: SettingWithCopyWarning: \n",
      "A value is trying to be set on a copy of a slice from a DataFrame.\n",
      "Try using .loc[row_indexer,col_indexer] = value instead\n",
      "\n",
      "See the caveats in the documentation: https://pandas.pydata.org/pandas-docs/stable/user_guide/indexing.html#returning-a-view-versus-a-copy\n",
      "  tvdf['mile'] = tvdf.apply(lambda row: closest_mile_marker(row['X'], row['Y'], data), axis=1)\n"
     ]
    },
    {
     "name": "stdout",
     "output_type": "stream",
     "text": [
      "SL0289\n",
      "SS0093\n",
      "FM0126\n"
     ]
    },
    {
     "name": "stderr",
     "output_type": "stream",
     "text": [
      "/var/folders/fz/qwk5rxqs39gcy8h_0lhy47c80000gn/T/ipykernel_40576/4022452298.py:87: SettingWithCopyWarning: \n",
      "A value is trying to be set on a copy of a slice from a DataFrame.\n",
      "Try using .loc[row_indexer,col_indexer] = value instead\n",
      "\n",
      "See the caveats in the documentation: https://pandas.pydata.org/pandas-docs/stable/user_guide/indexing.html#returning-a-view-versus-a-copy\n",
      "  tvdf['mile'] = tvdf.apply(lambda row: closest_mile_marker(row['X'], row['Y'], data), axis=1)\n",
      "/var/folders/fz/qwk5rxqs39gcy8h_0lhy47c80000gn/T/ipykernel_40576/4022452298.py:87: SettingWithCopyWarning: \n",
      "A value is trying to be set on a copy of a slice from a DataFrame.\n",
      "Try using .loc[row_indexer,col_indexer] = value instead\n",
      "\n",
      "See the caveats in the documentation: https://pandas.pydata.org/pandas-docs/stable/user_guide/indexing.html#returning-a-view-versus-a-copy\n",
      "  tvdf['mile'] = tvdf.apply(lambda row: closest_mile_marker(row['X'], row['Y'], data), axis=1)\n",
      "/var/folders/fz/qwk5rxqs39gcy8h_0lhy47c80000gn/T/ipykernel_40576/4022452298.py:87: SettingWithCopyWarning: \n",
      "A value is trying to be set on a copy of a slice from a DataFrame.\n",
      "Try using .loc[row_indexer,col_indexer] = value instead\n",
      "\n",
      "See the caveats in the documentation: https://pandas.pydata.org/pandas-docs/stable/user_guide/indexing.html#returning-a-view-versus-a-copy\n",
      "  tvdf['mile'] = tvdf.apply(lambda row: closest_mile_marker(row['X'], row['Y'], data), axis=1)\n",
      "/var/folders/fz/qwk5rxqs39gcy8h_0lhy47c80000gn/T/ipykernel_40576/4022452298.py:87: SettingWithCopyWarning: \n",
      "A value is trying to be set on a copy of a slice from a DataFrame.\n",
      "Try using .loc[row_indexer,col_indexer] = value instead\n",
      "\n",
      "See the caveats in the documentation: https://pandas.pydata.org/pandas-docs/stable/user_guide/indexing.html#returning-a-view-versus-a-copy\n",
      "  tvdf['mile'] = tvdf.apply(lambda row: closest_mile_marker(row['X'], row['Y'], data), axis=1)\n"
     ]
    },
    {
     "name": "stdout",
     "output_type": "stream",
     "text": [
      "FM1280\n",
      "FM0835\n",
      "SH0360\n",
      "SH0087\n"
     ]
    },
    {
     "name": "stderr",
     "output_type": "stream",
     "text": [
      "/var/folders/fz/qwk5rxqs39gcy8h_0lhy47c80000gn/T/ipykernel_40576/4022452298.py:87: SettingWithCopyWarning: \n",
      "A value is trying to be set on a copy of a slice from a DataFrame.\n",
      "Try using .loc[row_indexer,col_indexer] = value instead\n",
      "\n",
      "See the caveats in the documentation: https://pandas.pydata.org/pandas-docs/stable/user_guide/indexing.html#returning-a-view-versus-a-copy\n",
      "  tvdf['mile'] = tvdf.apply(lambda row: closest_mile_marker(row['X'], row['Y'], data), axis=1)\n",
      "/var/folders/fz/qwk5rxqs39gcy8h_0lhy47c80000gn/T/ipykernel_40576/4022452298.py:87: SettingWithCopyWarning: \n",
      "A value is trying to be set on a copy of a slice from a DataFrame.\n",
      "Try using .loc[row_indexer,col_indexer] = value instead\n",
      "\n",
      "See the caveats in the documentation: https://pandas.pydata.org/pandas-docs/stable/user_guide/indexing.html#returning-a-view-versus-a-copy\n",
      "  tvdf['mile'] = tvdf.apply(lambda row: closest_mile_marker(row['X'], row['Y'], data), axis=1)\n",
      "/var/folders/fz/qwk5rxqs39gcy8h_0lhy47c80000gn/T/ipykernel_40576/4022452298.py:87: SettingWithCopyWarning: \n",
      "A value is trying to be set on a copy of a slice from a DataFrame.\n",
      "Try using .loc[row_indexer,col_indexer] = value instead\n",
      "\n",
      "See the caveats in the documentation: https://pandas.pydata.org/pandas-docs/stable/user_guide/indexing.html#returning-a-view-versus-a-copy\n",
      "  tvdf['mile'] = tvdf.apply(lambda row: closest_mile_marker(row['X'], row['Y'], data), axis=1)\n",
      "/var/folders/fz/qwk5rxqs39gcy8h_0lhy47c80000gn/T/ipykernel_40576/4022452298.py:87: SettingWithCopyWarning: \n",
      "A value is trying to be set on a copy of a slice from a DataFrame.\n",
      "Try using .loc[row_indexer,col_indexer] = value instead\n",
      "\n",
      "See the caveats in the documentation: https://pandas.pydata.org/pandas-docs/stable/user_guide/indexing.html#returning-a-view-versus-a-copy\n",
      "  tvdf['mile'] = tvdf.apply(lambda row: closest_mile_marker(row['X'], row['Y'], data), axis=1)\n"
     ]
    },
    {
     "name": "stdout",
     "output_type": "stream",
     "text": [
      "SL0256\n",
      "FM0837\n",
      "SH0077\n",
      "SH0071\n"
     ]
    },
    {
     "name": "stderr",
     "output_type": "stream",
     "text": [
      "/var/folders/fz/qwk5rxqs39gcy8h_0lhy47c80000gn/T/ipykernel_40576/4022452298.py:87: SettingWithCopyWarning: \n",
      "A value is trying to be set on a copy of a slice from a DataFrame.\n",
      "Try using .loc[row_indexer,col_indexer] = value instead\n",
      "\n",
      "See the caveats in the documentation: https://pandas.pydata.org/pandas-docs/stable/user_guide/indexing.html#returning-a-view-versus-a-copy\n",
      "  tvdf['mile'] = tvdf.apply(lambda row: closest_mile_marker(row['X'], row['Y'], data), axis=1)\n",
      "/var/folders/fz/qwk5rxqs39gcy8h_0lhy47c80000gn/T/ipykernel_40576/4022452298.py:87: SettingWithCopyWarning: \n",
      "A value is trying to be set on a copy of a slice from a DataFrame.\n",
      "Try using .loc[row_indexer,col_indexer] = value instead\n",
      "\n",
      "See the caveats in the documentation: https://pandas.pydata.org/pandas-docs/stable/user_guide/indexing.html#returning-a-view-versus-a-copy\n",
      "  tvdf['mile'] = tvdf.apply(lambda row: closest_mile_marker(row['X'], row['Y'], data), axis=1)\n",
      "/var/folders/fz/qwk5rxqs39gcy8h_0lhy47c80000gn/T/ipykernel_40576/4022452298.py:87: SettingWithCopyWarning: \n",
      "A value is trying to be set on a copy of a slice from a DataFrame.\n",
      "Try using .loc[row_indexer,col_indexer] = value instead\n",
      "\n",
      "See the caveats in the documentation: https://pandas.pydata.org/pandas-docs/stable/user_guide/indexing.html#returning-a-view-versus-a-copy\n",
      "  tvdf['mile'] = tvdf.apply(lambda row: closest_mile_marker(row['X'], row['Y'], data), axis=1)\n"
     ]
    },
    {
     "name": "stdout",
     "output_type": "stream",
     "text": [
      "SH0150\n",
      "SH0317\n",
      "FM2767\n"
     ]
    },
    {
     "name": "stderr",
     "output_type": "stream",
     "text": [
      "/var/folders/fz/qwk5rxqs39gcy8h_0lhy47c80000gn/T/ipykernel_40576/4022452298.py:87: SettingWithCopyWarning: \n",
      "A value is trying to be set on a copy of a slice from a DataFrame.\n",
      "Try using .loc[row_indexer,col_indexer] = value instead\n",
      "\n",
      "See the caveats in the documentation: https://pandas.pydata.org/pandas-docs/stable/user_guide/indexing.html#returning-a-view-versus-a-copy\n",
      "  tvdf['mile'] = tvdf.apply(lambda row: closest_mile_marker(row['X'], row['Y'], data), axis=1)\n",
      "/var/folders/fz/qwk5rxqs39gcy8h_0lhy47c80000gn/T/ipykernel_40576/4022452298.py:87: SettingWithCopyWarning: \n",
      "A value is trying to be set on a copy of a slice from a DataFrame.\n",
      "Try using .loc[row_indexer,col_indexer] = value instead\n",
      "\n",
      "See the caveats in the documentation: https://pandas.pydata.org/pandas-docs/stable/user_guide/indexing.html#returning-a-view-versus-a-copy\n",
      "  tvdf['mile'] = tvdf.apply(lambda row: closest_mile_marker(row['X'], row['Y'], data), axis=1)\n",
      "/var/folders/fz/qwk5rxqs39gcy8h_0lhy47c80000gn/T/ipykernel_40576/4022452298.py:87: SettingWithCopyWarning: \n",
      "A value is trying to be set on a copy of a slice from a DataFrame.\n",
      "Try using .loc[row_indexer,col_indexer] = value instead\n",
      "\n",
      "See the caveats in the documentation: https://pandas.pydata.org/pandas-docs/stable/user_guide/indexing.html#returning-a-view-versus-a-copy\n",
      "  tvdf['mile'] = tvdf.apply(lambda row: closest_mile_marker(row['X'], row['Y'], data), axis=1)\n"
     ]
    },
    {
     "name": "stdout",
     "output_type": "stream",
     "text": [
      "FM0058\n",
      "FM0181\n",
      "FM0651\n"
     ]
    },
    {
     "name": "stderr",
     "output_type": "stream",
     "text": [
      "/var/folders/fz/qwk5rxqs39gcy8h_0lhy47c80000gn/T/ipykernel_40576/4022452298.py:87: SettingWithCopyWarning: \n",
      "A value is trying to be set on a copy of a slice from a DataFrame.\n",
      "Try using .loc[row_indexer,col_indexer] = value instead\n",
      "\n",
      "See the caveats in the documentation: https://pandas.pydata.org/pandas-docs/stable/user_guide/indexing.html#returning-a-view-versus-a-copy\n",
      "  tvdf['mile'] = tvdf.apply(lambda row: closest_mile_marker(row['X'], row['Y'], data), axis=1)\n",
      "/var/folders/fz/qwk5rxqs39gcy8h_0lhy47c80000gn/T/ipykernel_40576/4022452298.py:87: SettingWithCopyWarning: \n",
      "A value is trying to be set on a copy of a slice from a DataFrame.\n",
      "Try using .loc[row_indexer,col_indexer] = value instead\n",
      "\n",
      "See the caveats in the documentation: https://pandas.pydata.org/pandas-docs/stable/user_guide/indexing.html#returning-a-view-versus-a-copy\n",
      "  tvdf['mile'] = tvdf.apply(lambda row: closest_mile_marker(row['X'], row['Y'], data), axis=1)\n",
      "/var/folders/fz/qwk5rxqs39gcy8h_0lhy47c80000gn/T/ipykernel_40576/4022452298.py:87: SettingWithCopyWarning: \n",
      "A value is trying to be set on a copy of a slice from a DataFrame.\n",
      "Try using .loc[row_indexer,col_indexer] = value instead\n",
      "\n",
      "See the caveats in the documentation: https://pandas.pydata.org/pandas-docs/stable/user_guide/indexing.html#returning-a-view-versus-a-copy\n",
      "  tvdf['mile'] = tvdf.apply(lambda row: closest_mile_marker(row['X'], row['Y'], data), axis=1)\n",
      "/var/folders/fz/qwk5rxqs39gcy8h_0lhy47c80000gn/T/ipykernel_40576/4022452298.py:87: SettingWithCopyWarning: \n",
      "A value is trying to be set on a copy of a slice from a DataFrame.\n",
      "Try using .loc[row_indexer,col_indexer] = value instead\n",
      "\n",
      "See the caveats in the documentation: https://pandas.pydata.org/pandas-docs/stable/user_guide/indexing.html#returning-a-view-versus-a-copy\n",
      "  tvdf['mile'] = tvdf.apply(lambda row: closest_mile_marker(row['X'], row['Y'], data), axis=1)\n"
     ]
    },
    {
     "name": "stdout",
     "output_type": "stream",
     "text": [
      "SH0304\n",
      "FM0968\n",
      "FM0788\n",
      "IH0044\n",
      "US0183\n"
     ]
    },
    {
     "name": "stderr",
     "output_type": "stream",
     "text": [
      "/var/folders/fz/qwk5rxqs39gcy8h_0lhy47c80000gn/T/ipykernel_40576/4022452298.py:87: SettingWithCopyWarning: \n",
      "A value is trying to be set on a copy of a slice from a DataFrame.\n",
      "Try using .loc[row_indexer,col_indexer] = value instead\n",
      "\n",
      "See the caveats in the documentation: https://pandas.pydata.org/pandas-docs/stable/user_guide/indexing.html#returning-a-view-versus-a-copy\n",
      "  tvdf['mile'] = tvdf.apply(lambda row: closest_mile_marker(row['X'], row['Y'], data), axis=1)\n",
      "/var/folders/fz/qwk5rxqs39gcy8h_0lhy47c80000gn/T/ipykernel_40576/4022452298.py:87: SettingWithCopyWarning: \n",
      "A value is trying to be set on a copy of a slice from a DataFrame.\n",
      "Try using .loc[row_indexer,col_indexer] = value instead\n",
      "\n",
      "See the caveats in the documentation: https://pandas.pydata.org/pandas-docs/stable/user_guide/indexing.html#returning-a-view-versus-a-copy\n",
      "  tvdf['mile'] = tvdf.apply(lambda row: closest_mile_marker(row['X'], row['Y'], data), axis=1)\n",
      "/var/folders/fz/qwk5rxqs39gcy8h_0lhy47c80000gn/T/ipykernel_40576/4022452298.py:87: SettingWithCopyWarning: \n",
      "A value is trying to be set on a copy of a slice from a DataFrame.\n",
      "Try using .loc[row_indexer,col_indexer] = value instead\n",
      "\n",
      "See the caveats in the documentation: https://pandas.pydata.org/pandas-docs/stable/user_guide/indexing.html#returning-a-view-versus-a-copy\n",
      "  tvdf['mile'] = tvdf.apply(lambda row: closest_mile_marker(row['X'], row['Y'], data), axis=1)\n",
      "/var/folders/fz/qwk5rxqs39gcy8h_0lhy47c80000gn/T/ipykernel_40576/4022452298.py:87: SettingWithCopyWarning: \n",
      "A value is trying to be set on a copy of a slice from a DataFrame.\n",
      "Try using .loc[row_indexer,col_indexer] = value instead\n",
      "\n",
      "See the caveats in the documentation: https://pandas.pydata.org/pandas-docs/stable/user_guide/indexing.html#returning-a-view-versus-a-copy\n",
      "  tvdf['mile'] = tvdf.apply(lambda row: closest_mile_marker(row['X'], row['Y'], data), axis=1)\n",
      "/var/folders/fz/qwk5rxqs39gcy8h_0lhy47c80000gn/T/ipykernel_40576/4022452298.py:87: SettingWithCopyWarning: \n",
      "A value is trying to be set on a copy of a slice from a DataFrame.\n",
      "Try using .loc[row_indexer,col_indexer] = value instead\n",
      "\n",
      "See the caveats in the documentation: https://pandas.pydata.org/pandas-docs/stable/user_guide/indexing.html#returning-a-view-versus-a-copy\n",
      "  tvdf['mile'] = tvdf.apply(lambda row: closest_mile_marker(row['X'], row['Y'], data), axis=1)\n"
     ]
    },
    {
     "name": "stdout",
     "output_type": "stream",
     "text": [
      "FM1436\n",
      "FM0083\n",
      "FM2869\n",
      "FM0014\n"
     ]
    },
    {
     "name": "stderr",
     "output_type": "stream",
     "text": [
      "/var/folders/fz/qwk5rxqs39gcy8h_0lhy47c80000gn/T/ipykernel_40576/4022452298.py:87: SettingWithCopyWarning: \n",
      "A value is trying to be set on a copy of a slice from a DataFrame.\n",
      "Try using .loc[row_indexer,col_indexer] = value instead\n",
      "\n",
      "See the caveats in the documentation: https://pandas.pydata.org/pandas-docs/stable/user_guide/indexing.html#returning-a-view-versus-a-copy\n",
      "  tvdf['mile'] = tvdf.apply(lambda row: closest_mile_marker(row['X'], row['Y'], data), axis=1)\n",
      "/var/folders/fz/qwk5rxqs39gcy8h_0lhy47c80000gn/T/ipykernel_40576/4022452298.py:87: SettingWithCopyWarning: \n",
      "A value is trying to be set on a copy of a slice from a DataFrame.\n",
      "Try using .loc[row_indexer,col_indexer] = value instead\n",
      "\n",
      "See the caveats in the documentation: https://pandas.pydata.org/pandas-docs/stable/user_guide/indexing.html#returning-a-view-versus-a-copy\n",
      "  tvdf['mile'] = tvdf.apply(lambda row: closest_mile_marker(row['X'], row['Y'], data), axis=1)\n",
      "/var/folders/fz/qwk5rxqs39gcy8h_0lhy47c80000gn/T/ipykernel_40576/4022452298.py:87: SettingWithCopyWarning: \n",
      "A value is trying to be set on a copy of a slice from a DataFrame.\n",
      "Try using .loc[row_indexer,col_indexer] = value instead\n",
      "\n",
      "See the caveats in the documentation: https://pandas.pydata.org/pandas-docs/stable/user_guide/indexing.html#returning-a-view-versus-a-copy\n",
      "  tvdf['mile'] = tvdf.apply(lambda row: closest_mile_marker(row['X'], row['Y'], data), axis=1)\n",
      "/var/folders/fz/qwk5rxqs39gcy8h_0lhy47c80000gn/T/ipykernel_40576/4022452298.py:87: SettingWithCopyWarning: \n",
      "A value is trying to be set on a copy of a slice from a DataFrame.\n",
      "Try using .loc[row_indexer,col_indexer] = value instead\n",
      "\n",
      "See the caveats in the documentation: https://pandas.pydata.org/pandas-docs/stable/user_guide/indexing.html#returning-a-view-versus-a-copy\n",
      "  tvdf['mile'] = tvdf.apply(lambda row: closest_mile_marker(row['X'], row['Y'], data), axis=1)\n"
     ]
    },
    {
     "name": "stdout",
     "output_type": "stream",
     "text": [
      "FM0059\n",
      "FM1717\n",
      "FM0507\n",
      "SH0020\n"
     ]
    },
    {
     "name": "stderr",
     "output_type": "stream",
     "text": [
      "/var/folders/fz/qwk5rxqs39gcy8h_0lhy47c80000gn/T/ipykernel_40576/4022452298.py:87: SettingWithCopyWarning: \n",
      "A value is trying to be set on a copy of a slice from a DataFrame.\n",
      "Try using .loc[row_indexer,col_indexer] = value instead\n",
      "\n",
      "See the caveats in the documentation: https://pandas.pydata.org/pandas-docs/stable/user_guide/indexing.html#returning-a-view-versus-a-copy\n",
      "  tvdf['mile'] = tvdf.apply(lambda row: closest_mile_marker(row['X'], row['Y'], data), axis=1)\n"
     ]
    },
    {
     "name": "stdout",
     "output_type": "stream",
     "text": [
      "US0090\n"
     ]
    },
    {
     "name": "stderr",
     "output_type": "stream",
     "text": [
      "/var/folders/fz/qwk5rxqs39gcy8h_0lhy47c80000gn/T/ipykernel_40576/4022452298.py:87: SettingWithCopyWarning: \n",
      "A value is trying to be set on a copy of a slice from a DataFrame.\n",
      "Try using .loc[row_indexer,col_indexer] = value instead\n",
      "\n",
      "See the caveats in the documentation: https://pandas.pydata.org/pandas-docs/stable/user_guide/indexing.html#returning-a-view-versus-a-copy\n",
      "  tvdf['mile'] = tvdf.apply(lambda row: closest_mile_marker(row['X'], row['Y'], data), axis=1)\n",
      "/var/folders/fz/qwk5rxqs39gcy8h_0lhy47c80000gn/T/ipykernel_40576/4022452298.py:87: SettingWithCopyWarning: \n",
      "A value is trying to be set on a copy of a slice from a DataFrame.\n",
      "Try using .loc[row_indexer,col_indexer] = value instead\n",
      "\n",
      "See the caveats in the documentation: https://pandas.pydata.org/pandas-docs/stable/user_guide/indexing.html#returning-a-view-versus-a-copy\n",
      "  tvdf['mile'] = tvdf.apply(lambda row: closest_mile_marker(row['X'], row['Y'], data), axis=1)\n",
      "/var/folders/fz/qwk5rxqs39gcy8h_0lhy47c80000gn/T/ipykernel_40576/4022452298.py:87: SettingWithCopyWarning: \n",
      "A value is trying to be set on a copy of a slice from a DataFrame.\n",
      "Try using .loc[row_indexer,col_indexer] = value instead\n",
      "\n",
      "See the caveats in the documentation: https://pandas.pydata.org/pandas-docs/stable/user_guide/indexing.html#returning-a-view-versus-a-copy\n",
      "  tvdf['mile'] = tvdf.apply(lambda row: closest_mile_marker(row['X'], row['Y'], data), axis=1)\n"
     ]
    },
    {
     "name": "stdout",
     "output_type": "stream",
     "text": [
      "FM0770\n",
      "FM0047\n",
      "SL1604\n"
     ]
    },
    {
     "name": "stderr",
     "output_type": "stream",
     "text": [
      "/var/folders/fz/qwk5rxqs39gcy8h_0lhy47c80000gn/T/ipykernel_40576/4022452298.py:87: SettingWithCopyWarning: \n",
      "A value is trying to be set on a copy of a slice from a DataFrame.\n",
      "Try using .loc[row_indexer,col_indexer] = value instead\n",
      "\n",
      "See the caveats in the documentation: https://pandas.pydata.org/pandas-docs/stable/user_guide/indexing.html#returning-a-view-versus-a-copy\n",
      "  tvdf['mile'] = tvdf.apply(lambda row: closest_mile_marker(row['X'], row['Y'], data), axis=1)\n",
      "/var/folders/fz/qwk5rxqs39gcy8h_0lhy47c80000gn/T/ipykernel_40576/4022452298.py:87: SettingWithCopyWarning: \n",
      "A value is trying to be set on a copy of a slice from a DataFrame.\n",
      "Try using .loc[row_indexer,col_indexer] = value instead\n",
      "\n",
      "See the caveats in the documentation: https://pandas.pydata.org/pandas-docs/stable/user_guide/indexing.html#returning-a-view-versus-a-copy\n",
      "  tvdf['mile'] = tvdf.apply(lambda row: closest_mile_marker(row['X'], row['Y'], data), axis=1)\n"
     ]
    },
    {
     "name": "stdout",
     "output_type": "stream",
     "text": [
      "FM0859\n",
      "US0059\n"
     ]
    },
    {
     "name": "stderr",
     "output_type": "stream",
     "text": [
      "/var/folders/fz/qwk5rxqs39gcy8h_0lhy47c80000gn/T/ipykernel_40576/4022452298.py:87: SettingWithCopyWarning: \n",
      "A value is trying to be set on a copy of a slice from a DataFrame.\n",
      "Try using .loc[row_indexer,col_indexer] = value instead\n",
      "\n",
      "See the caveats in the documentation: https://pandas.pydata.org/pandas-docs/stable/user_guide/indexing.html#returning-a-view-versus-a-copy\n",
      "  tvdf['mile'] = tvdf.apply(lambda row: closest_mile_marker(row['X'], row['Y'], data), axis=1)\n",
      "/var/folders/fz/qwk5rxqs39gcy8h_0lhy47c80000gn/T/ipykernel_40576/4022452298.py:87: SettingWithCopyWarning: \n",
      "A value is trying to be set on a copy of a slice from a DataFrame.\n",
      "Try using .loc[row_indexer,col_indexer] = value instead\n",
      "\n",
      "See the caveats in the documentation: https://pandas.pydata.org/pandas-docs/stable/user_guide/indexing.html#returning-a-view-versus-a-copy\n",
      "  tvdf['mile'] = tvdf.apply(lambda row: closest_mile_marker(row['X'], row['Y'], data), axis=1)\n",
      "/var/folders/fz/qwk5rxqs39gcy8h_0lhy47c80000gn/T/ipykernel_40576/4022452298.py:87: SettingWithCopyWarning: \n",
      "A value is trying to be set on a copy of a slice from a DataFrame.\n",
      "Try using .loc[row_indexer,col_indexer] = value instead\n",
      "\n",
      "See the caveats in the documentation: https://pandas.pydata.org/pandas-docs/stable/user_guide/indexing.html#returning-a-view-versus-a-copy\n",
      "  tvdf['mile'] = tvdf.apply(lambda row: closest_mile_marker(row['X'], row['Y'], data), axis=1)\n"
     ]
    },
    {
     "name": "stdout",
     "output_type": "stream",
     "text": [
      "SH0322\n",
      "FM0139\n",
      "SH0136\n"
     ]
    },
    {
     "name": "stderr",
     "output_type": "stream",
     "text": [
      "/var/folders/fz/qwk5rxqs39gcy8h_0lhy47c80000gn/T/ipykernel_40576/4022452298.py:87: SettingWithCopyWarning: \n",
      "A value is trying to be set on a copy of a slice from a DataFrame.\n",
      "Try using .loc[row_indexer,col_indexer] = value instead\n",
      "\n",
      "See the caveats in the documentation: https://pandas.pydata.org/pandas-docs/stable/user_guide/indexing.html#returning-a-view-versus-a-copy\n",
      "  tvdf['mile'] = tvdf.apply(lambda row: closest_mile_marker(row['X'], row['Y'], data), axis=1)\n",
      "/var/folders/fz/qwk5rxqs39gcy8h_0lhy47c80000gn/T/ipykernel_40576/4022452298.py:87: SettingWithCopyWarning: \n",
      "A value is trying to be set on a copy of a slice from a DataFrame.\n",
      "Try using .loc[row_indexer,col_indexer] = value instead\n",
      "\n",
      "See the caveats in the documentation: https://pandas.pydata.org/pandas-docs/stable/user_guide/indexing.html#returning-a-view-versus-a-copy\n",
      "  tvdf['mile'] = tvdf.apply(lambda row: closest_mile_marker(row['X'], row['Y'], data), axis=1)\n",
      "/var/folders/fz/qwk5rxqs39gcy8h_0lhy47c80000gn/T/ipykernel_40576/4022452298.py:87: SettingWithCopyWarning: \n",
      "A value is trying to be set on a copy of a slice from a DataFrame.\n",
      "Try using .loc[row_indexer,col_indexer] = value instead\n",
      "\n",
      "See the caveats in the documentation: https://pandas.pydata.org/pandas-docs/stable/user_guide/indexing.html#returning-a-view-versus-a-copy\n",
      "  tvdf['mile'] = tvdf.apply(lambda row: closest_mile_marker(row['X'], row['Y'], data), axis=1)\n",
      "/var/folders/fz/qwk5rxqs39gcy8h_0lhy47c80000gn/T/ipykernel_40576/4022452298.py:87: SettingWithCopyWarning: \n",
      "A value is trying to be set on a copy of a slice from a DataFrame.\n",
      "Try using .loc[row_indexer,col_indexer] = value instead\n",
      "\n",
      "See the caveats in the documentation: https://pandas.pydata.org/pandas-docs/stable/user_guide/indexing.html#returning-a-view-versus-a-copy\n",
      "  tvdf['mile'] = tvdf.apply(lambda row: closest_mile_marker(row['X'], row['Y'], data), axis=1)\n"
     ]
    },
    {
     "name": "stdout",
     "output_type": "stream",
     "text": [
      "FM1765\n",
      "FM0086\n",
      "FM2517\n",
      "SH0037\n"
     ]
    },
    {
     "name": "stderr",
     "output_type": "stream",
     "text": [
      "/var/folders/fz/qwk5rxqs39gcy8h_0lhy47c80000gn/T/ipykernel_40576/4022452298.py:87: SettingWithCopyWarning: \n",
      "A value is trying to be set on a copy of a slice from a DataFrame.\n",
      "Try using .loc[row_indexer,col_indexer] = value instead\n",
      "\n",
      "See the caveats in the documentation: https://pandas.pydata.org/pandas-docs/stable/user_guide/indexing.html#returning-a-view-versus-a-copy\n",
      "  tvdf['mile'] = tvdf.apply(lambda row: closest_mile_marker(row['X'], row['Y'], data), axis=1)\n",
      "/var/folders/fz/qwk5rxqs39gcy8h_0lhy47c80000gn/T/ipykernel_40576/4022452298.py:87: SettingWithCopyWarning: \n",
      "A value is trying to be set on a copy of a slice from a DataFrame.\n",
      "Try using .loc[row_indexer,col_indexer] = value instead\n",
      "\n",
      "See the caveats in the documentation: https://pandas.pydata.org/pandas-docs/stable/user_guide/indexing.html#returning-a-view-versus-a-copy\n",
      "  tvdf['mile'] = tvdf.apply(lambda row: closest_mile_marker(row['X'], row['Y'], data), axis=1)\n",
      "/var/folders/fz/qwk5rxqs39gcy8h_0lhy47c80000gn/T/ipykernel_40576/4022452298.py:87: SettingWithCopyWarning: \n",
      "A value is trying to be set on a copy of a slice from a DataFrame.\n",
      "Try using .loc[row_indexer,col_indexer] = value instead\n",
      "\n",
      "See the caveats in the documentation: https://pandas.pydata.org/pandas-docs/stable/user_guide/indexing.html#returning-a-view-versus-a-copy\n",
      "  tvdf['mile'] = tvdf.apply(lambda row: closest_mile_marker(row['X'], row['Y'], data), axis=1)\n",
      "/var/folders/fz/qwk5rxqs39gcy8h_0lhy47c80000gn/T/ipykernel_40576/4022452298.py:87: SettingWithCopyWarning: \n",
      "A value is trying to be set on a copy of a slice from a DataFrame.\n",
      "Try using .loc[row_indexer,col_indexer] = value instead\n",
      "\n",
      "See the caveats in the documentation: https://pandas.pydata.org/pandas-docs/stable/user_guide/indexing.html#returning-a-view-versus-a-copy\n",
      "  tvdf['mile'] = tvdf.apply(lambda row: closest_mile_marker(row['X'], row['Y'], data), axis=1)\n",
      "/var/folders/fz/qwk5rxqs39gcy8h_0lhy47c80000gn/T/ipykernel_40576/4022452298.py:87: SettingWithCopyWarning: \n",
      "A value is trying to be set on a copy of a slice from a DataFrame.\n",
      "Try using .loc[row_indexer,col_indexer] = value instead\n",
      "\n",
      "See the caveats in the documentation: https://pandas.pydata.org/pandas-docs/stable/user_guide/indexing.html#returning-a-view-versus-a-copy\n",
      "  tvdf['mile'] = tvdf.apply(lambda row: closest_mile_marker(row['X'], row['Y'], data), axis=1)\n"
     ]
    },
    {
     "name": "stdout",
     "output_type": "stream",
     "text": [
      "FM2234\n",
      "FM0113\n",
      "FM2268\n",
      "SH0092\n",
      "FM0372\n"
     ]
    },
    {
     "name": "stderr",
     "output_type": "stream",
     "text": [
      "/var/folders/fz/qwk5rxqs39gcy8h_0lhy47c80000gn/T/ipykernel_40576/4022452298.py:87: SettingWithCopyWarning: \n",
      "A value is trying to be set on a copy of a slice from a DataFrame.\n",
      "Try using .loc[row_indexer,col_indexer] = value instead\n",
      "\n",
      "See the caveats in the documentation: https://pandas.pydata.org/pandas-docs/stable/user_guide/indexing.html#returning-a-view-versus-a-copy\n",
      "  tvdf['mile'] = tvdf.apply(lambda row: closest_mile_marker(row['X'], row['Y'], data), axis=1)\n",
      "/var/folders/fz/qwk5rxqs39gcy8h_0lhy47c80000gn/T/ipykernel_40576/4022452298.py:87: SettingWithCopyWarning: \n",
      "A value is trying to be set on a copy of a slice from a DataFrame.\n",
      "Try using .loc[row_indexer,col_indexer] = value instead\n",
      "\n",
      "See the caveats in the documentation: https://pandas.pydata.org/pandas-docs/stable/user_guide/indexing.html#returning-a-view-versus-a-copy\n",
      "  tvdf['mile'] = tvdf.apply(lambda row: closest_mile_marker(row['X'], row['Y'], data), axis=1)\n",
      "/var/folders/fz/qwk5rxqs39gcy8h_0lhy47c80000gn/T/ipykernel_40576/4022452298.py:87: SettingWithCopyWarning: \n",
      "A value is trying to be set on a copy of a slice from a DataFrame.\n",
      "Try using .loc[row_indexer,col_indexer] = value instead\n",
      "\n",
      "See the caveats in the documentation: https://pandas.pydata.org/pandas-docs/stable/user_guide/indexing.html#returning-a-view-versus-a-copy\n",
      "  tvdf['mile'] = tvdf.apply(lambda row: closest_mile_marker(row['X'], row['Y'], data), axis=1)\n",
      "/var/folders/fz/qwk5rxqs39gcy8h_0lhy47c80000gn/T/ipykernel_40576/4022452298.py:87: SettingWithCopyWarning: \n",
      "A value is trying to be set on a copy of a slice from a DataFrame.\n",
      "Try using .loc[row_indexer,col_indexer] = value instead\n",
      "\n",
      "See the caveats in the documentation: https://pandas.pydata.org/pandas-docs/stable/user_guide/indexing.html#returning-a-view-versus-a-copy\n",
      "  tvdf['mile'] = tvdf.apply(lambda row: closest_mile_marker(row['X'], row['Y'], data), axis=1)\n"
     ]
    },
    {
     "name": "stdout",
     "output_type": "stream",
     "text": [
      "BU0096\n",
      "bad df\n",
      "FM0494\n",
      "FM0045\n",
      "FM1322\n",
      "FM0103\n",
      "FM0011\n"
     ]
    },
    {
     "name": "stderr",
     "output_type": "stream",
     "text": [
      "/var/folders/fz/qwk5rxqs39gcy8h_0lhy47c80000gn/T/ipykernel_40576/4022452298.py:87: SettingWithCopyWarning: \n",
      "A value is trying to be set on a copy of a slice from a DataFrame.\n",
      "Try using .loc[row_indexer,col_indexer] = value instead\n",
      "\n",
      "See the caveats in the documentation: https://pandas.pydata.org/pandas-docs/stable/user_guide/indexing.html#returning-a-view-versus-a-copy\n",
      "  tvdf['mile'] = tvdf.apply(lambda row: closest_mile_marker(row['X'], row['Y'], data), axis=1)\n",
      "/var/folders/fz/qwk5rxqs39gcy8h_0lhy47c80000gn/T/ipykernel_40576/4022452298.py:87: SettingWithCopyWarning: \n",
      "A value is trying to be set on a copy of a slice from a DataFrame.\n",
      "Try using .loc[row_indexer,col_indexer] = value instead\n",
      "\n",
      "See the caveats in the documentation: https://pandas.pydata.org/pandas-docs/stable/user_guide/indexing.html#returning-a-view-versus-a-copy\n",
      "  tvdf['mile'] = tvdf.apply(lambda row: closest_mile_marker(row['X'], row['Y'], data), axis=1)\n",
      "/var/folders/fz/qwk5rxqs39gcy8h_0lhy47c80000gn/T/ipykernel_40576/4022452298.py:87: SettingWithCopyWarning: \n",
      "A value is trying to be set on a copy of a slice from a DataFrame.\n",
      "Try using .loc[row_indexer,col_indexer] = value instead\n",
      "\n",
      "See the caveats in the documentation: https://pandas.pydata.org/pandas-docs/stable/user_guide/indexing.html#returning-a-view-versus-a-copy\n",
      "  tvdf['mile'] = tvdf.apply(lambda row: closest_mile_marker(row['X'], row['Y'], data), axis=1)\n",
      "/var/folders/fz/qwk5rxqs39gcy8h_0lhy47c80000gn/T/ipykernel_40576/4022452298.py:87: SettingWithCopyWarning: \n",
      "A value is trying to be set on a copy of a slice from a DataFrame.\n",
      "Try using .loc[row_indexer,col_indexer] = value instead\n",
      "\n",
      "See the caveats in the documentation: https://pandas.pydata.org/pandas-docs/stable/user_guide/indexing.html#returning-a-view-versus-a-copy\n",
      "  tvdf['mile'] = tvdf.apply(lambda row: closest_mile_marker(row['X'], row['Y'], data), axis=1)\n"
     ]
    },
    {
     "name": "stdout",
     "output_type": "stream",
     "text": [
      "FM2148\n",
      "FM0493\n",
      "BU0181\n",
      "bad df\n",
      "FM0729\n",
      "SH0174\n"
     ]
    },
    {
     "name": "stderr",
     "output_type": "stream",
     "text": [
      "/var/folders/fz/qwk5rxqs39gcy8h_0lhy47c80000gn/T/ipykernel_40576/4022452298.py:87: SettingWithCopyWarning: \n",
      "A value is trying to be set on a copy of a slice from a DataFrame.\n",
      "Try using .loc[row_indexer,col_indexer] = value instead\n",
      "\n",
      "See the caveats in the documentation: https://pandas.pydata.org/pandas-docs/stable/user_guide/indexing.html#returning-a-view-versus-a-copy\n",
      "  tvdf['mile'] = tvdf.apply(lambda row: closest_mile_marker(row['X'], row['Y'], data), axis=1)\n",
      "/var/folders/fz/qwk5rxqs39gcy8h_0lhy47c80000gn/T/ipykernel_40576/4022452298.py:87: SettingWithCopyWarning: \n",
      "A value is trying to be set on a copy of a slice from a DataFrame.\n",
      "Try using .loc[row_indexer,col_indexer] = value instead\n",
      "\n",
      "See the caveats in the documentation: https://pandas.pydata.org/pandas-docs/stable/user_guide/indexing.html#returning-a-view-versus-a-copy\n",
      "  tvdf['mile'] = tvdf.apply(lambda row: closest_mile_marker(row['X'], row['Y'], data), axis=1)\n",
      "/var/folders/fz/qwk5rxqs39gcy8h_0lhy47c80000gn/T/ipykernel_40576/4022452298.py:87: SettingWithCopyWarning: \n",
      "A value is trying to be set on a copy of a slice from a DataFrame.\n",
      "Try using .loc[row_indexer,col_indexer] = value instead\n",
      "\n",
      "See the caveats in the documentation: https://pandas.pydata.org/pandas-docs/stable/user_guide/indexing.html#returning-a-view-versus-a-copy\n",
      "  tvdf['mile'] = tvdf.apply(lambda row: closest_mile_marker(row['X'], row['Y'], data), axis=1)\n"
     ]
    },
    {
     "name": "stdout",
     "output_type": "stream",
     "text": [
      "FM0800\n",
      "SH0041\n",
      "SL0322\n",
      "FM2854\n",
      "FM0774\n"
     ]
    },
    {
     "name": "stderr",
     "output_type": "stream",
     "text": [
      "/var/folders/fz/qwk5rxqs39gcy8h_0lhy47c80000gn/T/ipykernel_40576/4022452298.py:87: SettingWithCopyWarning: \n",
      "A value is trying to be set on a copy of a slice from a DataFrame.\n",
      "Try using .loc[row_indexer,col_indexer] = value instead\n",
      "\n",
      "See the caveats in the documentation: https://pandas.pydata.org/pandas-docs/stable/user_guide/indexing.html#returning-a-view-versus-a-copy\n",
      "  tvdf['mile'] = tvdf.apply(lambda row: closest_mile_marker(row['X'], row['Y'], data), axis=1)\n",
      "/var/folders/fz/qwk5rxqs39gcy8h_0lhy47c80000gn/T/ipykernel_40576/4022452298.py:87: SettingWithCopyWarning: \n",
      "A value is trying to be set on a copy of a slice from a DataFrame.\n",
      "Try using .loc[row_indexer,col_indexer] = value instead\n",
      "\n",
      "See the caveats in the documentation: https://pandas.pydata.org/pandas-docs/stable/user_guide/indexing.html#returning-a-view-versus-a-copy\n",
      "  tvdf['mile'] = tvdf.apply(lambda row: closest_mile_marker(row['X'], row['Y'], data), axis=1)\n",
      "/var/folders/fz/qwk5rxqs39gcy8h_0lhy47c80000gn/T/ipykernel_40576/4022452298.py:87: SettingWithCopyWarning: \n",
      "A value is trying to be set on a copy of a slice from a DataFrame.\n",
      "Try using .loc[row_indexer,col_indexer] = value instead\n",
      "\n",
      "See the caveats in the documentation: https://pandas.pydata.org/pandas-docs/stable/user_guide/indexing.html#returning-a-view-versus-a-copy\n",
      "  tvdf['mile'] = tvdf.apply(lambda row: closest_mile_marker(row['X'], row['Y'], data), axis=1)\n",
      "/var/folders/fz/qwk5rxqs39gcy8h_0lhy47c80000gn/T/ipykernel_40576/4022452298.py:87: SettingWithCopyWarning: \n",
      "A value is trying to be set on a copy of a slice from a DataFrame.\n",
      "Try using .loc[row_indexer,col_indexer] = value instead\n",
      "\n",
      "See the caveats in the documentation: https://pandas.pydata.org/pandas-docs/stable/user_guide/indexing.html#returning-a-view-versus-a-copy\n",
      "  tvdf['mile'] = tvdf.apply(lambda row: closest_mile_marker(row['X'], row['Y'], data), axis=1)\n",
      "/var/folders/fz/qwk5rxqs39gcy8h_0lhy47c80000gn/T/ipykernel_40576/4022452298.py:87: SettingWithCopyWarning: \n",
      "A value is trying to be set on a copy of a slice from a DataFrame.\n",
      "Try using .loc[row_indexer,col_indexer] = value instead\n",
      "\n",
      "See the caveats in the documentation: https://pandas.pydata.org/pandas-docs/stable/user_guide/indexing.html#returning-a-view-versus-a-copy\n",
      "  tvdf['mile'] = tvdf.apply(lambda row: closest_mile_marker(row['X'], row['Y'], data), axis=1)\n"
     ]
    },
    {
     "name": "stdout",
     "output_type": "stream",
     "text": [
      "FM0466\n",
      "FM1223\n",
      "FM2493\n",
      "FM2524\n",
      "FM2305\n"
     ]
    },
    {
     "name": "stderr",
     "output_type": "stream",
     "text": [
      "/var/folders/fz/qwk5rxqs39gcy8h_0lhy47c80000gn/T/ipykernel_40576/4022452298.py:87: SettingWithCopyWarning: \n",
      "A value is trying to be set on a copy of a slice from a DataFrame.\n",
      "Try using .loc[row_indexer,col_indexer] = value instead\n",
      "\n",
      "See the caveats in the documentation: https://pandas.pydata.org/pandas-docs/stable/user_guide/indexing.html#returning-a-view-versus-a-copy\n",
      "  tvdf['mile'] = tvdf.apply(lambda row: closest_mile_marker(row['X'], row['Y'], data), axis=1)\n",
      "/var/folders/fz/qwk5rxqs39gcy8h_0lhy47c80000gn/T/ipykernel_40576/4022452298.py:87: SettingWithCopyWarning: \n",
      "A value is trying to be set on a copy of a slice from a DataFrame.\n",
      "Try using .loc[row_indexer,col_indexer] = value instead\n",
      "\n",
      "See the caveats in the documentation: https://pandas.pydata.org/pandas-docs/stable/user_guide/indexing.html#returning-a-view-versus-a-copy\n",
      "  tvdf['mile'] = tvdf.apply(lambda row: closest_mile_marker(row['X'], row['Y'], data), axis=1)\n",
      "/var/folders/fz/qwk5rxqs39gcy8h_0lhy47c80000gn/T/ipykernel_40576/4022452298.py:87: SettingWithCopyWarning: \n",
      "A value is trying to be set on a copy of a slice from a DataFrame.\n",
      "Try using .loc[row_indexer,col_indexer] = value instead\n",
      "\n",
      "See the caveats in the documentation: https://pandas.pydata.org/pandas-docs/stable/user_guide/indexing.html#returning-a-view-versus-a-copy\n",
      "  tvdf['mile'] = tvdf.apply(lambda row: closest_mile_marker(row['X'], row['Y'], data), axis=1)\n",
      "/var/folders/fz/qwk5rxqs39gcy8h_0lhy47c80000gn/T/ipykernel_40576/4022452298.py:87: SettingWithCopyWarning: \n",
      "A value is trying to be set on a copy of a slice from a DataFrame.\n",
      "Try using .loc[row_indexer,col_indexer] = value instead\n",
      "\n",
      "See the caveats in the documentation: https://pandas.pydata.org/pandas-docs/stable/user_guide/indexing.html#returning-a-view-versus-a-copy\n",
      "  tvdf['mile'] = tvdf.apply(lambda row: closest_mile_marker(row['X'], row['Y'], data), axis=1)\n",
      "/var/folders/fz/qwk5rxqs39gcy8h_0lhy47c80000gn/T/ipykernel_40576/4022452298.py:87: SettingWithCopyWarning: \n",
      "A value is trying to be set on a copy of a slice from a DataFrame.\n",
      "Try using .loc[row_indexer,col_indexer] = value instead\n",
      "\n",
      "See the caveats in the documentation: https://pandas.pydata.org/pandas-docs/stable/user_guide/indexing.html#returning-a-view-versus-a-copy\n",
      "  tvdf['mile'] = tvdf.apply(lambda row: closest_mile_marker(row['X'], row['Y'], data), axis=1)\n"
     ]
    },
    {
     "name": "stdout",
     "output_type": "stream",
     "text": [
      "SH0294\n",
      "FM0616\n",
      "IH0037\n"
     ]
    },
    {
     "name": "stderr",
     "output_type": "stream",
     "text": [
      "/var/folders/fz/qwk5rxqs39gcy8h_0lhy47c80000gn/T/ipykernel_40576/4022452298.py:87: SettingWithCopyWarning: \n",
      "A value is trying to be set on a copy of a slice from a DataFrame.\n",
      "Try using .loc[row_indexer,col_indexer] = value instead\n",
      "\n",
      "See the caveats in the documentation: https://pandas.pydata.org/pandas-docs/stable/user_guide/indexing.html#returning-a-view-versus-a-copy\n",
      "  tvdf['mile'] = tvdf.apply(lambda row: closest_mile_marker(row['X'], row['Y'], data), axis=1)\n",
      "/var/folders/fz/qwk5rxqs39gcy8h_0lhy47c80000gn/T/ipykernel_40576/4022452298.py:87: SettingWithCopyWarning: \n",
      "A value is trying to be set on a copy of a slice from a DataFrame.\n",
      "Try using .loc[row_indexer,col_indexer] = value instead\n",
      "\n",
      "See the caveats in the documentation: https://pandas.pydata.org/pandas-docs/stable/user_guide/indexing.html#returning-a-view-versus-a-copy\n",
      "  tvdf['mile'] = tvdf.apply(lambda row: closest_mile_marker(row['X'], row['Y'], data), axis=1)\n",
      "/var/folders/fz/qwk5rxqs39gcy8h_0lhy47c80000gn/T/ipykernel_40576/4022452298.py:87: SettingWithCopyWarning: \n",
      "A value is trying to be set on a copy of a slice from a DataFrame.\n",
      "Try using .loc[row_indexer,col_indexer] = value instead\n",
      "\n",
      "See the caveats in the documentation: https://pandas.pydata.org/pandas-docs/stable/user_guide/indexing.html#returning-a-view-versus-a-copy\n",
      "  tvdf['mile'] = tvdf.apply(lambda row: closest_mile_marker(row['X'], row['Y'], data), axis=1)\n",
      "/var/folders/fz/qwk5rxqs39gcy8h_0lhy47c80000gn/T/ipykernel_40576/4022452298.py:87: SettingWithCopyWarning: \n",
      "A value is trying to be set on a copy of a slice from a DataFrame.\n",
      "Try using .loc[row_indexer,col_indexer] = value instead\n",
      "\n",
      "See the caveats in the documentation: https://pandas.pydata.org/pandas-docs/stable/user_guide/indexing.html#returning-a-view-versus-a-copy\n",
      "  tvdf['mile'] = tvdf.apply(lambda row: closest_mile_marker(row['X'], row['Y'], data), axis=1)\n",
      "/var/folders/fz/qwk5rxqs39gcy8h_0lhy47c80000gn/T/ipykernel_40576/4022452298.py:87: SettingWithCopyWarning: \n",
      "A value is trying to be set on a copy of a slice from a DataFrame.\n",
      "Try using .loc[row_indexer,col_indexer] = value instead\n",
      "\n",
      "See the caveats in the documentation: https://pandas.pydata.org/pandas-docs/stable/user_guide/indexing.html#returning-a-view-versus-a-copy\n",
      "  tvdf['mile'] = tvdf.apply(lambda row: closest_mile_marker(row['X'], row['Y'], data), axis=1)\n"
     ]
    },
    {
     "name": "stdout",
     "output_type": "stream",
     "text": [
      "FM0120\n",
      "FM0673\n",
      "FM0078\n",
      "FM0455\n"
     ]
    },
    {
     "name": "stderr",
     "output_type": "stream",
     "text": [
      "/var/folders/fz/qwk5rxqs39gcy8h_0lhy47c80000gn/T/ipykernel_40576/4022452298.py:87: SettingWithCopyWarning: \n",
      "A value is trying to be set on a copy of a slice from a DataFrame.\n",
      "Try using .loc[row_indexer,col_indexer] = value instead\n",
      "\n",
      "See the caveats in the documentation: https://pandas.pydata.org/pandas-docs/stable/user_guide/indexing.html#returning-a-view-versus-a-copy\n",
      "  tvdf['mile'] = tvdf.apply(lambda row: closest_mile_marker(row['X'], row['Y'], data), axis=1)\n",
      "/var/folders/fz/qwk5rxqs39gcy8h_0lhy47c80000gn/T/ipykernel_40576/4022452298.py:87: SettingWithCopyWarning: \n",
      "A value is trying to be set on a copy of a slice from a DataFrame.\n",
      "Try using .loc[row_indexer,col_indexer] = value instead\n",
      "\n",
      "See the caveats in the documentation: https://pandas.pydata.org/pandas-docs/stable/user_guide/indexing.html#returning-a-view-versus-a-copy\n",
      "  tvdf['mile'] = tvdf.apply(lambda row: closest_mile_marker(row['X'], row['Y'], data), axis=1)\n",
      "/var/folders/fz/qwk5rxqs39gcy8h_0lhy47c80000gn/T/ipykernel_40576/4022452298.py:87: SettingWithCopyWarning: \n",
      "A value is trying to be set on a copy of a slice from a DataFrame.\n",
      "Try using .loc[row_indexer,col_indexer] = value instead\n",
      "\n",
      "See the caveats in the documentation: https://pandas.pydata.org/pandas-docs/stable/user_guide/indexing.html#returning-a-view-versus-a-copy\n",
      "  tvdf['mile'] = tvdf.apply(lambda row: closest_mile_marker(row['X'], row['Y'], data), axis=1)\n",
      "/var/folders/fz/qwk5rxqs39gcy8h_0lhy47c80000gn/T/ipykernel_40576/4022452298.py:87: SettingWithCopyWarning: \n",
      "A value is trying to be set on a copy of a slice from a DataFrame.\n",
      "Try using .loc[row_indexer,col_indexer] = value instead\n",
      "\n",
      "See the caveats in the documentation: https://pandas.pydata.org/pandas-docs/stable/user_guide/indexing.html#returning-a-view-versus-a-copy\n",
      "  tvdf['mile'] = tvdf.apply(lambda row: closest_mile_marker(row['X'], row['Y'], data), axis=1)\n"
     ]
    },
    {
     "name": "stdout",
     "output_type": "stream",
     "text": [
      "FM0681\n",
      "SH0276\n",
      "FM0396\n",
      "FM0016\n"
     ]
    },
    {
     "name": "stderr",
     "output_type": "stream",
     "text": [
      "/var/folders/fz/qwk5rxqs39gcy8h_0lhy47c80000gn/T/ipykernel_40576/4022452298.py:87: SettingWithCopyWarning: \n",
      "A value is trying to be set on a copy of a slice from a DataFrame.\n",
      "Try using .loc[row_indexer,col_indexer] = value instead\n",
      "\n",
      "See the caveats in the documentation: https://pandas.pydata.org/pandas-docs/stable/user_guide/indexing.html#returning-a-view-versus-a-copy\n",
      "  tvdf['mile'] = tvdf.apply(lambda row: closest_mile_marker(row['X'], row['Y'], data), axis=1)\n",
      "/var/folders/fz/qwk5rxqs39gcy8h_0lhy47c80000gn/T/ipykernel_40576/4022452298.py:87: SettingWithCopyWarning: \n",
      "A value is trying to be set on a copy of a slice from a DataFrame.\n",
      "Try using .loc[row_indexer,col_indexer] = value instead\n",
      "\n",
      "See the caveats in the documentation: https://pandas.pydata.org/pandas-docs/stable/user_guide/indexing.html#returning-a-view-versus-a-copy\n",
      "  tvdf['mile'] = tvdf.apply(lambda row: closest_mile_marker(row['X'], row['Y'], data), axis=1)\n",
      "/var/folders/fz/qwk5rxqs39gcy8h_0lhy47c80000gn/T/ipykernel_40576/4022452298.py:87: SettingWithCopyWarning: \n",
      "A value is trying to be set on a copy of a slice from a DataFrame.\n",
      "Try using .loc[row_indexer,col_indexer] = value instead\n",
      "\n",
      "See the caveats in the documentation: https://pandas.pydata.org/pandas-docs/stable/user_guide/indexing.html#returning-a-view-versus-a-copy\n",
      "  tvdf['mile'] = tvdf.apply(lambda row: closest_mile_marker(row['X'], row['Y'], data), axis=1)\n",
      "/var/folders/fz/qwk5rxqs39gcy8h_0lhy47c80000gn/T/ipykernel_40576/4022452298.py:87: SettingWithCopyWarning: \n",
      "A value is trying to be set on a copy of a slice from a DataFrame.\n",
      "Try using .loc[row_indexer,col_indexer] = value instead\n",
      "\n",
      "See the caveats in the documentation: https://pandas.pydata.org/pandas-docs/stable/user_guide/indexing.html#returning-a-view-versus-a-copy\n",
      "  tvdf['mile'] = tvdf.apply(lambda row: closest_mile_marker(row['X'], row['Y'], data), axis=1)\n",
      "/var/folders/fz/qwk5rxqs39gcy8h_0lhy47c80000gn/T/ipykernel_40576/4022452298.py:87: SettingWithCopyWarning: \n",
      "A value is trying to be set on a copy of a slice from a DataFrame.\n",
      "Try using .loc[row_indexer,col_indexer] = value instead\n",
      "\n",
      "See the caveats in the documentation: https://pandas.pydata.org/pandas-docs/stable/user_guide/indexing.html#returning-a-view-versus-a-copy\n",
      "  tvdf['mile'] = tvdf.apply(lambda row: closest_mile_marker(row['X'], row['Y'], data), axis=1)\n",
      "/var/folders/fz/qwk5rxqs39gcy8h_0lhy47c80000gn/T/ipykernel_40576/4022452298.py:87: SettingWithCopyWarning: \n",
      "A value is trying to be set on a copy of a slice from a DataFrame.\n",
      "Try using .loc[row_indexer,col_indexer] = value instead\n",
      "\n",
      "See the caveats in the documentation: https://pandas.pydata.org/pandas-docs/stable/user_guide/indexing.html#returning-a-view-versus-a-copy\n",
      "  tvdf['mile'] = tvdf.apply(lambda row: closest_mile_marker(row['X'], row['Y'], data), axis=1)\n"
     ]
    },
    {
     "name": "stdout",
     "output_type": "stream",
     "text": [
      "FM2109\n",
      "SS0536\n",
      "FM0344\n",
      "FM2292\n",
      "FM1189\n",
      "FM1093\n"
     ]
    },
    {
     "name": "stderr",
     "output_type": "stream",
     "text": [
      "/var/folders/fz/qwk5rxqs39gcy8h_0lhy47c80000gn/T/ipykernel_40576/4022452298.py:87: SettingWithCopyWarning: \n",
      "A value is trying to be set on a copy of a slice from a DataFrame.\n",
      "Try using .loc[row_indexer,col_indexer] = value instead\n",
      "\n",
      "See the caveats in the documentation: https://pandas.pydata.org/pandas-docs/stable/user_guide/indexing.html#returning-a-view-versus-a-copy\n",
      "  tvdf['mile'] = tvdf.apply(lambda row: closest_mile_marker(row['X'], row['Y'], data), axis=1)\n",
      "/var/folders/fz/qwk5rxqs39gcy8h_0lhy47c80000gn/T/ipykernel_40576/4022452298.py:87: SettingWithCopyWarning: \n",
      "A value is trying to be set on a copy of a slice from a DataFrame.\n",
      "Try using .loc[row_indexer,col_indexer] = value instead\n",
      "\n",
      "See the caveats in the documentation: https://pandas.pydata.org/pandas-docs/stable/user_guide/indexing.html#returning-a-view-versus-a-copy\n",
      "  tvdf['mile'] = tvdf.apply(lambda row: closest_mile_marker(row['X'], row['Y'], data), axis=1)\n",
      "/var/folders/fz/qwk5rxqs39gcy8h_0lhy47c80000gn/T/ipykernel_40576/4022452298.py:87: SettingWithCopyWarning: \n",
      "A value is trying to be set on a copy of a slice from a DataFrame.\n",
      "Try using .loc[row_indexer,col_indexer] = value instead\n",
      "\n",
      "See the caveats in the documentation: https://pandas.pydata.org/pandas-docs/stable/user_guide/indexing.html#returning-a-view-versus-a-copy\n",
      "  tvdf['mile'] = tvdf.apply(lambda row: closest_mile_marker(row['X'], row['Y'], data), axis=1)\n"
     ]
    },
    {
     "name": "stdout",
     "output_type": "stream",
     "text": [
      "FM0436\n",
      "FM0149\n",
      "FM0846\n",
      "FM2191\n"
     ]
    },
    {
     "name": "stderr",
     "output_type": "stream",
     "text": [
      "/var/folders/fz/qwk5rxqs39gcy8h_0lhy47c80000gn/T/ipykernel_40576/4022452298.py:87: SettingWithCopyWarning: \n",
      "A value is trying to be set on a copy of a slice from a DataFrame.\n",
      "Try using .loc[row_indexer,col_indexer] = value instead\n",
      "\n",
      "See the caveats in the documentation: https://pandas.pydata.org/pandas-docs/stable/user_guide/indexing.html#returning-a-view-versus-a-copy\n",
      "  tvdf['mile'] = tvdf.apply(lambda row: closest_mile_marker(row['X'], row['Y'], data), axis=1)\n",
      "/var/folders/fz/qwk5rxqs39gcy8h_0lhy47c80000gn/T/ipykernel_40576/4022452298.py:87: SettingWithCopyWarning: \n",
      "A value is trying to be set on a copy of a slice from a DataFrame.\n",
      "Try using .loc[row_indexer,col_indexer] = value instead\n",
      "\n",
      "See the caveats in the documentation: https://pandas.pydata.org/pandas-docs/stable/user_guide/indexing.html#returning-a-view-versus-a-copy\n",
      "  tvdf['mile'] = tvdf.apply(lambda row: closest_mile_marker(row['X'], row['Y'], data), axis=1)\n",
      "/var/folders/fz/qwk5rxqs39gcy8h_0lhy47c80000gn/T/ipykernel_40576/4022452298.py:87: SettingWithCopyWarning: \n",
      "A value is trying to be set on a copy of a slice from a DataFrame.\n",
      "Try using .loc[row_indexer,col_indexer] = value instead\n",
      "\n",
      "See the caveats in the documentation: https://pandas.pydata.org/pandas-docs/stable/user_guide/indexing.html#returning-a-view-versus-a-copy\n",
      "  tvdf['mile'] = tvdf.apply(lambda row: closest_mile_marker(row['X'], row['Y'], data), axis=1)\n",
      "/var/folders/fz/qwk5rxqs39gcy8h_0lhy47c80000gn/T/ipykernel_40576/4022452298.py:87: SettingWithCopyWarning: \n",
      "A value is trying to be set on a copy of a slice from a DataFrame.\n",
      "Try using .loc[row_indexer,col_indexer] = value instead\n",
      "\n",
      "See the caveats in the documentation: https://pandas.pydata.org/pandas-docs/stable/user_guide/indexing.html#returning-a-view-versus-a-copy\n",
      "  tvdf['mile'] = tvdf.apply(lambda row: closest_mile_marker(row['X'], row['Y'], data), axis=1)\n"
     ]
    },
    {
     "name": "stdout",
     "output_type": "stream",
     "text": [
      "FM1113\n",
      "FM0664\n",
      "FM0170\n"
     ]
    },
    {
     "name": "stderr",
     "output_type": "stream",
     "text": [
      "/var/folders/fz/qwk5rxqs39gcy8h_0lhy47c80000gn/T/ipykernel_40576/4022452298.py:87: SettingWithCopyWarning: \n",
      "A value is trying to be set on a copy of a slice from a DataFrame.\n",
      "Try using .loc[row_indexer,col_indexer] = value instead\n",
      "\n",
      "See the caveats in the documentation: https://pandas.pydata.org/pandas-docs/stable/user_guide/indexing.html#returning-a-view-versus-a-copy\n",
      "  tvdf['mile'] = tvdf.apply(lambda row: closest_mile_marker(row['X'], row['Y'], data), axis=1)\n",
      "/var/folders/fz/qwk5rxqs39gcy8h_0lhy47c80000gn/T/ipykernel_40576/4022452298.py:87: SettingWithCopyWarning: \n",
      "A value is trying to be set on a copy of a slice from a DataFrame.\n",
      "Try using .loc[row_indexer,col_indexer] = value instead\n",
      "\n",
      "See the caveats in the documentation: https://pandas.pydata.org/pandas-docs/stable/user_guide/indexing.html#returning-a-view-versus-a-copy\n",
      "  tvdf['mile'] = tvdf.apply(lambda row: closest_mile_marker(row['X'], row['Y'], data), axis=1)\n",
      "/var/folders/fz/qwk5rxqs39gcy8h_0lhy47c80000gn/T/ipykernel_40576/4022452298.py:87: SettingWithCopyWarning: \n",
      "A value is trying to be set on a copy of a slice from a DataFrame.\n",
      "Try using .loc[row_indexer,col_indexer] = value instead\n",
      "\n",
      "See the caveats in the documentation: https://pandas.pydata.org/pandas-docs/stable/user_guide/indexing.html#returning-a-view-versus-a-copy\n",
      "  tvdf['mile'] = tvdf.apply(lambda row: closest_mile_marker(row['X'], row['Y'], data), axis=1)\n",
      "/var/folders/fz/qwk5rxqs39gcy8h_0lhy47c80000gn/T/ipykernel_40576/4022452298.py:87: SettingWithCopyWarning: \n",
      "A value is trying to be set on a copy of a slice from a DataFrame.\n",
      "Try using .loc[row_indexer,col_indexer] = value instead\n",
      "\n",
      "See the caveats in the documentation: https://pandas.pydata.org/pandas-docs/stable/user_guide/indexing.html#returning-a-view-versus-a-copy\n",
      "  tvdf['mile'] = tvdf.apply(lambda row: closest_mile_marker(row['X'], row['Y'], data), axis=1)\n",
      "/var/folders/fz/qwk5rxqs39gcy8h_0lhy47c80000gn/T/ipykernel_40576/4022452298.py:87: SettingWithCopyWarning: \n",
      "A value is trying to be set on a copy of a slice from a DataFrame.\n",
      "Try using .loc[row_indexer,col_indexer] = value instead\n",
      "\n",
      "See the caveats in the documentation: https://pandas.pydata.org/pandas-docs/stable/user_guide/indexing.html#returning-a-view-versus-a-copy\n",
      "  tvdf['mile'] = tvdf.apply(lambda row: closest_mile_marker(row['X'], row['Y'], data), axis=1)\n"
     ]
    },
    {
     "name": "stdout",
     "output_type": "stream",
     "text": [
      "FM0366\n",
      "SH0300\n",
      "SH0053\n",
      "FM1564\n",
      "FM0114\n"
     ]
    },
    {
     "name": "stderr",
     "output_type": "stream",
     "text": [
      "/var/folders/fz/qwk5rxqs39gcy8h_0lhy47c80000gn/T/ipykernel_40576/4022452298.py:87: SettingWithCopyWarning: \n",
      "A value is trying to be set on a copy of a slice from a DataFrame.\n",
      "Try using .loc[row_indexer,col_indexer] = value instead\n",
      "\n",
      "See the caveats in the documentation: https://pandas.pydata.org/pandas-docs/stable/user_guide/indexing.html#returning-a-view-versus-a-copy\n",
      "  tvdf['mile'] = tvdf.apply(lambda row: closest_mile_marker(row['X'], row['Y'], data), axis=1)\n",
      "/var/folders/fz/qwk5rxqs39gcy8h_0lhy47c80000gn/T/ipykernel_40576/4022452298.py:87: SettingWithCopyWarning: \n",
      "A value is trying to be set on a copy of a slice from a DataFrame.\n",
      "Try using .loc[row_indexer,col_indexer] = value instead\n",
      "\n",
      "See the caveats in the documentation: https://pandas.pydata.org/pandas-docs/stable/user_guide/indexing.html#returning-a-view-versus-a-copy\n",
      "  tvdf['mile'] = tvdf.apply(lambda row: closest_mile_marker(row['X'], row['Y'], data), axis=1)\n"
     ]
    },
    {
     "name": "stdout",
     "output_type": "stream",
     "text": [
      "RM0187\n",
      "FM0901\n"
     ]
    },
    {
     "name": "stderr",
     "output_type": "stream",
     "text": [
      "/var/folders/fz/qwk5rxqs39gcy8h_0lhy47c80000gn/T/ipykernel_40576/4022452298.py:87: SettingWithCopyWarning: \n",
      "A value is trying to be set on a copy of a slice from a DataFrame.\n",
      "Try using .loc[row_indexer,col_indexer] = value instead\n",
      "\n",
      "See the caveats in the documentation: https://pandas.pydata.org/pandas-docs/stable/user_guide/indexing.html#returning-a-view-versus-a-copy\n",
      "  tvdf['mile'] = tvdf.apply(lambda row: closest_mile_marker(row['X'], row['Y'], data), axis=1)\n",
      "/var/folders/fz/qwk5rxqs39gcy8h_0lhy47c80000gn/T/ipykernel_40576/4022452298.py:87: SettingWithCopyWarning: \n",
      "A value is trying to be set on a copy of a slice from a DataFrame.\n",
      "Try using .loc[row_indexer,col_indexer] = value instead\n",
      "\n",
      "See the caveats in the documentation: https://pandas.pydata.org/pandas-docs/stable/user_guide/indexing.html#returning-a-view-versus-a-copy\n",
      "  tvdf['mile'] = tvdf.apply(lambda row: closest_mile_marker(row['X'], row['Y'], data), axis=1)\n"
     ]
    },
    {
     "name": "stdout",
     "output_type": "stream",
     "text": [
      "FM1101\n",
      "SH0105\n"
     ]
    },
    {
     "name": "stderr",
     "output_type": "stream",
     "text": [
      "/var/folders/fz/qwk5rxqs39gcy8h_0lhy47c80000gn/T/ipykernel_40576/4022452298.py:87: SettingWithCopyWarning: \n",
      "A value is trying to be set on a copy of a slice from a DataFrame.\n",
      "Try using .loc[row_indexer,col_indexer] = value instead\n",
      "\n",
      "See the caveats in the documentation: https://pandas.pydata.org/pandas-docs/stable/user_guide/indexing.html#returning-a-view-versus-a-copy\n",
      "  tvdf['mile'] = tvdf.apply(lambda row: closest_mile_marker(row['X'], row['Y'], data), axis=1)\n",
      "/var/folders/fz/qwk5rxqs39gcy8h_0lhy47c80000gn/T/ipykernel_40576/4022452298.py:87: SettingWithCopyWarning: \n",
      "A value is trying to be set on a copy of a slice from a DataFrame.\n",
      "Try using .loc[row_indexer,col_indexer] = value instead\n",
      "\n",
      "See the caveats in the documentation: https://pandas.pydata.org/pandas-docs/stable/user_guide/indexing.html#returning-a-view-versus-a-copy\n",
      "  tvdf['mile'] = tvdf.apply(lambda row: closest_mile_marker(row['X'], row['Y'], data), axis=1)\n",
      "/var/folders/fz/qwk5rxqs39gcy8h_0lhy47c80000gn/T/ipykernel_40576/4022452298.py:87: SettingWithCopyWarning: \n",
      "A value is trying to be set on a copy of a slice from a DataFrame.\n",
      "Try using .loc[row_indexer,col_indexer] = value instead\n",
      "\n",
      "See the caveats in the documentation: https://pandas.pydata.org/pandas-docs/stable/user_guide/indexing.html#returning-a-view-versus-a-copy\n",
      "  tvdf['mile'] = tvdf.apply(lambda row: closest_mile_marker(row['X'], row['Y'], data), axis=1)\n",
      "/var/folders/fz/qwk5rxqs39gcy8h_0lhy47c80000gn/T/ipykernel_40576/4022452298.py:87: SettingWithCopyWarning: \n",
      "A value is trying to be set on a copy of a slice from a DataFrame.\n",
      "Try using .loc[row_indexer,col_indexer] = value instead\n",
      "\n",
      "See the caveats in the documentation: https://pandas.pydata.org/pandas-docs/stable/user_guide/indexing.html#returning-a-view-versus-a-copy\n",
      "  tvdf['mile'] = tvdf.apply(lambda row: closest_mile_marker(row['X'], row['Y'], data), axis=1)\n"
     ]
    },
    {
     "name": "stdout",
     "output_type": "stream",
     "text": [
      "SH0332\n",
      "FM0462\n",
      "FM0557\n",
      "SH0083\n"
     ]
    },
    {
     "name": "stderr",
     "output_type": "stream",
     "text": [
      "/var/folders/fz/qwk5rxqs39gcy8h_0lhy47c80000gn/T/ipykernel_40576/4022452298.py:87: SettingWithCopyWarning: \n",
      "A value is trying to be set on a copy of a slice from a DataFrame.\n",
      "Try using .loc[row_indexer,col_indexer] = value instead\n",
      "\n",
      "See the caveats in the documentation: https://pandas.pydata.org/pandas-docs/stable/user_guide/indexing.html#returning-a-view-versus-a-copy\n",
      "  tvdf['mile'] = tvdf.apply(lambda row: closest_mile_marker(row['X'], row['Y'], data), axis=1)\n",
      "/var/folders/fz/qwk5rxqs39gcy8h_0lhy47c80000gn/T/ipykernel_40576/4022452298.py:87: SettingWithCopyWarning: \n",
      "A value is trying to be set on a copy of a slice from a DataFrame.\n",
      "Try using .loc[row_indexer,col_indexer] = value instead\n",
      "\n",
      "See the caveats in the documentation: https://pandas.pydata.org/pandas-docs/stable/user_guide/indexing.html#returning-a-view-versus-a-copy\n",
      "  tvdf['mile'] = tvdf.apply(lambda row: closest_mile_marker(row['X'], row['Y'], data), axis=1)\n",
      "/var/folders/fz/qwk5rxqs39gcy8h_0lhy47c80000gn/T/ipykernel_40576/4022452298.py:87: SettingWithCopyWarning: \n",
      "A value is trying to be set on a copy of a slice from a DataFrame.\n",
      "Try using .loc[row_indexer,col_indexer] = value instead\n",
      "\n",
      "See the caveats in the documentation: https://pandas.pydata.org/pandas-docs/stable/user_guide/indexing.html#returning-a-view-versus-a-copy\n",
      "  tvdf['mile'] = tvdf.apply(lambda row: closest_mile_marker(row['X'], row['Y'], data), axis=1)\n"
     ]
    },
    {
     "name": "stdout",
     "output_type": "stream",
     "text": [
      "FM1854\n",
      "FM1602\n",
      "IH0040\n"
     ]
    },
    {
     "name": "stderr",
     "output_type": "stream",
     "text": [
      "/var/folders/fz/qwk5rxqs39gcy8h_0lhy47c80000gn/T/ipykernel_40576/4022452298.py:87: SettingWithCopyWarning: \n",
      "A value is trying to be set on a copy of a slice from a DataFrame.\n",
      "Try using .loc[row_indexer,col_indexer] = value instead\n",
      "\n",
      "See the caveats in the documentation: https://pandas.pydata.org/pandas-docs/stable/user_guide/indexing.html#returning-a-view-versus-a-copy\n",
      "  tvdf['mile'] = tvdf.apply(lambda row: closest_mile_marker(row['X'], row['Y'], data), axis=1)\n",
      "/var/folders/fz/qwk5rxqs39gcy8h_0lhy47c80000gn/T/ipykernel_40576/4022452298.py:87: SettingWithCopyWarning: \n",
      "A value is trying to be set on a copy of a slice from a DataFrame.\n",
      "Try using .loc[row_indexer,col_indexer] = value instead\n",
      "\n",
      "See the caveats in the documentation: https://pandas.pydata.org/pandas-docs/stable/user_guide/indexing.html#returning-a-view-versus-a-copy\n",
      "  tvdf['mile'] = tvdf.apply(lambda row: closest_mile_marker(row['X'], row['Y'], data), axis=1)\n",
      "/var/folders/fz/qwk5rxqs39gcy8h_0lhy47c80000gn/T/ipykernel_40576/4022452298.py:87: SettingWithCopyWarning: \n",
      "A value is trying to be set on a copy of a slice from a DataFrame.\n",
      "Try using .loc[row_indexer,col_indexer] = value instead\n",
      "\n",
      "See the caveats in the documentation: https://pandas.pydata.org/pandas-docs/stable/user_guide/indexing.html#returning-a-view-versus-a-copy\n",
      "  tvdf['mile'] = tvdf.apply(lambda row: closest_mile_marker(row['X'], row['Y'], data), axis=1)\n",
      "/var/folders/fz/qwk5rxqs39gcy8h_0lhy47c80000gn/T/ipykernel_40576/4022452298.py:87: SettingWithCopyWarning: \n",
      "A value is trying to be set on a copy of a slice from a DataFrame.\n",
      "Try using .loc[row_indexer,col_indexer] = value instead\n",
      "\n",
      "See the caveats in the documentation: https://pandas.pydata.org/pandas-docs/stable/user_guide/indexing.html#returning-a-view-versus-a-copy\n",
      "  tvdf['mile'] = tvdf.apply(lambda row: closest_mile_marker(row['X'], row['Y'], data), axis=1)\n",
      "/var/folders/fz/qwk5rxqs39gcy8h_0lhy47c80000gn/T/ipykernel_40576/4022452298.py:87: SettingWithCopyWarning: \n",
      "A value is trying to be set on a copy of a slice from a DataFrame.\n",
      "Try using .loc[row_indexer,col_indexer] = value instead\n",
      "\n",
      "See the caveats in the documentation: https://pandas.pydata.org/pandas-docs/stable/user_guide/indexing.html#returning-a-view-versus-a-copy\n",
      "  tvdf['mile'] = tvdf.apply(lambda row: closest_mile_marker(row['X'], row['Y'], data), axis=1)\n"
     ]
    },
    {
     "name": "stdout",
     "output_type": "stream",
     "text": [
      "SH0305\n",
      "FM0442\n",
      "FM0027\n",
      "FM2696\n",
      "FM0600\n"
     ]
    },
    {
     "name": "stderr",
     "output_type": "stream",
     "text": [
      "/var/folders/fz/qwk5rxqs39gcy8h_0lhy47c80000gn/T/ipykernel_40576/4022452298.py:87: SettingWithCopyWarning: \n",
      "A value is trying to be set on a copy of a slice from a DataFrame.\n",
      "Try using .loc[row_indexer,col_indexer] = value instead\n",
      "\n",
      "See the caveats in the documentation: https://pandas.pydata.org/pandas-docs/stable/user_guide/indexing.html#returning-a-view-versus-a-copy\n",
      "  tvdf['mile'] = tvdf.apply(lambda row: closest_mile_marker(row['X'], row['Y'], data), axis=1)\n",
      "/var/folders/fz/qwk5rxqs39gcy8h_0lhy47c80000gn/T/ipykernel_40576/4022452298.py:87: SettingWithCopyWarning: \n",
      "A value is trying to be set on a copy of a slice from a DataFrame.\n",
      "Try using .loc[row_indexer,col_indexer] = value instead\n",
      "\n",
      "See the caveats in the documentation: https://pandas.pydata.org/pandas-docs/stable/user_guide/indexing.html#returning-a-view-versus-a-copy\n",
      "  tvdf['mile'] = tvdf.apply(lambda row: closest_mile_marker(row['X'], row['Y'], data), axis=1)\n"
     ]
    },
    {
     "name": "stdout",
     "output_type": "stream",
     "text": [
      "FM0490\n",
      "FM0378\n"
     ]
    },
    {
     "name": "stderr",
     "output_type": "stream",
     "text": [
      "/var/folders/fz/qwk5rxqs39gcy8h_0lhy47c80000gn/T/ipykernel_40576/4022452298.py:87: SettingWithCopyWarning: \n",
      "A value is trying to be set on a copy of a slice from a DataFrame.\n",
      "Try using .loc[row_indexer,col_indexer] = value instead\n",
      "\n",
      "See the caveats in the documentation: https://pandas.pydata.org/pandas-docs/stable/user_guide/indexing.html#returning-a-view-versus-a-copy\n",
      "  tvdf['mile'] = tvdf.apply(lambda row: closest_mile_marker(row['X'], row['Y'], data), axis=1)\n",
      "/var/folders/fz/qwk5rxqs39gcy8h_0lhy47c80000gn/T/ipykernel_40576/4022452298.py:87: SettingWithCopyWarning: \n",
      "A value is trying to be set on a copy of a slice from a DataFrame.\n",
      "Try using .loc[row_indexer,col_indexer] = value instead\n",
      "\n",
      "See the caveats in the documentation: https://pandas.pydata.org/pandas-docs/stable/user_guide/indexing.html#returning-a-view-versus-a-copy\n",
      "  tvdf['mile'] = tvdf.apply(lambda row: closest_mile_marker(row['X'], row['Y'], data), axis=1)\n"
     ]
    },
    {
     "name": "stdout",
     "output_type": "stream",
     "text": [
      "FM0157\n",
      "US0079\n"
     ]
    },
    {
     "name": "stderr",
     "output_type": "stream",
     "text": [
      "/var/folders/fz/qwk5rxqs39gcy8h_0lhy47c80000gn/T/ipykernel_40576/4022452298.py:87: SettingWithCopyWarning: \n",
      "A value is trying to be set on a copy of a slice from a DataFrame.\n",
      "Try using .loc[row_indexer,col_indexer] = value instead\n",
      "\n",
      "See the caveats in the documentation: https://pandas.pydata.org/pandas-docs/stable/user_guide/indexing.html#returning-a-view-versus-a-copy\n",
      "  tvdf['mile'] = tvdf.apply(lambda row: closest_mile_marker(row['X'], row['Y'], data), axis=1)\n",
      "/var/folders/fz/qwk5rxqs39gcy8h_0lhy47c80000gn/T/ipykernel_40576/4022452298.py:87: SettingWithCopyWarning: \n",
      "A value is trying to be set on a copy of a slice from a DataFrame.\n",
      "Try using .loc[row_indexer,col_indexer] = value instead\n",
      "\n",
      "See the caveats in the documentation: https://pandas.pydata.org/pandas-docs/stable/user_guide/indexing.html#returning-a-view-versus-a-copy\n",
      "  tvdf['mile'] = tvdf.apply(lambda row: closest_mile_marker(row['X'], row['Y'], data), axis=1)\n",
      "/var/folders/fz/qwk5rxqs39gcy8h_0lhy47c80000gn/T/ipykernel_40576/4022452298.py:87: SettingWithCopyWarning: \n",
      "A value is trying to be set on a copy of a slice from a DataFrame.\n",
      "Try using .loc[row_indexer,col_indexer] = value instead\n",
      "\n",
      "See the caveats in the documentation: https://pandas.pydata.org/pandas-docs/stable/user_guide/indexing.html#returning-a-view-versus-a-copy\n",
      "  tvdf['mile'] = tvdf.apply(lambda row: closest_mile_marker(row['X'], row['Y'], data), axis=1)\n",
      "/var/folders/fz/qwk5rxqs39gcy8h_0lhy47c80000gn/T/ipykernel_40576/4022452298.py:87: SettingWithCopyWarning: \n",
      "A value is trying to be set on a copy of a slice from a DataFrame.\n",
      "Try using .loc[row_indexer,col_indexer] = value instead\n",
      "\n",
      "See the caveats in the documentation: https://pandas.pydata.org/pandas-docs/stable/user_guide/indexing.html#returning-a-view-versus-a-copy\n",
      "  tvdf['mile'] = tvdf.apply(lambda row: closest_mile_marker(row['X'], row['Y'], data), axis=1)\n"
     ]
    },
    {
     "name": "stdout",
     "output_type": "stream",
     "text": [
      "FM0171\n",
      "FM1069\n",
      "FM0326\n",
      "SH0208\n"
     ]
    },
    {
     "name": "stderr",
     "output_type": "stream",
     "text": [
      "/var/folders/fz/qwk5rxqs39gcy8h_0lhy47c80000gn/T/ipykernel_40576/4022452298.py:87: SettingWithCopyWarning: \n",
      "A value is trying to be set on a copy of a slice from a DataFrame.\n",
      "Try using .loc[row_indexer,col_indexer] = value instead\n",
      "\n",
      "See the caveats in the documentation: https://pandas.pydata.org/pandas-docs/stable/user_guide/indexing.html#returning-a-view-versus-a-copy\n",
      "  tvdf['mile'] = tvdf.apply(lambda row: closest_mile_marker(row['X'], row['Y'], data), axis=1)\n"
     ]
    },
    {
     "name": "stdout",
     "output_type": "stream",
     "text": [
      "FM0054\n"
     ]
    },
    {
     "name": "stderr",
     "output_type": "stream",
     "text": [
      "/var/folders/fz/qwk5rxqs39gcy8h_0lhy47c80000gn/T/ipykernel_40576/4022452298.py:87: SettingWithCopyWarning: \n",
      "A value is trying to be set on a copy of a slice from a DataFrame.\n",
      "Try using .loc[row_indexer,col_indexer] = value instead\n",
      "\n",
      "See the caveats in the documentation: https://pandas.pydata.org/pandas-docs/stable/user_guide/indexing.html#returning-a-view-versus-a-copy\n",
      "  tvdf['mile'] = tvdf.apply(lambda row: closest_mile_marker(row['X'], row['Y'], data), axis=1)\n",
      "/var/folders/fz/qwk5rxqs39gcy8h_0lhy47c80000gn/T/ipykernel_40576/4022452298.py:87: SettingWithCopyWarning: \n",
      "A value is trying to be set on a copy of a slice from a DataFrame.\n",
      "Try using .loc[row_indexer,col_indexer] = value instead\n",
      "\n",
      "See the caveats in the documentation: https://pandas.pydata.org/pandas-docs/stable/user_guide/indexing.html#returning-a-view-versus-a-copy\n",
      "  tvdf['mile'] = tvdf.apply(lambda row: closest_mile_marker(row['X'], row['Y'], data), axis=1)\n",
      "/var/folders/fz/qwk5rxqs39gcy8h_0lhy47c80000gn/T/ipykernel_40576/4022452298.py:87: SettingWithCopyWarning: \n",
      "A value is trying to be set on a copy of a slice from a DataFrame.\n",
      "Try using .loc[row_indexer,col_indexer] = value instead\n",
      "\n",
      "See the caveats in the documentation: https://pandas.pydata.org/pandas-docs/stable/user_guide/indexing.html#returning-a-view-versus-a-copy\n",
      "  tvdf['mile'] = tvdf.apply(lambda row: closest_mile_marker(row['X'], row['Y'], data), axis=1)\n",
      "/var/folders/fz/qwk5rxqs39gcy8h_0lhy47c80000gn/T/ipykernel_40576/4022452298.py:87: SettingWithCopyWarning: \n",
      "A value is trying to be set on a copy of a slice from a DataFrame.\n",
      "Try using .loc[row_indexer,col_indexer] = value instead\n",
      "\n",
      "See the caveats in the documentation: https://pandas.pydata.org/pandas-docs/stable/user_guide/indexing.html#returning-a-view-versus-a-copy\n",
      "  tvdf['mile'] = tvdf.apply(lambda row: closest_mile_marker(row['X'], row['Y'], data), axis=1)\n",
      "/var/folders/fz/qwk5rxqs39gcy8h_0lhy47c80000gn/T/ipykernel_40576/4022452298.py:87: SettingWithCopyWarning: \n",
      "A value is trying to be set on a copy of a slice from a DataFrame.\n",
      "Try using .loc[row_indexer,col_indexer] = value instead\n",
      "\n",
      "See the caveats in the documentation: https://pandas.pydata.org/pandas-docs/stable/user_guide/indexing.html#returning-a-view-versus-a-copy\n",
      "  tvdf['mile'] = tvdf.apply(lambda row: closest_mile_marker(row['X'], row['Y'], data), axis=1)\n"
     ]
    },
    {
     "name": "stdout",
     "output_type": "stream",
     "text": [
      "FM2502\n",
      "FM2088\n",
      "FM0489\n",
      "FM0461\n",
      "FM0036\n"
     ]
    },
    {
     "name": "stderr",
     "output_type": "stream",
     "text": [
      "/var/folders/fz/qwk5rxqs39gcy8h_0lhy47c80000gn/T/ipykernel_40576/4022452298.py:87: SettingWithCopyWarning: \n",
      "A value is trying to be set on a copy of a slice from a DataFrame.\n",
      "Try using .loc[row_indexer,col_indexer] = value instead\n",
      "\n",
      "See the caveats in the documentation: https://pandas.pydata.org/pandas-docs/stable/user_guide/indexing.html#returning-a-view-versus-a-copy\n",
      "  tvdf['mile'] = tvdf.apply(lambda row: closest_mile_marker(row['X'], row['Y'], data), axis=1)\n",
      "/var/folders/fz/qwk5rxqs39gcy8h_0lhy47c80000gn/T/ipykernel_40576/4022452298.py:87: SettingWithCopyWarning: \n",
      "A value is trying to be set on a copy of a slice from a DataFrame.\n",
      "Try using .loc[row_indexer,col_indexer] = value instead\n",
      "\n",
      "See the caveats in the documentation: https://pandas.pydata.org/pandas-docs/stable/user_guide/indexing.html#returning-a-view-versus-a-copy\n",
      "  tvdf['mile'] = tvdf.apply(lambda row: closest_mile_marker(row['X'], row['Y'], data), axis=1)\n",
      "/var/folders/fz/qwk5rxqs39gcy8h_0lhy47c80000gn/T/ipykernel_40576/4022452298.py:87: SettingWithCopyWarning: \n",
      "A value is trying to be set on a copy of a slice from a DataFrame.\n",
      "Try using .loc[row_indexer,col_indexer] = value instead\n",
      "\n",
      "See the caveats in the documentation: https://pandas.pydata.org/pandas-docs/stable/user_guide/indexing.html#returning-a-view-versus-a-copy\n",
      "  tvdf['mile'] = tvdf.apply(lambda row: closest_mile_marker(row['X'], row['Y'], data), axis=1)\n",
      "/var/folders/fz/qwk5rxqs39gcy8h_0lhy47c80000gn/T/ipykernel_40576/4022452298.py:87: SettingWithCopyWarning: \n",
      "A value is trying to be set on a copy of a slice from a DataFrame.\n",
      "Try using .loc[row_indexer,col_indexer] = value instead\n",
      "\n",
      "See the caveats in the documentation: https://pandas.pydata.org/pandas-docs/stable/user_guide/indexing.html#returning-a-view-versus-a-copy\n",
      "  tvdf['mile'] = tvdf.apply(lambda row: closest_mile_marker(row['X'], row['Y'], data), axis=1)\n",
      "/var/folders/fz/qwk5rxqs39gcy8h_0lhy47c80000gn/T/ipykernel_40576/4022452298.py:87: SettingWithCopyWarning: \n",
      "A value is trying to be set on a copy of a slice from a DataFrame.\n",
      "Try using .loc[row_indexer,col_indexer] = value instead\n",
      "\n",
      "See the caveats in the documentation: https://pandas.pydata.org/pandas-docs/stable/user_guide/indexing.html#returning-a-view-versus-a-copy\n",
      "  tvdf['mile'] = tvdf.apply(lambda row: closest_mile_marker(row['X'], row['Y'], data), axis=1)\n"
     ]
    },
    {
     "name": "stdout",
     "output_type": "stream",
     "text": [
      "FM1420\n",
      "FM1226\n",
      "FM0646\n",
      "FM2790\n",
      "FM0359\n"
     ]
    },
    {
     "name": "stderr",
     "output_type": "stream",
     "text": [
      "/var/folders/fz/qwk5rxqs39gcy8h_0lhy47c80000gn/T/ipykernel_40576/4022452298.py:87: SettingWithCopyWarning: \n",
      "A value is trying to be set on a copy of a slice from a DataFrame.\n",
      "Try using .loc[row_indexer,col_indexer] = value instead\n",
      "\n",
      "See the caveats in the documentation: https://pandas.pydata.org/pandas-docs/stable/user_guide/indexing.html#returning-a-view-versus-a-copy\n",
      "  tvdf['mile'] = tvdf.apply(lambda row: closest_mile_marker(row['X'], row['Y'], data), axis=1)\n"
     ]
    },
    {
     "name": "stdout",
     "output_type": "stream",
     "text": [
      "US0285\n"
     ]
    },
    {
     "name": "stderr",
     "output_type": "stream",
     "text": [
      "/var/folders/fz/qwk5rxqs39gcy8h_0lhy47c80000gn/T/ipykernel_40576/4022452298.py:87: SettingWithCopyWarning: \n",
      "A value is trying to be set on a copy of a slice from a DataFrame.\n",
      "Try using .loc[row_indexer,col_indexer] = value instead\n",
      "\n",
      "See the caveats in the documentation: https://pandas.pydata.org/pandas-docs/stable/user_guide/indexing.html#returning-a-view-versus-a-copy\n",
      "  tvdf['mile'] = tvdf.apply(lambda row: closest_mile_marker(row['X'], row['Y'], data), axis=1)\n",
      "/var/folders/fz/qwk5rxqs39gcy8h_0lhy47c80000gn/T/ipykernel_40576/4022452298.py:87: SettingWithCopyWarning: \n",
      "A value is trying to be set on a copy of a slice from a DataFrame.\n",
      "Try using .loc[row_indexer,col_indexer] = value instead\n",
      "\n",
      "See the caveats in the documentation: https://pandas.pydata.org/pandas-docs/stable/user_guide/indexing.html#returning-a-view-versus-a-copy\n",
      "  tvdf['mile'] = tvdf.apply(lambda row: closest_mile_marker(row['X'], row['Y'], data), axis=1)\n",
      "/var/folders/fz/qwk5rxqs39gcy8h_0lhy47c80000gn/T/ipykernel_40576/4022452298.py:87: SettingWithCopyWarning: \n",
      "A value is trying to be set on a copy of a slice from a DataFrame.\n",
      "Try using .loc[row_indexer,col_indexer] = value instead\n",
      "\n",
      "See the caveats in the documentation: https://pandas.pydata.org/pandas-docs/stable/user_guide/indexing.html#returning-a-view-versus-a-copy\n",
      "  tvdf['mile'] = tvdf.apply(lambda row: closest_mile_marker(row['X'], row['Y'], data), axis=1)\n",
      "/var/folders/fz/qwk5rxqs39gcy8h_0lhy47c80000gn/T/ipykernel_40576/4022452298.py:87: SettingWithCopyWarning: \n",
      "A value is trying to be set on a copy of a slice from a DataFrame.\n",
      "Try using .loc[row_indexer,col_indexer] = value instead\n",
      "\n",
      "See the caveats in the documentation: https://pandas.pydata.org/pandas-docs/stable/user_guide/indexing.html#returning-a-view-versus-a-copy\n",
      "  tvdf['mile'] = tvdf.apply(lambda row: closest_mile_marker(row['X'], row['Y'], data), axis=1)\n"
     ]
    },
    {
     "name": "stdout",
     "output_type": "stream",
     "text": [
      "FM2966\n",
      "FM0927\n",
      "FM0308\n",
      "RM0033\n"
     ]
    },
    {
     "name": "stderr",
     "output_type": "stream",
     "text": [
      "/var/folders/fz/qwk5rxqs39gcy8h_0lhy47c80000gn/T/ipykernel_40576/4022452298.py:87: SettingWithCopyWarning: \n",
      "A value is trying to be set on a copy of a slice from a DataFrame.\n",
      "Try using .loc[row_indexer,col_indexer] = value instead\n",
      "\n",
      "See the caveats in the documentation: https://pandas.pydata.org/pandas-docs/stable/user_guide/indexing.html#returning-a-view-versus-a-copy\n",
      "  tvdf['mile'] = tvdf.apply(lambda row: closest_mile_marker(row['X'], row['Y'], data), axis=1)\n",
      "/var/folders/fz/qwk5rxqs39gcy8h_0lhy47c80000gn/T/ipykernel_40576/4022452298.py:87: SettingWithCopyWarning: \n",
      "A value is trying to be set on a copy of a slice from a DataFrame.\n",
      "Try using .loc[row_indexer,col_indexer] = value instead\n",
      "\n",
      "See the caveats in the documentation: https://pandas.pydata.org/pandas-docs/stable/user_guide/indexing.html#returning-a-view-versus-a-copy\n",
      "  tvdf['mile'] = tvdf.apply(lambda row: closest_mile_marker(row['X'], row['Y'], data), axis=1)\n",
      "/var/folders/fz/qwk5rxqs39gcy8h_0lhy47c80000gn/T/ipykernel_40576/4022452298.py:87: SettingWithCopyWarning: \n",
      "A value is trying to be set on a copy of a slice from a DataFrame.\n",
      "Try using .loc[row_indexer,col_indexer] = value instead\n",
      "\n",
      "See the caveats in the documentation: https://pandas.pydata.org/pandas-docs/stable/user_guide/indexing.html#returning-a-view-versus-a-copy\n",
      "  tvdf['mile'] = tvdf.apply(lambda row: closest_mile_marker(row['X'], row['Y'], data), axis=1)\n"
     ]
    },
    {
     "name": "stdout",
     "output_type": "stream",
     "text": [
      "SH0321\n",
      "FM0050\n",
      "BU0081\n",
      "bad df\n",
      "FM2163\n",
      "US0377\n"
     ]
    },
    {
     "name": "stderr",
     "output_type": "stream",
     "text": [
      "/var/folders/fz/qwk5rxqs39gcy8h_0lhy47c80000gn/T/ipykernel_40576/4022452298.py:87: SettingWithCopyWarning: \n",
      "A value is trying to be set on a copy of a slice from a DataFrame.\n",
      "Try using .loc[row_indexer,col_indexer] = value instead\n",
      "\n",
      "See the caveats in the documentation: https://pandas.pydata.org/pandas-docs/stable/user_guide/indexing.html#returning-a-view-versus-a-copy\n",
      "  tvdf['mile'] = tvdf.apply(lambda row: closest_mile_marker(row['X'], row['Y'], data), axis=1)\n",
      "/var/folders/fz/qwk5rxqs39gcy8h_0lhy47c80000gn/T/ipykernel_40576/4022452298.py:87: SettingWithCopyWarning: \n",
      "A value is trying to be set on a copy of a slice from a DataFrame.\n",
      "Try using .loc[row_indexer,col_indexer] = value instead\n",
      "\n",
      "See the caveats in the documentation: https://pandas.pydata.org/pandas-docs/stable/user_guide/indexing.html#returning-a-view-versus-a-copy\n",
      "  tvdf['mile'] = tvdf.apply(lambda row: closest_mile_marker(row['X'], row['Y'], data), axis=1)\n",
      "/var/folders/fz/qwk5rxqs39gcy8h_0lhy47c80000gn/T/ipykernel_40576/4022452298.py:87: SettingWithCopyWarning: \n",
      "A value is trying to be set on a copy of a slice from a DataFrame.\n",
      "Try using .loc[row_indexer,col_indexer] = value instead\n",
      "\n",
      "See the caveats in the documentation: https://pandas.pydata.org/pandas-docs/stable/user_guide/indexing.html#returning-a-view-versus-a-copy\n",
      "  tvdf['mile'] = tvdf.apply(lambda row: closest_mile_marker(row['X'], row['Y'], data), axis=1)\n",
      "/var/folders/fz/qwk5rxqs39gcy8h_0lhy47c80000gn/T/ipykernel_40576/4022452298.py:87: SettingWithCopyWarning: \n",
      "A value is trying to be set on a copy of a slice from a DataFrame.\n",
      "Try using .loc[row_indexer,col_indexer] = value instead\n",
      "\n",
      "See the caveats in the documentation: https://pandas.pydata.org/pandas-docs/stable/user_guide/indexing.html#returning-a-view-versus-a-copy\n",
      "  tvdf['mile'] = tvdf.apply(lambda row: closest_mile_marker(row['X'], row['Y'], data), axis=1)\n"
     ]
    },
    {
     "name": "stdout",
     "output_type": "stream",
     "text": [
      "FM0244\n",
      "FM2301\n",
      "FM0604\n",
      "FM0105\n"
     ]
    },
    {
     "name": "stderr",
     "output_type": "stream",
     "text": [
      "/var/folders/fz/qwk5rxqs39gcy8h_0lhy47c80000gn/T/ipykernel_40576/4022452298.py:87: SettingWithCopyWarning: \n",
      "A value is trying to be set on a copy of a slice from a DataFrame.\n",
      "Try using .loc[row_indexer,col_indexer] = value instead\n",
      "\n",
      "See the caveats in the documentation: https://pandas.pydata.org/pandas-docs/stable/user_guide/indexing.html#returning-a-view-versus-a-copy\n",
      "  tvdf['mile'] = tvdf.apply(lambda row: closest_mile_marker(row['X'], row['Y'], data), axis=1)\n",
      "/var/folders/fz/qwk5rxqs39gcy8h_0lhy47c80000gn/T/ipykernel_40576/4022452298.py:87: SettingWithCopyWarning: \n",
      "A value is trying to be set on a copy of a slice from a DataFrame.\n",
      "Try using .loc[row_indexer,col_indexer] = value instead\n",
      "\n",
      "See the caveats in the documentation: https://pandas.pydata.org/pandas-docs/stable/user_guide/indexing.html#returning-a-view-versus-a-copy\n",
      "  tvdf['mile'] = tvdf.apply(lambda row: closest_mile_marker(row['X'], row['Y'], data), axis=1)\n",
      "/var/folders/fz/qwk5rxqs39gcy8h_0lhy47c80000gn/T/ipykernel_40576/4022452298.py:87: SettingWithCopyWarning: \n",
      "A value is trying to be set on a copy of a slice from a DataFrame.\n",
      "Try using .loc[row_indexer,col_indexer] = value instead\n",
      "\n",
      "See the caveats in the documentation: https://pandas.pydata.org/pandas-docs/stable/user_guide/indexing.html#returning-a-view-versus-a-copy\n",
      "  tvdf['mile'] = tvdf.apply(lambda row: closest_mile_marker(row['X'], row['Y'], data), axis=1)\n",
      "/var/folders/fz/qwk5rxqs39gcy8h_0lhy47c80000gn/T/ipykernel_40576/4022452298.py:87: SettingWithCopyWarning: \n",
      "A value is trying to be set on a copy of a slice from a DataFrame.\n",
      "Try using .loc[row_indexer,col_indexer] = value instead\n",
      "\n",
      "See the caveats in the documentation: https://pandas.pydata.org/pandas-docs/stable/user_guide/indexing.html#returning-a-view-versus-a-copy\n",
      "  tvdf['mile'] = tvdf.apply(lambda row: closest_mile_marker(row['X'], row['Y'], data), axis=1)\n"
     ]
    },
    {
     "name": "stdout",
     "output_type": "stream",
     "text": [
      "SL0007\n",
      "UA0077\n",
      "RM0150\n",
      "FM0765\n"
     ]
    },
    {
     "name": "stderr",
     "output_type": "stream",
     "text": [
      "/var/folders/fz/qwk5rxqs39gcy8h_0lhy47c80000gn/T/ipykernel_40576/4022452298.py:87: SettingWithCopyWarning: \n",
      "A value is trying to be set on a copy of a slice from a DataFrame.\n",
      "Try using .loc[row_indexer,col_indexer] = value instead\n",
      "\n",
      "See the caveats in the documentation: https://pandas.pydata.org/pandas-docs/stable/user_guide/indexing.html#returning-a-view-versus-a-copy\n",
      "  tvdf['mile'] = tvdf.apply(lambda row: closest_mile_marker(row['X'], row['Y'], data), axis=1)\n",
      "/var/folders/fz/qwk5rxqs39gcy8h_0lhy47c80000gn/T/ipykernel_40576/4022452298.py:87: SettingWithCopyWarning: \n",
      "A value is trying to be set on a copy of a slice from a DataFrame.\n",
      "Try using .loc[row_indexer,col_indexer] = value instead\n",
      "\n",
      "See the caveats in the documentation: https://pandas.pydata.org/pandas-docs/stable/user_guide/indexing.html#returning-a-view-versus-a-copy\n",
      "  tvdf['mile'] = tvdf.apply(lambda row: closest_mile_marker(row['X'], row['Y'], data), axis=1)\n"
     ]
    },
    {
     "name": "stdout",
     "output_type": "stream",
     "text": [
      "SH0240\n",
      "FM0038\n",
      "FM0213\n"
     ]
    },
    {
     "name": "stderr",
     "output_type": "stream",
     "text": [
      "/var/folders/fz/qwk5rxqs39gcy8h_0lhy47c80000gn/T/ipykernel_40576/4022452298.py:87: SettingWithCopyWarning: \n",
      "A value is trying to be set on a copy of a slice from a DataFrame.\n",
      "Try using .loc[row_indexer,col_indexer] = value instead\n",
      "\n",
      "See the caveats in the documentation: https://pandas.pydata.org/pandas-docs/stable/user_guide/indexing.html#returning-a-view-versus-a-copy\n",
      "  tvdf['mile'] = tvdf.apply(lambda row: closest_mile_marker(row['X'], row['Y'], data), axis=1)\n",
      "/var/folders/fz/qwk5rxqs39gcy8h_0lhy47c80000gn/T/ipykernel_40576/4022452298.py:87: SettingWithCopyWarning: \n",
      "A value is trying to be set on a copy of a slice from a DataFrame.\n",
      "Try using .loc[row_indexer,col_indexer] = value instead\n",
      "\n",
      "See the caveats in the documentation: https://pandas.pydata.org/pandas-docs/stable/user_guide/indexing.html#returning-a-view-versus-a-copy\n",
      "  tvdf['mile'] = tvdf.apply(lambda row: closest_mile_marker(row['X'], row['Y'], data), axis=1)\n",
      "/var/folders/fz/qwk5rxqs39gcy8h_0lhy47c80000gn/T/ipykernel_40576/4022452298.py:87: SettingWithCopyWarning: \n",
      "A value is trying to be set on a copy of a slice from a DataFrame.\n",
      "Try using .loc[row_indexer,col_indexer] = value instead\n",
      "\n",
      "See the caveats in the documentation: https://pandas.pydata.org/pandas-docs/stable/user_guide/indexing.html#returning-a-view-versus-a-copy\n",
      "  tvdf['mile'] = tvdf.apply(lambda row: closest_mile_marker(row['X'], row['Y'], data), axis=1)\n"
     ]
    },
    {
     "name": "stdout",
     "output_type": "stream",
     "text": [
      "FM1130\n",
      "FM2676\n",
      "FM0141\n",
      "FM1097\n",
      "SH0008\n"
     ]
    },
    {
     "name": "stderr",
     "output_type": "stream",
     "text": [
      "/var/folders/fz/qwk5rxqs39gcy8h_0lhy47c80000gn/T/ipykernel_40576/4022452298.py:87: SettingWithCopyWarning: \n",
      "A value is trying to be set on a copy of a slice from a DataFrame.\n",
      "Try using .loc[row_indexer,col_indexer] = value instead\n",
      "\n",
      "See the caveats in the documentation: https://pandas.pydata.org/pandas-docs/stable/user_guide/indexing.html#returning-a-view-versus-a-copy\n",
      "  tvdf['mile'] = tvdf.apply(lambda row: closest_mile_marker(row['X'], row['Y'], data), axis=1)\n",
      "/var/folders/fz/qwk5rxqs39gcy8h_0lhy47c80000gn/T/ipykernel_40576/4022452298.py:87: SettingWithCopyWarning: \n",
      "A value is trying to be set on a copy of a slice from a DataFrame.\n",
      "Try using .loc[row_indexer,col_indexer] = value instead\n",
      "\n",
      "See the caveats in the documentation: https://pandas.pydata.org/pandas-docs/stable/user_guide/indexing.html#returning-a-view-versus-a-copy\n",
      "  tvdf['mile'] = tvdf.apply(lambda row: closest_mile_marker(row['X'], row['Y'], data), axis=1)\n",
      "/var/folders/fz/qwk5rxqs39gcy8h_0lhy47c80000gn/T/ipykernel_40576/4022452298.py:87: SettingWithCopyWarning: \n",
      "A value is trying to be set on a copy of a slice from a DataFrame.\n",
      "Try using .loc[row_indexer,col_indexer] = value instead\n",
      "\n",
      "See the caveats in the documentation: https://pandas.pydata.org/pandas-docs/stable/user_guide/indexing.html#returning-a-view-versus-a-copy\n",
      "  tvdf['mile'] = tvdf.apply(lambda row: closest_mile_marker(row['X'], row['Y'], data), axis=1)\n",
      "/var/folders/fz/qwk5rxqs39gcy8h_0lhy47c80000gn/T/ipykernel_40576/4022452298.py:87: SettingWithCopyWarning: \n",
      "A value is trying to be set on a copy of a slice from a DataFrame.\n",
      "Try using .loc[row_indexer,col_indexer] = value instead\n",
      "\n",
      "See the caveats in the documentation: https://pandas.pydata.org/pandas-docs/stable/user_guide/indexing.html#returning-a-view-versus-a-copy\n",
      "  tvdf['mile'] = tvdf.apply(lambda row: closest_mile_marker(row['X'], row['Y'], data), axis=1)\n",
      "/var/folders/fz/qwk5rxqs39gcy8h_0lhy47c80000gn/T/ipykernel_40576/4022452298.py:87: SettingWithCopyWarning: \n",
      "A value is trying to be set on a copy of a slice from a DataFrame.\n",
      "Try using .loc[row_indexer,col_indexer] = value instead\n",
      "\n",
      "See the caveats in the documentation: https://pandas.pydata.org/pandas-docs/stable/user_guide/indexing.html#returning-a-view-versus-a-copy\n",
      "  tvdf['mile'] = tvdf.apply(lambda row: closest_mile_marker(row['X'], row['Y'], data), axis=1)\n"
     ]
    },
    {
     "name": "stdout",
     "output_type": "stream",
     "text": [
      "SH0110\n"
     ]
    },
    {
     "name": "stderr",
     "output_type": "stream",
     "text": [
      "/var/folders/fz/qwk5rxqs39gcy8h_0lhy47c80000gn/T/ipykernel_40576/4022452298.py:87: SettingWithCopyWarning: \n",
      "A value is trying to be set on a copy of a slice from a DataFrame.\n",
      "Try using .loc[row_indexer,col_indexer] = value instead\n",
      "\n",
      "See the caveats in the documentation: https://pandas.pydata.org/pandas-docs/stable/user_guide/indexing.html#returning-a-view-versus-a-copy\n",
      "  tvdf['mile'] = tvdf.apply(lambda row: closest_mile_marker(row['X'], row['Y'], data), axis=1)\n",
      "/var/folders/fz/qwk5rxqs39gcy8h_0lhy47c80000gn/T/ipykernel_40576/4022452298.py:87: SettingWithCopyWarning: \n",
      "A value is trying to be set on a copy of a slice from a DataFrame.\n",
      "Try using .loc[row_indexer,col_indexer] = value instead\n",
      "\n",
      "See the caveats in the documentation: https://pandas.pydata.org/pandas-docs/stable/user_guide/indexing.html#returning-a-view-versus-a-copy\n",
      "  tvdf['mile'] = tvdf.apply(lambda row: closest_mile_marker(row['X'], row['Y'], data), axis=1)\n",
      "/var/folders/fz/qwk5rxqs39gcy8h_0lhy47c80000gn/T/ipykernel_40576/4022452298.py:87: SettingWithCopyWarning: \n",
      "A value is trying to be set on a copy of a slice from a DataFrame.\n",
      "Try using .loc[row_indexer,col_indexer] = value instead\n",
      "\n",
      "See the caveats in the documentation: https://pandas.pydata.org/pandas-docs/stable/user_guide/indexing.html#returning-a-view-versus-a-copy\n",
      "  tvdf['mile'] = tvdf.apply(lambda row: closest_mile_marker(row['X'], row['Y'], data), axis=1)\n"
     ]
    },
    {
     "name": "stdout",
     "output_type": "stream",
     "text": [
      "SH0329\n",
      "FM0407\n",
      "SH0289\n"
     ]
    },
    {
     "name": "stderr",
     "output_type": "stream",
     "text": [
      "/var/folders/fz/qwk5rxqs39gcy8h_0lhy47c80000gn/T/ipykernel_40576/4022452298.py:87: SettingWithCopyWarning: \n",
      "A value is trying to be set on a copy of a slice from a DataFrame.\n",
      "Try using .loc[row_indexer,col_indexer] = value instead\n",
      "\n",
      "See the caveats in the documentation: https://pandas.pydata.org/pandas-docs/stable/user_guide/indexing.html#returning-a-view-versus-a-copy\n",
      "  tvdf['mile'] = tvdf.apply(lambda row: closest_mile_marker(row['X'], row['Y'], data), axis=1)\n"
     ]
    },
    {
     "name": "stdout",
     "output_type": "stream",
     "text": [
      "FM0168\n"
     ]
    },
    {
     "name": "stderr",
     "output_type": "stream",
     "text": [
      "/var/folders/fz/qwk5rxqs39gcy8h_0lhy47c80000gn/T/ipykernel_40576/4022452298.py:87: SettingWithCopyWarning: \n",
      "A value is trying to be set on a copy of a slice from a DataFrame.\n",
      "Try using .loc[row_indexer,col_indexer] = value instead\n",
      "\n",
      "See the caveats in the documentation: https://pandas.pydata.org/pandas-docs/stable/user_guide/indexing.html#returning-a-view-versus-a-copy\n",
      "  tvdf['mile'] = tvdf.apply(lambda row: closest_mile_marker(row['X'], row['Y'], data), axis=1)\n",
      "/var/folders/fz/qwk5rxqs39gcy8h_0lhy47c80000gn/T/ipykernel_40576/4022452298.py:87: SettingWithCopyWarning: \n",
      "A value is trying to be set on a copy of a slice from a DataFrame.\n",
      "Try using .loc[row_indexer,col_indexer] = value instead\n",
      "\n",
      "See the caveats in the documentation: https://pandas.pydata.org/pandas-docs/stable/user_guide/indexing.html#returning-a-view-versus-a-copy\n",
      "  tvdf['mile'] = tvdf.apply(lambda row: closest_mile_marker(row['X'], row['Y'], data), axis=1)\n",
      "/var/folders/fz/qwk5rxqs39gcy8h_0lhy47c80000gn/T/ipykernel_40576/4022452298.py:87: SettingWithCopyWarning: \n",
      "A value is trying to be set on a copy of a slice from a DataFrame.\n",
      "Try using .loc[row_indexer,col_indexer] = value instead\n",
      "\n",
      "See the caveats in the documentation: https://pandas.pydata.org/pandas-docs/stable/user_guide/indexing.html#returning-a-view-versus-a-copy\n",
      "  tvdf['mile'] = tvdf.apply(lambda row: closest_mile_marker(row['X'], row['Y'], data), axis=1)\n",
      "/var/folders/fz/qwk5rxqs39gcy8h_0lhy47c80000gn/T/ipykernel_40576/4022452298.py:87: SettingWithCopyWarning: \n",
      "A value is trying to be set on a copy of a slice from a DataFrame.\n",
      "Try using .loc[row_indexer,col_indexer] = value instead\n",
      "\n",
      "See the caveats in the documentation: https://pandas.pydata.org/pandas-docs/stable/user_guide/indexing.html#returning-a-view-versus-a-copy\n",
      "  tvdf['mile'] = tvdf.apply(lambda row: closest_mile_marker(row['X'], row['Y'], data), axis=1)\n"
     ]
    },
    {
     "name": "stdout",
     "output_type": "stream",
     "text": [
      "SH0273\n",
      "FM0732\n",
      "FM0269\n",
      "FM1669\n",
      "FM0644\n"
     ]
    },
    {
     "name": "stderr",
     "output_type": "stream",
     "text": [
      "/var/folders/fz/qwk5rxqs39gcy8h_0lhy47c80000gn/T/ipykernel_40576/4022452298.py:87: SettingWithCopyWarning: \n",
      "A value is trying to be set on a copy of a slice from a DataFrame.\n",
      "Try using .loc[row_indexer,col_indexer] = value instead\n",
      "\n",
      "See the caveats in the documentation: https://pandas.pydata.org/pandas-docs/stable/user_guide/indexing.html#returning-a-view-versus-a-copy\n",
      "  tvdf['mile'] = tvdf.apply(lambda row: closest_mile_marker(row['X'], row['Y'], data), axis=1)\n",
      "/var/folders/fz/qwk5rxqs39gcy8h_0lhy47c80000gn/T/ipykernel_40576/4022452298.py:87: SettingWithCopyWarning: \n",
      "A value is trying to be set on a copy of a slice from a DataFrame.\n",
      "Try using .loc[row_indexer,col_indexer] = value instead\n",
      "\n",
      "See the caveats in the documentation: https://pandas.pydata.org/pandas-docs/stable/user_guide/indexing.html#returning-a-view-versus-a-copy\n",
      "  tvdf['mile'] = tvdf.apply(lambda row: closest_mile_marker(row['X'], row['Y'], data), axis=1)\n",
      "/var/folders/fz/qwk5rxqs39gcy8h_0lhy47c80000gn/T/ipykernel_40576/4022452298.py:87: SettingWithCopyWarning: \n",
      "A value is trying to be set on a copy of a slice from a DataFrame.\n",
      "Try using .loc[row_indexer,col_indexer] = value instead\n",
      "\n",
      "See the caveats in the documentation: https://pandas.pydata.org/pandas-docs/stable/user_guide/indexing.html#returning-a-view-versus-a-copy\n",
      "  tvdf['mile'] = tvdf.apply(lambda row: closest_mile_marker(row['X'], row['Y'], data), axis=1)\n"
     ]
    },
    {
     "name": "stdout",
     "output_type": "stream",
     "text": [
      "SH0185\n",
      "SH0359\n"
     ]
    },
    {
     "name": "stderr",
     "output_type": "stream",
     "text": [
      "/var/folders/fz/qwk5rxqs39gcy8h_0lhy47c80000gn/T/ipykernel_40576/4022452298.py:87: SettingWithCopyWarning: \n",
      "A value is trying to be set on a copy of a slice from a DataFrame.\n",
      "Try using .loc[row_indexer,col_indexer] = value instead\n",
      "\n",
      "See the caveats in the documentation: https://pandas.pydata.org/pandas-docs/stable/user_guide/indexing.html#returning-a-view-versus-a-copy\n",
      "  tvdf['mile'] = tvdf.apply(lambda row: closest_mile_marker(row['X'], row['Y'], data), axis=1)\n",
      "/var/folders/fz/qwk5rxqs39gcy8h_0lhy47c80000gn/T/ipykernel_40576/4022452298.py:87: SettingWithCopyWarning: \n",
      "A value is trying to be set on a copy of a slice from a DataFrame.\n",
      "Try using .loc[row_indexer,col_indexer] = value instead\n",
      "\n",
      "See the caveats in the documentation: https://pandas.pydata.org/pandas-docs/stable/user_guide/indexing.html#returning-a-view-versus-a-copy\n",
      "  tvdf['mile'] = tvdf.apply(lambda row: closest_mile_marker(row['X'], row['Y'], data), axis=1)\n",
      "/var/folders/fz/qwk5rxqs39gcy8h_0lhy47c80000gn/T/ipykernel_40576/4022452298.py:87: SettingWithCopyWarning: \n",
      "A value is trying to be set on a copy of a slice from a DataFrame.\n",
      "Try using .loc[row_indexer,col_indexer] = value instead\n",
      "\n",
      "See the caveats in the documentation: https://pandas.pydata.org/pandas-docs/stable/user_guide/indexing.html#returning-a-view-versus-a-copy\n",
      "  tvdf['mile'] = tvdf.apply(lambda row: closest_mile_marker(row['X'], row['Y'], data), axis=1)\n"
     ]
    },
    {
     "name": "stdout",
     "output_type": "stream",
     "text": [
      "SH0135\n",
      "FM0321\n",
      "FM0448\n"
     ]
    },
    {
     "name": "stderr",
     "output_type": "stream",
     "text": [
      "/var/folders/fz/qwk5rxqs39gcy8h_0lhy47c80000gn/T/ipykernel_40576/4022452298.py:87: SettingWithCopyWarning: \n",
      "A value is trying to be set on a copy of a slice from a DataFrame.\n",
      "Try using .loc[row_indexer,col_indexer] = value instead\n",
      "\n",
      "See the caveats in the documentation: https://pandas.pydata.org/pandas-docs/stable/user_guide/indexing.html#returning-a-view-versus-a-copy\n",
      "  tvdf['mile'] = tvdf.apply(lambda row: closest_mile_marker(row['X'], row['Y'], data), axis=1)\n",
      "/var/folders/fz/qwk5rxqs39gcy8h_0lhy47c80000gn/T/ipykernel_40576/4022452298.py:87: SettingWithCopyWarning: \n",
      "A value is trying to be set on a copy of a slice from a DataFrame.\n",
      "Try using .loc[row_indexer,col_indexer] = value instead\n",
      "\n",
      "See the caveats in the documentation: https://pandas.pydata.org/pandas-docs/stable/user_guide/indexing.html#returning-a-view-versus-a-copy\n",
      "  tvdf['mile'] = tvdf.apply(lambda row: closest_mile_marker(row['X'], row['Y'], data), axis=1)\n"
     ]
    },
    {
     "name": "stdout",
     "output_type": "stream",
     "text": [
      "SH0132\n",
      "US0259\n"
     ]
    },
    {
     "name": "stderr",
     "output_type": "stream",
     "text": [
      "/var/folders/fz/qwk5rxqs39gcy8h_0lhy47c80000gn/T/ipykernel_40576/4022452298.py:87: SettingWithCopyWarning: \n",
      "A value is trying to be set on a copy of a slice from a DataFrame.\n",
      "Try using .loc[row_indexer,col_indexer] = value instead\n",
      "\n",
      "See the caveats in the documentation: https://pandas.pydata.org/pandas-docs/stable/user_guide/indexing.html#returning-a-view-versus-a-copy\n",
      "  tvdf['mile'] = tvdf.apply(lambda row: closest_mile_marker(row['X'], row['Y'], data), axis=1)\n",
      "/var/folders/fz/qwk5rxqs39gcy8h_0lhy47c80000gn/T/ipykernel_40576/4022452298.py:87: SettingWithCopyWarning: \n",
      "A value is trying to be set on a copy of a slice from a DataFrame.\n",
      "Try using .loc[row_indexer,col_indexer] = value instead\n",
      "\n",
      "See the caveats in the documentation: https://pandas.pydata.org/pandas-docs/stable/user_guide/indexing.html#returning-a-view-versus-a-copy\n",
      "  tvdf['mile'] = tvdf.apply(lambda row: closest_mile_marker(row['X'], row['Y'], data), axis=1)\n",
      "/var/folders/fz/qwk5rxqs39gcy8h_0lhy47c80000gn/T/ipykernel_40576/4022452298.py:87: SettingWithCopyWarning: \n",
      "A value is trying to be set on a copy of a slice from a DataFrame.\n",
      "Try using .loc[row_indexer,col_indexer] = value instead\n",
      "\n",
      "See the caveats in the documentation: https://pandas.pydata.org/pandas-docs/stable/user_guide/indexing.html#returning-a-view-versus-a-copy\n",
      "  tvdf['mile'] = tvdf.apply(lambda row: closest_mile_marker(row['X'], row['Y'], data), axis=1)\n",
      "/var/folders/fz/qwk5rxqs39gcy8h_0lhy47c80000gn/T/ipykernel_40576/4022452298.py:87: SettingWithCopyWarning: \n",
      "A value is trying to be set on a copy of a slice from a DataFrame.\n",
      "Try using .loc[row_indexer,col_indexer] = value instead\n",
      "\n",
      "See the caveats in the documentation: https://pandas.pydata.org/pandas-docs/stable/user_guide/indexing.html#returning-a-view-versus-a-copy\n",
      "  tvdf['mile'] = tvdf.apply(lambda row: closest_mile_marker(row['X'], row['Y'], data), axis=1)\n"
     ]
    },
    {
     "name": "stdout",
     "output_type": "stream",
     "text": [
      "BU0277\n",
      "bad df\n",
      "SL0494\n",
      "FM0799\n",
      "FM0744\n",
      "FM0316\n",
      "FM0106\n"
     ]
    },
    {
     "name": "stderr",
     "output_type": "stream",
     "text": [
      "/var/folders/fz/qwk5rxqs39gcy8h_0lhy47c80000gn/T/ipykernel_40576/4022452298.py:87: SettingWithCopyWarning: \n",
      "A value is trying to be set on a copy of a slice from a DataFrame.\n",
      "Try using .loc[row_indexer,col_indexer] = value instead\n",
      "\n",
      "See the caveats in the documentation: https://pandas.pydata.org/pandas-docs/stable/user_guide/indexing.html#returning-a-view-versus-a-copy\n",
      "  tvdf['mile'] = tvdf.apply(lambda row: closest_mile_marker(row['X'], row['Y'], data), axis=1)\n",
      "/var/folders/fz/qwk5rxqs39gcy8h_0lhy47c80000gn/T/ipykernel_40576/4022452298.py:87: SettingWithCopyWarning: \n",
      "A value is trying to be set on a copy of a slice from a DataFrame.\n",
      "Try using .loc[row_indexer,col_indexer] = value instead\n",
      "\n",
      "See the caveats in the documentation: https://pandas.pydata.org/pandas-docs/stable/user_guide/indexing.html#returning-a-view-versus-a-copy\n",
      "  tvdf['mile'] = tvdf.apply(lambda row: closest_mile_marker(row['X'], row['Y'], data), axis=1)\n",
      "/var/folders/fz/qwk5rxqs39gcy8h_0lhy47c80000gn/T/ipykernel_40576/4022452298.py:87: SettingWithCopyWarning: \n",
      "A value is trying to be set on a copy of a slice from a DataFrame.\n",
      "Try using .loc[row_indexer,col_indexer] = value instead\n",
      "\n",
      "See the caveats in the documentation: https://pandas.pydata.org/pandas-docs/stable/user_guide/indexing.html#returning-a-view-versus-a-copy\n",
      "  tvdf['mile'] = tvdf.apply(lambda row: closest_mile_marker(row['X'], row['Y'], data), axis=1)\n"
     ]
    },
    {
     "name": "stdout",
     "output_type": "stream",
     "text": [
      "SH0156\n",
      "RM1376\n"
     ]
    },
    {
     "name": "stderr",
     "output_type": "stream",
     "text": [
      "/var/folders/fz/qwk5rxqs39gcy8h_0lhy47c80000gn/T/ipykernel_40576/4022452298.py:87: SettingWithCopyWarning: \n",
      "A value is trying to be set on a copy of a slice from a DataFrame.\n",
      "Try using .loc[row_indexer,col_indexer] = value instead\n",
      "\n",
      "See the caveats in the documentation: https://pandas.pydata.org/pandas-docs/stable/user_guide/indexing.html#returning-a-view-versus-a-copy\n",
      "  tvdf['mile'] = tvdf.apply(lambda row: closest_mile_marker(row['X'], row['Y'], data), axis=1)\n",
      "/var/folders/fz/qwk5rxqs39gcy8h_0lhy47c80000gn/T/ipykernel_40576/4022452298.py:87: SettingWithCopyWarning: \n",
      "A value is trying to be set on a copy of a slice from a DataFrame.\n",
      "Try using .loc[row_indexer,col_indexer] = value instead\n",
      "\n",
      "See the caveats in the documentation: https://pandas.pydata.org/pandas-docs/stable/user_guide/indexing.html#returning-a-view-versus-a-copy\n",
      "  tvdf['mile'] = tvdf.apply(lambda row: closest_mile_marker(row['X'], row['Y'], data), axis=1)\n",
      "/var/folders/fz/qwk5rxqs39gcy8h_0lhy47c80000gn/T/ipykernel_40576/4022452298.py:87: SettingWithCopyWarning: \n",
      "A value is trying to be set on a copy of a slice from a DataFrame.\n",
      "Try using .loc[row_indexer,col_indexer] = value instead\n",
      "\n",
      "See the caveats in the documentation: https://pandas.pydata.org/pandas-docs/stable/user_guide/indexing.html#returning-a-view-versus-a-copy\n",
      "  tvdf['mile'] = tvdf.apply(lambda row: closest_mile_marker(row['X'], row['Y'], data), axis=1)\n",
      "/var/folders/fz/qwk5rxqs39gcy8h_0lhy47c80000gn/T/ipykernel_40576/4022452298.py:87: SettingWithCopyWarning: \n",
      "A value is trying to be set on a copy of a slice from a DataFrame.\n",
      "Try using .loc[row_indexer,col_indexer] = value instead\n",
      "\n",
      "See the caveats in the documentation: https://pandas.pydata.org/pandas-docs/stable/user_guide/indexing.html#returning-a-view-versus-a-copy\n",
      "  tvdf['mile'] = tvdf.apply(lambda row: closest_mile_marker(row['X'], row['Y'], data), axis=1)\n"
     ]
    },
    {
     "name": "stdout",
     "output_type": "stream",
     "text": [
      "RM0652\n",
      "FM0093\n",
      "FM0850\n",
      "BU0083\n",
      "bad df\n",
      "FM2028\n"
     ]
    },
    {
     "name": "stderr",
     "output_type": "stream",
     "text": [
      "/var/folders/fz/qwk5rxqs39gcy8h_0lhy47c80000gn/T/ipykernel_40576/4022452298.py:87: SettingWithCopyWarning: \n",
      "A value is trying to be set on a copy of a slice from a DataFrame.\n",
      "Try using .loc[row_indexer,col_indexer] = value instead\n",
      "\n",
      "See the caveats in the documentation: https://pandas.pydata.org/pandas-docs/stable/user_guide/indexing.html#returning-a-view-versus-a-copy\n",
      "  tvdf['mile'] = tvdf.apply(lambda row: closest_mile_marker(row['X'], row['Y'], data), axis=1)\n",
      "/var/folders/fz/qwk5rxqs39gcy8h_0lhy47c80000gn/T/ipykernel_40576/4022452298.py:87: SettingWithCopyWarning: \n",
      "A value is trying to be set on a copy of a slice from a DataFrame.\n",
      "Try using .loc[row_indexer,col_indexer] = value instead\n",
      "\n",
      "See the caveats in the documentation: https://pandas.pydata.org/pandas-docs/stable/user_guide/indexing.html#returning-a-view-versus-a-copy\n",
      "  tvdf['mile'] = tvdf.apply(lambda row: closest_mile_marker(row['X'], row['Y'], data), axis=1)\n",
      "/var/folders/fz/qwk5rxqs39gcy8h_0lhy47c80000gn/T/ipykernel_40576/4022452298.py:87: SettingWithCopyWarning: \n",
      "A value is trying to be set on a copy of a slice from a DataFrame.\n",
      "Try using .loc[row_indexer,col_indexer] = value instead\n",
      "\n",
      "See the caveats in the documentation: https://pandas.pydata.org/pandas-docs/stable/user_guide/indexing.html#returning-a-view-versus-a-copy\n",
      "  tvdf['mile'] = tvdf.apply(lambda row: closest_mile_marker(row['X'], row['Y'], data), axis=1)\n"
     ]
    },
    {
     "name": "stdout",
     "output_type": "stream",
     "text": [
      "FM0195\n",
      "FM3083\n",
      "SH0137\n"
     ]
    },
    {
     "name": "stderr",
     "output_type": "stream",
     "text": [
      "/var/folders/fz/qwk5rxqs39gcy8h_0lhy47c80000gn/T/ipykernel_40576/4022452298.py:87: SettingWithCopyWarning: \n",
      "A value is trying to be set on a copy of a slice from a DataFrame.\n",
      "Try using .loc[row_indexer,col_indexer] = value instead\n",
      "\n",
      "See the caveats in the documentation: https://pandas.pydata.org/pandas-docs/stable/user_guide/indexing.html#returning-a-view-versus-a-copy\n",
      "  tvdf['mile'] = tvdf.apply(lambda row: closest_mile_marker(row['X'], row['Y'], data), axis=1)\n",
      "/var/folders/fz/qwk5rxqs39gcy8h_0lhy47c80000gn/T/ipykernel_40576/4022452298.py:87: SettingWithCopyWarning: \n",
      "A value is trying to be set on a copy of a slice from a DataFrame.\n",
      "Try using .loc[row_indexer,col_indexer] = value instead\n",
      "\n",
      "See the caveats in the documentation: https://pandas.pydata.org/pandas-docs/stable/user_guide/indexing.html#returning-a-view-versus-a-copy\n",
      "  tvdf['mile'] = tvdf.apply(lambda row: closest_mile_marker(row['X'], row['Y'], data), axis=1)\n",
      "/var/folders/fz/qwk5rxqs39gcy8h_0lhy47c80000gn/T/ipykernel_40576/4022452298.py:87: SettingWithCopyWarning: \n",
      "A value is trying to be set on a copy of a slice from a DataFrame.\n",
      "Try using .loc[row_indexer,col_indexer] = value instead\n",
      "\n",
      "See the caveats in the documentation: https://pandas.pydata.org/pandas-docs/stable/user_guide/indexing.html#returning-a-view-versus-a-copy\n",
      "  tvdf['mile'] = tvdf.apply(lambda row: closest_mile_marker(row['X'], row['Y'], data), axis=1)\n",
      "/var/folders/fz/qwk5rxqs39gcy8h_0lhy47c80000gn/T/ipykernel_40576/4022452298.py:87: SettingWithCopyWarning: \n",
      "A value is trying to be set on a copy of a slice from a DataFrame.\n",
      "Try using .loc[row_indexer,col_indexer] = value instead\n",
      "\n",
      "See the caveats in the documentation: https://pandas.pydata.org/pandas-docs/stable/user_guide/indexing.html#returning-a-view-versus-a-copy\n",
      "  tvdf['mile'] = tvdf.apply(lambda row: closest_mile_marker(row['X'], row['Y'], data), axis=1)\n"
     ]
    },
    {
     "name": "stdout",
     "output_type": "stream",
     "text": [
      "FM0716\n",
      "FM0218\n",
      "FM1547\n",
      "BU0287\n",
      "bad df\n",
      "FM1741\n"
     ]
    },
    {
     "name": "stderr",
     "output_type": "stream",
     "text": [
      "/var/folders/fz/qwk5rxqs39gcy8h_0lhy47c80000gn/T/ipykernel_40576/4022452298.py:87: SettingWithCopyWarning: \n",
      "A value is trying to be set on a copy of a slice from a DataFrame.\n",
      "Try using .loc[row_indexer,col_indexer] = value instead\n",
      "\n",
      "See the caveats in the documentation: https://pandas.pydata.org/pandas-docs/stable/user_guide/indexing.html#returning-a-view-versus-a-copy\n",
      "  tvdf['mile'] = tvdf.apply(lambda row: closest_mile_marker(row['X'], row['Y'], data), axis=1)\n",
      "/var/folders/fz/qwk5rxqs39gcy8h_0lhy47c80000gn/T/ipykernel_40576/4022452298.py:87: SettingWithCopyWarning: \n",
      "A value is trying to be set on a copy of a slice from a DataFrame.\n",
      "Try using .loc[row_indexer,col_indexer] = value instead\n",
      "\n",
      "See the caveats in the documentation: https://pandas.pydata.org/pandas-docs/stable/user_guide/indexing.html#returning-a-view-versus-a-copy\n",
      "  tvdf['mile'] = tvdf.apply(lambda row: closest_mile_marker(row['X'], row['Y'], data), axis=1)\n",
      "/var/folders/fz/qwk5rxqs39gcy8h_0lhy47c80000gn/T/ipykernel_40576/4022452298.py:87: SettingWithCopyWarning: \n",
      "A value is trying to be set on a copy of a slice from a DataFrame.\n",
      "Try using .loc[row_indexer,col_indexer] = value instead\n",
      "\n",
      "See the caveats in the documentation: https://pandas.pydata.org/pandas-docs/stable/user_guide/indexing.html#returning-a-view-versus-a-copy\n",
      "  tvdf['mile'] = tvdf.apply(lambda row: closest_mile_marker(row['X'], row['Y'], data), axis=1)\n"
     ]
    },
    {
     "name": "stdout",
     "output_type": "stream",
     "text": [
      "FM0031\n",
      "SL0013\n",
      "US0081\n"
     ]
    },
    {
     "name": "stderr",
     "output_type": "stream",
     "text": [
      "/var/folders/fz/qwk5rxqs39gcy8h_0lhy47c80000gn/T/ipykernel_40576/4022452298.py:87: SettingWithCopyWarning: \n",
      "A value is trying to be set on a copy of a slice from a DataFrame.\n",
      "Try using .loc[row_indexer,col_indexer] = value instead\n",
      "\n",
      "See the caveats in the documentation: https://pandas.pydata.org/pandas-docs/stable/user_guide/indexing.html#returning-a-view-versus-a-copy\n",
      "  tvdf['mile'] = tvdf.apply(lambda row: closest_mile_marker(row['X'], row['Y'], data), axis=1)\n",
      "/var/folders/fz/qwk5rxqs39gcy8h_0lhy47c80000gn/T/ipykernel_40576/4022452298.py:87: SettingWithCopyWarning: \n",
      "A value is trying to be set on a copy of a slice from a DataFrame.\n",
      "Try using .loc[row_indexer,col_indexer] = value instead\n",
      "\n",
      "See the caveats in the documentation: https://pandas.pydata.org/pandas-docs/stable/user_guide/indexing.html#returning-a-view-versus-a-copy\n",
      "  tvdf['mile'] = tvdf.apply(lambda row: closest_mile_marker(row['X'], row['Y'], data), axis=1)\n",
      "/var/folders/fz/qwk5rxqs39gcy8h_0lhy47c80000gn/T/ipykernel_40576/4022452298.py:87: SettingWithCopyWarning: \n",
      "A value is trying to be set on a copy of a slice from a DataFrame.\n",
      "Try using .loc[row_indexer,col_indexer] = value instead\n",
      "\n",
      "See the caveats in the documentation: https://pandas.pydata.org/pandas-docs/stable/user_guide/indexing.html#returning-a-view-versus-a-copy\n",
      "  tvdf['mile'] = tvdf.apply(lambda row: closest_mile_marker(row['X'], row['Y'], data), axis=1)\n",
      "/var/folders/fz/qwk5rxqs39gcy8h_0lhy47c80000gn/T/ipykernel_40576/4022452298.py:87: SettingWithCopyWarning: \n",
      "A value is trying to be set on a copy of a slice from a DataFrame.\n",
      "Try using .loc[row_indexer,col_indexer] = value instead\n",
      "\n",
      "See the caveats in the documentation: https://pandas.pydata.org/pandas-docs/stable/user_guide/indexing.html#returning-a-view-versus-a-copy\n",
      "  tvdf['mile'] = tvdf.apply(lambda row: closest_mile_marker(row['X'], row['Y'], data), axis=1)\n"
     ]
    },
    {
     "name": "stdout",
     "output_type": "stream",
     "text": [
      "FM0935\n",
      "FM0413\n",
      "FM0148\n",
      "FM0356\n"
     ]
    },
    {
     "name": "stderr",
     "output_type": "stream",
     "text": [
      "/var/folders/fz/qwk5rxqs39gcy8h_0lhy47c80000gn/T/ipykernel_40576/4022452298.py:87: SettingWithCopyWarning: \n",
      "A value is trying to be set on a copy of a slice from a DataFrame.\n",
      "Try using .loc[row_indexer,col_indexer] = value instead\n",
      "\n",
      "See the caveats in the documentation: https://pandas.pydata.org/pandas-docs/stable/user_guide/indexing.html#returning-a-view-versus-a-copy\n",
      "  tvdf['mile'] = tvdf.apply(lambda row: closest_mile_marker(row['X'], row['Y'], data), axis=1)\n",
      "/var/folders/fz/qwk5rxqs39gcy8h_0lhy47c80000gn/T/ipykernel_40576/4022452298.py:87: SettingWithCopyWarning: \n",
      "A value is trying to be set on a copy of a slice from a DataFrame.\n",
      "Try using .loc[row_indexer,col_indexer] = value instead\n",
      "\n",
      "See the caveats in the documentation: https://pandas.pydata.org/pandas-docs/stable/user_guide/indexing.html#returning-a-view-versus-a-copy\n",
      "  tvdf['mile'] = tvdf.apply(lambda row: closest_mile_marker(row['X'], row['Y'], data), axis=1)\n",
      "/var/folders/fz/qwk5rxqs39gcy8h_0lhy47c80000gn/T/ipykernel_40576/4022452298.py:87: SettingWithCopyWarning: \n",
      "A value is trying to be set on a copy of a slice from a DataFrame.\n",
      "Try using .loc[row_indexer,col_indexer] = value instead\n",
      "\n",
      "See the caveats in the documentation: https://pandas.pydata.org/pandas-docs/stable/user_guide/indexing.html#returning-a-view-versus-a-copy\n",
      "  tvdf['mile'] = tvdf.apply(lambda row: closest_mile_marker(row['X'], row['Y'], data), axis=1)\n",
      "/var/folders/fz/qwk5rxqs39gcy8h_0lhy47c80000gn/T/ipykernel_40576/4022452298.py:87: SettingWithCopyWarning: \n",
      "A value is trying to be set on a copy of a slice from a DataFrame.\n",
      "Try using .loc[row_indexer,col_indexer] = value instead\n",
      "\n",
      "See the caveats in the documentation: https://pandas.pydata.org/pandas-docs/stable/user_guide/indexing.html#returning-a-view-versus-a-copy\n",
      "  tvdf['mile'] = tvdf.apply(lambda row: closest_mile_marker(row['X'], row['Y'], data), axis=1)\n",
      "/var/folders/fz/qwk5rxqs39gcy8h_0lhy47c80000gn/T/ipykernel_40576/4022452298.py:87: SettingWithCopyWarning: \n",
      "A value is trying to be set on a copy of a slice from a DataFrame.\n",
      "Try using .loc[row_indexer,col_indexer] = value instead\n",
      "\n",
      "See the caveats in the documentation: https://pandas.pydata.org/pandas-docs/stable/user_guide/indexing.html#returning-a-view-versus-a-copy\n",
      "  tvdf['mile'] = tvdf.apply(lambda row: closest_mile_marker(row['X'], row['Y'], data), axis=1)\n"
     ]
    },
    {
     "name": "stdout",
     "output_type": "stream",
     "text": [
      "FM1957\n",
      "FM0900\n",
      "FM0431\n",
      "FM0046\n",
      "FM1161\n"
     ]
    },
    {
     "name": "stderr",
     "output_type": "stream",
     "text": [
      "/var/folders/fz/qwk5rxqs39gcy8h_0lhy47c80000gn/T/ipykernel_40576/4022452298.py:87: SettingWithCopyWarning: \n",
      "A value is trying to be set on a copy of a slice from a DataFrame.\n",
      "Try using .loc[row_indexer,col_indexer] = value instead\n",
      "\n",
      "See the caveats in the documentation: https://pandas.pydata.org/pandas-docs/stable/user_guide/indexing.html#returning-a-view-versus-a-copy\n",
      "  tvdf['mile'] = tvdf.apply(lambda row: closest_mile_marker(row['X'], row['Y'], data), axis=1)\n",
      "/var/folders/fz/qwk5rxqs39gcy8h_0lhy47c80000gn/T/ipykernel_40576/4022452298.py:87: SettingWithCopyWarning: \n",
      "A value is trying to be set on a copy of a slice from a DataFrame.\n",
      "Try using .loc[row_indexer,col_indexer] = value instead\n",
      "\n",
      "See the caveats in the documentation: https://pandas.pydata.org/pandas-docs/stable/user_guide/indexing.html#returning-a-view-versus-a-copy\n",
      "  tvdf['mile'] = tvdf.apply(lambda row: closest_mile_marker(row['X'], row['Y'], data), axis=1)\n",
      "/var/folders/fz/qwk5rxqs39gcy8h_0lhy47c80000gn/T/ipykernel_40576/4022452298.py:87: SettingWithCopyWarning: \n",
      "A value is trying to be set on a copy of a slice from a DataFrame.\n",
      "Try using .loc[row_indexer,col_indexer] = value instead\n",
      "\n",
      "See the caveats in the documentation: https://pandas.pydata.org/pandas-docs/stable/user_guide/indexing.html#returning-a-view-versus-a-copy\n",
      "  tvdf['mile'] = tvdf.apply(lambda row: closest_mile_marker(row['X'], row['Y'], data), axis=1)\n",
      "/var/folders/fz/qwk5rxqs39gcy8h_0lhy47c80000gn/T/ipykernel_40576/4022452298.py:87: SettingWithCopyWarning: \n",
      "A value is trying to be set on a copy of a slice from a DataFrame.\n",
      "Try using .loc[row_indexer,col_indexer] = value instead\n",
      "\n",
      "See the caveats in the documentation: https://pandas.pydata.org/pandas-docs/stable/user_guide/indexing.html#returning-a-view-versus-a-copy\n",
      "  tvdf['mile'] = tvdf.apply(lambda row: closest_mile_marker(row['X'], row['Y'], data), axis=1)\n",
      "/var/folders/fz/qwk5rxqs39gcy8h_0lhy47c80000gn/T/ipykernel_40576/4022452298.py:87: SettingWithCopyWarning: \n",
      "A value is trying to be set on a copy of a slice from a DataFrame.\n",
      "Try using .loc[row_indexer,col_indexer] = value instead\n",
      "\n",
      "See the caveats in the documentation: https://pandas.pydata.org/pandas-docs/stable/user_guide/indexing.html#returning-a-view-versus-a-copy\n",
      "  tvdf['mile'] = tvdf.apply(lambda row: closest_mile_marker(row['X'], row['Y'], data), axis=1)\n"
     ]
    },
    {
     "name": "stdout",
     "output_type": "stream",
     "text": [
      "FM0778\n",
      "FM0888\n",
      "RM2084\n",
      "FM0229\n",
      "SH0107\n"
     ]
    },
    {
     "name": "stderr",
     "output_type": "stream",
     "text": [
      "/var/folders/fz/qwk5rxqs39gcy8h_0lhy47c80000gn/T/ipykernel_40576/4022452298.py:87: SettingWithCopyWarning: \n",
      "A value is trying to be set on a copy of a slice from a DataFrame.\n",
      "Try using .loc[row_indexer,col_indexer] = value instead\n",
      "\n",
      "See the caveats in the documentation: https://pandas.pydata.org/pandas-docs/stable/user_guide/indexing.html#returning-a-view-versus-a-copy\n",
      "  tvdf['mile'] = tvdf.apply(lambda row: closest_mile_marker(row['X'], row['Y'], data), axis=1)\n",
      "/var/folders/fz/qwk5rxqs39gcy8h_0lhy47c80000gn/T/ipykernel_40576/4022452298.py:87: SettingWithCopyWarning: \n",
      "A value is trying to be set on a copy of a slice from a DataFrame.\n",
      "Try using .loc[row_indexer,col_indexer] = value instead\n",
      "\n",
      "See the caveats in the documentation: https://pandas.pydata.org/pandas-docs/stable/user_guide/indexing.html#returning-a-view-versus-a-copy\n",
      "  tvdf['mile'] = tvdf.apply(lambda row: closest_mile_marker(row['X'], row['Y'], data), axis=1)\n",
      "/var/folders/fz/qwk5rxqs39gcy8h_0lhy47c80000gn/T/ipykernel_40576/4022452298.py:87: SettingWithCopyWarning: \n",
      "A value is trying to be set on a copy of a slice from a DataFrame.\n",
      "Try using .loc[row_indexer,col_indexer] = value instead\n",
      "\n",
      "See the caveats in the documentation: https://pandas.pydata.org/pandas-docs/stable/user_guide/indexing.html#returning-a-view-versus-a-copy\n",
      "  tvdf['mile'] = tvdf.apply(lambda row: closest_mile_marker(row['X'], row['Y'], data), axis=1)\n",
      "/var/folders/fz/qwk5rxqs39gcy8h_0lhy47c80000gn/T/ipykernel_40576/4022452298.py:87: SettingWithCopyWarning: \n",
      "A value is trying to be set on a copy of a slice from a DataFrame.\n",
      "Try using .loc[row_indexer,col_indexer] = value instead\n",
      "\n",
      "See the caveats in the documentation: https://pandas.pydata.org/pandas-docs/stable/user_guide/indexing.html#returning-a-view-versus-a-copy\n",
      "  tvdf['mile'] = tvdf.apply(lambda row: closest_mile_marker(row['X'], row['Y'], data), axis=1)\n"
     ]
    },
    {
     "name": "stdout",
     "output_type": "stream",
     "text": [
      "FM0174\n",
      "FM0532\n",
      "FM0779\n",
      "FM0787\n"
     ]
    },
    {
     "name": "stderr",
     "output_type": "stream",
     "text": [
      "/var/folders/fz/qwk5rxqs39gcy8h_0lhy47c80000gn/T/ipykernel_40576/4022452298.py:87: SettingWithCopyWarning: \n",
      "A value is trying to be set on a copy of a slice from a DataFrame.\n",
      "Try using .loc[row_indexer,col_indexer] = value instead\n",
      "\n",
      "See the caveats in the documentation: https://pandas.pydata.org/pandas-docs/stable/user_guide/indexing.html#returning-a-view-versus-a-copy\n",
      "  tvdf['mile'] = tvdf.apply(lambda row: closest_mile_marker(row['X'], row['Y'], data), axis=1)\n"
     ]
    },
    {
     "name": "stdout",
     "output_type": "stream",
     "text": [
      "IH0020\n"
     ]
    },
    {
     "name": "stderr",
     "output_type": "stream",
     "text": [
      "/var/folders/fz/qwk5rxqs39gcy8h_0lhy47c80000gn/T/ipykernel_40576/4022452298.py:87: SettingWithCopyWarning: \n",
      "A value is trying to be set on a copy of a slice from a DataFrame.\n",
      "Try using .loc[row_indexer,col_indexer] = value instead\n",
      "\n",
      "See the caveats in the documentation: https://pandas.pydata.org/pandas-docs/stable/user_guide/indexing.html#returning-a-view-versus-a-copy\n",
      "  tvdf['mile'] = tvdf.apply(lambda row: closest_mile_marker(row['X'], row['Y'], data), axis=1)\n",
      "/var/folders/fz/qwk5rxqs39gcy8h_0lhy47c80000gn/T/ipykernel_40576/4022452298.py:87: SettingWithCopyWarning: \n",
      "A value is trying to be set on a copy of a slice from a DataFrame.\n",
      "Try using .loc[row_indexer,col_indexer] = value instead\n",
      "\n",
      "See the caveats in the documentation: https://pandas.pydata.org/pandas-docs/stable/user_guide/indexing.html#returning-a-view-versus-a-copy\n",
      "  tvdf['mile'] = tvdf.apply(lambda row: closest_mile_marker(row['X'], row['Y'], data), axis=1)\n"
     ]
    },
    {
     "name": "stdout",
     "output_type": "stream",
     "text": [
      "FM2311\n",
      "US0380\n"
     ]
    },
    {
     "name": "stderr",
     "output_type": "stream",
     "text": [
      "/var/folders/fz/qwk5rxqs39gcy8h_0lhy47c80000gn/T/ipykernel_40576/4022452298.py:87: SettingWithCopyWarning: \n",
      "A value is trying to be set on a copy of a slice from a DataFrame.\n",
      "Try using .loc[row_indexer,col_indexer] = value instead\n",
      "\n",
      "See the caveats in the documentation: https://pandas.pydata.org/pandas-docs/stable/user_guide/indexing.html#returning-a-view-versus-a-copy\n",
      "  tvdf['mile'] = tvdf.apply(lambda row: closest_mile_marker(row['X'], row['Y'], data), axis=1)\n"
     ]
    },
    {
     "name": "stdout",
     "output_type": "stream",
     "text": [
      "FM0281\n"
     ]
    },
    {
     "name": "stderr",
     "output_type": "stream",
     "text": [
      "/var/folders/fz/qwk5rxqs39gcy8h_0lhy47c80000gn/T/ipykernel_40576/4022452298.py:87: SettingWithCopyWarning: \n",
      "A value is trying to be set on a copy of a slice from a DataFrame.\n",
      "Try using .loc[row_indexer,col_indexer] = value instead\n",
      "\n",
      "See the caveats in the documentation: https://pandas.pydata.org/pandas-docs/stable/user_guide/indexing.html#returning-a-view-versus-a-copy\n",
      "  tvdf['mile'] = tvdf.apply(lambda row: closest_mile_marker(row['X'], row['Y'], data), axis=1)\n",
      "/var/folders/fz/qwk5rxqs39gcy8h_0lhy47c80000gn/T/ipykernel_40576/4022452298.py:87: SettingWithCopyWarning: \n",
      "A value is trying to be set on a copy of a slice from a DataFrame.\n",
      "Try using .loc[row_indexer,col_indexer] = value instead\n",
      "\n",
      "See the caveats in the documentation: https://pandas.pydata.org/pandas-docs/stable/user_guide/indexing.html#returning-a-view-versus-a-copy\n",
      "  tvdf['mile'] = tvdf.apply(lambda row: closest_mile_marker(row['X'], row['Y'], data), axis=1)\n"
     ]
    },
    {
     "name": "stdout",
     "output_type": "stream",
     "text": [
      "FM0510\n",
      "SH0045\n"
     ]
    },
    {
     "name": "stderr",
     "output_type": "stream",
     "text": [
      "/var/folders/fz/qwk5rxqs39gcy8h_0lhy47c80000gn/T/ipykernel_40576/4022452298.py:87: SettingWithCopyWarning: \n",
      "A value is trying to be set on a copy of a slice from a DataFrame.\n",
      "Try using .loc[row_indexer,col_indexer] = value instead\n",
      "\n",
      "See the caveats in the documentation: https://pandas.pydata.org/pandas-docs/stable/user_guide/indexing.html#returning-a-view-versus-a-copy\n",
      "  tvdf['mile'] = tvdf.apply(lambda row: closest_mile_marker(row['X'], row['Y'], data), axis=1)\n",
      "/var/folders/fz/qwk5rxqs39gcy8h_0lhy47c80000gn/T/ipykernel_40576/4022452298.py:87: SettingWithCopyWarning: \n",
      "A value is trying to be set on a copy of a slice from a DataFrame.\n",
      "Try using .loc[row_indexer,col_indexer] = value instead\n",
      "\n",
      "See the caveats in the documentation: https://pandas.pydata.org/pandas-docs/stable/user_guide/indexing.html#returning-a-view-versus-a-copy\n",
      "  tvdf['mile'] = tvdf.apply(lambda row: closest_mile_marker(row['X'], row['Y'], data), axis=1)\n",
      "/var/folders/fz/qwk5rxqs39gcy8h_0lhy47c80000gn/T/ipykernel_40576/4022452298.py:87: SettingWithCopyWarning: \n",
      "A value is trying to be set on a copy of a slice from a DataFrame.\n",
      "Try using .loc[row_indexer,col_indexer] = value instead\n",
      "\n",
      "See the caveats in the documentation: https://pandas.pydata.org/pandas-docs/stable/user_guide/indexing.html#returning-a-view-versus-a-copy\n",
      "  tvdf['mile'] = tvdf.apply(lambda row: closest_mile_marker(row['X'], row['Y'], data), axis=1)\n",
      "/var/folders/fz/qwk5rxqs39gcy8h_0lhy47c80000gn/T/ipykernel_40576/4022452298.py:87: SettingWithCopyWarning: \n",
      "A value is trying to be set on a copy of a slice from a DataFrame.\n",
      "Try using .loc[row_indexer,col_indexer] = value instead\n",
      "\n",
      "See the caveats in the documentation: https://pandas.pydata.org/pandas-docs/stable/user_guide/indexing.html#returning-a-view-versus-a-copy\n",
      "  tvdf['mile'] = tvdf.apply(lambda row: closest_mile_marker(row['X'], row['Y'], data), axis=1)\n"
     ]
    },
    {
     "name": "stdout",
     "output_type": "stream",
     "text": [
      "FM2276\n",
      "FM0548\n",
      "FM0380\n",
      "FM0060\n"
     ]
    },
    {
     "name": "stderr",
     "output_type": "stream",
     "text": [
      "/var/folders/fz/qwk5rxqs39gcy8h_0lhy47c80000gn/T/ipykernel_40576/4022452298.py:87: SettingWithCopyWarning: \n",
      "A value is trying to be set on a copy of a slice from a DataFrame.\n",
      "Try using .loc[row_indexer,col_indexer] = value instead\n",
      "\n",
      "See the caveats in the documentation: https://pandas.pydata.org/pandas-docs/stable/user_guide/indexing.html#returning-a-view-versus-a-copy\n",
      "  tvdf['mile'] = tvdf.apply(lambda row: closest_mile_marker(row['X'], row['Y'], data), axis=1)\n"
     ]
    },
    {
     "name": "stdout",
     "output_type": "stream",
     "text": [
      "SH0015\n"
     ]
    },
    {
     "name": "stderr",
     "output_type": "stream",
     "text": [
      "/var/folders/fz/qwk5rxqs39gcy8h_0lhy47c80000gn/T/ipykernel_40576/4022452298.py:87: SettingWithCopyWarning: \n",
      "A value is trying to be set on a copy of a slice from a DataFrame.\n",
      "Try using .loc[row_indexer,col_indexer] = value instead\n",
      "\n",
      "See the caveats in the documentation: https://pandas.pydata.org/pandas-docs/stable/user_guide/indexing.html#returning-a-view-versus-a-copy\n",
      "  tvdf['mile'] = tvdf.apply(lambda row: closest_mile_marker(row['X'], row['Y'], data), axis=1)\n"
     ]
    },
    {
     "name": "stdout",
     "output_type": "stream",
     "text": [
      "FM0004\n"
     ]
    },
    {
     "name": "stderr",
     "output_type": "stream",
     "text": [
      "/var/folders/fz/qwk5rxqs39gcy8h_0lhy47c80000gn/T/ipykernel_40576/4022452298.py:87: SettingWithCopyWarning: \n",
      "A value is trying to be set on a copy of a slice from a DataFrame.\n",
      "Try using .loc[row_indexer,col_indexer] = value instead\n",
      "\n",
      "See the caveats in the documentation: https://pandas.pydata.org/pandas-docs/stable/user_guide/indexing.html#returning-a-view-versus-a-copy\n",
      "  tvdf['mile'] = tvdf.apply(lambda row: closest_mile_marker(row['X'], row['Y'], data), axis=1)\n"
     ]
    },
    {
     "name": "stdout",
     "output_type": "stream",
     "text": [
      "SH0016\n"
     ]
    },
    {
     "name": "stderr",
     "output_type": "stream",
     "text": [
      "/var/folders/fz/qwk5rxqs39gcy8h_0lhy47c80000gn/T/ipykernel_40576/4022452298.py:87: SettingWithCopyWarning: \n",
      "A value is trying to be set on a copy of a slice from a DataFrame.\n",
      "Try using .loc[row_indexer,col_indexer] = value instead\n",
      "\n",
      "See the caveats in the documentation: https://pandas.pydata.org/pandas-docs/stable/user_guide/indexing.html#returning-a-view-versus-a-copy\n",
      "  tvdf['mile'] = tvdf.apply(lambda row: closest_mile_marker(row['X'], row['Y'], data), axis=1)\n",
      "/var/folders/fz/qwk5rxqs39gcy8h_0lhy47c80000gn/T/ipykernel_40576/4022452298.py:87: SettingWithCopyWarning: \n",
      "A value is trying to be set on a copy of a slice from a DataFrame.\n",
      "Try using .loc[row_indexer,col_indexer] = value instead\n",
      "\n",
      "See the caveats in the documentation: https://pandas.pydata.org/pandas-docs/stable/user_guide/indexing.html#returning-a-view-versus-a-copy\n",
      "  tvdf['mile'] = tvdf.apply(lambda row: closest_mile_marker(row['X'], row['Y'], data), axis=1)\n"
     ]
    },
    {
     "name": "stdout",
     "output_type": "stream",
     "text": [
      "BU0281\n",
      "bad df\n",
      "FM1585\n",
      "FM1442\n",
      "FM0069\n"
     ]
    },
    {
     "name": "stderr",
     "output_type": "stream",
     "text": [
      "/var/folders/fz/qwk5rxqs39gcy8h_0lhy47c80000gn/T/ipykernel_40576/4022452298.py:87: SettingWithCopyWarning: \n",
      "A value is trying to be set on a copy of a slice from a DataFrame.\n",
      "Try using .loc[row_indexer,col_indexer] = value instead\n",
      "\n",
      "See the caveats in the documentation: https://pandas.pydata.org/pandas-docs/stable/user_guide/indexing.html#returning-a-view-versus-a-copy\n",
      "  tvdf['mile'] = tvdf.apply(lambda row: closest_mile_marker(row['X'], row['Y'], data), axis=1)\n",
      "/var/folders/fz/qwk5rxqs39gcy8h_0lhy47c80000gn/T/ipykernel_40576/4022452298.py:87: SettingWithCopyWarning: \n",
      "A value is trying to be set on a copy of a slice from a DataFrame.\n",
      "Try using .loc[row_indexer,col_indexer] = value instead\n",
      "\n",
      "See the caveats in the documentation: https://pandas.pydata.org/pandas-docs/stable/user_guide/indexing.html#returning-a-view-versus-a-copy\n",
      "  tvdf['mile'] = tvdf.apply(lambda row: closest_mile_marker(row['X'], row['Y'], data), axis=1)\n",
      "/var/folders/fz/qwk5rxqs39gcy8h_0lhy47c80000gn/T/ipykernel_40576/4022452298.py:87: SettingWithCopyWarning: \n",
      "A value is trying to be set on a copy of a slice from a DataFrame.\n",
      "Try using .loc[row_indexer,col_indexer] = value instead\n",
      "\n",
      "See the caveats in the documentation: https://pandas.pydata.org/pandas-docs/stable/user_guide/indexing.html#returning-a-view-versus-a-copy\n",
      "  tvdf['mile'] = tvdf.apply(lambda row: closest_mile_marker(row['X'], row['Y'], data), axis=1)\n",
      "/var/folders/fz/qwk5rxqs39gcy8h_0lhy47c80000gn/T/ipykernel_40576/4022452298.py:87: SettingWithCopyWarning: \n",
      "A value is trying to be set on a copy of a slice from a DataFrame.\n",
      "Try using .loc[row_indexer,col_indexer] = value instead\n",
      "\n",
      "See the caveats in the documentation: https://pandas.pydata.org/pandas-docs/stable/user_guide/indexing.html#returning-a-view-versus-a-copy\n",
      "  tvdf['mile'] = tvdf.apply(lambda row: closest_mile_marker(row['X'], row['Y'], data), axis=1)\n"
     ]
    },
    {
     "name": "stdout",
     "output_type": "stream",
     "text": [
      "FM0008\n",
      "FM0388\n",
      "FM0009\n",
      "SS0503\n",
      "FM0317\n"
     ]
    },
    {
     "name": "stderr",
     "output_type": "stream",
     "text": [
      "/var/folders/fz/qwk5rxqs39gcy8h_0lhy47c80000gn/T/ipykernel_40576/4022452298.py:87: SettingWithCopyWarning: \n",
      "A value is trying to be set on a copy of a slice from a DataFrame.\n",
      "Try using .loc[row_indexer,col_indexer] = value instead\n",
      "\n",
      "See the caveats in the documentation: https://pandas.pydata.org/pandas-docs/stable/user_guide/indexing.html#returning-a-view-versus-a-copy\n",
      "  tvdf['mile'] = tvdf.apply(lambda row: closest_mile_marker(row['X'], row['Y'], data), axis=1)\n",
      "/var/folders/fz/qwk5rxqs39gcy8h_0lhy47c80000gn/T/ipykernel_40576/4022452298.py:87: SettingWithCopyWarning: \n",
      "A value is trying to be set on a copy of a slice from a DataFrame.\n",
      "Try using .loc[row_indexer,col_indexer] = value instead\n",
      "\n",
      "See the caveats in the documentation: https://pandas.pydata.org/pandas-docs/stable/user_guide/indexing.html#returning-a-view-versus-a-copy\n",
      "  tvdf['mile'] = tvdf.apply(lambda row: closest_mile_marker(row['X'], row['Y'], data), axis=1)\n",
      "/var/folders/fz/qwk5rxqs39gcy8h_0lhy47c80000gn/T/ipykernel_40576/4022452298.py:87: SettingWithCopyWarning: \n",
      "A value is trying to be set on a copy of a slice from a DataFrame.\n",
      "Try using .loc[row_indexer,col_indexer] = value instead\n",
      "\n",
      "See the caveats in the documentation: https://pandas.pydata.org/pandas-docs/stable/user_guide/indexing.html#returning-a-view-versus-a-copy\n",
      "  tvdf['mile'] = tvdf.apply(lambda row: closest_mile_marker(row['X'], row['Y'], data), axis=1)\n"
     ]
    },
    {
     "name": "stdout",
     "output_type": "stream",
     "text": [
      "SH0031\n"
     ]
    },
    {
     "name": "stderr",
     "output_type": "stream",
     "text": [
      "/var/folders/fz/qwk5rxqs39gcy8h_0lhy47c80000gn/T/ipykernel_40576/4022452298.py:87: SettingWithCopyWarning: \n",
      "A value is trying to be set on a copy of a slice from a DataFrame.\n",
      "Try using .loc[row_indexer,col_indexer] = value instead\n",
      "\n",
      "See the caveats in the documentation: https://pandas.pydata.org/pandas-docs/stable/user_guide/indexing.html#returning-a-view-versus-a-copy\n",
      "  tvdf['mile'] = tvdf.apply(lambda row: closest_mile_marker(row['X'], row['Y'], data), axis=1)\n",
      "/var/folders/fz/qwk5rxqs39gcy8h_0lhy47c80000gn/T/ipykernel_40576/4022452298.py:87: SettingWithCopyWarning: \n",
      "A value is trying to be set on a copy of a slice from a DataFrame.\n",
      "Try using .loc[row_indexer,col_indexer] = value instead\n",
      "\n",
      "See the caveats in the documentation: https://pandas.pydata.org/pandas-docs/stable/user_guide/indexing.html#returning-a-view-versus-a-copy\n",
      "  tvdf['mile'] = tvdf.apply(lambda row: closest_mile_marker(row['X'], row['Y'], data), axis=1)\n",
      "/var/folders/fz/qwk5rxqs39gcy8h_0lhy47c80000gn/T/ipykernel_40576/4022452298.py:87: SettingWithCopyWarning: \n",
      "A value is trying to be set on a copy of a slice from a DataFrame.\n",
      "Try using .loc[row_indexer,col_indexer] = value instead\n",
      "\n",
      "See the caveats in the documentation: https://pandas.pydata.org/pandas-docs/stable/user_guide/indexing.html#returning-a-view-versus-a-copy\n",
      "  tvdf['mile'] = tvdf.apply(lambda row: closest_mile_marker(row['X'], row['Y'], data), axis=1)\n",
      "/var/folders/fz/qwk5rxqs39gcy8h_0lhy47c80000gn/T/ipykernel_40576/4022452298.py:87: SettingWithCopyWarning: \n",
      "A value is trying to be set on a copy of a slice from a DataFrame.\n",
      "Try using .loc[row_indexer,col_indexer] = value instead\n",
      "\n",
      "See the caveats in the documentation: https://pandas.pydata.org/pandas-docs/stable/user_guide/indexing.html#returning-a-view-versus-a-copy\n",
      "  tvdf['mile'] = tvdf.apply(lambda row: closest_mile_marker(row['X'], row['Y'], data), axis=1)\n",
      "/var/folders/fz/qwk5rxqs39gcy8h_0lhy47c80000gn/T/ipykernel_40576/4022452298.py:87: SettingWithCopyWarning: \n",
      "A value is trying to be set on a copy of a slice from a DataFrame.\n",
      "Try using .loc[row_indexer,col_indexer] = value instead\n",
      "\n",
      "See the caveats in the documentation: https://pandas.pydata.org/pandas-docs/stable/user_guide/indexing.html#returning-a-view-versus-a-copy\n",
      "  tvdf['mile'] = tvdf.apply(lambda row: closest_mile_marker(row['X'], row['Y'], data), axis=1)\n"
     ]
    },
    {
     "name": "stdout",
     "output_type": "stream",
     "text": [
      "FM1887\n",
      "FM0513\n",
      "SH0342\n",
      "FM0508\n",
      "SH0176\n"
     ]
    },
    {
     "name": "stderr",
     "output_type": "stream",
     "text": [
      "/var/folders/fz/qwk5rxqs39gcy8h_0lhy47c80000gn/T/ipykernel_40576/4022452298.py:87: SettingWithCopyWarning: \n",
      "A value is trying to be set on a copy of a slice from a DataFrame.\n",
      "Try using .loc[row_indexer,col_indexer] = value instead\n",
      "\n",
      "See the caveats in the documentation: https://pandas.pydata.org/pandas-docs/stable/user_guide/indexing.html#returning-a-view-versus-a-copy\n",
      "  tvdf['mile'] = tvdf.apply(lambda row: closest_mile_marker(row['X'], row['Y'], data), axis=1)\n",
      "/var/folders/fz/qwk5rxqs39gcy8h_0lhy47c80000gn/T/ipykernel_40576/4022452298.py:87: SettingWithCopyWarning: \n",
      "A value is trying to be set on a copy of a slice from a DataFrame.\n",
      "Try using .loc[row_indexer,col_indexer] = value instead\n",
      "\n",
      "See the caveats in the documentation: https://pandas.pydata.org/pandas-docs/stable/user_guide/indexing.html#returning-a-view-versus-a-copy\n",
      "  tvdf['mile'] = tvdf.apply(lambda row: closest_mile_marker(row['X'], row['Y'], data), axis=1)\n",
      "/var/folders/fz/qwk5rxqs39gcy8h_0lhy47c80000gn/T/ipykernel_40576/4022452298.py:87: SettingWithCopyWarning: \n",
      "A value is trying to be set on a copy of a slice from a DataFrame.\n",
      "Try using .loc[row_indexer,col_indexer] = value instead\n",
      "\n",
      "See the caveats in the documentation: https://pandas.pydata.org/pandas-docs/stable/user_guide/indexing.html#returning-a-view-versus-a-copy\n",
      "  tvdf['mile'] = tvdf.apply(lambda row: closest_mile_marker(row['X'], row['Y'], data), axis=1)\n",
      "/var/folders/fz/qwk5rxqs39gcy8h_0lhy47c80000gn/T/ipykernel_40576/4022452298.py:87: SettingWithCopyWarning: \n",
      "A value is trying to be set on a copy of a slice from a DataFrame.\n",
      "Try using .loc[row_indexer,col_indexer] = value instead\n",
      "\n",
      "See the caveats in the documentation: https://pandas.pydata.org/pandas-docs/stable/user_guide/indexing.html#returning-a-view-versus-a-copy\n",
      "  tvdf['mile'] = tvdf.apply(lambda row: closest_mile_marker(row['X'], row['Y'], data), axis=1)\n"
     ]
    },
    {
     "name": "stdout",
     "output_type": "stream",
     "text": [
      "FM0518\n",
      "FM1692\n",
      "FM1925\n",
      "FM0219\n"
     ]
    },
    {
     "name": "stderr",
     "output_type": "stream",
     "text": [
      "/var/folders/fz/qwk5rxqs39gcy8h_0lhy47c80000gn/T/ipykernel_40576/4022452298.py:87: SettingWithCopyWarning: \n",
      "A value is trying to be set on a copy of a slice from a DataFrame.\n",
      "Try using .loc[row_indexer,col_indexer] = value instead\n",
      "\n",
      "See the caveats in the documentation: https://pandas.pydata.org/pandas-docs/stable/user_guide/indexing.html#returning-a-view-versus-a-copy\n",
      "  tvdf['mile'] = tvdf.apply(lambda row: closest_mile_marker(row['X'], row['Y'], data), axis=1)\n",
      "/var/folders/fz/qwk5rxqs39gcy8h_0lhy47c80000gn/T/ipykernel_40576/4022452298.py:87: SettingWithCopyWarning: \n",
      "A value is trying to be set on a copy of a slice from a DataFrame.\n",
      "Try using .loc[row_indexer,col_indexer] = value instead\n",
      "\n",
      "See the caveats in the documentation: https://pandas.pydata.org/pandas-docs/stable/user_guide/indexing.html#returning-a-view-versus-a-copy\n",
      "  tvdf['mile'] = tvdf.apply(lambda row: closest_mile_marker(row['X'], row['Y'], data), axis=1)\n",
      "/var/folders/fz/qwk5rxqs39gcy8h_0lhy47c80000gn/T/ipykernel_40576/4022452298.py:87: SettingWithCopyWarning: \n",
      "A value is trying to be set on a copy of a slice from a DataFrame.\n",
      "Try using .loc[row_indexer,col_indexer] = value instead\n",
      "\n",
      "See the caveats in the documentation: https://pandas.pydata.org/pandas-docs/stable/user_guide/indexing.html#returning-a-view-versus-a-copy\n",
      "  tvdf['mile'] = tvdf.apply(lambda row: closest_mile_marker(row['X'], row['Y'], data), axis=1)\n",
      "/var/folders/fz/qwk5rxqs39gcy8h_0lhy47c80000gn/T/ipykernel_40576/4022452298.py:87: SettingWithCopyWarning: \n",
      "A value is trying to be set on a copy of a slice from a DataFrame.\n",
      "Try using .loc[row_indexer,col_indexer] = value instead\n",
      "\n",
      "See the caveats in the documentation: https://pandas.pydata.org/pandas-docs/stable/user_guide/indexing.html#returning-a-view-versus-a-copy\n",
      "  tvdf['mile'] = tvdf.apply(lambda row: closest_mile_marker(row['X'], row['Y'], data), axis=1)\n"
     ]
    },
    {
     "name": "stdout",
     "output_type": "stream",
     "text": [
      "FM0156\n",
      "FM0934\n",
      "FM1467\n",
      "US0175\n"
     ]
    },
    {
     "name": "stderr",
     "output_type": "stream",
     "text": [
      "/var/folders/fz/qwk5rxqs39gcy8h_0lhy47c80000gn/T/ipykernel_40576/4022452298.py:87: SettingWithCopyWarning: \n",
      "A value is trying to be set on a copy of a slice from a DataFrame.\n",
      "Try using .loc[row_indexer,col_indexer] = value instead\n",
      "\n",
      "See the caveats in the documentation: https://pandas.pydata.org/pandas-docs/stable/user_guide/indexing.html#returning-a-view-versus-a-copy\n",
      "  tvdf['mile'] = tvdf.apply(lambda row: closest_mile_marker(row['X'], row['Y'], data), axis=1)\n",
      "/var/folders/fz/qwk5rxqs39gcy8h_0lhy47c80000gn/T/ipykernel_40576/4022452298.py:87: SettingWithCopyWarning: \n",
      "A value is trying to be set on a copy of a slice from a DataFrame.\n",
      "Try using .loc[row_indexer,col_indexer] = value instead\n",
      "\n",
      "See the caveats in the documentation: https://pandas.pydata.org/pandas-docs/stable/user_guide/indexing.html#returning-a-view-versus-a-copy\n",
      "  tvdf['mile'] = tvdf.apply(lambda row: closest_mile_marker(row['X'], row['Y'], data), axis=1)\n",
      "/var/folders/fz/qwk5rxqs39gcy8h_0lhy47c80000gn/T/ipykernel_40576/4022452298.py:87: SettingWithCopyWarning: \n",
      "A value is trying to be set on a copy of a slice from a DataFrame.\n",
      "Try using .loc[row_indexer,col_indexer] = value instead\n",
      "\n",
      "See the caveats in the documentation: https://pandas.pydata.org/pandas-docs/stable/user_guide/indexing.html#returning-a-view-versus-a-copy\n",
      "  tvdf['mile'] = tvdf.apply(lambda row: closest_mile_marker(row['X'], row['Y'], data), axis=1)\n"
     ]
    },
    {
     "name": "stdout",
     "output_type": "stream",
     "text": [
      "FM0161\n",
      "FM1626\n",
      "US0084\n"
     ]
    },
    {
     "name": "stderr",
     "output_type": "stream",
     "text": [
      "/var/folders/fz/qwk5rxqs39gcy8h_0lhy47c80000gn/T/ipykernel_40576/4022452298.py:87: SettingWithCopyWarning: \n",
      "A value is trying to be set on a copy of a slice from a DataFrame.\n",
      "Try using .loc[row_indexer,col_indexer] = value instead\n",
      "\n",
      "See the caveats in the documentation: https://pandas.pydata.org/pandas-docs/stable/user_guide/indexing.html#returning-a-view-versus-a-copy\n",
      "  tvdf['mile'] = tvdf.apply(lambda row: closest_mile_marker(row['X'], row['Y'], data), axis=1)\n",
      "/var/folders/fz/qwk5rxqs39gcy8h_0lhy47c80000gn/T/ipykernel_40576/4022452298.py:87: SettingWithCopyWarning: \n",
      "A value is trying to be set on a copy of a slice from a DataFrame.\n",
      "Try using .loc[row_indexer,col_indexer] = value instead\n",
      "\n",
      "See the caveats in the documentation: https://pandas.pydata.org/pandas-docs/stable/user_guide/indexing.html#returning-a-view-versus-a-copy\n",
      "  tvdf['mile'] = tvdf.apply(lambda row: closest_mile_marker(row['X'], row['Y'], data), axis=1)\n",
      "/var/folders/fz/qwk5rxqs39gcy8h_0lhy47c80000gn/T/ipykernel_40576/4022452298.py:87: SettingWithCopyWarning: \n",
      "A value is trying to be set on a copy of a slice from a DataFrame.\n",
      "Try using .loc[row_indexer,col_indexer] = value instead\n",
      "\n",
      "See the caveats in the documentation: https://pandas.pydata.org/pandas-docs/stable/user_guide/indexing.html#returning-a-view-versus-a-copy\n",
      "  tvdf['mile'] = tvdf.apply(lambda row: closest_mile_marker(row['X'], row['Y'], data), axis=1)\n",
      "/var/folders/fz/qwk5rxqs39gcy8h_0lhy47c80000gn/T/ipykernel_40576/4022452298.py:87: SettingWithCopyWarning: \n",
      "A value is trying to be set on a copy of a slice from a DataFrame.\n",
      "Try using .loc[row_indexer,col_indexer] = value instead\n",
      "\n",
      "See the caveats in the documentation: https://pandas.pydata.org/pandas-docs/stable/user_guide/indexing.html#returning-a-view-versus-a-copy\n",
      "  tvdf['mile'] = tvdf.apply(lambda row: closest_mile_marker(row['X'], row['Y'], data), axis=1)\n",
      "/var/folders/fz/qwk5rxqs39gcy8h_0lhy47c80000gn/T/ipykernel_40576/4022452298.py:87: SettingWithCopyWarning: \n",
      "A value is trying to be set on a copy of a slice from a DataFrame.\n",
      "Try using .loc[row_indexer,col_indexer] = value instead\n",
      "\n",
      "See the caveats in the documentation: https://pandas.pydata.org/pandas-docs/stable/user_guide/indexing.html#returning-a-view-versus-a-copy\n",
      "  tvdf['mile'] = tvdf.apply(lambda row: closest_mile_marker(row['X'], row['Y'], data), axis=1)\n"
     ]
    },
    {
     "name": "stdout",
     "output_type": "stream",
     "text": [
      "FM0044\n",
      "FM0172\n",
      "RM0243\n",
      "FM0506\n",
      "FM0597\n"
     ]
    },
    {
     "name": "stderr",
     "output_type": "stream",
     "text": [
      "/var/folders/fz/qwk5rxqs39gcy8h_0lhy47c80000gn/T/ipykernel_40576/4022452298.py:87: SettingWithCopyWarning: \n",
      "A value is trying to be set on a copy of a slice from a DataFrame.\n",
      "Try using .loc[row_indexer,col_indexer] = value instead\n",
      "\n",
      "See the caveats in the documentation: https://pandas.pydata.org/pandas-docs/stable/user_guide/indexing.html#returning-a-view-versus-a-copy\n",
      "  tvdf['mile'] = tvdf.apply(lambda row: closest_mile_marker(row['X'], row['Y'], data), axis=1)\n",
      "/var/folders/fz/qwk5rxqs39gcy8h_0lhy47c80000gn/T/ipykernel_40576/4022452298.py:87: SettingWithCopyWarning: \n",
      "A value is trying to be set on a copy of a slice from a DataFrame.\n",
      "Try using .loc[row_indexer,col_indexer] = value instead\n",
      "\n",
      "See the caveats in the documentation: https://pandas.pydata.org/pandas-docs/stable/user_guide/indexing.html#returning-a-view-versus-a-copy\n",
      "  tvdf['mile'] = tvdf.apply(lambda row: closest_mile_marker(row['X'], row['Y'], data), axis=1)\n",
      "/var/folders/fz/qwk5rxqs39gcy8h_0lhy47c80000gn/T/ipykernel_40576/4022452298.py:87: SettingWithCopyWarning: \n",
      "A value is trying to be set on a copy of a slice from a DataFrame.\n",
      "Try using .loc[row_indexer,col_indexer] = value instead\n",
      "\n",
      "See the caveats in the documentation: https://pandas.pydata.org/pandas-docs/stable/user_guide/indexing.html#returning-a-view-versus-a-copy\n",
      "  tvdf['mile'] = tvdf.apply(lambda row: closest_mile_marker(row['X'], row['Y'], data), axis=1)\n"
     ]
    },
    {
     "name": "stdout",
     "output_type": "stream",
     "text": [
      "FM1729\n",
      "FM1810\n",
      "US0385\n"
     ]
    },
    {
     "name": "stderr",
     "output_type": "stream",
     "text": [
      "/var/folders/fz/qwk5rxqs39gcy8h_0lhy47c80000gn/T/ipykernel_40576/4022452298.py:87: SettingWithCopyWarning: \n",
      "A value is trying to be set on a copy of a slice from a DataFrame.\n",
      "Try using .loc[row_indexer,col_indexer] = value instead\n",
      "\n",
      "See the caveats in the documentation: https://pandas.pydata.org/pandas-docs/stable/user_guide/indexing.html#returning-a-view-versus-a-copy\n",
      "  tvdf['mile'] = tvdf.apply(lambda row: closest_mile_marker(row['X'], row['Y'], data), axis=1)\n",
      "/var/folders/fz/qwk5rxqs39gcy8h_0lhy47c80000gn/T/ipykernel_40576/4022452298.py:87: SettingWithCopyWarning: \n",
      "A value is trying to be set on a copy of a slice from a DataFrame.\n",
      "Try using .loc[row_indexer,col_indexer] = value instead\n",
      "\n",
      "See the caveats in the documentation: https://pandas.pydata.org/pandas-docs/stable/user_guide/indexing.html#returning-a-view-versus-a-copy\n",
      "  tvdf['mile'] = tvdf.apply(lambda row: closest_mile_marker(row['X'], row['Y'], data), axis=1)\n",
      "/var/folders/fz/qwk5rxqs39gcy8h_0lhy47c80000gn/T/ipykernel_40576/4022452298.py:87: SettingWithCopyWarning: \n",
      "A value is trying to be set on a copy of a slice from a DataFrame.\n",
      "Try using .loc[row_indexer,col_indexer] = value instead\n",
      "\n",
      "See the caveats in the documentation: https://pandas.pydata.org/pandas-docs/stable/user_guide/indexing.html#returning-a-view-versus-a-copy\n",
      "  tvdf['mile'] = tvdf.apply(lambda row: closest_mile_marker(row['X'], row['Y'], data), axis=1)\n",
      "/var/folders/fz/qwk5rxqs39gcy8h_0lhy47c80000gn/T/ipykernel_40576/4022452298.py:87: SettingWithCopyWarning: \n",
      "A value is trying to be set on a copy of a slice from a DataFrame.\n",
      "Try using .loc[row_indexer,col_indexer] = value instead\n",
      "\n",
      "See the caveats in the documentation: https://pandas.pydata.org/pandas-docs/stable/user_guide/indexing.html#returning-a-view-versus-a-copy\n",
      "  tvdf['mile'] = tvdf.apply(lambda row: closest_mile_marker(row['X'], row['Y'], data), axis=1)\n"
     ]
    },
    {
     "name": "stdout",
     "output_type": "stream",
     "text": [
      "SH0039\n",
      "SH0003\n",
      "FM0611\n",
      "FM0227\n"
     ]
    },
    {
     "name": "stderr",
     "output_type": "stream",
     "text": [
      "/var/folders/fz/qwk5rxqs39gcy8h_0lhy47c80000gn/T/ipykernel_40576/4022452298.py:87: SettingWithCopyWarning: \n",
      "A value is trying to be set on a copy of a slice from a DataFrame.\n",
      "Try using .loc[row_indexer,col_indexer] = value instead\n",
      "\n",
      "See the caveats in the documentation: https://pandas.pydata.org/pandas-docs/stable/user_guide/indexing.html#returning-a-view-versus-a-copy\n",
      "  tvdf['mile'] = tvdf.apply(lambda row: closest_mile_marker(row['X'], row['Y'], data), axis=1)\n",
      "/var/folders/fz/qwk5rxqs39gcy8h_0lhy47c80000gn/T/ipykernel_40576/4022452298.py:87: SettingWithCopyWarning: \n",
      "A value is trying to be set on a copy of a slice from a DataFrame.\n",
      "Try using .loc[row_indexer,col_indexer] = value instead\n",
      "\n",
      "See the caveats in the documentation: https://pandas.pydata.org/pandas-docs/stable/user_guide/indexing.html#returning-a-view-versus-a-copy\n",
      "  tvdf['mile'] = tvdf.apply(lambda row: closest_mile_marker(row['X'], row['Y'], data), axis=1)\n",
      "/var/folders/fz/qwk5rxqs39gcy8h_0lhy47c80000gn/T/ipykernel_40576/4022452298.py:87: SettingWithCopyWarning: \n",
      "A value is trying to be set on a copy of a slice from a DataFrame.\n",
      "Try using .loc[row_indexer,col_indexer] = value instead\n",
      "\n",
      "See the caveats in the documentation: https://pandas.pydata.org/pandas-docs/stable/user_guide/indexing.html#returning-a-view-versus-a-copy\n",
      "  tvdf['mile'] = tvdf.apply(lambda row: closest_mile_marker(row['X'], row['Y'], data), axis=1)\n"
     ]
    },
    {
     "name": "stdout",
     "output_type": "stream",
     "text": [
      "FM0730\n",
      "SHNASA\n",
      "SH0004\n"
     ]
    },
    {
     "name": "stderr",
     "output_type": "stream",
     "text": [
      "/var/folders/fz/qwk5rxqs39gcy8h_0lhy47c80000gn/T/ipykernel_40576/4022452298.py:87: SettingWithCopyWarning: \n",
      "A value is trying to be set on a copy of a slice from a DataFrame.\n",
      "Try using .loc[row_indexer,col_indexer] = value instead\n",
      "\n",
      "See the caveats in the documentation: https://pandas.pydata.org/pandas-docs/stable/user_guide/indexing.html#returning-a-view-versus-a-copy\n",
      "  tvdf['mile'] = tvdf.apply(lambda row: closest_mile_marker(row['X'], row['Y'], data), axis=1)\n",
      "/var/folders/fz/qwk5rxqs39gcy8h_0lhy47c80000gn/T/ipykernel_40576/4022452298.py:87: SettingWithCopyWarning: \n",
      "A value is trying to be set on a copy of a slice from a DataFrame.\n",
      "Try using .loc[row_indexer,col_indexer] = value instead\n",
      "\n",
      "See the caveats in the documentation: https://pandas.pydata.org/pandas-docs/stable/user_guide/indexing.html#returning-a-view-versus-a-copy\n",
      "  tvdf['mile'] = tvdf.apply(lambda row: closest_mile_marker(row['X'], row['Y'], data), axis=1)\n",
      "/var/folders/fz/qwk5rxqs39gcy8h_0lhy47c80000gn/T/ipykernel_40576/4022452298.py:87: SettingWithCopyWarning: \n",
      "A value is trying to be set on a copy of a slice from a DataFrame.\n",
      "Try using .loc[row_indexer,col_indexer] = value instead\n",
      "\n",
      "See the caveats in the documentation: https://pandas.pydata.org/pandas-docs/stable/user_guide/indexing.html#returning-a-view-versus-a-copy\n",
      "  tvdf['mile'] = tvdf.apply(lambda row: closest_mile_marker(row['X'], row['Y'], data), axis=1)\n",
      "/var/folders/fz/qwk5rxqs39gcy8h_0lhy47c80000gn/T/ipykernel_40576/4022452298.py:87: SettingWithCopyWarning: \n",
      "A value is trying to be set on a copy of a slice from a DataFrame.\n",
      "Try using .loc[row_indexer,col_indexer] = value instead\n",
      "\n",
      "See the caveats in the documentation: https://pandas.pydata.org/pandas-docs/stable/user_guide/indexing.html#returning-a-view-versus-a-copy\n",
      "  tvdf['mile'] = tvdf.apply(lambda row: closest_mile_marker(row['X'], row['Y'], data), axis=1)\n",
      "/var/folders/fz/qwk5rxqs39gcy8h_0lhy47c80000gn/T/ipykernel_40576/4022452298.py:87: SettingWithCopyWarning: \n",
      "A value is trying to be set on a copy of a slice from a DataFrame.\n",
      "Try using .loc[row_indexer,col_indexer] = value instead\n",
      "\n",
      "See the caveats in the documentation: https://pandas.pydata.org/pandas-docs/stable/user_guide/indexing.html#returning-a-view-versus-a-copy\n",
      "  tvdf['mile'] = tvdf.apply(lambda row: closest_mile_marker(row['X'], row['Y'], data), axis=1)\n"
     ]
    },
    {
     "name": "stdout",
     "output_type": "stream",
     "text": [
      "FM0018\n",
      "SH0224\n",
      "FM1219\n",
      "FM1689\n",
      "FM2818\n"
     ]
    },
    {
     "name": "stderr",
     "output_type": "stream",
     "text": [
      "/var/folders/fz/qwk5rxqs39gcy8h_0lhy47c80000gn/T/ipykernel_40576/4022452298.py:87: SettingWithCopyWarning: \n",
      "A value is trying to be set on a copy of a slice from a DataFrame.\n",
      "Try using .loc[row_indexer,col_indexer] = value instead\n",
      "\n",
      "See the caveats in the documentation: https://pandas.pydata.org/pandas-docs/stable/user_guide/indexing.html#returning-a-view-versus-a-copy\n",
      "  tvdf['mile'] = tvdf.apply(lambda row: closest_mile_marker(row['X'], row['Y'], data), axis=1)\n"
     ]
    },
    {
     "name": "stdout",
     "output_type": "stream",
     "text": [
      "SH0078\n"
     ]
    },
    {
     "name": "stderr",
     "output_type": "stream",
     "text": [
      "/var/folders/fz/qwk5rxqs39gcy8h_0lhy47c80000gn/T/ipykernel_40576/4022452298.py:87: SettingWithCopyWarning: \n",
      "A value is trying to be set on a copy of a slice from a DataFrame.\n",
      "Try using .loc[row_indexer,col_indexer] = value instead\n",
      "\n",
      "See the caveats in the documentation: https://pandas.pydata.org/pandas-docs/stable/user_guide/indexing.html#returning-a-view-versus-a-copy\n",
      "  tvdf['mile'] = tvdf.apply(lambda row: closest_mile_marker(row['X'], row['Y'], data), axis=1)\n",
      "/var/folders/fz/qwk5rxqs39gcy8h_0lhy47c80000gn/T/ipykernel_40576/4022452298.py:87: SettingWithCopyWarning: \n",
      "A value is trying to be set on a copy of a slice from a DataFrame.\n",
      "Try using .loc[row_indexer,col_indexer] = value instead\n",
      "\n",
      "See the caveats in the documentation: https://pandas.pydata.org/pandas-docs/stable/user_guide/indexing.html#returning-a-view-versus-a-copy\n",
      "  tvdf['mile'] = tvdf.apply(lambda row: closest_mile_marker(row['X'], row['Y'], data), axis=1)\n"
     ]
    },
    {
     "name": "stdout",
     "output_type": "stream",
     "text": [
      "FM0989\n",
      "SH0154\n"
     ]
    },
    {
     "name": "stderr",
     "output_type": "stream",
     "text": [
      "/var/folders/fz/qwk5rxqs39gcy8h_0lhy47c80000gn/T/ipykernel_40576/4022452298.py:87: SettingWithCopyWarning: \n",
      "A value is trying to be set on a copy of a slice from a DataFrame.\n",
      "Try using .loc[row_indexer,col_indexer] = value instead\n",
      "\n",
      "See the caveats in the documentation: https://pandas.pydata.org/pandas-docs/stable/user_guide/indexing.html#returning-a-view-versus-a-copy\n",
      "  tvdf['mile'] = tvdf.apply(lambda row: closest_mile_marker(row['X'], row['Y'], data), axis=1)\n",
      "/var/folders/fz/qwk5rxqs39gcy8h_0lhy47c80000gn/T/ipykernel_40576/4022452298.py:87: SettingWithCopyWarning: \n",
      "A value is trying to be set on a copy of a slice from a DataFrame.\n",
      "Try using .loc[row_indexer,col_indexer] = value instead\n",
      "\n",
      "See the caveats in the documentation: https://pandas.pydata.org/pandas-docs/stable/user_guide/indexing.html#returning-a-view-versus-a-copy\n",
      "  tvdf['mile'] = tvdf.apply(lambda row: closest_mile_marker(row['X'], row['Y'], data), axis=1)\n",
      "/var/folders/fz/qwk5rxqs39gcy8h_0lhy47c80000gn/T/ipykernel_40576/4022452298.py:87: SettingWithCopyWarning: \n",
      "A value is trying to be set on a copy of a slice from a DataFrame.\n",
      "Try using .loc[row_indexer,col_indexer] = value instead\n",
      "\n",
      "See the caveats in the documentation: https://pandas.pydata.org/pandas-docs/stable/user_guide/indexing.html#returning-a-view-versus-a-copy\n",
      "  tvdf['mile'] = tvdf.apply(lambda row: closest_mile_marker(row['X'], row['Y'], data), axis=1)\n",
      "/var/folders/fz/qwk5rxqs39gcy8h_0lhy47c80000gn/T/ipykernel_40576/4022452298.py:87: SettingWithCopyWarning: \n",
      "A value is trying to be set on a copy of a slice from a DataFrame.\n",
      "Try using .loc[row_indexer,col_indexer] = value instead\n",
      "\n",
      "See the caveats in the documentation: https://pandas.pydata.org/pandas-docs/stable/user_guide/indexing.html#returning-a-view-versus-a-copy\n",
      "  tvdf['mile'] = tvdf.apply(lambda row: closest_mile_marker(row['X'], row['Y'], data), axis=1)\n"
     ]
    },
    {
     "name": "stdout",
     "output_type": "stream",
     "text": [
      "FM0772\n",
      "FM0916\n",
      "FM0377\n",
      "IH0410\n"
     ]
    },
    {
     "name": "stderr",
     "output_type": "stream",
     "text": [
      "/var/folders/fz/qwk5rxqs39gcy8h_0lhy47c80000gn/T/ipykernel_40576/4022452298.py:87: SettingWithCopyWarning: \n",
      "A value is trying to be set on a copy of a slice from a DataFrame.\n",
      "Try using .loc[row_indexer,col_indexer] = value instead\n",
      "\n",
      "See the caveats in the documentation: https://pandas.pydata.org/pandas-docs/stable/user_guide/indexing.html#returning-a-view-versus-a-copy\n",
      "  tvdf['mile'] = tvdf.apply(lambda row: closest_mile_marker(row['X'], row['Y'], data), axis=1)\n",
      "/var/folders/fz/qwk5rxqs39gcy8h_0lhy47c80000gn/T/ipykernel_40576/4022452298.py:87: SettingWithCopyWarning: \n",
      "A value is trying to be set on a copy of a slice from a DataFrame.\n",
      "Try using .loc[row_indexer,col_indexer] = value instead\n",
      "\n",
      "See the caveats in the documentation: https://pandas.pydata.org/pandas-docs/stable/user_guide/indexing.html#returning-a-view-versus-a-copy\n",
      "  tvdf['mile'] = tvdf.apply(lambda row: closest_mile_marker(row['X'], row['Y'], data), axis=1)\n"
     ]
    },
    {
     "name": "stdout",
     "output_type": "stream",
     "text": [
      "RM1431\n",
      "FM0802\n",
      "SH0096\n"
     ]
    },
    {
     "name": "stderr",
     "output_type": "stream",
     "text": [
      "/var/folders/fz/qwk5rxqs39gcy8h_0lhy47c80000gn/T/ipykernel_40576/4022452298.py:87: SettingWithCopyWarning: \n",
      "A value is trying to be set on a copy of a slice from a DataFrame.\n",
      "Try using .loc[row_indexer,col_indexer] = value instead\n",
      "\n",
      "See the caveats in the documentation: https://pandas.pydata.org/pandas-docs/stable/user_guide/indexing.html#returning-a-view-versus-a-copy\n",
      "  tvdf['mile'] = tvdf.apply(lambda row: closest_mile_marker(row['X'], row['Y'], data), axis=1)\n",
      "/var/folders/fz/qwk5rxqs39gcy8h_0lhy47c80000gn/T/ipykernel_40576/4022452298.py:87: SettingWithCopyWarning: \n",
      "A value is trying to be set on a copy of a slice from a DataFrame.\n",
      "Try using .loc[row_indexer,col_indexer] = value instead\n",
      "\n",
      "See the caveats in the documentation: https://pandas.pydata.org/pandas-docs/stable/user_guide/indexing.html#returning-a-view-versus-a-copy\n",
      "  tvdf['mile'] = tvdf.apply(lambda row: closest_mile_marker(row['X'], row['Y'], data), axis=1)\n",
      "/var/folders/fz/qwk5rxqs39gcy8h_0lhy47c80000gn/T/ipykernel_40576/4022452298.py:87: SettingWithCopyWarning: \n",
      "A value is trying to be set on a copy of a slice from a DataFrame.\n",
      "Try using .loc[row_indexer,col_indexer] = value instead\n",
      "\n",
      "See the caveats in the documentation: https://pandas.pydata.org/pandas-docs/stable/user_guide/indexing.html#returning-a-view-versus-a-copy\n",
      "  tvdf['mile'] = tvdf.apply(lambda row: closest_mile_marker(row['X'], row['Y'], data), axis=1)\n",
      "/var/folders/fz/qwk5rxqs39gcy8h_0lhy47c80000gn/T/ipykernel_40576/4022452298.py:87: SettingWithCopyWarning: \n",
      "A value is trying to be set on a copy of a slice from a DataFrame.\n",
      "Try using .loc[row_indexer,col_indexer] = value instead\n",
      "\n",
      "See the caveats in the documentation: https://pandas.pydata.org/pandas-docs/stable/user_guide/indexing.html#returning-a-view-versus-a-copy\n",
      "  tvdf['mile'] = tvdf.apply(lambda row: closest_mile_marker(row['X'], row['Y'], data), axis=1)\n",
      "/var/folders/fz/qwk5rxqs39gcy8h_0lhy47c80000gn/T/ipykernel_40576/4022452298.py:87: SettingWithCopyWarning: \n",
      "A value is trying to be set on a copy of a slice from a DataFrame.\n",
      "Try using .loc[row_indexer,col_indexer] = value instead\n",
      "\n",
      "See the caveats in the documentation: https://pandas.pydata.org/pandas-docs/stable/user_guide/indexing.html#returning-a-view-versus-a-copy\n",
      "  tvdf['mile'] = tvdf.apply(lambda row: closest_mile_marker(row['X'], row['Y'], data), axis=1)\n"
     ]
    },
    {
     "name": "stdout",
     "output_type": "stream",
     "text": [
      "SL0390\n",
      "FM1763\n",
      "FM1806\n",
      "FM1878\n",
      "FM0665\n"
     ]
    },
    {
     "name": "stderr",
     "output_type": "stream",
     "text": [
      "/var/folders/fz/qwk5rxqs39gcy8h_0lhy47c80000gn/T/ipykernel_40576/4022452298.py:87: SettingWithCopyWarning: \n",
      "A value is trying to be set on a copy of a slice from a DataFrame.\n",
      "Try using .loc[row_indexer,col_indexer] = value instead\n",
      "\n",
      "See the caveats in the documentation: https://pandas.pydata.org/pandas-docs/stable/user_guide/indexing.html#returning-a-view-versus-a-copy\n",
      "  tvdf['mile'] = tvdf.apply(lambda row: closest_mile_marker(row['X'], row['Y'], data), axis=1)\n",
      "/var/folders/fz/qwk5rxqs39gcy8h_0lhy47c80000gn/T/ipykernel_40576/4022452298.py:87: SettingWithCopyWarning: \n",
      "A value is trying to be set on a copy of a slice from a DataFrame.\n",
      "Try using .loc[row_indexer,col_indexer] = value instead\n",
      "\n",
      "See the caveats in the documentation: https://pandas.pydata.org/pandas-docs/stable/user_guide/indexing.html#returning-a-view-versus-a-copy\n",
      "  tvdf['mile'] = tvdf.apply(lambda row: closest_mile_marker(row['X'], row['Y'], data), axis=1)\n",
      "/var/folders/fz/qwk5rxqs39gcy8h_0lhy47c80000gn/T/ipykernel_40576/4022452298.py:87: SettingWithCopyWarning: \n",
      "A value is trying to be set on a copy of a slice from a DataFrame.\n",
      "Try using .loc[row_indexer,col_indexer] = value instead\n",
      "\n",
      "See the caveats in the documentation: https://pandas.pydata.org/pandas-docs/stable/user_guide/indexing.html#returning-a-view-versus-a-copy\n",
      "  tvdf['mile'] = tvdf.apply(lambda row: closest_mile_marker(row['X'], row['Y'], data), axis=1)\n"
     ]
    },
    {
     "name": "stdout",
     "output_type": "stream",
     "text": [
      "FM0275\n",
      "FM0942\n",
      "FM0138\n",
      "FM0282\n",
      "SH0063\n"
     ]
    },
    {
     "name": "stderr",
     "output_type": "stream",
     "text": [
      "/var/folders/fz/qwk5rxqs39gcy8h_0lhy47c80000gn/T/ipykernel_40576/4022452298.py:87: SettingWithCopyWarning: \n",
      "A value is trying to be set on a copy of a slice from a DataFrame.\n",
      "Try using .loc[row_indexer,col_indexer] = value instead\n",
      "\n",
      "See the caveats in the documentation: https://pandas.pydata.org/pandas-docs/stable/user_guide/indexing.html#returning-a-view-versus-a-copy\n",
      "  tvdf['mile'] = tvdf.apply(lambda row: closest_mile_marker(row['X'], row['Y'], data), axis=1)\n",
      "/var/folders/fz/qwk5rxqs39gcy8h_0lhy47c80000gn/T/ipykernel_40576/4022452298.py:87: SettingWithCopyWarning: \n",
      "A value is trying to be set on a copy of a slice from a DataFrame.\n",
      "Try using .loc[row_indexer,col_indexer] = value instead\n",
      "\n",
      "See the caveats in the documentation: https://pandas.pydata.org/pandas-docs/stable/user_guide/indexing.html#returning-a-view-versus-a-copy\n",
      "  tvdf['mile'] = tvdf.apply(lambda row: closest_mile_marker(row['X'], row['Y'], data), axis=1)\n",
      "/var/folders/fz/qwk5rxqs39gcy8h_0lhy47c80000gn/T/ipykernel_40576/4022452298.py:87: SettingWithCopyWarning: \n",
      "A value is trying to be set on a copy of a slice from a DataFrame.\n",
      "Try using .loc[row_indexer,col_indexer] = value instead\n",
      "\n",
      "See the caveats in the documentation: https://pandas.pydata.org/pandas-docs/stable/user_guide/indexing.html#returning-a-view-versus-a-copy\n",
      "  tvdf['mile'] = tvdf.apply(lambda row: closest_mile_marker(row['X'], row['Y'], data), axis=1)\n",
      "/var/folders/fz/qwk5rxqs39gcy8h_0lhy47c80000gn/T/ipykernel_40576/4022452298.py:87: SettingWithCopyWarning: \n",
      "A value is trying to be set on a copy of a slice from a DataFrame.\n",
      "Try using .loc[row_indexer,col_indexer] = value instead\n",
      "\n",
      "See the caveats in the documentation: https://pandas.pydata.org/pandas-docs/stable/user_guide/indexing.html#returning-a-view-versus-a-copy\n",
      "  tvdf['mile'] = tvdf.apply(lambda row: closest_mile_marker(row['X'], row['Y'], data), axis=1)\n",
      "/var/folders/fz/qwk5rxqs39gcy8h_0lhy47c80000gn/T/ipykernel_40576/4022452298.py:87: SettingWithCopyWarning: \n",
      "A value is trying to be set on a copy of a slice from a DataFrame.\n",
      "Try using .loc[row_indexer,col_indexer] = value instead\n",
      "\n",
      "See the caveats in the documentation: https://pandas.pydata.org/pandas-docs/stable/user_guide/indexing.html#returning-a-view-versus-a-copy\n",
      "  tvdf['mile'] = tvdf.apply(lambda row: closest_mile_marker(row['X'], row['Y'], data), axis=1)\n"
     ]
    },
    {
     "name": "stdout",
     "output_type": "stream",
     "text": [
      "SH0159\n",
      "FM0179\n"
     ]
    },
    {
     "name": "stderr",
     "output_type": "stream",
     "text": [
      "/var/folders/fz/qwk5rxqs39gcy8h_0lhy47c80000gn/T/ipykernel_40576/4022452298.py:87: SettingWithCopyWarning: \n",
      "A value is trying to be set on a copy of a slice from a DataFrame.\n",
      "Try using .loc[row_indexer,col_indexer] = value instead\n",
      "\n",
      "See the caveats in the documentation: https://pandas.pydata.org/pandas-docs/stable/user_guide/indexing.html#returning-a-view-versus-a-copy\n",
      "  tvdf['mile'] = tvdf.apply(lambda row: closest_mile_marker(row['X'], row['Y'], data), axis=1)\n"
     ]
    },
    {
     "name": "stdout",
     "output_type": "stream",
     "text": [
      "US0290\n"
     ]
    },
    {
     "name": "stderr",
     "output_type": "stream",
     "text": [
      "/var/folders/fz/qwk5rxqs39gcy8h_0lhy47c80000gn/T/ipykernel_40576/4022452298.py:87: SettingWithCopyWarning: \n",
      "A value is trying to be set on a copy of a slice from a DataFrame.\n",
      "Try using .loc[row_indexer,col_indexer] = value instead\n",
      "\n",
      "See the caveats in the documentation: https://pandas.pydata.org/pandas-docs/stable/user_guide/indexing.html#returning-a-view-versus-a-copy\n",
      "  tvdf['mile'] = tvdf.apply(lambda row: closest_mile_marker(row['X'], row['Y'], data), axis=1)\n",
      "/var/folders/fz/qwk5rxqs39gcy8h_0lhy47c80000gn/T/ipykernel_40576/4022452298.py:87: SettingWithCopyWarning: \n",
      "A value is trying to be set on a copy of a slice from a DataFrame.\n",
      "Try using .loc[row_indexer,col_indexer] = value instead\n",
      "\n",
      "See the caveats in the documentation: https://pandas.pydata.org/pandas-docs/stable/user_guide/indexing.html#returning-a-view-versus-a-copy\n",
      "  tvdf['mile'] = tvdf.apply(lambda row: closest_mile_marker(row['X'], row['Y'], data), axis=1)\n",
      "/var/folders/fz/qwk5rxqs39gcy8h_0lhy47c80000gn/T/ipykernel_40576/4022452298.py:87: SettingWithCopyWarning: \n",
      "A value is trying to be set on a copy of a slice from a DataFrame.\n",
      "Try using .loc[row_indexer,col_indexer] = value instead\n",
      "\n",
      "See the caveats in the documentation: https://pandas.pydata.org/pandas-docs/stable/user_guide/indexing.html#returning-a-view-versus-a-copy\n",
      "  tvdf['mile'] = tvdf.apply(lambda row: closest_mile_marker(row['X'], row['Y'], data), axis=1)\n",
      "/var/folders/fz/qwk5rxqs39gcy8h_0lhy47c80000gn/T/ipykernel_40576/4022452298.py:87: SettingWithCopyWarning: \n",
      "A value is trying to be set on a copy of a slice from a DataFrame.\n",
      "Try using .loc[row_indexer,col_indexer] = value instead\n",
      "\n",
      "See the caveats in the documentation: https://pandas.pydata.org/pandas-docs/stable/user_guide/indexing.html#returning-a-view-versus-a-copy\n",
      "  tvdf['mile'] = tvdf.apply(lambda row: closest_mile_marker(row['X'], row['Y'], data), axis=1)\n"
     ]
    },
    {
     "name": "stdout",
     "output_type": "stream",
     "text": [
      "RM0864\n",
      "FM0267\n",
      "FM1058\n",
      "FM1275\n"
     ]
    },
    {
     "name": "stderr",
     "output_type": "stream",
     "text": [
      "/var/folders/fz/qwk5rxqs39gcy8h_0lhy47c80000gn/T/ipykernel_40576/4022452298.py:87: SettingWithCopyWarning: \n",
      "A value is trying to be set on a copy of a slice from a DataFrame.\n",
      "Try using .loc[row_indexer,col_indexer] = value instead\n",
      "\n",
      "See the caveats in the documentation: https://pandas.pydata.org/pandas-docs/stable/user_guide/indexing.html#returning-a-view-versus-a-copy\n",
      "  tvdf['mile'] = tvdf.apply(lambda row: closest_mile_marker(row['X'], row['Y'], data), axis=1)\n"
     ]
    }
   ],
   "source": [
    "from scipy.interpolate import InterpolatedUnivariateSpline\n",
    "\n",
    "def interpolate_coordinates(mile1, mile2, coord1, coord2, mile):\n",
    "    fraction = (mile - mile1) / (mile2 - mile1)\n",
    "    x = coord1.x + fraction * (coord2.x - coord1.x)\n",
    "    y = coord1.y + fraction * (coord2.y - coord1.y)\n",
    "    return Point(x, y)\n",
    "\n",
    "def closest_mile_marker(x,y, df):\n",
    "    coord = Point(x,y)\n",
    "    distances = df['Coordinates'].apply(lambda point: point.distance(coord))\n",
    "    idx = distances.idxmin()\n",
    "    return df.loc[idx, 'Mile']\n",
    "\n",
    "def first_non_number(s):\n",
    "    for char in s:\n",
    "        if not char.isnumeric():\n",
    "            return char\n",
    "    return None\n",
    "\n",
    "def check_ratio(series):\n",
    "    ratio_forward = series.shift(-1) / series\n",
    "    ratio_backward = series.shift() / series\n",
    "\n",
    "    mask = ((ratio_forward >= 10) | (ratio_forward <= 0.1) |\n",
    "            (ratio_backward >= 10) | (ratio_backward <= 0.1))\n",
    "    return mask\n",
    "\n",
    "def remove_outliers(df, column_name, x=2):\n",
    "    mean_val = df[column_name].mean()\n",
    "    std_dev = df[column_name].std()\n",
    "    \n",
    "    lower_bound = mean_val - x * std_dev\n",
    "    upper_bound = mean_val + x * std_dev\n",
    "    \n",
    "    filtered_df = df[(df[column_name] >= lower_bound) & (df[column_name] <= upper_bound)]\n",
    "    \n",
    "    return filtered_df\n",
    "\n",
    "def remove_outliers_by_window(df, n=15, x=2):\n",
    "    mean = df['AADT_2022'].rolling(window=n, center=True).mean()\n",
    "    std = df['AADT_2022'].rolling(window=n, center=True).std()\n",
    "    mask = (df['AADT_2022'] - mean).abs() <= x * std\n",
    "    return df[mask]\n",
    "\n",
    "dfs = []\n",
    "for i in range(len(roads)):\n",
    "    road = roads[i]\n",
    "    print(road)\n",
    "\n",
    "    tpdf = pdf[pdf['road']==road]\n",
    "    tpdf = tpdf.sort_values('Milepost')\n",
    "\n",
    "    tmdf = mdf[mdf['road']==road]\n",
    "    tmdf = tmdf.sort_values('MRKR_NBR')\n",
    "    if 'KG' in list(tmdf['RDBD_TYPE'].unique()):\n",
    "        tmdf = tmdf[tmdf['RDBD_TYPE']=='KG']\n",
    "\n",
    "    tvdf = vdf[vdf['ON_ROAD']==road]\n",
    "    if len(tvdf.index) < 2:\n",
    "        print('bad df')\n",
    "        continue\n",
    "\n",
    "    X = tpdf['Milepost'].values.reshape(-1, 1)\n",
    "    Xlist = tmdf['MRKR_NBR'].values\n",
    "    kde = KernelDensity(kernel='gaussian', bandwidth=1)\n",
    "    kde.fit(X)\n",
    "    x_plot = np.linspace(min(tmdf['MRKR_NBR']), max(tmdf['MRKR_NBR']), int((max(tmdf['MRKR_NBR'])-min(tmdf['MRKR_NBR']))*10+1)).reshape(-1, 1)\n",
    "    xs = np.linspace(min(Xlist), max(Xlist), int((max(Xlist)-min(Xlist))*10+1))\n",
    "    log_dens = kde.score_samples(x_plot)\n",
    "    density = np.exp(log_dens)\n",
    "\n",
    "    data = pd.DataFrame({'Mile': xs, 'YValue': density})\n",
    "    coordinates = []\n",
    "\n",
    "    for i in range(len(tmdf)-1):\n",
    "        mile1, mile2 = tmdf.iloc[i]['MRKR_NBR'], tmdf.iloc[i + 1]['MRKR_NBR']\n",
    "        coord1, coord2 = tmdf.iloc[i]['geometry'], tmdf.iloc[i + 1]['geometry']\n",
    "        for mile in xs:\n",
    "            if mile1 <= mile < mile2:\n",
    "                coordinates.append(interpolate_coordinates(mile1, mile2, coord1, coord2, mile))\n",
    "    coordinates.append(Point(coord2.x,coord2.y))\n",
    "\n",
    "    data['Coordinates'] = coordinates\n",
    "    data['Road'] = road\n",
    "\n",
    "    tvdf['mile'] = tvdf.apply(lambda row: closest_mile_marker(row['X'], row['Y'], data), axis=1)\n",
    "    tvdf = tvdf.sort_values('mile')\n",
    "\n",
    "    tvdf = tvdf[~tvdf['T_FLAG'].str.endswith('SR')]\n",
    "\n",
    "    tvdf['first_non_num'] = tvdf['T_FLAG'].apply(first_non_number)\n",
    "    tvdf = tvdf[tvdf['first_non_num'] != 'R']\n",
    "    tvdf.drop(columns=['first_non_num'], inplace=True)\n",
    "\n",
    "    vs = tvdf[['AADT_2022','mile']]\n",
    "    vs = vs.dropna()\n",
    "    vs = vs.groupby('mile', as_index=False).agg({'AADT_2022':'mean'})\n",
    "\n",
    "    data = data.merge(vs,left_on='Mile',right_on='mile',how='left')\n",
    "    data = data.drop('mile',axis=1)\n",
    "    data['AADT_2022'] = data['AADT_2022'].interpolate()\n",
    "\n",
    "    data = data.dropna()\n",
    "    data['z'] = data['YValue']/data['AADT_2022']\n",
    "    dfs.append(data)\n"
   ]
  },
  {
   "cell_type": "code",
   "execution_count": 4,
   "metadata": {},
   "outputs": [],
   "source": [
    "bigdf = dfs[0]\n",
    "dfs = dfs[1:]\n",
    "for df in dfs:\n",
    "    bigdf = pd.concat([bigdf,df],ignore_index=True)\n",
    "bigdf.to_csv('bigdf.csv')"
   ]
  },
  {
   "cell_type": "code",
   "execution_count": 5,
   "metadata": {},
   "outputs": [],
   "source": [
    "a=bigdf"
   ]
  },
  {
   "cell_type": "code",
   "execution_count": 6,
   "metadata": {},
   "outputs": [
    {
     "name": "stdout",
     "output_type": "stream",
     "text": [
      "526480\n",
      "201370\n"
     ]
    }
   ],
   "source": [
    "bigdf = a\n",
    "print(len(bigdf.index))\n",
    "bigdf = bigdf[bigdf['AADT_2022'] > 5000]\n",
    "print(len(bigdf.index))\n",
    "quantile_value = bigdf['z'].quantile(0.97)\n",
    "bigdf = bigdf[bigdf['z'] > quantile_value]"
   ]
  },
  {
   "cell_type": "code",
   "execution_count": 7,
   "metadata": {},
   "outputs": [],
   "source": [
    "bigdf['latitude'] = bigdf['Coordinates'].apply(lambda point: point.y)\n",
    "bigdf['longitude'] = bigdf['Coordinates'].apply(lambda point: point.x)\n",
    "\n",
    "import folium\n",
    "from folium.plugins import HeatMap\n",
    "data = bigdf\n",
    "m = folium.Map(location=[30.26, -97.73], zoom_start=13)\n",
    "\n",
    "heat_data = [[row['latitude'], row['longitude'], row['z']] for index, row in data.iterrows()]\n",
    "HeatMap(heat_data).add_to(m)\n",
    "m.save('heatmap.html')\n"
   ]
  },
  {
   "cell_type": "code",
   "execution_count": 13,
   "metadata": {},
   "outputs": [],
   "source": [
    "import matplotlib.colors as mcolors\n",
    "\n",
    "def get_color(volume, min_vol, max_vol):\n",
    "    norm = mcolors.Normalize(min_vol, max_vol)\n",
    "    cmap = plt.get_cmap(\"viridis\")\n",
    "    rgba = cmap(norm(volume))\n",
    "    return mcolors.to_hex(rgba)\n",
    "\n",
    "m = folium.Map(location=[data['latitude'].mean(), data['longitude'].mean()], zoom_start=7)\n",
    "\n",
    "min_vol = a['z'].min()\n",
    "max_vol = data['z'].max()\n",
    "\n",
    "for i in range(len(data) - 1):\n",
    "    if data['Road'].iloc[i] == data['Road'].iloc[i + 1]:  # Check if points are on the same road\n",
    "        latlon1 = [data['latitude'].iloc[i], data['longitude'].iloc[i]]\n",
    "        latlon2 = [data['latitude'].iloc[i + 1], data['longitude'].iloc[i + 1]]\n",
    "        color = get_color(data['z'].iloc[i], min_vol, max_vol)\n",
    "        folium.PolyLine(locations=[latlon1, latlon2], color=color, weight=5).add_to(m)\n",
    "\n",
    "m.save('speed_map.html')\n"
   ]
  },
  {
   "cell_type": "code",
   "execution_count": 17,
   "metadata": {},
   "outputs": [],
   "source": [
    "import io\n",
    "from PIL import Image\n",
    "import selenium\n",
    "\n",
    "img_data = m._to_png(5)\n",
    "img = Image.open(io.BytesIO(img_data))\n",
    "img.save('image.png')"
   ]
  },
  {
   "cell_type": "code",
   "execution_count": 18,
   "metadata": {},
   "outputs": [],
   "source": [
    "import os\n",
    "from selenium import webdriver\n",
    "import time\n",
    "mapFname = 'speed_map.html'\n",
    "mapUrl = 'file://{0}/{1}'.format(os.getcwd(), mapFname)\n",
    "\n",
    "# download gecko driver for firefox from here - https://github.com/mozilla/geckodriver/releases\n",
    "\n",
    "# use selenium to save the html as png image\n",
    "driver = webdriver.Chrome()\n",
    "driver.get(mapUrl)\n",
    "# wait for 5 seconds for the maps and other assets to be loaded in the browser\n",
    "time.sleep(5)\n",
    "driver.save_screenshot('output.png')\n",
    "driver.quit()"
   ]
  }
 ],
 "metadata": {
  "kernelspec": {
   "display_name": "traffic",
   "language": "python",
   "name": "python3"
  },
  "language_info": {
   "codemirror_mode": {
    "name": "ipython",
    "version": 3
   },
   "file_extension": ".py",
   "mimetype": "text/x-python",
   "name": "python",
   "nbconvert_exporter": "python",
   "pygments_lexer": "ipython3",
   "version": "3.11.5"
  },
  "orig_nbformat": 4
 },
 "nbformat": 4,
 "nbformat_minor": 2
}
